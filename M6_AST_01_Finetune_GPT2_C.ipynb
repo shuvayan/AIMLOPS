{
  "nbformat": 4,
  "nbformat_minor": 0,
  "metadata": {
    "colab": {
      "provenance": [],
      "gpuType": "T4",
      "include_colab_link": true
    },
    "kernelspec": {
      "name": "python3",
      "display_name": "Python 3"
    },
    "language_info": {
      "name": "python"
    },
    "widgets": {
      "application/vnd.jupyter.widget-state+json": {
        "1a69165b11024be897cffd8be34983f3": {
          "model_module": "@jupyter-widgets/controls",
          "model_name": "HBoxModel",
          "model_module_version": "1.5.0",
          "state": {
            "_dom_classes": [],
            "_model_module": "@jupyter-widgets/controls",
            "_model_module_version": "1.5.0",
            "_model_name": "HBoxModel",
            "_view_count": null,
            "_view_module": "@jupyter-widgets/controls",
            "_view_module_version": "1.5.0",
            "_view_name": "HBoxView",
            "box_style": "",
            "children": [
              "IPY_MODEL_052cdafe43c94b4f9fb31c1fda770c7e",
              "IPY_MODEL_0e3e5f70af2b4d59b0c1b35c0b354b02",
              "IPY_MODEL_3ab307ec7a4648e891ac025c069e1976"
            ],
            "layout": "IPY_MODEL_472ad1c550bf472ba6a9fdb1a44cd1ad"
          }
        },
        "052cdafe43c94b4f9fb31c1fda770c7e": {
          "model_module": "@jupyter-widgets/controls",
          "model_name": "HTMLModel",
          "model_module_version": "1.5.0",
          "state": {
            "_dom_classes": [],
            "_model_module": "@jupyter-widgets/controls",
            "_model_module_version": "1.5.0",
            "_model_name": "HTMLModel",
            "_view_count": null,
            "_view_module": "@jupyter-widgets/controls",
            "_view_module_version": "1.5.0",
            "_view_name": "HTMLView",
            "description": "",
            "description_tooltip": null,
            "layout": "IPY_MODEL_3e755efdb6494537b6cc533fb5661d24",
            "placeholder": "​",
            "style": "IPY_MODEL_9d73025178b244a4938d25f495affff1",
            "value": "tokenizer_config.json: 100%"
          }
        },
        "0e3e5f70af2b4d59b0c1b35c0b354b02": {
          "model_module": "@jupyter-widgets/controls",
          "model_name": "FloatProgressModel",
          "model_module_version": "1.5.0",
          "state": {
            "_dom_classes": [],
            "_model_module": "@jupyter-widgets/controls",
            "_model_module_version": "1.5.0",
            "_model_name": "FloatProgressModel",
            "_view_count": null,
            "_view_module": "@jupyter-widgets/controls",
            "_view_module_version": "1.5.0",
            "_view_name": "ProgressView",
            "bar_style": "success",
            "description": "",
            "description_tooltip": null,
            "layout": "IPY_MODEL_10f8a24021ac4da38945a23633d45555",
            "max": 26,
            "min": 0,
            "orientation": "horizontal",
            "style": "IPY_MODEL_db6744d24dac448eabcfc89623b541ea",
            "value": 26
          }
        },
        "3ab307ec7a4648e891ac025c069e1976": {
          "model_module": "@jupyter-widgets/controls",
          "model_name": "HTMLModel",
          "model_module_version": "1.5.0",
          "state": {
            "_dom_classes": [],
            "_model_module": "@jupyter-widgets/controls",
            "_model_module_version": "1.5.0",
            "_model_name": "HTMLModel",
            "_view_count": null,
            "_view_module": "@jupyter-widgets/controls",
            "_view_module_version": "1.5.0",
            "_view_name": "HTMLView",
            "description": "",
            "description_tooltip": null,
            "layout": "IPY_MODEL_eaa88bdbca5742e8b9f526e2fa35bcc6",
            "placeholder": "​",
            "style": "IPY_MODEL_09a6e42af5fd47d6b6190318fb57a38c",
            "value": " 26.0/26.0 [00:00&lt;00:00, 1.25kB/s]"
          }
        },
        "472ad1c550bf472ba6a9fdb1a44cd1ad": {
          "model_module": "@jupyter-widgets/base",
          "model_name": "LayoutModel",
          "model_module_version": "1.2.0",
          "state": {
            "_model_module": "@jupyter-widgets/base",
            "_model_module_version": "1.2.0",
            "_model_name": "LayoutModel",
            "_view_count": null,
            "_view_module": "@jupyter-widgets/base",
            "_view_module_version": "1.2.0",
            "_view_name": "LayoutView",
            "align_content": null,
            "align_items": null,
            "align_self": null,
            "border": null,
            "bottom": null,
            "display": null,
            "flex": null,
            "flex_flow": null,
            "grid_area": null,
            "grid_auto_columns": null,
            "grid_auto_flow": null,
            "grid_auto_rows": null,
            "grid_column": null,
            "grid_gap": null,
            "grid_row": null,
            "grid_template_areas": null,
            "grid_template_columns": null,
            "grid_template_rows": null,
            "height": null,
            "justify_content": null,
            "justify_items": null,
            "left": null,
            "margin": null,
            "max_height": null,
            "max_width": null,
            "min_height": null,
            "min_width": null,
            "object_fit": null,
            "object_position": null,
            "order": null,
            "overflow": null,
            "overflow_x": null,
            "overflow_y": null,
            "padding": null,
            "right": null,
            "top": null,
            "visibility": null,
            "width": null
          }
        },
        "3e755efdb6494537b6cc533fb5661d24": {
          "model_module": "@jupyter-widgets/base",
          "model_name": "LayoutModel",
          "model_module_version": "1.2.0",
          "state": {
            "_model_module": "@jupyter-widgets/base",
            "_model_module_version": "1.2.0",
            "_model_name": "LayoutModel",
            "_view_count": null,
            "_view_module": "@jupyter-widgets/base",
            "_view_module_version": "1.2.0",
            "_view_name": "LayoutView",
            "align_content": null,
            "align_items": null,
            "align_self": null,
            "border": null,
            "bottom": null,
            "display": null,
            "flex": null,
            "flex_flow": null,
            "grid_area": null,
            "grid_auto_columns": null,
            "grid_auto_flow": null,
            "grid_auto_rows": null,
            "grid_column": null,
            "grid_gap": null,
            "grid_row": null,
            "grid_template_areas": null,
            "grid_template_columns": null,
            "grid_template_rows": null,
            "height": null,
            "justify_content": null,
            "justify_items": null,
            "left": null,
            "margin": null,
            "max_height": null,
            "max_width": null,
            "min_height": null,
            "min_width": null,
            "object_fit": null,
            "object_position": null,
            "order": null,
            "overflow": null,
            "overflow_x": null,
            "overflow_y": null,
            "padding": null,
            "right": null,
            "top": null,
            "visibility": null,
            "width": null
          }
        },
        "9d73025178b244a4938d25f495affff1": {
          "model_module": "@jupyter-widgets/controls",
          "model_name": "DescriptionStyleModel",
          "model_module_version": "1.5.0",
          "state": {
            "_model_module": "@jupyter-widgets/controls",
            "_model_module_version": "1.5.0",
            "_model_name": "DescriptionStyleModel",
            "_view_count": null,
            "_view_module": "@jupyter-widgets/base",
            "_view_module_version": "1.2.0",
            "_view_name": "StyleView",
            "description_width": ""
          }
        },
        "10f8a24021ac4da38945a23633d45555": {
          "model_module": "@jupyter-widgets/base",
          "model_name": "LayoutModel",
          "model_module_version": "1.2.0",
          "state": {
            "_model_module": "@jupyter-widgets/base",
            "_model_module_version": "1.2.0",
            "_model_name": "LayoutModel",
            "_view_count": null,
            "_view_module": "@jupyter-widgets/base",
            "_view_module_version": "1.2.0",
            "_view_name": "LayoutView",
            "align_content": null,
            "align_items": null,
            "align_self": null,
            "border": null,
            "bottom": null,
            "display": null,
            "flex": null,
            "flex_flow": null,
            "grid_area": null,
            "grid_auto_columns": null,
            "grid_auto_flow": null,
            "grid_auto_rows": null,
            "grid_column": null,
            "grid_gap": null,
            "grid_row": null,
            "grid_template_areas": null,
            "grid_template_columns": null,
            "grid_template_rows": null,
            "height": null,
            "justify_content": null,
            "justify_items": null,
            "left": null,
            "margin": null,
            "max_height": null,
            "max_width": null,
            "min_height": null,
            "min_width": null,
            "object_fit": null,
            "object_position": null,
            "order": null,
            "overflow": null,
            "overflow_x": null,
            "overflow_y": null,
            "padding": null,
            "right": null,
            "top": null,
            "visibility": null,
            "width": null
          }
        },
        "db6744d24dac448eabcfc89623b541ea": {
          "model_module": "@jupyter-widgets/controls",
          "model_name": "ProgressStyleModel",
          "model_module_version": "1.5.0",
          "state": {
            "_model_module": "@jupyter-widgets/controls",
            "_model_module_version": "1.5.0",
            "_model_name": "ProgressStyleModel",
            "_view_count": null,
            "_view_module": "@jupyter-widgets/base",
            "_view_module_version": "1.2.0",
            "_view_name": "StyleView",
            "bar_color": null,
            "description_width": ""
          }
        },
        "eaa88bdbca5742e8b9f526e2fa35bcc6": {
          "model_module": "@jupyter-widgets/base",
          "model_name": "LayoutModel",
          "model_module_version": "1.2.0",
          "state": {
            "_model_module": "@jupyter-widgets/base",
            "_model_module_version": "1.2.0",
            "_model_name": "LayoutModel",
            "_view_count": null,
            "_view_module": "@jupyter-widgets/base",
            "_view_module_version": "1.2.0",
            "_view_name": "LayoutView",
            "align_content": null,
            "align_items": null,
            "align_self": null,
            "border": null,
            "bottom": null,
            "display": null,
            "flex": null,
            "flex_flow": null,
            "grid_area": null,
            "grid_auto_columns": null,
            "grid_auto_flow": null,
            "grid_auto_rows": null,
            "grid_column": null,
            "grid_gap": null,
            "grid_row": null,
            "grid_template_areas": null,
            "grid_template_columns": null,
            "grid_template_rows": null,
            "height": null,
            "justify_content": null,
            "justify_items": null,
            "left": null,
            "margin": null,
            "max_height": null,
            "max_width": null,
            "min_height": null,
            "min_width": null,
            "object_fit": null,
            "object_position": null,
            "order": null,
            "overflow": null,
            "overflow_x": null,
            "overflow_y": null,
            "padding": null,
            "right": null,
            "top": null,
            "visibility": null,
            "width": null
          }
        },
        "09a6e42af5fd47d6b6190318fb57a38c": {
          "model_module": "@jupyter-widgets/controls",
          "model_name": "DescriptionStyleModel",
          "model_module_version": "1.5.0",
          "state": {
            "_model_module": "@jupyter-widgets/controls",
            "_model_module_version": "1.5.0",
            "_model_name": "DescriptionStyleModel",
            "_view_count": null,
            "_view_module": "@jupyter-widgets/base",
            "_view_module_version": "1.2.0",
            "_view_name": "StyleView",
            "description_width": ""
          }
        },
        "5d5d655d973b48c49bf2eecf749037a1": {
          "model_module": "@jupyter-widgets/controls",
          "model_name": "HBoxModel",
          "model_module_version": "1.5.0",
          "state": {
            "_dom_classes": [],
            "_model_module": "@jupyter-widgets/controls",
            "_model_module_version": "1.5.0",
            "_model_name": "HBoxModel",
            "_view_count": null,
            "_view_module": "@jupyter-widgets/controls",
            "_view_module_version": "1.5.0",
            "_view_name": "HBoxView",
            "box_style": "",
            "children": [
              "IPY_MODEL_418a0d292f184638887e8e87ecc91524",
              "IPY_MODEL_1966adc6bc0f4d71b9b382c56726568a",
              "IPY_MODEL_4e62443fd4da4b73800087500e4a6d45"
            ],
            "layout": "IPY_MODEL_d332fe1e9659410ab944c0ca9ae63778"
          }
        },
        "418a0d292f184638887e8e87ecc91524": {
          "model_module": "@jupyter-widgets/controls",
          "model_name": "HTMLModel",
          "model_module_version": "1.5.0",
          "state": {
            "_dom_classes": [],
            "_model_module": "@jupyter-widgets/controls",
            "_model_module_version": "1.5.0",
            "_model_name": "HTMLModel",
            "_view_count": null,
            "_view_module": "@jupyter-widgets/controls",
            "_view_module_version": "1.5.0",
            "_view_name": "HTMLView",
            "description": "",
            "description_tooltip": null,
            "layout": "IPY_MODEL_df27a0bb12d248b28432c9b6997d1355",
            "placeholder": "​",
            "style": "IPY_MODEL_dcd9fb75e7ab45d8a98ae32f93217c55",
            "value": "vocab.json: 100%"
          }
        },
        "1966adc6bc0f4d71b9b382c56726568a": {
          "model_module": "@jupyter-widgets/controls",
          "model_name": "FloatProgressModel",
          "model_module_version": "1.5.0",
          "state": {
            "_dom_classes": [],
            "_model_module": "@jupyter-widgets/controls",
            "_model_module_version": "1.5.0",
            "_model_name": "FloatProgressModel",
            "_view_count": null,
            "_view_module": "@jupyter-widgets/controls",
            "_view_module_version": "1.5.0",
            "_view_name": "ProgressView",
            "bar_style": "success",
            "description": "",
            "description_tooltip": null,
            "layout": "IPY_MODEL_7eb04de270c24366ae5fca5a418e2963",
            "max": 1042301,
            "min": 0,
            "orientation": "horizontal",
            "style": "IPY_MODEL_7f16b4dafcda4cd9b3a6d7de6ffff655",
            "value": 1042301
          }
        },
        "4e62443fd4da4b73800087500e4a6d45": {
          "model_module": "@jupyter-widgets/controls",
          "model_name": "HTMLModel",
          "model_module_version": "1.5.0",
          "state": {
            "_dom_classes": [],
            "_model_module": "@jupyter-widgets/controls",
            "_model_module_version": "1.5.0",
            "_model_name": "HTMLModel",
            "_view_count": null,
            "_view_module": "@jupyter-widgets/controls",
            "_view_module_version": "1.5.0",
            "_view_name": "HTMLView",
            "description": "",
            "description_tooltip": null,
            "layout": "IPY_MODEL_be0b9e72b5244ebdaa648a047f2e7504",
            "placeholder": "​",
            "style": "IPY_MODEL_a424fca70e7445adb7ebd14be3274b3c",
            "value": " 1.04M/1.04M [00:00&lt;00:00, 14.1MB/s]"
          }
        },
        "d332fe1e9659410ab944c0ca9ae63778": {
          "model_module": "@jupyter-widgets/base",
          "model_name": "LayoutModel",
          "model_module_version": "1.2.0",
          "state": {
            "_model_module": "@jupyter-widgets/base",
            "_model_module_version": "1.2.0",
            "_model_name": "LayoutModel",
            "_view_count": null,
            "_view_module": "@jupyter-widgets/base",
            "_view_module_version": "1.2.0",
            "_view_name": "LayoutView",
            "align_content": null,
            "align_items": null,
            "align_self": null,
            "border": null,
            "bottom": null,
            "display": null,
            "flex": null,
            "flex_flow": null,
            "grid_area": null,
            "grid_auto_columns": null,
            "grid_auto_flow": null,
            "grid_auto_rows": null,
            "grid_column": null,
            "grid_gap": null,
            "grid_row": null,
            "grid_template_areas": null,
            "grid_template_columns": null,
            "grid_template_rows": null,
            "height": null,
            "justify_content": null,
            "justify_items": null,
            "left": null,
            "margin": null,
            "max_height": null,
            "max_width": null,
            "min_height": null,
            "min_width": null,
            "object_fit": null,
            "object_position": null,
            "order": null,
            "overflow": null,
            "overflow_x": null,
            "overflow_y": null,
            "padding": null,
            "right": null,
            "top": null,
            "visibility": null,
            "width": null
          }
        },
        "df27a0bb12d248b28432c9b6997d1355": {
          "model_module": "@jupyter-widgets/base",
          "model_name": "LayoutModel",
          "model_module_version": "1.2.0",
          "state": {
            "_model_module": "@jupyter-widgets/base",
            "_model_module_version": "1.2.0",
            "_model_name": "LayoutModel",
            "_view_count": null,
            "_view_module": "@jupyter-widgets/base",
            "_view_module_version": "1.2.0",
            "_view_name": "LayoutView",
            "align_content": null,
            "align_items": null,
            "align_self": null,
            "border": null,
            "bottom": null,
            "display": null,
            "flex": null,
            "flex_flow": null,
            "grid_area": null,
            "grid_auto_columns": null,
            "grid_auto_flow": null,
            "grid_auto_rows": null,
            "grid_column": null,
            "grid_gap": null,
            "grid_row": null,
            "grid_template_areas": null,
            "grid_template_columns": null,
            "grid_template_rows": null,
            "height": null,
            "justify_content": null,
            "justify_items": null,
            "left": null,
            "margin": null,
            "max_height": null,
            "max_width": null,
            "min_height": null,
            "min_width": null,
            "object_fit": null,
            "object_position": null,
            "order": null,
            "overflow": null,
            "overflow_x": null,
            "overflow_y": null,
            "padding": null,
            "right": null,
            "top": null,
            "visibility": null,
            "width": null
          }
        },
        "dcd9fb75e7ab45d8a98ae32f93217c55": {
          "model_module": "@jupyter-widgets/controls",
          "model_name": "DescriptionStyleModel",
          "model_module_version": "1.5.0",
          "state": {
            "_model_module": "@jupyter-widgets/controls",
            "_model_module_version": "1.5.0",
            "_model_name": "DescriptionStyleModel",
            "_view_count": null,
            "_view_module": "@jupyter-widgets/base",
            "_view_module_version": "1.2.0",
            "_view_name": "StyleView",
            "description_width": ""
          }
        },
        "7eb04de270c24366ae5fca5a418e2963": {
          "model_module": "@jupyter-widgets/base",
          "model_name": "LayoutModel",
          "model_module_version": "1.2.0",
          "state": {
            "_model_module": "@jupyter-widgets/base",
            "_model_module_version": "1.2.0",
            "_model_name": "LayoutModel",
            "_view_count": null,
            "_view_module": "@jupyter-widgets/base",
            "_view_module_version": "1.2.0",
            "_view_name": "LayoutView",
            "align_content": null,
            "align_items": null,
            "align_self": null,
            "border": null,
            "bottom": null,
            "display": null,
            "flex": null,
            "flex_flow": null,
            "grid_area": null,
            "grid_auto_columns": null,
            "grid_auto_flow": null,
            "grid_auto_rows": null,
            "grid_column": null,
            "grid_gap": null,
            "grid_row": null,
            "grid_template_areas": null,
            "grid_template_columns": null,
            "grid_template_rows": null,
            "height": null,
            "justify_content": null,
            "justify_items": null,
            "left": null,
            "margin": null,
            "max_height": null,
            "max_width": null,
            "min_height": null,
            "min_width": null,
            "object_fit": null,
            "object_position": null,
            "order": null,
            "overflow": null,
            "overflow_x": null,
            "overflow_y": null,
            "padding": null,
            "right": null,
            "top": null,
            "visibility": null,
            "width": null
          }
        },
        "7f16b4dafcda4cd9b3a6d7de6ffff655": {
          "model_module": "@jupyter-widgets/controls",
          "model_name": "ProgressStyleModel",
          "model_module_version": "1.5.0",
          "state": {
            "_model_module": "@jupyter-widgets/controls",
            "_model_module_version": "1.5.0",
            "_model_name": "ProgressStyleModel",
            "_view_count": null,
            "_view_module": "@jupyter-widgets/base",
            "_view_module_version": "1.2.0",
            "_view_name": "StyleView",
            "bar_color": null,
            "description_width": ""
          }
        },
        "be0b9e72b5244ebdaa648a047f2e7504": {
          "model_module": "@jupyter-widgets/base",
          "model_name": "LayoutModel",
          "model_module_version": "1.2.0",
          "state": {
            "_model_module": "@jupyter-widgets/base",
            "_model_module_version": "1.2.0",
            "_model_name": "LayoutModel",
            "_view_count": null,
            "_view_module": "@jupyter-widgets/base",
            "_view_module_version": "1.2.0",
            "_view_name": "LayoutView",
            "align_content": null,
            "align_items": null,
            "align_self": null,
            "border": null,
            "bottom": null,
            "display": null,
            "flex": null,
            "flex_flow": null,
            "grid_area": null,
            "grid_auto_columns": null,
            "grid_auto_flow": null,
            "grid_auto_rows": null,
            "grid_column": null,
            "grid_gap": null,
            "grid_row": null,
            "grid_template_areas": null,
            "grid_template_columns": null,
            "grid_template_rows": null,
            "height": null,
            "justify_content": null,
            "justify_items": null,
            "left": null,
            "margin": null,
            "max_height": null,
            "max_width": null,
            "min_height": null,
            "min_width": null,
            "object_fit": null,
            "object_position": null,
            "order": null,
            "overflow": null,
            "overflow_x": null,
            "overflow_y": null,
            "padding": null,
            "right": null,
            "top": null,
            "visibility": null,
            "width": null
          }
        },
        "a424fca70e7445adb7ebd14be3274b3c": {
          "model_module": "@jupyter-widgets/controls",
          "model_name": "DescriptionStyleModel",
          "model_module_version": "1.5.0",
          "state": {
            "_model_module": "@jupyter-widgets/controls",
            "_model_module_version": "1.5.0",
            "_model_name": "DescriptionStyleModel",
            "_view_count": null,
            "_view_module": "@jupyter-widgets/base",
            "_view_module_version": "1.2.0",
            "_view_name": "StyleView",
            "description_width": ""
          }
        },
        "c8858a85c1694c01997c575dd8fbc899": {
          "model_module": "@jupyter-widgets/controls",
          "model_name": "HBoxModel",
          "model_module_version": "1.5.0",
          "state": {
            "_dom_classes": [],
            "_model_module": "@jupyter-widgets/controls",
            "_model_module_version": "1.5.0",
            "_model_name": "HBoxModel",
            "_view_count": null,
            "_view_module": "@jupyter-widgets/controls",
            "_view_module_version": "1.5.0",
            "_view_name": "HBoxView",
            "box_style": "",
            "children": [
              "IPY_MODEL_af9c883440d448c5a1a645ec5dfb630c",
              "IPY_MODEL_0278556ba11c4ed5b7e417659b2a0edd",
              "IPY_MODEL_25c9874083524bd490cedcf6576496a3"
            ],
            "layout": "IPY_MODEL_83f647baaad640b49503217ba7cbe2e2"
          }
        },
        "af9c883440d448c5a1a645ec5dfb630c": {
          "model_module": "@jupyter-widgets/controls",
          "model_name": "HTMLModel",
          "model_module_version": "1.5.0",
          "state": {
            "_dom_classes": [],
            "_model_module": "@jupyter-widgets/controls",
            "_model_module_version": "1.5.0",
            "_model_name": "HTMLModel",
            "_view_count": null,
            "_view_module": "@jupyter-widgets/controls",
            "_view_module_version": "1.5.0",
            "_view_name": "HTMLView",
            "description": "",
            "description_tooltip": null,
            "layout": "IPY_MODEL_3947e4e1bfd44adda53b0dc596582451",
            "placeholder": "​",
            "style": "IPY_MODEL_484ac0cc12a740548615678915cbebf0",
            "value": "merges.txt: 100%"
          }
        },
        "0278556ba11c4ed5b7e417659b2a0edd": {
          "model_module": "@jupyter-widgets/controls",
          "model_name": "FloatProgressModel",
          "model_module_version": "1.5.0",
          "state": {
            "_dom_classes": [],
            "_model_module": "@jupyter-widgets/controls",
            "_model_module_version": "1.5.0",
            "_model_name": "FloatProgressModel",
            "_view_count": null,
            "_view_module": "@jupyter-widgets/controls",
            "_view_module_version": "1.5.0",
            "_view_name": "ProgressView",
            "bar_style": "success",
            "description": "",
            "description_tooltip": null,
            "layout": "IPY_MODEL_57478a29bdb54d998e0a24ef0d2c0df6",
            "max": 456318,
            "min": 0,
            "orientation": "horizontal",
            "style": "IPY_MODEL_4c06da63b2d544ddab0b0bda2adc77d4",
            "value": 456318
          }
        },
        "25c9874083524bd490cedcf6576496a3": {
          "model_module": "@jupyter-widgets/controls",
          "model_name": "HTMLModel",
          "model_module_version": "1.5.0",
          "state": {
            "_dom_classes": [],
            "_model_module": "@jupyter-widgets/controls",
            "_model_module_version": "1.5.0",
            "_model_name": "HTMLModel",
            "_view_count": null,
            "_view_module": "@jupyter-widgets/controls",
            "_view_module_version": "1.5.0",
            "_view_name": "HTMLView",
            "description": "",
            "description_tooltip": null,
            "layout": "IPY_MODEL_e6a159ae7aab4e799568f8ca8b2a465b",
            "placeholder": "​",
            "style": "IPY_MODEL_554137d5c1bb4f498beefaa7769932be",
            "value": " 456k/456k [00:00&lt;00:00, 1.80MB/s]"
          }
        },
        "83f647baaad640b49503217ba7cbe2e2": {
          "model_module": "@jupyter-widgets/base",
          "model_name": "LayoutModel",
          "model_module_version": "1.2.0",
          "state": {
            "_model_module": "@jupyter-widgets/base",
            "_model_module_version": "1.2.0",
            "_model_name": "LayoutModel",
            "_view_count": null,
            "_view_module": "@jupyter-widgets/base",
            "_view_module_version": "1.2.0",
            "_view_name": "LayoutView",
            "align_content": null,
            "align_items": null,
            "align_self": null,
            "border": null,
            "bottom": null,
            "display": null,
            "flex": null,
            "flex_flow": null,
            "grid_area": null,
            "grid_auto_columns": null,
            "grid_auto_flow": null,
            "grid_auto_rows": null,
            "grid_column": null,
            "grid_gap": null,
            "grid_row": null,
            "grid_template_areas": null,
            "grid_template_columns": null,
            "grid_template_rows": null,
            "height": null,
            "justify_content": null,
            "justify_items": null,
            "left": null,
            "margin": null,
            "max_height": null,
            "max_width": null,
            "min_height": null,
            "min_width": null,
            "object_fit": null,
            "object_position": null,
            "order": null,
            "overflow": null,
            "overflow_x": null,
            "overflow_y": null,
            "padding": null,
            "right": null,
            "top": null,
            "visibility": null,
            "width": null
          }
        },
        "3947e4e1bfd44adda53b0dc596582451": {
          "model_module": "@jupyter-widgets/base",
          "model_name": "LayoutModel",
          "model_module_version": "1.2.0",
          "state": {
            "_model_module": "@jupyter-widgets/base",
            "_model_module_version": "1.2.0",
            "_model_name": "LayoutModel",
            "_view_count": null,
            "_view_module": "@jupyter-widgets/base",
            "_view_module_version": "1.2.0",
            "_view_name": "LayoutView",
            "align_content": null,
            "align_items": null,
            "align_self": null,
            "border": null,
            "bottom": null,
            "display": null,
            "flex": null,
            "flex_flow": null,
            "grid_area": null,
            "grid_auto_columns": null,
            "grid_auto_flow": null,
            "grid_auto_rows": null,
            "grid_column": null,
            "grid_gap": null,
            "grid_row": null,
            "grid_template_areas": null,
            "grid_template_columns": null,
            "grid_template_rows": null,
            "height": null,
            "justify_content": null,
            "justify_items": null,
            "left": null,
            "margin": null,
            "max_height": null,
            "max_width": null,
            "min_height": null,
            "min_width": null,
            "object_fit": null,
            "object_position": null,
            "order": null,
            "overflow": null,
            "overflow_x": null,
            "overflow_y": null,
            "padding": null,
            "right": null,
            "top": null,
            "visibility": null,
            "width": null
          }
        },
        "484ac0cc12a740548615678915cbebf0": {
          "model_module": "@jupyter-widgets/controls",
          "model_name": "DescriptionStyleModel",
          "model_module_version": "1.5.0",
          "state": {
            "_model_module": "@jupyter-widgets/controls",
            "_model_module_version": "1.5.0",
            "_model_name": "DescriptionStyleModel",
            "_view_count": null,
            "_view_module": "@jupyter-widgets/base",
            "_view_module_version": "1.2.0",
            "_view_name": "StyleView",
            "description_width": ""
          }
        },
        "57478a29bdb54d998e0a24ef0d2c0df6": {
          "model_module": "@jupyter-widgets/base",
          "model_name": "LayoutModel",
          "model_module_version": "1.2.0",
          "state": {
            "_model_module": "@jupyter-widgets/base",
            "_model_module_version": "1.2.0",
            "_model_name": "LayoutModel",
            "_view_count": null,
            "_view_module": "@jupyter-widgets/base",
            "_view_module_version": "1.2.0",
            "_view_name": "LayoutView",
            "align_content": null,
            "align_items": null,
            "align_self": null,
            "border": null,
            "bottom": null,
            "display": null,
            "flex": null,
            "flex_flow": null,
            "grid_area": null,
            "grid_auto_columns": null,
            "grid_auto_flow": null,
            "grid_auto_rows": null,
            "grid_column": null,
            "grid_gap": null,
            "grid_row": null,
            "grid_template_areas": null,
            "grid_template_columns": null,
            "grid_template_rows": null,
            "height": null,
            "justify_content": null,
            "justify_items": null,
            "left": null,
            "margin": null,
            "max_height": null,
            "max_width": null,
            "min_height": null,
            "min_width": null,
            "object_fit": null,
            "object_position": null,
            "order": null,
            "overflow": null,
            "overflow_x": null,
            "overflow_y": null,
            "padding": null,
            "right": null,
            "top": null,
            "visibility": null,
            "width": null
          }
        },
        "4c06da63b2d544ddab0b0bda2adc77d4": {
          "model_module": "@jupyter-widgets/controls",
          "model_name": "ProgressStyleModel",
          "model_module_version": "1.5.0",
          "state": {
            "_model_module": "@jupyter-widgets/controls",
            "_model_module_version": "1.5.0",
            "_model_name": "ProgressStyleModel",
            "_view_count": null,
            "_view_module": "@jupyter-widgets/base",
            "_view_module_version": "1.2.0",
            "_view_name": "StyleView",
            "bar_color": null,
            "description_width": ""
          }
        },
        "e6a159ae7aab4e799568f8ca8b2a465b": {
          "model_module": "@jupyter-widgets/base",
          "model_name": "LayoutModel",
          "model_module_version": "1.2.0",
          "state": {
            "_model_module": "@jupyter-widgets/base",
            "_model_module_version": "1.2.0",
            "_model_name": "LayoutModel",
            "_view_count": null,
            "_view_module": "@jupyter-widgets/base",
            "_view_module_version": "1.2.0",
            "_view_name": "LayoutView",
            "align_content": null,
            "align_items": null,
            "align_self": null,
            "border": null,
            "bottom": null,
            "display": null,
            "flex": null,
            "flex_flow": null,
            "grid_area": null,
            "grid_auto_columns": null,
            "grid_auto_flow": null,
            "grid_auto_rows": null,
            "grid_column": null,
            "grid_gap": null,
            "grid_row": null,
            "grid_template_areas": null,
            "grid_template_columns": null,
            "grid_template_rows": null,
            "height": null,
            "justify_content": null,
            "justify_items": null,
            "left": null,
            "margin": null,
            "max_height": null,
            "max_width": null,
            "min_height": null,
            "min_width": null,
            "object_fit": null,
            "object_position": null,
            "order": null,
            "overflow": null,
            "overflow_x": null,
            "overflow_y": null,
            "padding": null,
            "right": null,
            "top": null,
            "visibility": null,
            "width": null
          }
        },
        "554137d5c1bb4f498beefaa7769932be": {
          "model_module": "@jupyter-widgets/controls",
          "model_name": "DescriptionStyleModel",
          "model_module_version": "1.5.0",
          "state": {
            "_model_module": "@jupyter-widgets/controls",
            "_model_module_version": "1.5.0",
            "_model_name": "DescriptionStyleModel",
            "_view_count": null,
            "_view_module": "@jupyter-widgets/base",
            "_view_module_version": "1.2.0",
            "_view_name": "StyleView",
            "description_width": ""
          }
        },
        "d1534802268f436abbc8bc54c15722cc": {
          "model_module": "@jupyter-widgets/controls",
          "model_name": "HBoxModel",
          "model_module_version": "1.5.0",
          "state": {
            "_dom_classes": [],
            "_model_module": "@jupyter-widgets/controls",
            "_model_module_version": "1.5.0",
            "_model_name": "HBoxModel",
            "_view_count": null,
            "_view_module": "@jupyter-widgets/controls",
            "_view_module_version": "1.5.0",
            "_view_name": "HBoxView",
            "box_style": "",
            "children": [
              "IPY_MODEL_1ad7e4dde5174a13800eaa33b7ed71ab",
              "IPY_MODEL_6f2af1430ae84ba4bad2417d91a2dcb8",
              "IPY_MODEL_edaa64af466f43c68a30feb02d825019"
            ],
            "layout": "IPY_MODEL_e9b3af59bb22487699e55a540a7e5cb2"
          }
        },
        "1ad7e4dde5174a13800eaa33b7ed71ab": {
          "model_module": "@jupyter-widgets/controls",
          "model_name": "HTMLModel",
          "model_module_version": "1.5.0",
          "state": {
            "_dom_classes": [],
            "_model_module": "@jupyter-widgets/controls",
            "_model_module_version": "1.5.0",
            "_model_name": "HTMLModel",
            "_view_count": null,
            "_view_module": "@jupyter-widgets/controls",
            "_view_module_version": "1.5.0",
            "_view_name": "HTMLView",
            "description": "",
            "description_tooltip": null,
            "layout": "IPY_MODEL_5570cdd86b31417585182252e2776e06",
            "placeholder": "​",
            "style": "IPY_MODEL_12ff5f856dbb4c9a8052ba3cf6f84c02",
            "value": "tokenizer.json: 100%"
          }
        },
        "6f2af1430ae84ba4bad2417d91a2dcb8": {
          "model_module": "@jupyter-widgets/controls",
          "model_name": "FloatProgressModel",
          "model_module_version": "1.5.0",
          "state": {
            "_dom_classes": [],
            "_model_module": "@jupyter-widgets/controls",
            "_model_module_version": "1.5.0",
            "_model_name": "FloatProgressModel",
            "_view_count": null,
            "_view_module": "@jupyter-widgets/controls",
            "_view_module_version": "1.5.0",
            "_view_name": "ProgressView",
            "bar_style": "success",
            "description": "",
            "description_tooltip": null,
            "layout": "IPY_MODEL_8b056e3e1d1b498387402c82453f5705",
            "max": 1355256,
            "min": 0,
            "orientation": "horizontal",
            "style": "IPY_MODEL_4c4da30387d94a26a71c522f3ae34f65",
            "value": 1355256
          }
        },
        "edaa64af466f43c68a30feb02d825019": {
          "model_module": "@jupyter-widgets/controls",
          "model_name": "HTMLModel",
          "model_module_version": "1.5.0",
          "state": {
            "_dom_classes": [],
            "_model_module": "@jupyter-widgets/controls",
            "_model_module_version": "1.5.0",
            "_model_name": "HTMLModel",
            "_view_count": null,
            "_view_module": "@jupyter-widgets/controls",
            "_view_module_version": "1.5.0",
            "_view_name": "HTMLView",
            "description": "",
            "description_tooltip": null,
            "layout": "IPY_MODEL_a22066f3528049f3826f403d1fd672f5",
            "placeholder": "​",
            "style": "IPY_MODEL_11bf2612265048b0b5c75add9c200cc8",
            "value": " 1.36M/1.36M [00:00&lt;00:00, 30.9MB/s]"
          }
        },
        "e9b3af59bb22487699e55a540a7e5cb2": {
          "model_module": "@jupyter-widgets/base",
          "model_name": "LayoutModel",
          "model_module_version": "1.2.0",
          "state": {
            "_model_module": "@jupyter-widgets/base",
            "_model_module_version": "1.2.0",
            "_model_name": "LayoutModel",
            "_view_count": null,
            "_view_module": "@jupyter-widgets/base",
            "_view_module_version": "1.2.0",
            "_view_name": "LayoutView",
            "align_content": null,
            "align_items": null,
            "align_self": null,
            "border": null,
            "bottom": null,
            "display": null,
            "flex": null,
            "flex_flow": null,
            "grid_area": null,
            "grid_auto_columns": null,
            "grid_auto_flow": null,
            "grid_auto_rows": null,
            "grid_column": null,
            "grid_gap": null,
            "grid_row": null,
            "grid_template_areas": null,
            "grid_template_columns": null,
            "grid_template_rows": null,
            "height": null,
            "justify_content": null,
            "justify_items": null,
            "left": null,
            "margin": null,
            "max_height": null,
            "max_width": null,
            "min_height": null,
            "min_width": null,
            "object_fit": null,
            "object_position": null,
            "order": null,
            "overflow": null,
            "overflow_x": null,
            "overflow_y": null,
            "padding": null,
            "right": null,
            "top": null,
            "visibility": null,
            "width": null
          }
        },
        "5570cdd86b31417585182252e2776e06": {
          "model_module": "@jupyter-widgets/base",
          "model_name": "LayoutModel",
          "model_module_version": "1.2.0",
          "state": {
            "_model_module": "@jupyter-widgets/base",
            "_model_module_version": "1.2.0",
            "_model_name": "LayoutModel",
            "_view_count": null,
            "_view_module": "@jupyter-widgets/base",
            "_view_module_version": "1.2.0",
            "_view_name": "LayoutView",
            "align_content": null,
            "align_items": null,
            "align_self": null,
            "border": null,
            "bottom": null,
            "display": null,
            "flex": null,
            "flex_flow": null,
            "grid_area": null,
            "grid_auto_columns": null,
            "grid_auto_flow": null,
            "grid_auto_rows": null,
            "grid_column": null,
            "grid_gap": null,
            "grid_row": null,
            "grid_template_areas": null,
            "grid_template_columns": null,
            "grid_template_rows": null,
            "height": null,
            "justify_content": null,
            "justify_items": null,
            "left": null,
            "margin": null,
            "max_height": null,
            "max_width": null,
            "min_height": null,
            "min_width": null,
            "object_fit": null,
            "object_position": null,
            "order": null,
            "overflow": null,
            "overflow_x": null,
            "overflow_y": null,
            "padding": null,
            "right": null,
            "top": null,
            "visibility": null,
            "width": null
          }
        },
        "12ff5f856dbb4c9a8052ba3cf6f84c02": {
          "model_module": "@jupyter-widgets/controls",
          "model_name": "DescriptionStyleModel",
          "model_module_version": "1.5.0",
          "state": {
            "_model_module": "@jupyter-widgets/controls",
            "_model_module_version": "1.5.0",
            "_model_name": "DescriptionStyleModel",
            "_view_count": null,
            "_view_module": "@jupyter-widgets/base",
            "_view_module_version": "1.2.0",
            "_view_name": "StyleView",
            "description_width": ""
          }
        },
        "8b056e3e1d1b498387402c82453f5705": {
          "model_module": "@jupyter-widgets/base",
          "model_name": "LayoutModel",
          "model_module_version": "1.2.0",
          "state": {
            "_model_module": "@jupyter-widgets/base",
            "_model_module_version": "1.2.0",
            "_model_name": "LayoutModel",
            "_view_count": null,
            "_view_module": "@jupyter-widgets/base",
            "_view_module_version": "1.2.0",
            "_view_name": "LayoutView",
            "align_content": null,
            "align_items": null,
            "align_self": null,
            "border": null,
            "bottom": null,
            "display": null,
            "flex": null,
            "flex_flow": null,
            "grid_area": null,
            "grid_auto_columns": null,
            "grid_auto_flow": null,
            "grid_auto_rows": null,
            "grid_column": null,
            "grid_gap": null,
            "grid_row": null,
            "grid_template_areas": null,
            "grid_template_columns": null,
            "grid_template_rows": null,
            "height": null,
            "justify_content": null,
            "justify_items": null,
            "left": null,
            "margin": null,
            "max_height": null,
            "max_width": null,
            "min_height": null,
            "min_width": null,
            "object_fit": null,
            "object_position": null,
            "order": null,
            "overflow": null,
            "overflow_x": null,
            "overflow_y": null,
            "padding": null,
            "right": null,
            "top": null,
            "visibility": null,
            "width": null
          }
        },
        "4c4da30387d94a26a71c522f3ae34f65": {
          "model_module": "@jupyter-widgets/controls",
          "model_name": "ProgressStyleModel",
          "model_module_version": "1.5.0",
          "state": {
            "_model_module": "@jupyter-widgets/controls",
            "_model_module_version": "1.5.0",
            "_model_name": "ProgressStyleModel",
            "_view_count": null,
            "_view_module": "@jupyter-widgets/base",
            "_view_module_version": "1.2.0",
            "_view_name": "StyleView",
            "bar_color": null,
            "description_width": ""
          }
        },
        "a22066f3528049f3826f403d1fd672f5": {
          "model_module": "@jupyter-widgets/base",
          "model_name": "LayoutModel",
          "model_module_version": "1.2.0",
          "state": {
            "_model_module": "@jupyter-widgets/base",
            "_model_module_version": "1.2.0",
            "_model_name": "LayoutModel",
            "_view_count": null,
            "_view_module": "@jupyter-widgets/base",
            "_view_module_version": "1.2.0",
            "_view_name": "LayoutView",
            "align_content": null,
            "align_items": null,
            "align_self": null,
            "border": null,
            "bottom": null,
            "display": null,
            "flex": null,
            "flex_flow": null,
            "grid_area": null,
            "grid_auto_columns": null,
            "grid_auto_flow": null,
            "grid_auto_rows": null,
            "grid_column": null,
            "grid_gap": null,
            "grid_row": null,
            "grid_template_areas": null,
            "grid_template_columns": null,
            "grid_template_rows": null,
            "height": null,
            "justify_content": null,
            "justify_items": null,
            "left": null,
            "margin": null,
            "max_height": null,
            "max_width": null,
            "min_height": null,
            "min_width": null,
            "object_fit": null,
            "object_position": null,
            "order": null,
            "overflow": null,
            "overflow_x": null,
            "overflow_y": null,
            "padding": null,
            "right": null,
            "top": null,
            "visibility": null,
            "width": null
          }
        },
        "11bf2612265048b0b5c75add9c200cc8": {
          "model_module": "@jupyter-widgets/controls",
          "model_name": "DescriptionStyleModel",
          "model_module_version": "1.5.0",
          "state": {
            "_model_module": "@jupyter-widgets/controls",
            "_model_module_version": "1.5.0",
            "_model_name": "DescriptionStyleModel",
            "_view_count": null,
            "_view_module": "@jupyter-widgets/base",
            "_view_module_version": "1.2.0",
            "_view_name": "StyleView",
            "description_width": ""
          }
        },
        "b5dd0772d6b34041897f0a83ff243881": {
          "model_module": "@jupyter-widgets/controls",
          "model_name": "HBoxModel",
          "model_module_version": "1.5.0",
          "state": {
            "_dom_classes": [],
            "_model_module": "@jupyter-widgets/controls",
            "_model_module_version": "1.5.0",
            "_model_name": "HBoxModel",
            "_view_count": null,
            "_view_module": "@jupyter-widgets/controls",
            "_view_module_version": "1.5.0",
            "_view_name": "HBoxView",
            "box_style": "",
            "children": [
              "IPY_MODEL_d0a9795e1b9e42cba3f8e927a646fd6b",
              "IPY_MODEL_cec541f8c3a3413495fcd26f3995e2f5",
              "IPY_MODEL_6b65ff1aba004b2e9758e584335c1703"
            ],
            "layout": "IPY_MODEL_a066c88e12eb470aa0e9e1da85ed7c44"
          }
        },
        "d0a9795e1b9e42cba3f8e927a646fd6b": {
          "model_module": "@jupyter-widgets/controls",
          "model_name": "HTMLModel",
          "model_module_version": "1.5.0",
          "state": {
            "_dom_classes": [],
            "_model_module": "@jupyter-widgets/controls",
            "_model_module_version": "1.5.0",
            "_model_name": "HTMLModel",
            "_view_count": null,
            "_view_module": "@jupyter-widgets/controls",
            "_view_module_version": "1.5.0",
            "_view_name": "HTMLView",
            "description": "",
            "description_tooltip": null,
            "layout": "IPY_MODEL_d976f0e5d6ec45739264af1b0cf6cc89",
            "placeholder": "​",
            "style": "IPY_MODEL_01f1caf645bb4b3f825e907707f8b695",
            "value": "config.json: 100%"
          }
        },
        "cec541f8c3a3413495fcd26f3995e2f5": {
          "model_module": "@jupyter-widgets/controls",
          "model_name": "FloatProgressModel",
          "model_module_version": "1.5.0",
          "state": {
            "_dom_classes": [],
            "_model_module": "@jupyter-widgets/controls",
            "_model_module_version": "1.5.0",
            "_model_name": "FloatProgressModel",
            "_view_count": null,
            "_view_module": "@jupyter-widgets/controls",
            "_view_module_version": "1.5.0",
            "_view_name": "ProgressView",
            "bar_style": "success",
            "description": "",
            "description_tooltip": null,
            "layout": "IPY_MODEL_93d2bfcfbd1c4370b4ac6b9aaf4bb8a9",
            "max": 665,
            "min": 0,
            "orientation": "horizontal",
            "style": "IPY_MODEL_107540f7f16f45909d9d014b5acb83cf",
            "value": 665
          }
        },
        "6b65ff1aba004b2e9758e584335c1703": {
          "model_module": "@jupyter-widgets/controls",
          "model_name": "HTMLModel",
          "model_module_version": "1.5.0",
          "state": {
            "_dom_classes": [],
            "_model_module": "@jupyter-widgets/controls",
            "_model_module_version": "1.5.0",
            "_model_name": "HTMLModel",
            "_view_count": null,
            "_view_module": "@jupyter-widgets/controls",
            "_view_module_version": "1.5.0",
            "_view_name": "HTMLView",
            "description": "",
            "description_tooltip": null,
            "layout": "IPY_MODEL_a271f2f228d74a228f980f11351ffe81",
            "placeholder": "​",
            "style": "IPY_MODEL_bc082076d4cc4dc2baffdbad17091ac8",
            "value": " 665/665 [00:00&lt;00:00, 45.9kB/s]"
          }
        },
        "a066c88e12eb470aa0e9e1da85ed7c44": {
          "model_module": "@jupyter-widgets/base",
          "model_name": "LayoutModel",
          "model_module_version": "1.2.0",
          "state": {
            "_model_module": "@jupyter-widgets/base",
            "_model_module_version": "1.2.0",
            "_model_name": "LayoutModel",
            "_view_count": null,
            "_view_module": "@jupyter-widgets/base",
            "_view_module_version": "1.2.0",
            "_view_name": "LayoutView",
            "align_content": null,
            "align_items": null,
            "align_self": null,
            "border": null,
            "bottom": null,
            "display": null,
            "flex": null,
            "flex_flow": null,
            "grid_area": null,
            "grid_auto_columns": null,
            "grid_auto_flow": null,
            "grid_auto_rows": null,
            "grid_column": null,
            "grid_gap": null,
            "grid_row": null,
            "grid_template_areas": null,
            "grid_template_columns": null,
            "grid_template_rows": null,
            "height": null,
            "justify_content": null,
            "justify_items": null,
            "left": null,
            "margin": null,
            "max_height": null,
            "max_width": null,
            "min_height": null,
            "min_width": null,
            "object_fit": null,
            "object_position": null,
            "order": null,
            "overflow": null,
            "overflow_x": null,
            "overflow_y": null,
            "padding": null,
            "right": null,
            "top": null,
            "visibility": null,
            "width": null
          }
        },
        "d976f0e5d6ec45739264af1b0cf6cc89": {
          "model_module": "@jupyter-widgets/base",
          "model_name": "LayoutModel",
          "model_module_version": "1.2.0",
          "state": {
            "_model_module": "@jupyter-widgets/base",
            "_model_module_version": "1.2.0",
            "_model_name": "LayoutModel",
            "_view_count": null,
            "_view_module": "@jupyter-widgets/base",
            "_view_module_version": "1.2.0",
            "_view_name": "LayoutView",
            "align_content": null,
            "align_items": null,
            "align_self": null,
            "border": null,
            "bottom": null,
            "display": null,
            "flex": null,
            "flex_flow": null,
            "grid_area": null,
            "grid_auto_columns": null,
            "grid_auto_flow": null,
            "grid_auto_rows": null,
            "grid_column": null,
            "grid_gap": null,
            "grid_row": null,
            "grid_template_areas": null,
            "grid_template_columns": null,
            "grid_template_rows": null,
            "height": null,
            "justify_content": null,
            "justify_items": null,
            "left": null,
            "margin": null,
            "max_height": null,
            "max_width": null,
            "min_height": null,
            "min_width": null,
            "object_fit": null,
            "object_position": null,
            "order": null,
            "overflow": null,
            "overflow_x": null,
            "overflow_y": null,
            "padding": null,
            "right": null,
            "top": null,
            "visibility": null,
            "width": null
          }
        },
        "01f1caf645bb4b3f825e907707f8b695": {
          "model_module": "@jupyter-widgets/controls",
          "model_name": "DescriptionStyleModel",
          "model_module_version": "1.5.0",
          "state": {
            "_model_module": "@jupyter-widgets/controls",
            "_model_module_version": "1.5.0",
            "_model_name": "DescriptionStyleModel",
            "_view_count": null,
            "_view_module": "@jupyter-widgets/base",
            "_view_module_version": "1.2.0",
            "_view_name": "StyleView",
            "description_width": ""
          }
        },
        "93d2bfcfbd1c4370b4ac6b9aaf4bb8a9": {
          "model_module": "@jupyter-widgets/base",
          "model_name": "LayoutModel",
          "model_module_version": "1.2.0",
          "state": {
            "_model_module": "@jupyter-widgets/base",
            "_model_module_version": "1.2.0",
            "_model_name": "LayoutModel",
            "_view_count": null,
            "_view_module": "@jupyter-widgets/base",
            "_view_module_version": "1.2.0",
            "_view_name": "LayoutView",
            "align_content": null,
            "align_items": null,
            "align_self": null,
            "border": null,
            "bottom": null,
            "display": null,
            "flex": null,
            "flex_flow": null,
            "grid_area": null,
            "grid_auto_columns": null,
            "grid_auto_flow": null,
            "grid_auto_rows": null,
            "grid_column": null,
            "grid_gap": null,
            "grid_row": null,
            "grid_template_areas": null,
            "grid_template_columns": null,
            "grid_template_rows": null,
            "height": null,
            "justify_content": null,
            "justify_items": null,
            "left": null,
            "margin": null,
            "max_height": null,
            "max_width": null,
            "min_height": null,
            "min_width": null,
            "object_fit": null,
            "object_position": null,
            "order": null,
            "overflow": null,
            "overflow_x": null,
            "overflow_y": null,
            "padding": null,
            "right": null,
            "top": null,
            "visibility": null,
            "width": null
          }
        },
        "107540f7f16f45909d9d014b5acb83cf": {
          "model_module": "@jupyter-widgets/controls",
          "model_name": "ProgressStyleModel",
          "model_module_version": "1.5.0",
          "state": {
            "_model_module": "@jupyter-widgets/controls",
            "_model_module_version": "1.5.0",
            "_model_name": "ProgressStyleModel",
            "_view_count": null,
            "_view_module": "@jupyter-widgets/base",
            "_view_module_version": "1.2.0",
            "_view_name": "StyleView",
            "bar_color": null,
            "description_width": ""
          }
        },
        "a271f2f228d74a228f980f11351ffe81": {
          "model_module": "@jupyter-widgets/base",
          "model_name": "LayoutModel",
          "model_module_version": "1.2.0",
          "state": {
            "_model_module": "@jupyter-widgets/base",
            "_model_module_version": "1.2.0",
            "_model_name": "LayoutModel",
            "_view_count": null,
            "_view_module": "@jupyter-widgets/base",
            "_view_module_version": "1.2.0",
            "_view_name": "LayoutView",
            "align_content": null,
            "align_items": null,
            "align_self": null,
            "border": null,
            "bottom": null,
            "display": null,
            "flex": null,
            "flex_flow": null,
            "grid_area": null,
            "grid_auto_columns": null,
            "grid_auto_flow": null,
            "grid_auto_rows": null,
            "grid_column": null,
            "grid_gap": null,
            "grid_row": null,
            "grid_template_areas": null,
            "grid_template_columns": null,
            "grid_template_rows": null,
            "height": null,
            "justify_content": null,
            "justify_items": null,
            "left": null,
            "margin": null,
            "max_height": null,
            "max_width": null,
            "min_height": null,
            "min_width": null,
            "object_fit": null,
            "object_position": null,
            "order": null,
            "overflow": null,
            "overflow_x": null,
            "overflow_y": null,
            "padding": null,
            "right": null,
            "top": null,
            "visibility": null,
            "width": null
          }
        },
        "bc082076d4cc4dc2baffdbad17091ac8": {
          "model_module": "@jupyter-widgets/controls",
          "model_name": "DescriptionStyleModel",
          "model_module_version": "1.5.0",
          "state": {
            "_model_module": "@jupyter-widgets/controls",
            "_model_module_version": "1.5.0",
            "_model_name": "DescriptionStyleModel",
            "_view_count": null,
            "_view_module": "@jupyter-widgets/base",
            "_view_module_version": "1.2.0",
            "_view_name": "StyleView",
            "description_width": ""
          }
        },
        "df0795c6ff3d4e5291199cbe8cf403b3": {
          "model_module": "@jupyter-widgets/controls",
          "model_name": "HBoxModel",
          "model_module_version": "1.5.0",
          "state": {
            "_dom_classes": [],
            "_model_module": "@jupyter-widgets/controls",
            "_model_module_version": "1.5.0",
            "_model_name": "HBoxModel",
            "_view_count": null,
            "_view_module": "@jupyter-widgets/controls",
            "_view_module_version": "1.5.0",
            "_view_name": "HBoxView",
            "box_style": "",
            "children": [
              "IPY_MODEL_d467f440b55a4106a5228d322fd6f62d",
              "IPY_MODEL_7dce90aac3f140cb944937c2ac9106a5",
              "IPY_MODEL_402e594c5c284a3085d6fa4ff8a7eee3"
            ],
            "layout": "IPY_MODEL_f6f57d6e4f3b4da49615ef9f5c210e6f"
          }
        },
        "d467f440b55a4106a5228d322fd6f62d": {
          "model_module": "@jupyter-widgets/controls",
          "model_name": "HTMLModel",
          "model_module_version": "1.5.0",
          "state": {
            "_dom_classes": [],
            "_model_module": "@jupyter-widgets/controls",
            "_model_module_version": "1.5.0",
            "_model_name": "HTMLModel",
            "_view_count": null,
            "_view_module": "@jupyter-widgets/controls",
            "_view_module_version": "1.5.0",
            "_view_name": "HTMLView",
            "description": "",
            "description_tooltip": null,
            "layout": "IPY_MODEL_9c05de83892d46989eab3f77200e8125",
            "placeholder": "​",
            "style": "IPY_MODEL_9838e2420d1d4d4d83b4c0a7c03e69d5",
            "value": "Generating train split: "
          }
        },
        "7dce90aac3f140cb944937c2ac9106a5": {
          "model_module": "@jupyter-widgets/controls",
          "model_name": "FloatProgressModel",
          "model_module_version": "1.5.0",
          "state": {
            "_dom_classes": [],
            "_model_module": "@jupyter-widgets/controls",
            "_model_module_version": "1.5.0",
            "_model_name": "FloatProgressModel",
            "_view_count": null,
            "_view_module": "@jupyter-widgets/controls",
            "_view_module_version": "1.5.0",
            "_view_name": "ProgressView",
            "bar_style": "success",
            "description": "",
            "description_tooltip": null,
            "layout": "IPY_MODEL_3192290c87b74559897477c6c43139dc",
            "max": 1,
            "min": 0,
            "orientation": "horizontal",
            "style": "IPY_MODEL_d047da63b38443588629f61d7db13760",
            "value": 1
          }
        },
        "402e594c5c284a3085d6fa4ff8a7eee3": {
          "model_module": "@jupyter-widgets/controls",
          "model_name": "HTMLModel",
          "model_module_version": "1.5.0",
          "state": {
            "_dom_classes": [],
            "_model_module": "@jupyter-widgets/controls",
            "_model_module_version": "1.5.0",
            "_model_name": "HTMLModel",
            "_view_count": null,
            "_view_module": "@jupyter-widgets/controls",
            "_view_module_version": "1.5.0",
            "_view_name": "HTMLView",
            "description": "",
            "description_tooltip": null,
            "layout": "IPY_MODEL_b3b405b848674880a2728889b8da28b6",
            "placeholder": "​",
            "style": "IPY_MODEL_84677db38b3e440cb86790561b33acfd",
            "value": " 93/0 [00:00&lt;00:00, 2567.16 examples/s]"
          }
        },
        "f6f57d6e4f3b4da49615ef9f5c210e6f": {
          "model_module": "@jupyter-widgets/base",
          "model_name": "LayoutModel",
          "model_module_version": "1.2.0",
          "state": {
            "_model_module": "@jupyter-widgets/base",
            "_model_module_version": "1.2.0",
            "_model_name": "LayoutModel",
            "_view_count": null,
            "_view_module": "@jupyter-widgets/base",
            "_view_module_version": "1.2.0",
            "_view_name": "LayoutView",
            "align_content": null,
            "align_items": null,
            "align_self": null,
            "border": null,
            "bottom": null,
            "display": null,
            "flex": null,
            "flex_flow": null,
            "grid_area": null,
            "grid_auto_columns": null,
            "grid_auto_flow": null,
            "grid_auto_rows": null,
            "grid_column": null,
            "grid_gap": null,
            "grid_row": null,
            "grid_template_areas": null,
            "grid_template_columns": null,
            "grid_template_rows": null,
            "height": null,
            "justify_content": null,
            "justify_items": null,
            "left": null,
            "margin": null,
            "max_height": null,
            "max_width": null,
            "min_height": null,
            "min_width": null,
            "object_fit": null,
            "object_position": null,
            "order": null,
            "overflow": null,
            "overflow_x": null,
            "overflow_y": null,
            "padding": null,
            "right": null,
            "top": null,
            "visibility": null,
            "width": null
          }
        },
        "9c05de83892d46989eab3f77200e8125": {
          "model_module": "@jupyter-widgets/base",
          "model_name": "LayoutModel",
          "model_module_version": "1.2.0",
          "state": {
            "_model_module": "@jupyter-widgets/base",
            "_model_module_version": "1.2.0",
            "_model_name": "LayoutModel",
            "_view_count": null,
            "_view_module": "@jupyter-widgets/base",
            "_view_module_version": "1.2.0",
            "_view_name": "LayoutView",
            "align_content": null,
            "align_items": null,
            "align_self": null,
            "border": null,
            "bottom": null,
            "display": null,
            "flex": null,
            "flex_flow": null,
            "grid_area": null,
            "grid_auto_columns": null,
            "grid_auto_flow": null,
            "grid_auto_rows": null,
            "grid_column": null,
            "grid_gap": null,
            "grid_row": null,
            "grid_template_areas": null,
            "grid_template_columns": null,
            "grid_template_rows": null,
            "height": null,
            "justify_content": null,
            "justify_items": null,
            "left": null,
            "margin": null,
            "max_height": null,
            "max_width": null,
            "min_height": null,
            "min_width": null,
            "object_fit": null,
            "object_position": null,
            "order": null,
            "overflow": null,
            "overflow_x": null,
            "overflow_y": null,
            "padding": null,
            "right": null,
            "top": null,
            "visibility": null,
            "width": null
          }
        },
        "9838e2420d1d4d4d83b4c0a7c03e69d5": {
          "model_module": "@jupyter-widgets/controls",
          "model_name": "DescriptionStyleModel",
          "model_module_version": "1.5.0",
          "state": {
            "_model_module": "@jupyter-widgets/controls",
            "_model_module_version": "1.5.0",
            "_model_name": "DescriptionStyleModel",
            "_view_count": null,
            "_view_module": "@jupyter-widgets/base",
            "_view_module_version": "1.2.0",
            "_view_name": "StyleView",
            "description_width": ""
          }
        },
        "3192290c87b74559897477c6c43139dc": {
          "model_module": "@jupyter-widgets/base",
          "model_name": "LayoutModel",
          "model_module_version": "1.2.0",
          "state": {
            "_model_module": "@jupyter-widgets/base",
            "_model_module_version": "1.2.0",
            "_model_name": "LayoutModel",
            "_view_count": null,
            "_view_module": "@jupyter-widgets/base",
            "_view_module_version": "1.2.0",
            "_view_name": "LayoutView",
            "align_content": null,
            "align_items": null,
            "align_self": null,
            "border": null,
            "bottom": null,
            "display": null,
            "flex": null,
            "flex_flow": null,
            "grid_area": null,
            "grid_auto_columns": null,
            "grid_auto_flow": null,
            "grid_auto_rows": null,
            "grid_column": null,
            "grid_gap": null,
            "grid_row": null,
            "grid_template_areas": null,
            "grid_template_columns": null,
            "grid_template_rows": null,
            "height": null,
            "justify_content": null,
            "justify_items": null,
            "left": null,
            "margin": null,
            "max_height": null,
            "max_width": null,
            "min_height": null,
            "min_width": null,
            "object_fit": null,
            "object_position": null,
            "order": null,
            "overflow": null,
            "overflow_x": null,
            "overflow_y": null,
            "padding": null,
            "right": null,
            "top": null,
            "visibility": null,
            "width": "20px"
          }
        },
        "d047da63b38443588629f61d7db13760": {
          "model_module": "@jupyter-widgets/controls",
          "model_name": "ProgressStyleModel",
          "model_module_version": "1.5.0",
          "state": {
            "_model_module": "@jupyter-widgets/controls",
            "_model_module_version": "1.5.0",
            "_model_name": "ProgressStyleModel",
            "_view_count": null,
            "_view_module": "@jupyter-widgets/base",
            "_view_module_version": "1.2.0",
            "_view_name": "StyleView",
            "bar_color": null,
            "description_width": ""
          }
        },
        "b3b405b848674880a2728889b8da28b6": {
          "model_module": "@jupyter-widgets/base",
          "model_name": "LayoutModel",
          "model_module_version": "1.2.0",
          "state": {
            "_model_module": "@jupyter-widgets/base",
            "_model_module_version": "1.2.0",
            "_model_name": "LayoutModel",
            "_view_count": null,
            "_view_module": "@jupyter-widgets/base",
            "_view_module_version": "1.2.0",
            "_view_name": "LayoutView",
            "align_content": null,
            "align_items": null,
            "align_self": null,
            "border": null,
            "bottom": null,
            "display": null,
            "flex": null,
            "flex_flow": null,
            "grid_area": null,
            "grid_auto_columns": null,
            "grid_auto_flow": null,
            "grid_auto_rows": null,
            "grid_column": null,
            "grid_gap": null,
            "grid_row": null,
            "grid_template_areas": null,
            "grid_template_columns": null,
            "grid_template_rows": null,
            "height": null,
            "justify_content": null,
            "justify_items": null,
            "left": null,
            "margin": null,
            "max_height": null,
            "max_width": null,
            "min_height": null,
            "min_width": null,
            "object_fit": null,
            "object_position": null,
            "order": null,
            "overflow": null,
            "overflow_x": null,
            "overflow_y": null,
            "padding": null,
            "right": null,
            "top": null,
            "visibility": null,
            "width": null
          }
        },
        "84677db38b3e440cb86790561b33acfd": {
          "model_module": "@jupyter-widgets/controls",
          "model_name": "DescriptionStyleModel",
          "model_module_version": "1.5.0",
          "state": {
            "_model_module": "@jupyter-widgets/controls",
            "_model_module_version": "1.5.0",
            "_model_name": "DescriptionStyleModel",
            "_view_count": null,
            "_view_module": "@jupyter-widgets/base",
            "_view_module_version": "1.2.0",
            "_view_name": "StyleView",
            "description_width": ""
          }
        },
        "35a00ee1bf324689a4e460c3f59790a3": {
          "model_module": "@jupyter-widgets/controls",
          "model_name": "HBoxModel",
          "model_module_version": "1.5.0",
          "state": {
            "_dom_classes": [],
            "_model_module": "@jupyter-widgets/controls",
            "_model_module_version": "1.5.0",
            "_model_name": "HBoxModel",
            "_view_count": null,
            "_view_module": "@jupyter-widgets/controls",
            "_view_module_version": "1.5.0",
            "_view_name": "HBoxView",
            "box_style": "",
            "children": [
              "IPY_MODEL_a62b5b8b4f404163b7515e9ca63b6de5",
              "IPY_MODEL_e89bf4dccd564f3a92705a3f6f5ae440",
              "IPY_MODEL_d47b2ba04f8b41dbb423845814b88d1a"
            ],
            "layout": "IPY_MODEL_c27cd1787baa40a590e32be27af912a5"
          }
        },
        "a62b5b8b4f404163b7515e9ca63b6de5": {
          "model_module": "@jupyter-widgets/controls",
          "model_name": "HTMLModel",
          "model_module_version": "1.5.0",
          "state": {
            "_dom_classes": [],
            "_model_module": "@jupyter-widgets/controls",
            "_model_module_version": "1.5.0",
            "_model_name": "HTMLModel",
            "_view_count": null,
            "_view_module": "@jupyter-widgets/controls",
            "_view_module_version": "1.5.0",
            "_view_name": "HTMLView",
            "description": "",
            "description_tooltip": null,
            "layout": "IPY_MODEL_86df82c64de847f59713893975cc8c36",
            "placeholder": "​",
            "style": "IPY_MODEL_18d505ccbc994587bc2f37da1e03757c",
            "value": "Generating validation split: "
          }
        },
        "e89bf4dccd564f3a92705a3f6f5ae440": {
          "model_module": "@jupyter-widgets/controls",
          "model_name": "FloatProgressModel",
          "model_module_version": "1.5.0",
          "state": {
            "_dom_classes": [],
            "_model_module": "@jupyter-widgets/controls",
            "_model_module_version": "1.5.0",
            "_model_name": "FloatProgressModel",
            "_view_count": null,
            "_view_module": "@jupyter-widgets/controls",
            "_view_module_version": "1.5.0",
            "_view_name": "ProgressView",
            "bar_style": "success",
            "description": "",
            "description_tooltip": null,
            "layout": "IPY_MODEL_62d02ad5a8ae41da99627617073ad8ad",
            "max": 1,
            "min": 0,
            "orientation": "horizontal",
            "style": "IPY_MODEL_3050fda7a26442749a1242c7c2618ec3",
            "value": 1
          }
        },
        "d47b2ba04f8b41dbb423845814b88d1a": {
          "model_module": "@jupyter-widgets/controls",
          "model_name": "HTMLModel",
          "model_module_version": "1.5.0",
          "state": {
            "_dom_classes": [],
            "_model_module": "@jupyter-widgets/controls",
            "_model_module_version": "1.5.0",
            "_model_name": "HTMLModel",
            "_view_count": null,
            "_view_module": "@jupyter-widgets/controls",
            "_view_module_version": "1.5.0",
            "_view_name": "HTMLView",
            "description": "",
            "description_tooltip": null,
            "layout": "IPY_MODEL_baa6bffd3abc4fbf85a3d6a9411ee70a",
            "placeholder": "​",
            "style": "IPY_MODEL_7fc6126814504abeb0141dc4a93d27e3",
            "value": " 23/0 [00:00&lt;00:00, 716.19 examples/s]"
          }
        },
        "c27cd1787baa40a590e32be27af912a5": {
          "model_module": "@jupyter-widgets/base",
          "model_name": "LayoutModel",
          "model_module_version": "1.2.0",
          "state": {
            "_model_module": "@jupyter-widgets/base",
            "_model_module_version": "1.2.0",
            "_model_name": "LayoutModel",
            "_view_count": null,
            "_view_module": "@jupyter-widgets/base",
            "_view_module_version": "1.2.0",
            "_view_name": "LayoutView",
            "align_content": null,
            "align_items": null,
            "align_self": null,
            "border": null,
            "bottom": null,
            "display": null,
            "flex": null,
            "flex_flow": null,
            "grid_area": null,
            "grid_auto_columns": null,
            "grid_auto_flow": null,
            "grid_auto_rows": null,
            "grid_column": null,
            "grid_gap": null,
            "grid_row": null,
            "grid_template_areas": null,
            "grid_template_columns": null,
            "grid_template_rows": null,
            "height": null,
            "justify_content": null,
            "justify_items": null,
            "left": null,
            "margin": null,
            "max_height": null,
            "max_width": null,
            "min_height": null,
            "min_width": null,
            "object_fit": null,
            "object_position": null,
            "order": null,
            "overflow": null,
            "overflow_x": null,
            "overflow_y": null,
            "padding": null,
            "right": null,
            "top": null,
            "visibility": null,
            "width": null
          }
        },
        "86df82c64de847f59713893975cc8c36": {
          "model_module": "@jupyter-widgets/base",
          "model_name": "LayoutModel",
          "model_module_version": "1.2.0",
          "state": {
            "_model_module": "@jupyter-widgets/base",
            "_model_module_version": "1.2.0",
            "_model_name": "LayoutModel",
            "_view_count": null,
            "_view_module": "@jupyter-widgets/base",
            "_view_module_version": "1.2.0",
            "_view_name": "LayoutView",
            "align_content": null,
            "align_items": null,
            "align_self": null,
            "border": null,
            "bottom": null,
            "display": null,
            "flex": null,
            "flex_flow": null,
            "grid_area": null,
            "grid_auto_columns": null,
            "grid_auto_flow": null,
            "grid_auto_rows": null,
            "grid_column": null,
            "grid_gap": null,
            "grid_row": null,
            "grid_template_areas": null,
            "grid_template_columns": null,
            "grid_template_rows": null,
            "height": null,
            "justify_content": null,
            "justify_items": null,
            "left": null,
            "margin": null,
            "max_height": null,
            "max_width": null,
            "min_height": null,
            "min_width": null,
            "object_fit": null,
            "object_position": null,
            "order": null,
            "overflow": null,
            "overflow_x": null,
            "overflow_y": null,
            "padding": null,
            "right": null,
            "top": null,
            "visibility": null,
            "width": null
          }
        },
        "18d505ccbc994587bc2f37da1e03757c": {
          "model_module": "@jupyter-widgets/controls",
          "model_name": "DescriptionStyleModel",
          "model_module_version": "1.5.0",
          "state": {
            "_model_module": "@jupyter-widgets/controls",
            "_model_module_version": "1.5.0",
            "_model_name": "DescriptionStyleModel",
            "_view_count": null,
            "_view_module": "@jupyter-widgets/base",
            "_view_module_version": "1.2.0",
            "_view_name": "StyleView",
            "description_width": ""
          }
        },
        "62d02ad5a8ae41da99627617073ad8ad": {
          "model_module": "@jupyter-widgets/base",
          "model_name": "LayoutModel",
          "model_module_version": "1.2.0",
          "state": {
            "_model_module": "@jupyter-widgets/base",
            "_model_module_version": "1.2.0",
            "_model_name": "LayoutModel",
            "_view_count": null,
            "_view_module": "@jupyter-widgets/base",
            "_view_module_version": "1.2.0",
            "_view_name": "LayoutView",
            "align_content": null,
            "align_items": null,
            "align_self": null,
            "border": null,
            "bottom": null,
            "display": null,
            "flex": null,
            "flex_flow": null,
            "grid_area": null,
            "grid_auto_columns": null,
            "grid_auto_flow": null,
            "grid_auto_rows": null,
            "grid_column": null,
            "grid_gap": null,
            "grid_row": null,
            "grid_template_areas": null,
            "grid_template_columns": null,
            "grid_template_rows": null,
            "height": null,
            "justify_content": null,
            "justify_items": null,
            "left": null,
            "margin": null,
            "max_height": null,
            "max_width": null,
            "min_height": null,
            "min_width": null,
            "object_fit": null,
            "object_position": null,
            "order": null,
            "overflow": null,
            "overflow_x": null,
            "overflow_y": null,
            "padding": null,
            "right": null,
            "top": null,
            "visibility": null,
            "width": "20px"
          }
        },
        "3050fda7a26442749a1242c7c2618ec3": {
          "model_module": "@jupyter-widgets/controls",
          "model_name": "ProgressStyleModel",
          "model_module_version": "1.5.0",
          "state": {
            "_model_module": "@jupyter-widgets/controls",
            "_model_module_version": "1.5.0",
            "_model_name": "ProgressStyleModel",
            "_view_count": null,
            "_view_module": "@jupyter-widgets/base",
            "_view_module_version": "1.2.0",
            "_view_name": "StyleView",
            "bar_color": null,
            "description_width": ""
          }
        },
        "baa6bffd3abc4fbf85a3d6a9411ee70a": {
          "model_module": "@jupyter-widgets/base",
          "model_name": "LayoutModel",
          "model_module_version": "1.2.0",
          "state": {
            "_model_module": "@jupyter-widgets/base",
            "_model_module_version": "1.2.0",
            "_model_name": "LayoutModel",
            "_view_count": null,
            "_view_module": "@jupyter-widgets/base",
            "_view_module_version": "1.2.0",
            "_view_name": "LayoutView",
            "align_content": null,
            "align_items": null,
            "align_self": null,
            "border": null,
            "bottom": null,
            "display": null,
            "flex": null,
            "flex_flow": null,
            "grid_area": null,
            "grid_auto_columns": null,
            "grid_auto_flow": null,
            "grid_auto_rows": null,
            "grid_column": null,
            "grid_gap": null,
            "grid_row": null,
            "grid_template_areas": null,
            "grid_template_columns": null,
            "grid_template_rows": null,
            "height": null,
            "justify_content": null,
            "justify_items": null,
            "left": null,
            "margin": null,
            "max_height": null,
            "max_width": null,
            "min_height": null,
            "min_width": null,
            "object_fit": null,
            "object_position": null,
            "order": null,
            "overflow": null,
            "overflow_x": null,
            "overflow_y": null,
            "padding": null,
            "right": null,
            "top": null,
            "visibility": null,
            "width": null
          }
        },
        "7fc6126814504abeb0141dc4a93d27e3": {
          "model_module": "@jupyter-widgets/controls",
          "model_name": "DescriptionStyleModel",
          "model_module_version": "1.5.0",
          "state": {
            "_model_module": "@jupyter-widgets/controls",
            "_model_module_version": "1.5.0",
            "_model_name": "DescriptionStyleModel",
            "_view_count": null,
            "_view_module": "@jupyter-widgets/base",
            "_view_module_version": "1.2.0",
            "_view_name": "StyleView",
            "description_width": ""
          }
        },
        "77ddcd6c01af40f1831540e37cb02655": {
          "model_module": "@jupyter-widgets/controls",
          "model_name": "HBoxModel",
          "model_module_version": "1.5.0",
          "state": {
            "_dom_classes": [],
            "_model_module": "@jupyter-widgets/controls",
            "_model_module_version": "1.5.0",
            "_model_name": "HBoxModel",
            "_view_count": null,
            "_view_module": "@jupyter-widgets/controls",
            "_view_module_version": "1.5.0",
            "_view_name": "HBoxView",
            "box_style": "",
            "children": [
              "IPY_MODEL_b3ff957730f14ed6aae5578b00caff83",
              "IPY_MODEL_3c99e61c99f141f583ca5080c9d7bbcc",
              "IPY_MODEL_016612d3f75a4bea92c9762a38772c6b"
            ],
            "layout": "IPY_MODEL_6f50838e4f7c4f6cb32710b4878c078e"
          }
        },
        "b3ff957730f14ed6aae5578b00caff83": {
          "model_module": "@jupyter-widgets/controls",
          "model_name": "HTMLModel",
          "model_module_version": "1.5.0",
          "state": {
            "_dom_classes": [],
            "_model_module": "@jupyter-widgets/controls",
            "_model_module_version": "1.5.0",
            "_model_name": "HTMLModel",
            "_view_count": null,
            "_view_module": "@jupyter-widgets/controls",
            "_view_module_version": "1.5.0",
            "_view_name": "HTMLView",
            "description": "",
            "description_tooltip": null,
            "layout": "IPY_MODEL_271201851f264244b0cde71a6a698eb2",
            "placeholder": "​",
            "style": "IPY_MODEL_3f78ce707b03445f8ea528fb318fdb4e",
            "value": "Map: 100%"
          }
        },
        "3c99e61c99f141f583ca5080c9d7bbcc": {
          "model_module": "@jupyter-widgets/controls",
          "model_name": "FloatProgressModel",
          "model_module_version": "1.5.0",
          "state": {
            "_dom_classes": [],
            "_model_module": "@jupyter-widgets/controls",
            "_model_module_version": "1.5.0",
            "_model_name": "FloatProgressModel",
            "_view_count": null,
            "_view_module": "@jupyter-widgets/controls",
            "_view_module_version": "1.5.0",
            "_view_name": "ProgressView",
            "bar_style": "success",
            "description": "",
            "description_tooltip": null,
            "layout": "IPY_MODEL_41c48ee2b7804105acfc66e52d6a9b51",
            "max": 93,
            "min": 0,
            "orientation": "horizontal",
            "style": "IPY_MODEL_ef995ce60d9f432d94dd6a05bf10f44a",
            "value": 93
          }
        },
        "016612d3f75a4bea92c9762a38772c6b": {
          "model_module": "@jupyter-widgets/controls",
          "model_name": "HTMLModel",
          "model_module_version": "1.5.0",
          "state": {
            "_dom_classes": [],
            "_model_module": "@jupyter-widgets/controls",
            "_model_module_version": "1.5.0",
            "_model_name": "HTMLModel",
            "_view_count": null,
            "_view_module": "@jupyter-widgets/controls",
            "_view_module_version": "1.5.0",
            "_view_name": "HTMLView",
            "description": "",
            "description_tooltip": null,
            "layout": "IPY_MODEL_e397b379c891466685e9d5b5fc1629c5",
            "placeholder": "​",
            "style": "IPY_MODEL_4e29317b50f0402bb561e8f57b96a308",
            "value": " 93/93 [00:00&lt;00:00, 320.73 examples/s]"
          }
        },
        "6f50838e4f7c4f6cb32710b4878c078e": {
          "model_module": "@jupyter-widgets/base",
          "model_name": "LayoutModel",
          "model_module_version": "1.2.0",
          "state": {
            "_model_module": "@jupyter-widgets/base",
            "_model_module_version": "1.2.0",
            "_model_name": "LayoutModel",
            "_view_count": null,
            "_view_module": "@jupyter-widgets/base",
            "_view_module_version": "1.2.0",
            "_view_name": "LayoutView",
            "align_content": null,
            "align_items": null,
            "align_self": null,
            "border": null,
            "bottom": null,
            "display": null,
            "flex": null,
            "flex_flow": null,
            "grid_area": null,
            "grid_auto_columns": null,
            "grid_auto_flow": null,
            "grid_auto_rows": null,
            "grid_column": null,
            "grid_gap": null,
            "grid_row": null,
            "grid_template_areas": null,
            "grid_template_columns": null,
            "grid_template_rows": null,
            "height": null,
            "justify_content": null,
            "justify_items": null,
            "left": null,
            "margin": null,
            "max_height": null,
            "max_width": null,
            "min_height": null,
            "min_width": null,
            "object_fit": null,
            "object_position": null,
            "order": null,
            "overflow": null,
            "overflow_x": null,
            "overflow_y": null,
            "padding": null,
            "right": null,
            "top": null,
            "visibility": null,
            "width": null
          }
        },
        "271201851f264244b0cde71a6a698eb2": {
          "model_module": "@jupyter-widgets/base",
          "model_name": "LayoutModel",
          "model_module_version": "1.2.0",
          "state": {
            "_model_module": "@jupyter-widgets/base",
            "_model_module_version": "1.2.0",
            "_model_name": "LayoutModel",
            "_view_count": null,
            "_view_module": "@jupyter-widgets/base",
            "_view_module_version": "1.2.0",
            "_view_name": "LayoutView",
            "align_content": null,
            "align_items": null,
            "align_self": null,
            "border": null,
            "bottom": null,
            "display": null,
            "flex": null,
            "flex_flow": null,
            "grid_area": null,
            "grid_auto_columns": null,
            "grid_auto_flow": null,
            "grid_auto_rows": null,
            "grid_column": null,
            "grid_gap": null,
            "grid_row": null,
            "grid_template_areas": null,
            "grid_template_columns": null,
            "grid_template_rows": null,
            "height": null,
            "justify_content": null,
            "justify_items": null,
            "left": null,
            "margin": null,
            "max_height": null,
            "max_width": null,
            "min_height": null,
            "min_width": null,
            "object_fit": null,
            "object_position": null,
            "order": null,
            "overflow": null,
            "overflow_x": null,
            "overflow_y": null,
            "padding": null,
            "right": null,
            "top": null,
            "visibility": null,
            "width": null
          }
        },
        "3f78ce707b03445f8ea528fb318fdb4e": {
          "model_module": "@jupyter-widgets/controls",
          "model_name": "DescriptionStyleModel",
          "model_module_version": "1.5.0",
          "state": {
            "_model_module": "@jupyter-widgets/controls",
            "_model_module_version": "1.5.0",
            "_model_name": "DescriptionStyleModel",
            "_view_count": null,
            "_view_module": "@jupyter-widgets/base",
            "_view_module_version": "1.2.0",
            "_view_name": "StyleView",
            "description_width": ""
          }
        },
        "41c48ee2b7804105acfc66e52d6a9b51": {
          "model_module": "@jupyter-widgets/base",
          "model_name": "LayoutModel",
          "model_module_version": "1.2.0",
          "state": {
            "_model_module": "@jupyter-widgets/base",
            "_model_module_version": "1.2.0",
            "_model_name": "LayoutModel",
            "_view_count": null,
            "_view_module": "@jupyter-widgets/base",
            "_view_module_version": "1.2.0",
            "_view_name": "LayoutView",
            "align_content": null,
            "align_items": null,
            "align_self": null,
            "border": null,
            "bottom": null,
            "display": null,
            "flex": null,
            "flex_flow": null,
            "grid_area": null,
            "grid_auto_columns": null,
            "grid_auto_flow": null,
            "grid_auto_rows": null,
            "grid_column": null,
            "grid_gap": null,
            "grid_row": null,
            "grid_template_areas": null,
            "grid_template_columns": null,
            "grid_template_rows": null,
            "height": null,
            "justify_content": null,
            "justify_items": null,
            "left": null,
            "margin": null,
            "max_height": null,
            "max_width": null,
            "min_height": null,
            "min_width": null,
            "object_fit": null,
            "object_position": null,
            "order": null,
            "overflow": null,
            "overflow_x": null,
            "overflow_y": null,
            "padding": null,
            "right": null,
            "top": null,
            "visibility": null,
            "width": null
          }
        },
        "ef995ce60d9f432d94dd6a05bf10f44a": {
          "model_module": "@jupyter-widgets/controls",
          "model_name": "ProgressStyleModel",
          "model_module_version": "1.5.0",
          "state": {
            "_model_module": "@jupyter-widgets/controls",
            "_model_module_version": "1.5.0",
            "_model_name": "ProgressStyleModel",
            "_view_count": null,
            "_view_module": "@jupyter-widgets/base",
            "_view_module_version": "1.2.0",
            "_view_name": "StyleView",
            "bar_color": null,
            "description_width": ""
          }
        },
        "e397b379c891466685e9d5b5fc1629c5": {
          "model_module": "@jupyter-widgets/base",
          "model_name": "LayoutModel",
          "model_module_version": "1.2.0",
          "state": {
            "_model_module": "@jupyter-widgets/base",
            "_model_module_version": "1.2.0",
            "_model_name": "LayoutModel",
            "_view_count": null,
            "_view_module": "@jupyter-widgets/base",
            "_view_module_version": "1.2.0",
            "_view_name": "LayoutView",
            "align_content": null,
            "align_items": null,
            "align_self": null,
            "border": null,
            "bottom": null,
            "display": null,
            "flex": null,
            "flex_flow": null,
            "grid_area": null,
            "grid_auto_columns": null,
            "grid_auto_flow": null,
            "grid_auto_rows": null,
            "grid_column": null,
            "grid_gap": null,
            "grid_row": null,
            "grid_template_areas": null,
            "grid_template_columns": null,
            "grid_template_rows": null,
            "height": null,
            "justify_content": null,
            "justify_items": null,
            "left": null,
            "margin": null,
            "max_height": null,
            "max_width": null,
            "min_height": null,
            "min_width": null,
            "object_fit": null,
            "object_position": null,
            "order": null,
            "overflow": null,
            "overflow_x": null,
            "overflow_y": null,
            "padding": null,
            "right": null,
            "top": null,
            "visibility": null,
            "width": null
          }
        },
        "4e29317b50f0402bb561e8f57b96a308": {
          "model_module": "@jupyter-widgets/controls",
          "model_name": "DescriptionStyleModel",
          "model_module_version": "1.5.0",
          "state": {
            "_model_module": "@jupyter-widgets/controls",
            "_model_module_version": "1.5.0",
            "_model_name": "DescriptionStyleModel",
            "_view_count": null,
            "_view_module": "@jupyter-widgets/base",
            "_view_module_version": "1.2.0",
            "_view_name": "StyleView",
            "description_width": ""
          }
        },
        "338fbc8d36cf42a6bb39e26477b1acba": {
          "model_module": "@jupyter-widgets/controls",
          "model_name": "HBoxModel",
          "model_module_version": "1.5.0",
          "state": {
            "_dom_classes": [],
            "_model_module": "@jupyter-widgets/controls",
            "_model_module_version": "1.5.0",
            "_model_name": "HBoxModel",
            "_view_count": null,
            "_view_module": "@jupyter-widgets/controls",
            "_view_module_version": "1.5.0",
            "_view_name": "HBoxView",
            "box_style": "",
            "children": [
              "IPY_MODEL_572d26abb79443d1879a8de139db9896",
              "IPY_MODEL_b024a3c32b7c409d93601a4078aee304",
              "IPY_MODEL_9736ff4c59d94068899269b91a5cf97d"
            ],
            "layout": "IPY_MODEL_5a9f31908cef450288855eb94c1eede4"
          }
        },
        "572d26abb79443d1879a8de139db9896": {
          "model_module": "@jupyter-widgets/controls",
          "model_name": "HTMLModel",
          "model_module_version": "1.5.0",
          "state": {
            "_dom_classes": [],
            "_model_module": "@jupyter-widgets/controls",
            "_model_module_version": "1.5.0",
            "_model_name": "HTMLModel",
            "_view_count": null,
            "_view_module": "@jupyter-widgets/controls",
            "_view_module_version": "1.5.0",
            "_view_name": "HTMLView",
            "description": "",
            "description_tooltip": null,
            "layout": "IPY_MODEL_7076770d94ca4eeeae969e52550c8b4a",
            "placeholder": "​",
            "style": "IPY_MODEL_1c8b13d6977d482cbcf71843f10d41f7",
            "value": "Map: 100%"
          }
        },
        "b024a3c32b7c409d93601a4078aee304": {
          "model_module": "@jupyter-widgets/controls",
          "model_name": "FloatProgressModel",
          "model_module_version": "1.5.0",
          "state": {
            "_dom_classes": [],
            "_model_module": "@jupyter-widgets/controls",
            "_model_module_version": "1.5.0",
            "_model_name": "FloatProgressModel",
            "_view_count": null,
            "_view_module": "@jupyter-widgets/controls",
            "_view_module_version": "1.5.0",
            "_view_name": "ProgressView",
            "bar_style": "success",
            "description": "",
            "description_tooltip": null,
            "layout": "IPY_MODEL_9140ad1433cc434a99b94215c3a4c782",
            "max": 23,
            "min": 0,
            "orientation": "horizontal",
            "style": "IPY_MODEL_146c1c286dd3467c8e05fa6abc7af093",
            "value": 23
          }
        },
        "9736ff4c59d94068899269b91a5cf97d": {
          "model_module": "@jupyter-widgets/controls",
          "model_name": "HTMLModel",
          "model_module_version": "1.5.0",
          "state": {
            "_dom_classes": [],
            "_model_module": "@jupyter-widgets/controls",
            "_model_module_version": "1.5.0",
            "_model_name": "HTMLModel",
            "_view_count": null,
            "_view_module": "@jupyter-widgets/controls",
            "_view_module_version": "1.5.0",
            "_view_name": "HTMLView",
            "description": "",
            "description_tooltip": null,
            "layout": "IPY_MODEL_5655a4ba9f564f5483907bf8ed5f5361",
            "placeholder": "​",
            "style": "IPY_MODEL_f12c7d03a5ec42aba7bc2b51e6ee81fb",
            "value": " 23/23 [00:00&lt;00:00, 208.67 examples/s]"
          }
        },
        "5a9f31908cef450288855eb94c1eede4": {
          "model_module": "@jupyter-widgets/base",
          "model_name": "LayoutModel",
          "model_module_version": "1.2.0",
          "state": {
            "_model_module": "@jupyter-widgets/base",
            "_model_module_version": "1.2.0",
            "_model_name": "LayoutModel",
            "_view_count": null,
            "_view_module": "@jupyter-widgets/base",
            "_view_module_version": "1.2.0",
            "_view_name": "LayoutView",
            "align_content": null,
            "align_items": null,
            "align_self": null,
            "border": null,
            "bottom": null,
            "display": null,
            "flex": null,
            "flex_flow": null,
            "grid_area": null,
            "grid_auto_columns": null,
            "grid_auto_flow": null,
            "grid_auto_rows": null,
            "grid_column": null,
            "grid_gap": null,
            "grid_row": null,
            "grid_template_areas": null,
            "grid_template_columns": null,
            "grid_template_rows": null,
            "height": null,
            "justify_content": null,
            "justify_items": null,
            "left": null,
            "margin": null,
            "max_height": null,
            "max_width": null,
            "min_height": null,
            "min_width": null,
            "object_fit": null,
            "object_position": null,
            "order": null,
            "overflow": null,
            "overflow_x": null,
            "overflow_y": null,
            "padding": null,
            "right": null,
            "top": null,
            "visibility": null,
            "width": null
          }
        },
        "7076770d94ca4eeeae969e52550c8b4a": {
          "model_module": "@jupyter-widgets/base",
          "model_name": "LayoutModel",
          "model_module_version": "1.2.0",
          "state": {
            "_model_module": "@jupyter-widgets/base",
            "_model_module_version": "1.2.0",
            "_model_name": "LayoutModel",
            "_view_count": null,
            "_view_module": "@jupyter-widgets/base",
            "_view_module_version": "1.2.0",
            "_view_name": "LayoutView",
            "align_content": null,
            "align_items": null,
            "align_self": null,
            "border": null,
            "bottom": null,
            "display": null,
            "flex": null,
            "flex_flow": null,
            "grid_area": null,
            "grid_auto_columns": null,
            "grid_auto_flow": null,
            "grid_auto_rows": null,
            "grid_column": null,
            "grid_gap": null,
            "grid_row": null,
            "grid_template_areas": null,
            "grid_template_columns": null,
            "grid_template_rows": null,
            "height": null,
            "justify_content": null,
            "justify_items": null,
            "left": null,
            "margin": null,
            "max_height": null,
            "max_width": null,
            "min_height": null,
            "min_width": null,
            "object_fit": null,
            "object_position": null,
            "order": null,
            "overflow": null,
            "overflow_x": null,
            "overflow_y": null,
            "padding": null,
            "right": null,
            "top": null,
            "visibility": null,
            "width": null
          }
        },
        "1c8b13d6977d482cbcf71843f10d41f7": {
          "model_module": "@jupyter-widgets/controls",
          "model_name": "DescriptionStyleModel",
          "model_module_version": "1.5.0",
          "state": {
            "_model_module": "@jupyter-widgets/controls",
            "_model_module_version": "1.5.0",
            "_model_name": "DescriptionStyleModel",
            "_view_count": null,
            "_view_module": "@jupyter-widgets/base",
            "_view_module_version": "1.2.0",
            "_view_name": "StyleView",
            "description_width": ""
          }
        },
        "9140ad1433cc434a99b94215c3a4c782": {
          "model_module": "@jupyter-widgets/base",
          "model_name": "LayoutModel",
          "model_module_version": "1.2.0",
          "state": {
            "_model_module": "@jupyter-widgets/base",
            "_model_module_version": "1.2.0",
            "_model_name": "LayoutModel",
            "_view_count": null,
            "_view_module": "@jupyter-widgets/base",
            "_view_module_version": "1.2.0",
            "_view_name": "LayoutView",
            "align_content": null,
            "align_items": null,
            "align_self": null,
            "border": null,
            "bottom": null,
            "display": null,
            "flex": null,
            "flex_flow": null,
            "grid_area": null,
            "grid_auto_columns": null,
            "grid_auto_flow": null,
            "grid_auto_rows": null,
            "grid_column": null,
            "grid_gap": null,
            "grid_row": null,
            "grid_template_areas": null,
            "grid_template_columns": null,
            "grid_template_rows": null,
            "height": null,
            "justify_content": null,
            "justify_items": null,
            "left": null,
            "margin": null,
            "max_height": null,
            "max_width": null,
            "min_height": null,
            "min_width": null,
            "object_fit": null,
            "object_position": null,
            "order": null,
            "overflow": null,
            "overflow_x": null,
            "overflow_y": null,
            "padding": null,
            "right": null,
            "top": null,
            "visibility": null,
            "width": null
          }
        },
        "146c1c286dd3467c8e05fa6abc7af093": {
          "model_module": "@jupyter-widgets/controls",
          "model_name": "ProgressStyleModel",
          "model_module_version": "1.5.0",
          "state": {
            "_model_module": "@jupyter-widgets/controls",
            "_model_module_version": "1.5.0",
            "_model_name": "ProgressStyleModel",
            "_view_count": null,
            "_view_module": "@jupyter-widgets/base",
            "_view_module_version": "1.2.0",
            "_view_name": "StyleView",
            "bar_color": null,
            "description_width": ""
          }
        },
        "5655a4ba9f564f5483907bf8ed5f5361": {
          "model_module": "@jupyter-widgets/base",
          "model_name": "LayoutModel",
          "model_module_version": "1.2.0",
          "state": {
            "_model_module": "@jupyter-widgets/base",
            "_model_module_version": "1.2.0",
            "_model_name": "LayoutModel",
            "_view_count": null,
            "_view_module": "@jupyter-widgets/base",
            "_view_module_version": "1.2.0",
            "_view_name": "LayoutView",
            "align_content": null,
            "align_items": null,
            "align_self": null,
            "border": null,
            "bottom": null,
            "display": null,
            "flex": null,
            "flex_flow": null,
            "grid_area": null,
            "grid_auto_columns": null,
            "grid_auto_flow": null,
            "grid_auto_rows": null,
            "grid_column": null,
            "grid_gap": null,
            "grid_row": null,
            "grid_template_areas": null,
            "grid_template_columns": null,
            "grid_template_rows": null,
            "height": null,
            "justify_content": null,
            "justify_items": null,
            "left": null,
            "margin": null,
            "max_height": null,
            "max_width": null,
            "min_height": null,
            "min_width": null,
            "object_fit": null,
            "object_position": null,
            "order": null,
            "overflow": null,
            "overflow_x": null,
            "overflow_y": null,
            "padding": null,
            "right": null,
            "top": null,
            "visibility": null,
            "width": null
          }
        },
        "f12c7d03a5ec42aba7bc2b51e6ee81fb": {
          "model_module": "@jupyter-widgets/controls",
          "model_name": "DescriptionStyleModel",
          "model_module_version": "1.5.0",
          "state": {
            "_model_module": "@jupyter-widgets/controls",
            "_model_module_version": "1.5.0",
            "_model_name": "DescriptionStyleModel",
            "_view_count": null,
            "_view_module": "@jupyter-widgets/base",
            "_view_module_version": "1.2.0",
            "_view_name": "StyleView",
            "description_width": ""
          }
        },
        "3607093059b04ef386a11bc76beeb516": {
          "model_module": "@jupyter-widgets/controls",
          "model_name": "HBoxModel",
          "model_module_version": "1.5.0",
          "state": {
            "_dom_classes": [],
            "_model_module": "@jupyter-widgets/controls",
            "_model_module_version": "1.5.0",
            "_model_name": "HBoxModel",
            "_view_count": null,
            "_view_module": "@jupyter-widgets/controls",
            "_view_module_version": "1.5.0",
            "_view_name": "HBoxView",
            "box_style": "",
            "children": [
              "IPY_MODEL_33a0339f361d45ec96e4000d7bdd9b0a",
              "IPY_MODEL_218d2de4f5b34c46bf9fbef7f41d5ec6",
              "IPY_MODEL_791daaa7684b4547907b93ce5594ef6c"
            ],
            "layout": "IPY_MODEL_9d21622a43fc4f9f94455486dba6dfc1"
          }
        },
        "33a0339f361d45ec96e4000d7bdd9b0a": {
          "model_module": "@jupyter-widgets/controls",
          "model_name": "HTMLModel",
          "model_module_version": "1.5.0",
          "state": {
            "_dom_classes": [],
            "_model_module": "@jupyter-widgets/controls",
            "_model_module_version": "1.5.0",
            "_model_name": "HTMLModel",
            "_view_count": null,
            "_view_module": "@jupyter-widgets/controls",
            "_view_module_version": "1.5.0",
            "_view_name": "HTMLView",
            "description": "",
            "description_tooltip": null,
            "layout": "IPY_MODEL_51c220c92a6347638a5bc5f4486036e5",
            "placeholder": "​",
            "style": "IPY_MODEL_078c0653bc9d4f8eb2cb326dc7d3d98a",
            "value": "model.safetensors: 100%"
          }
        },
        "218d2de4f5b34c46bf9fbef7f41d5ec6": {
          "model_module": "@jupyter-widgets/controls",
          "model_name": "FloatProgressModel",
          "model_module_version": "1.5.0",
          "state": {
            "_dom_classes": [],
            "_model_module": "@jupyter-widgets/controls",
            "_model_module_version": "1.5.0",
            "_model_name": "FloatProgressModel",
            "_view_count": null,
            "_view_module": "@jupyter-widgets/controls",
            "_view_module_version": "1.5.0",
            "_view_name": "ProgressView",
            "bar_style": "success",
            "description": "",
            "description_tooltip": null,
            "layout": "IPY_MODEL_25d350d7282541dcab732e4749e550da",
            "max": 548105171,
            "min": 0,
            "orientation": "horizontal",
            "style": "IPY_MODEL_27ee5431210b4c5bbe52f896f06a6a5b",
            "value": 548105171
          }
        },
        "791daaa7684b4547907b93ce5594ef6c": {
          "model_module": "@jupyter-widgets/controls",
          "model_name": "HTMLModel",
          "model_module_version": "1.5.0",
          "state": {
            "_dom_classes": [],
            "_model_module": "@jupyter-widgets/controls",
            "_model_module_version": "1.5.0",
            "_model_name": "HTMLModel",
            "_view_count": null,
            "_view_module": "@jupyter-widgets/controls",
            "_view_module_version": "1.5.0",
            "_view_name": "HTMLView",
            "description": "",
            "description_tooltip": null,
            "layout": "IPY_MODEL_62dd2a7734da4106918b5223572b2b5b",
            "placeholder": "​",
            "style": "IPY_MODEL_bd10d76d33d54ab2bd8358305b037b93",
            "value": " 548M/548M [00:02&lt;00:00, 201MB/s]"
          }
        },
        "9d21622a43fc4f9f94455486dba6dfc1": {
          "model_module": "@jupyter-widgets/base",
          "model_name": "LayoutModel",
          "model_module_version": "1.2.0",
          "state": {
            "_model_module": "@jupyter-widgets/base",
            "_model_module_version": "1.2.0",
            "_model_name": "LayoutModel",
            "_view_count": null,
            "_view_module": "@jupyter-widgets/base",
            "_view_module_version": "1.2.0",
            "_view_name": "LayoutView",
            "align_content": null,
            "align_items": null,
            "align_self": null,
            "border": null,
            "bottom": null,
            "display": null,
            "flex": null,
            "flex_flow": null,
            "grid_area": null,
            "grid_auto_columns": null,
            "grid_auto_flow": null,
            "grid_auto_rows": null,
            "grid_column": null,
            "grid_gap": null,
            "grid_row": null,
            "grid_template_areas": null,
            "grid_template_columns": null,
            "grid_template_rows": null,
            "height": null,
            "justify_content": null,
            "justify_items": null,
            "left": null,
            "margin": null,
            "max_height": null,
            "max_width": null,
            "min_height": null,
            "min_width": null,
            "object_fit": null,
            "object_position": null,
            "order": null,
            "overflow": null,
            "overflow_x": null,
            "overflow_y": null,
            "padding": null,
            "right": null,
            "top": null,
            "visibility": null,
            "width": null
          }
        },
        "51c220c92a6347638a5bc5f4486036e5": {
          "model_module": "@jupyter-widgets/base",
          "model_name": "LayoutModel",
          "model_module_version": "1.2.0",
          "state": {
            "_model_module": "@jupyter-widgets/base",
            "_model_module_version": "1.2.0",
            "_model_name": "LayoutModel",
            "_view_count": null,
            "_view_module": "@jupyter-widgets/base",
            "_view_module_version": "1.2.0",
            "_view_name": "LayoutView",
            "align_content": null,
            "align_items": null,
            "align_self": null,
            "border": null,
            "bottom": null,
            "display": null,
            "flex": null,
            "flex_flow": null,
            "grid_area": null,
            "grid_auto_columns": null,
            "grid_auto_flow": null,
            "grid_auto_rows": null,
            "grid_column": null,
            "grid_gap": null,
            "grid_row": null,
            "grid_template_areas": null,
            "grid_template_columns": null,
            "grid_template_rows": null,
            "height": null,
            "justify_content": null,
            "justify_items": null,
            "left": null,
            "margin": null,
            "max_height": null,
            "max_width": null,
            "min_height": null,
            "min_width": null,
            "object_fit": null,
            "object_position": null,
            "order": null,
            "overflow": null,
            "overflow_x": null,
            "overflow_y": null,
            "padding": null,
            "right": null,
            "top": null,
            "visibility": null,
            "width": null
          }
        },
        "078c0653bc9d4f8eb2cb326dc7d3d98a": {
          "model_module": "@jupyter-widgets/controls",
          "model_name": "DescriptionStyleModel",
          "model_module_version": "1.5.0",
          "state": {
            "_model_module": "@jupyter-widgets/controls",
            "_model_module_version": "1.5.0",
            "_model_name": "DescriptionStyleModel",
            "_view_count": null,
            "_view_module": "@jupyter-widgets/base",
            "_view_module_version": "1.2.0",
            "_view_name": "StyleView",
            "description_width": ""
          }
        },
        "25d350d7282541dcab732e4749e550da": {
          "model_module": "@jupyter-widgets/base",
          "model_name": "LayoutModel",
          "model_module_version": "1.2.0",
          "state": {
            "_model_module": "@jupyter-widgets/base",
            "_model_module_version": "1.2.0",
            "_model_name": "LayoutModel",
            "_view_count": null,
            "_view_module": "@jupyter-widgets/base",
            "_view_module_version": "1.2.0",
            "_view_name": "LayoutView",
            "align_content": null,
            "align_items": null,
            "align_self": null,
            "border": null,
            "bottom": null,
            "display": null,
            "flex": null,
            "flex_flow": null,
            "grid_area": null,
            "grid_auto_columns": null,
            "grid_auto_flow": null,
            "grid_auto_rows": null,
            "grid_column": null,
            "grid_gap": null,
            "grid_row": null,
            "grid_template_areas": null,
            "grid_template_columns": null,
            "grid_template_rows": null,
            "height": null,
            "justify_content": null,
            "justify_items": null,
            "left": null,
            "margin": null,
            "max_height": null,
            "max_width": null,
            "min_height": null,
            "min_width": null,
            "object_fit": null,
            "object_position": null,
            "order": null,
            "overflow": null,
            "overflow_x": null,
            "overflow_y": null,
            "padding": null,
            "right": null,
            "top": null,
            "visibility": null,
            "width": null
          }
        },
        "27ee5431210b4c5bbe52f896f06a6a5b": {
          "model_module": "@jupyter-widgets/controls",
          "model_name": "ProgressStyleModel",
          "model_module_version": "1.5.0",
          "state": {
            "_model_module": "@jupyter-widgets/controls",
            "_model_module_version": "1.5.0",
            "_model_name": "ProgressStyleModel",
            "_view_count": null,
            "_view_module": "@jupyter-widgets/base",
            "_view_module_version": "1.2.0",
            "_view_name": "StyleView",
            "bar_color": null,
            "description_width": ""
          }
        },
        "62dd2a7734da4106918b5223572b2b5b": {
          "model_module": "@jupyter-widgets/base",
          "model_name": "LayoutModel",
          "model_module_version": "1.2.0",
          "state": {
            "_model_module": "@jupyter-widgets/base",
            "_model_module_version": "1.2.0",
            "_model_name": "LayoutModel",
            "_view_count": null,
            "_view_module": "@jupyter-widgets/base",
            "_view_module_version": "1.2.0",
            "_view_name": "LayoutView",
            "align_content": null,
            "align_items": null,
            "align_self": null,
            "border": null,
            "bottom": null,
            "display": null,
            "flex": null,
            "flex_flow": null,
            "grid_area": null,
            "grid_auto_columns": null,
            "grid_auto_flow": null,
            "grid_auto_rows": null,
            "grid_column": null,
            "grid_gap": null,
            "grid_row": null,
            "grid_template_areas": null,
            "grid_template_columns": null,
            "grid_template_rows": null,
            "height": null,
            "justify_content": null,
            "justify_items": null,
            "left": null,
            "margin": null,
            "max_height": null,
            "max_width": null,
            "min_height": null,
            "min_width": null,
            "object_fit": null,
            "object_position": null,
            "order": null,
            "overflow": null,
            "overflow_x": null,
            "overflow_y": null,
            "padding": null,
            "right": null,
            "top": null,
            "visibility": null,
            "width": null
          }
        },
        "bd10d76d33d54ab2bd8358305b037b93": {
          "model_module": "@jupyter-widgets/controls",
          "model_name": "DescriptionStyleModel",
          "model_module_version": "1.5.0",
          "state": {
            "_model_module": "@jupyter-widgets/controls",
            "_model_module_version": "1.5.0",
            "_model_name": "DescriptionStyleModel",
            "_view_count": null,
            "_view_module": "@jupyter-widgets/base",
            "_view_module_version": "1.2.0",
            "_view_name": "StyleView",
            "description_width": ""
          }
        },
        "117e848490b243cba128df05c80f67b7": {
          "model_module": "@jupyter-widgets/controls",
          "model_name": "HBoxModel",
          "model_module_version": "1.5.0",
          "state": {
            "_dom_classes": [],
            "_model_module": "@jupyter-widgets/controls",
            "_model_module_version": "1.5.0",
            "_model_name": "HBoxModel",
            "_view_count": null,
            "_view_module": "@jupyter-widgets/controls",
            "_view_module_version": "1.5.0",
            "_view_name": "HBoxView",
            "box_style": "",
            "children": [
              "IPY_MODEL_076c7e4ff8b54c7cabdfa0d70533d703",
              "IPY_MODEL_9689e28cc0334fdd8af0650d3bf71dd0",
              "IPY_MODEL_3bdbcc907b894cc78f6de2b1ea72db54"
            ],
            "layout": "IPY_MODEL_d768a56ce39c4cba825ace6f794f04d9"
          }
        },
        "076c7e4ff8b54c7cabdfa0d70533d703": {
          "model_module": "@jupyter-widgets/controls",
          "model_name": "HTMLModel",
          "model_module_version": "1.5.0",
          "state": {
            "_dom_classes": [],
            "_model_module": "@jupyter-widgets/controls",
            "_model_module_version": "1.5.0",
            "_model_name": "HTMLModel",
            "_view_count": null,
            "_view_module": "@jupyter-widgets/controls",
            "_view_module_version": "1.5.0",
            "_view_name": "HTMLView",
            "description": "",
            "description_tooltip": null,
            "layout": "IPY_MODEL_b63a5b8cc23b41779ef2e788c186c3ad",
            "placeholder": "​",
            "style": "IPY_MODEL_63c117247e1f4edc8b55afb21c6ba2ff",
            "value": "generation_config.json: 100%"
          }
        },
        "9689e28cc0334fdd8af0650d3bf71dd0": {
          "model_module": "@jupyter-widgets/controls",
          "model_name": "FloatProgressModel",
          "model_module_version": "1.5.0",
          "state": {
            "_dom_classes": [],
            "_model_module": "@jupyter-widgets/controls",
            "_model_module_version": "1.5.0",
            "_model_name": "FloatProgressModel",
            "_view_count": null,
            "_view_module": "@jupyter-widgets/controls",
            "_view_module_version": "1.5.0",
            "_view_name": "ProgressView",
            "bar_style": "success",
            "description": "",
            "description_tooltip": null,
            "layout": "IPY_MODEL_5ee1143add12460ab0224e0f7c71729e",
            "max": 124,
            "min": 0,
            "orientation": "horizontal",
            "style": "IPY_MODEL_b7c8ea648b7442719b79a02fa445e086",
            "value": 124
          }
        },
        "3bdbcc907b894cc78f6de2b1ea72db54": {
          "model_module": "@jupyter-widgets/controls",
          "model_name": "HTMLModel",
          "model_module_version": "1.5.0",
          "state": {
            "_dom_classes": [],
            "_model_module": "@jupyter-widgets/controls",
            "_model_module_version": "1.5.0",
            "_model_name": "HTMLModel",
            "_view_count": null,
            "_view_module": "@jupyter-widgets/controls",
            "_view_module_version": "1.5.0",
            "_view_name": "HTMLView",
            "description": "",
            "description_tooltip": null,
            "layout": "IPY_MODEL_3958849bf6e74387a684eec3fafcea54",
            "placeholder": "​",
            "style": "IPY_MODEL_6934816ea18b410c90bad0aaa8cb35d5",
            "value": " 124/124 [00:00&lt;00:00, 9.22kB/s]"
          }
        },
        "d768a56ce39c4cba825ace6f794f04d9": {
          "model_module": "@jupyter-widgets/base",
          "model_name": "LayoutModel",
          "model_module_version": "1.2.0",
          "state": {
            "_model_module": "@jupyter-widgets/base",
            "_model_module_version": "1.2.0",
            "_model_name": "LayoutModel",
            "_view_count": null,
            "_view_module": "@jupyter-widgets/base",
            "_view_module_version": "1.2.0",
            "_view_name": "LayoutView",
            "align_content": null,
            "align_items": null,
            "align_self": null,
            "border": null,
            "bottom": null,
            "display": null,
            "flex": null,
            "flex_flow": null,
            "grid_area": null,
            "grid_auto_columns": null,
            "grid_auto_flow": null,
            "grid_auto_rows": null,
            "grid_column": null,
            "grid_gap": null,
            "grid_row": null,
            "grid_template_areas": null,
            "grid_template_columns": null,
            "grid_template_rows": null,
            "height": null,
            "justify_content": null,
            "justify_items": null,
            "left": null,
            "margin": null,
            "max_height": null,
            "max_width": null,
            "min_height": null,
            "min_width": null,
            "object_fit": null,
            "object_position": null,
            "order": null,
            "overflow": null,
            "overflow_x": null,
            "overflow_y": null,
            "padding": null,
            "right": null,
            "top": null,
            "visibility": null,
            "width": null
          }
        },
        "b63a5b8cc23b41779ef2e788c186c3ad": {
          "model_module": "@jupyter-widgets/base",
          "model_name": "LayoutModel",
          "model_module_version": "1.2.0",
          "state": {
            "_model_module": "@jupyter-widgets/base",
            "_model_module_version": "1.2.0",
            "_model_name": "LayoutModel",
            "_view_count": null,
            "_view_module": "@jupyter-widgets/base",
            "_view_module_version": "1.2.0",
            "_view_name": "LayoutView",
            "align_content": null,
            "align_items": null,
            "align_self": null,
            "border": null,
            "bottom": null,
            "display": null,
            "flex": null,
            "flex_flow": null,
            "grid_area": null,
            "grid_auto_columns": null,
            "grid_auto_flow": null,
            "grid_auto_rows": null,
            "grid_column": null,
            "grid_gap": null,
            "grid_row": null,
            "grid_template_areas": null,
            "grid_template_columns": null,
            "grid_template_rows": null,
            "height": null,
            "justify_content": null,
            "justify_items": null,
            "left": null,
            "margin": null,
            "max_height": null,
            "max_width": null,
            "min_height": null,
            "min_width": null,
            "object_fit": null,
            "object_position": null,
            "order": null,
            "overflow": null,
            "overflow_x": null,
            "overflow_y": null,
            "padding": null,
            "right": null,
            "top": null,
            "visibility": null,
            "width": null
          }
        },
        "63c117247e1f4edc8b55afb21c6ba2ff": {
          "model_module": "@jupyter-widgets/controls",
          "model_name": "DescriptionStyleModel",
          "model_module_version": "1.5.0",
          "state": {
            "_model_module": "@jupyter-widgets/controls",
            "_model_module_version": "1.5.0",
            "_model_name": "DescriptionStyleModel",
            "_view_count": null,
            "_view_module": "@jupyter-widgets/base",
            "_view_module_version": "1.2.0",
            "_view_name": "StyleView",
            "description_width": ""
          }
        },
        "5ee1143add12460ab0224e0f7c71729e": {
          "model_module": "@jupyter-widgets/base",
          "model_name": "LayoutModel",
          "model_module_version": "1.2.0",
          "state": {
            "_model_module": "@jupyter-widgets/base",
            "_model_module_version": "1.2.0",
            "_model_name": "LayoutModel",
            "_view_count": null,
            "_view_module": "@jupyter-widgets/base",
            "_view_module_version": "1.2.0",
            "_view_name": "LayoutView",
            "align_content": null,
            "align_items": null,
            "align_self": null,
            "border": null,
            "bottom": null,
            "display": null,
            "flex": null,
            "flex_flow": null,
            "grid_area": null,
            "grid_auto_columns": null,
            "grid_auto_flow": null,
            "grid_auto_rows": null,
            "grid_column": null,
            "grid_gap": null,
            "grid_row": null,
            "grid_template_areas": null,
            "grid_template_columns": null,
            "grid_template_rows": null,
            "height": null,
            "justify_content": null,
            "justify_items": null,
            "left": null,
            "margin": null,
            "max_height": null,
            "max_width": null,
            "min_height": null,
            "min_width": null,
            "object_fit": null,
            "object_position": null,
            "order": null,
            "overflow": null,
            "overflow_x": null,
            "overflow_y": null,
            "padding": null,
            "right": null,
            "top": null,
            "visibility": null,
            "width": null
          }
        },
        "b7c8ea648b7442719b79a02fa445e086": {
          "model_module": "@jupyter-widgets/controls",
          "model_name": "ProgressStyleModel",
          "model_module_version": "1.5.0",
          "state": {
            "_model_module": "@jupyter-widgets/controls",
            "_model_module_version": "1.5.0",
            "_model_name": "ProgressStyleModel",
            "_view_count": null,
            "_view_module": "@jupyter-widgets/base",
            "_view_module_version": "1.2.0",
            "_view_name": "StyleView",
            "bar_color": null,
            "description_width": ""
          }
        },
        "3958849bf6e74387a684eec3fafcea54": {
          "model_module": "@jupyter-widgets/base",
          "model_name": "LayoutModel",
          "model_module_version": "1.2.0",
          "state": {
            "_model_module": "@jupyter-widgets/base",
            "_model_module_version": "1.2.0",
            "_model_name": "LayoutModel",
            "_view_count": null,
            "_view_module": "@jupyter-widgets/base",
            "_view_module_version": "1.2.0",
            "_view_name": "LayoutView",
            "align_content": null,
            "align_items": null,
            "align_self": null,
            "border": null,
            "bottom": null,
            "display": null,
            "flex": null,
            "flex_flow": null,
            "grid_area": null,
            "grid_auto_columns": null,
            "grid_auto_flow": null,
            "grid_auto_rows": null,
            "grid_column": null,
            "grid_gap": null,
            "grid_row": null,
            "grid_template_areas": null,
            "grid_template_columns": null,
            "grid_template_rows": null,
            "height": null,
            "justify_content": null,
            "justify_items": null,
            "left": null,
            "margin": null,
            "max_height": null,
            "max_width": null,
            "min_height": null,
            "min_width": null,
            "object_fit": null,
            "object_position": null,
            "order": null,
            "overflow": null,
            "overflow_x": null,
            "overflow_y": null,
            "padding": null,
            "right": null,
            "top": null,
            "visibility": null,
            "width": null
          }
        },
        "6934816ea18b410c90bad0aaa8cb35d5": {
          "model_module": "@jupyter-widgets/controls",
          "model_name": "DescriptionStyleModel",
          "model_module_version": "1.5.0",
          "state": {
            "_model_module": "@jupyter-widgets/controls",
            "_model_module_version": "1.5.0",
            "_model_name": "DescriptionStyleModel",
            "_view_count": null,
            "_view_module": "@jupyter-widgets/base",
            "_view_module_version": "1.2.0",
            "_view_name": "StyleView",
            "description_width": ""
          }
        }
      }
    },
    "accelerator": "GPU"
  },
  "cells": [
    {
      "cell_type": "markdown",
      "metadata": {
        "id": "view-in-github",
        "colab_type": "text"
      },
      "source": [
        "<a href=\"https://colab.research.google.com/github/shuvayan/AIMLOPS/blob/main/M6_AST_01_Finetune_GPT2_C.ipynb\" target=\"_parent\"><img src=\"https://colab.research.google.com/assets/colab-badge.svg\" alt=\"Open In Colab\"/></a>"
      ]
    },
    {
      "cell_type": "markdown",
      "metadata": {
        "id": "hNgLag1Euy3H"
      },
      "source": [
        "# Advanced Certification Programme in AI and MLOps\n",
        "## A Program by IISc and TalentSprint\n",
        "### Assignment 1: Fine-tune GPT2"
      ]
    },
    {
      "cell_type": "markdown",
      "metadata": {
        "id": "-tdtrlAhvIHY"
      },
      "source": [
        "## Learning Objectives\n",
        "\n",
        "At the end of the experiment, you will be able to:\n",
        "\n",
        "* load and pre-process data from text file\n",
        "* load and use a pre-trained tokenizer\n",
        "* finetune a GPT-2 language model from Hugging Face's `transformers` library\n",
        "* push the finetuned model to HuggingFace model hub\n",
        "* load the finetuned model from hub for inference"
      ]
    },
    {
      "cell_type": "markdown",
      "source": [
        "## Dataset Description\n",
        "\n",
        "The text data file is taken from The International Gita Society's eBook named \"***BHAGAVAD-GITA*** Author: Sage Veda Vyasa\", Translated in English by Ramananda Prasad, refer [here](https://www.gita-society.com/Read-bhagavad-gita.html).\n",
        "\n",
        "It contains:\n",
        "\n",
        "* the concept of duty and the moral implications of one's actions\n",
        "\n",
        "* the importance of performing one's duty without attachment to the results\n",
        "\n",
        "* various teachings, including the importance of performing one's duty according to one's station in life, the nature of the self, and the ultimate purpose of life\n",
        "\n",
        "* guidance on how to live a righteous life, manage one's emotions, and make ethical decisions\n",
        "\n",
        "* insights into achieving spiritual enlightenment and understanding one's true nature beyond the physical body\n",
        "\n",
        "The text data is inside **`document.pdf`** and will be downloaded once the below setup cells are executed."
      ],
      "metadata": {
        "id": "2nmP8OaXuO--"
      }
    },
    {
      "cell_type": "markdown",
      "source": [
        "### **GPT-2**\n",
        "\n",
        "In recent years, the OpenAI GPT-2 exhibited an impressive ability to write coherent and passionate essays that exceeded what current language models can produce. The GPT-2 wasn't a particularly novel architecture - its architecture is very similar to the **decoder-only transformer**. The GPT2 was, however, a very large, transformer-based language model trained on a massive dataset.\n",
        "\n",
        "Here, we are going to fine-tune the GPT2 model with the text of International Gita Society's eBook - BHAGAVAD-GITA. We can expect that the model will be able to reply to the prompt related to the subject matter of this book after fine-tuning.\n",
        "\n",
        "To know more about GPT-2, refer [here](http://jalammar.github.io/illustrated-gpt2/)."
      ],
      "metadata": {
        "id": "hK3ZixaWfhHD"
      }
    },
    {
      "cell_type": "markdown",
      "source": [
        "### Installing Dependencies"
      ],
      "metadata": {
        "id": "dIdI8V0_edy6"
      }
    },
    {
      "cell_type": "code",
      "source": [
        "%%capture\n",
        "\n",
        "# For loading models, tokenizers, and datasets from HuggingFace\n",
        "!pip -q uninstall pyarrow -y\n",
        "!pip -q install pyarrow==15.0.2\n",
        "!pip -q install datasets\n",
        "!pip -q install accelerate\n",
        "!pip -q install transformers\n",
        "\n",
        "# For reading text from PDF files\n",
        "!pip -q install PyPDF2"
      ],
      "metadata": {
        "id": "C2ZtQKF5edGU"
      },
      "execution_count": 1,
      "outputs": []
    },
    {
      "cell_type": "markdown",
      "source": [
        "### <font color=\"#990000\">Restart Session/Runtime</font>"
      ],
      "metadata": {
        "id": "E29JLGDPe_xa"
      }
    },
    {
      "cell_type": "markdown",
      "source": [
        "### Setup Steps:"
      ],
      "metadata": {
        "id": "rKQ0Fvl_jNqU"
      }
    },
    {
      "cell_type": "code",
      "execution_count": 2,
      "metadata": {
        "id": "Qv3I4VSjeAd9"
      },
      "outputs": [],
      "source": [
        "#@title Please enter your registration id to start: { run: \"auto\", display-mode: \"form\" }\n",
        "Id = \"2303646\" #@param {type:\"string\"}"
      ]
    },
    {
      "cell_type": "code",
      "execution_count": 3,
      "metadata": {
        "id": "ver4toa5eAeH"
      },
      "outputs": [],
      "source": [
        "#@title Please enter your password (your registered phone number) to continue: { run: \"auto\", display-mode: \"form\" }\n",
        "password = \"9002239227\" #@param {type:\"string\"}"
      ]
    },
    {
      "cell_type": "code",
      "execution_count": 4,
      "metadata": {
        "cellView": "form",
        "id": "hAop8gYqeAeH",
        "outputId": "9a833a33-c312-4c1d-eb2a-d3784dac65dc",
        "colab": {
          "base_uri": "https://localhost:8080/",
          "height": 34
        }
      },
      "outputs": [
        {
          "output_type": "display_data",
          "data": {
            "text/plain": [
              "<IPython.core.display.HTML object>"
            ],
            "text/html": [
              "<script src=\"https://dashboard.talentsprint.com/aiml/record_ip.html?traineeId=2303646&recordId=7699\"></script>"
            ]
          },
          "metadata": {}
        },
        {
          "output_type": "stream",
          "name": "stdout",
          "text": [
            "Setup completed successfully\n"
          ]
        }
      ],
      "source": [
        "#@title Run this cell to complete the setup for this Notebook\n",
        "from IPython import get_ipython\n",
        "\n",
        "ipython = get_ipython()\n",
        "\n",
        "notebook= \"M6_AST_01_Finetune_GPT2_C\" #name of the notebook\n",
        "\n",
        "def setup():\n",
        "#  ipython.magic(\"sx pip3 install torch\")\n",
        "\n",
        "    ipython.magic(\"sx wget https://drive.google.com/uc?id=12jYBY0yqwNEErkqol06BtEQF3C-wSUBS -O document.pdf\")\n",
        "    from IPython.display import HTML, display\n",
        "    display(HTML('<script src=\"https://dashboard.talentsprint.com/aiml/record_ip.html?traineeId={0}&recordId={1}\"></script>'.format(getId(),submission_id)))\n",
        "    print(\"Setup completed successfully\")\n",
        "    return\n",
        "\n",
        "def submit_notebook():\n",
        "    ipython.magic(\"notebook -e \"+ notebook + \".ipynb\")\n",
        "\n",
        "    import requests, json, base64, datetime\n",
        "\n",
        "    url = \"https://dashboard.talentsprint.com/xp/app/save_notebook_attempts\"\n",
        "    if not submission_id:\n",
        "      data = {\"id\" : getId(), \"notebook\" : notebook, \"mobile\" : getPassword()}\n",
        "      r = requests.post(url, data = data)\n",
        "      r = json.loads(r.text)\n",
        "\n",
        "      if r[\"status\"] == \"Success\":\n",
        "          return r[\"record_id\"]\n",
        "      elif \"err\" in r:\n",
        "        print(r[\"err\"])\n",
        "        return None\n",
        "      else:\n",
        "        print (\"Something is wrong, the notebook will not be submitted for grading\")\n",
        "        return None\n",
        "\n",
        "    elif getAnswer() and getComplexity() and getAdditional() and getConcepts() and getComments() and getMentorSupport():\n",
        "      f = open(notebook + \".ipynb\", \"rb\")\n",
        "      file_hash = base64.b64encode(f.read())\n",
        "\n",
        "      data = {\"complexity\" : Complexity, \"additional\" :Additional,\n",
        "              \"concepts\" : Concepts, \"record_id\" : submission_id,\n",
        "              \"answer\" : Answer, \"id\" : Id, \"file_hash\" : file_hash,\n",
        "              \"notebook\" : notebook,\n",
        "              \"feedback_experiments_input\" : Comments,\n",
        "              \"feedback_mentor_support\": Mentor_support}\n",
        "      r = requests.post(url, data = data)\n",
        "      r = json.loads(r.text)\n",
        "      if \"err\" in r:\n",
        "        print(r[\"err\"])\n",
        "        return None\n",
        "      else:\n",
        "        print(\"Your submission is successful.\")\n",
        "        print(\"Ref Id:\", submission_id)\n",
        "        print(\"Date of submission: \", r[\"date\"])\n",
        "        print(\"Time of submission: \", r[\"time\"])\n",
        "        print(\"View your submissions: https://aimlops-iisc.talentsprint.com/notebook_submissions\")\n",
        "        #print(\"For any queries/discrepancies, please connect with mentors through the chat icon in LMS dashboard.\")\n",
        "        return submission_id\n",
        "    else: submission_id\n",
        "\n",
        "\n",
        "def getAdditional():\n",
        "  try:\n",
        "    if not Additional:\n",
        "      raise NameError\n",
        "    else:\n",
        "      return Additional\n",
        "  except NameError:\n",
        "    print (\"Please answer Additional Question\")\n",
        "    return None\n",
        "\n",
        "def getComplexity():\n",
        "  try:\n",
        "    if not Complexity:\n",
        "      raise NameError\n",
        "    else:\n",
        "      return Complexity\n",
        "  except NameError:\n",
        "    print (\"Please answer Complexity Question\")\n",
        "    return None\n",
        "\n",
        "def getConcepts():\n",
        "  try:\n",
        "    if not Concepts:\n",
        "      raise NameError\n",
        "    else:\n",
        "      return Concepts\n",
        "  except NameError:\n",
        "    print (\"Please answer Concepts Question\")\n",
        "    return None\n",
        "\n",
        "\n",
        "# def getWalkthrough():\n",
        "#   try:\n",
        "#     if not Walkthrough:\n",
        "#       raise NameError\n",
        "#     else:\n",
        "#       return Walkthrough\n",
        "#   except NameError:\n",
        "#     print (\"Please answer Walkthrough Question\")\n",
        "#     return None\n",
        "\n",
        "def getComments():\n",
        "  try:\n",
        "    if not Comments:\n",
        "      raise NameError\n",
        "    else:\n",
        "      return Comments\n",
        "  except NameError:\n",
        "    print (\"Please answer Comments Question\")\n",
        "    return None\n",
        "\n",
        "\n",
        "def getMentorSupport():\n",
        "  try:\n",
        "    if not Mentor_support:\n",
        "      raise NameError\n",
        "    else:\n",
        "      return Mentor_support\n",
        "  except NameError:\n",
        "    print (\"Please answer Mentor support Question\")\n",
        "    return None\n",
        "\n",
        "def getAnswer():\n",
        "  try:\n",
        "    if not Answer:\n",
        "      raise NameError\n",
        "    else:\n",
        "      return Answer\n",
        "  except NameError:\n",
        "    print (\"Please answer Question\")\n",
        "    return None\n",
        "\n",
        "\n",
        "def getId():\n",
        "  try:\n",
        "    return Id if Id else None\n",
        "  except NameError:\n",
        "    return None\n",
        "\n",
        "def getPassword():\n",
        "  try:\n",
        "    return password if password else None\n",
        "  except NameError:\n",
        "    return None\n",
        "\n",
        "submission_id = None\n",
        "### Setup\n",
        "if getPassword() and getId():\n",
        "  submission_id = submit_notebook()\n",
        "  if submission_id:\n",
        "    setup()\n",
        "else:\n",
        "  print (\"Please complete Id and Password cells before running setup\")"
      ]
    },
    {
      "cell_type": "markdown",
      "metadata": {
        "id": "9RH8Ecq9sbYU"
      },
      "source": [
        "### Importing required packages"
      ]
    },
    {
      "cell_type": "code",
      "source": [
        "import os\n",
        "import re\n",
        "import PyPDF2\n",
        "import torch\n",
        "from datasets import load_dataset\n",
        "from transformers import GPT2Tokenizer, GPT2LMHeadModel, DataCollatorForLanguageModeling\n",
        "from transformers import Trainer, TrainingArguments\n",
        "\n",
        "import warnings\n",
        "warnings.filterwarnings('ignore')"
      ],
      "metadata": {
        "id": "JfqnHAnMYfWF"
      },
      "execution_count": 5,
      "outputs": []
    },
    {
      "cell_type": "markdown",
      "source": [
        "### Load the data"
      ],
      "metadata": {
        "id": "ChIKT30jKuo-"
      }
    },
    {
      "cell_type": "markdown",
      "source": [
        "The data is in a PDF file (.pdf)\n",
        "\n",
        "Create function to read pdf file:"
      ],
      "metadata": {
        "id": "a_Bn7925nhYk"
      }
    },
    {
      "cell_type": "code",
      "source": [
        "# Function to read document pdf files\n",
        "\n",
        "def read_pdf(pdf_path):\n",
        "    text = \"\"\n",
        "\n",
        "    # Open the PDF file\n",
        "    with open(pdf_path, \"rb\") as file:\n",
        "        reader = PyPDF2.PdfReader(file)\n",
        "\n",
        "        # Iterate over each page\n",
        "        for page_num in range(len(reader.pages)):\n",
        "            if page_num > 3:                         # extract text starting from page 5\n",
        "                page = reader.pages[page_num]\n",
        "                text += page.extract_text()\n",
        "\n",
        "    return text\n"
      ],
      "metadata": {
        "id": "ryR44tMnhRMX"
      },
      "execution_count": 6,
      "outputs": []
    },
    {
      "cell_type": "code",
      "source": [
        "# Read files/documents\n",
        "\n",
        "pdf_path = 'document.pdf'\n",
        "text_file = read_pdf(pdf_path)"
      ],
      "metadata": {
        "id": "DuiQD165hSp9"
      },
      "execution_count": 7,
      "outputs": []
    },
    {
      "cell_type": "code",
      "source": [
        "print(text_file[:8000])"
      ],
      "metadata": {
        "id": "ycLbDPgDg5_2",
        "colab": {
          "base_uri": "https://localhost:8080/"
        },
        "outputId": "5bff05d2-379c-4283-f7e1-18c63cd63326"
      },
      "execution_count": 8,
      "outputs": [
        {
          "output_type": "stream",
          "name": "stdout",
          "text": [
            " \n",
            "  \n",
            " \n",
            "BHAGAVAD -GITA in ENGLISH  \n",
            "Author: Sage Veda Vy asa \n",
            "Translat ed in English : Ramananda Prasad , Ph.D.  \n",
            "Language Editor s: Needed  \n",
            "Contact: rprasad@gita -society.com  \n",
            "***** \n",
            "“Let noble thoughts come to us from everywhere”    \n",
            "(The Vedas)  \n",
            " \n",
            "INTRODUCTION  \n",
            "The Bhagavad -Gita is a doctrine of universal truth  and a book \n",
            "of moral and spiritual growth . Its message is sublime and non -sec-\n",
            "tarian . It deals with the most sacred metaphysi cal science. It im-\n",
            "parts the knowledge of the Self and answers two universal ques-\n",
            "tions: Who am I, and how can I lead a happy and peaceful life in \n",
            "this wor d full of dualities  and dilemmas ?  \n",
            "It's a timeless book of wisdom  that inspired Thoreau, Emerson, \n",
            "Einstein, Oppenheimer, Gandhi and many others. The Bhagavad -\n",
            "Gita teaches us how  to equip ourselves  for the battle of life. A re-\n",
            "peated study with faith purifies our psyche and guides us to face \n",
            "the challenges of modern livin g leading to inner peace and happi-\n",
            "ness.  \n",
            "Gita teaches the spiritual science of Self -realization  (SR) based \n",
            "on the essence of Upanishads and Vedanta. The prime message \n",
            "of the Gita is : The ultimate purpose of life is to realize one’s essen-\n",
            "tial nature and become one with the Supreme Self within  all of us . \n",
            "It assures spiritual progress for all humans, and ho w to be one with \n",
            "the Supreme. Its teachings are profound, universal, uplifting, and \n",
            "sublime.  \n",
            "The ignorance of metaphysical  or Spiritual  knowledge —not \n",
            "knowing our real identity —is humanity’s greatest predicament. It is \n",
            "said that there is no human mind that  cannot be purified by a re-\n",
            "peated study of the Gita. Gita explains the basic principles of spir-\n",
            "itual science — using Sanskrit poetry — in a very clear and inspiring \n",
            "manner. Sacred  relationship between the Creator and the creation  \n",
            "is well established in the G ita. If one lives in the spirit of even a few \n",
            "verses of the Gita, one’s life will be transformed into divinity.  \n",
            "The philosophy of duty, devotion and Self -knowledge is won-\n",
            "derfully synthesized and harmonized in the Gita —without creating \n",
            "any conflict among t hem—to give the reader eternal bliss, everlast-\n",
            "ing peace and perennial joy in life. It awakens Cosmic Conscious-\n",
            "ness and stimulates life with spirituality.  Religion tends to create a \n",
            "wall of division and conflicts along religious lines. Whereas, spirit-\n",
            "uality  unites people by breaking those walls. A spiritual person is a 2                           International Gita Society  \n",
            " \n",
            " friend of all and a foe of none, because he considers all crea-\n",
            "tures —living or non -living —as part and parcel of the Cosmic body \n",
            "of the Absolute , the Source . \n",
            "The message of the Gita came to huma nity due to  Arjuna’s \n",
            "unwill ingness to do his duty as a warrior , because fighting in volved \n",
            "destr uction and killing. Nonviolence or Ahi nsa is one of the most \n",
            "fundamen tal tenets of spiritual culture. All lives, human or non -hu-\n",
            "man, are sacred. This immortal discourse between the Supreme \n",
            "Lord, Krishna, and His devotee -friend, Arjuna, occurs not in a tem-\n",
            "ple, a secluded forest, or on a mountain top ; but on a battlefield on \n",
            "the eve of a big war. Anyone can be helped by practice of only a few of \n",
            "its teach ings. No change of one’s faith or life -style is needed ! \n",
            "A total of seven hundred (700) verses of the Gita, in 18 chap-\n",
            "ters, are recorded in world’s longest  epic, Mah abharata, having \n",
            "over 100,000 verses  in Sanskrit poetry . In Gita Lord Krishna ad-\n",
            "vises Arjuna  to get up and fight. This may create a misunderstand-\n",
            "ing of the prin ciples of non-violence  if the background of the war of \n",
            "Mahabharata is not kept in mind. Therefore, a brief historical de-\n",
            "scription is in order.  \n",
            " In ancient times there was a king who had t wo sons, Dhri-\n",
            "tarashtra and P andu. The former was born blind; therefore, P andu \n",
            "inherited the kingdom. P andu had five sons. They were called the \n",
            "Pandavas. Dhritar ashtra had one hundred sons. They were called \n",
            "the Kauravas. Duryodhana was the eldest of the Kauravas.  \n",
            " After the death of king P andu, the eldest son of P andu became \n",
            "the lawful King. Duryodhana was a very jealous person. He also \n",
            "wanted the king dom. The ki ngdom was divided into two halves be-\n",
            "tween the P andavas and the Kauravas.  Duryodhana was not sat-\n",
            "isfied with his share of the king dom. He wanted the entire kingdom \n",
            "for himself. He unsuccessfully planned several foul pl ays to kill the \n",
            "Pandavas and take away  their kingdom  also. He unlawfully took \n",
            "possession of the entire kingdom of the P andavas and refused to \n",
            "give back even an acre of land without a war. All mediation by Lord \n",
            "Krishna and others failed. The big war of Mah abharata was thus \n",
            "inevitable. The P andavas were unwilling par ticipants. They had \n",
            "only two choices: Fight for their right as a matter of duty or run \n",
            "away from war and accept defeat for the sake of peace and nonvi-\n",
            "olence. Arjuna, one of the five P andava brothers, faced th is di-\n",
            "lemma in the battle field: Whether to fight or run away from war  for \n",
            "peace.  \n",
            " Arjuna’s dilemma is, in reality, the Universal Dilemma. All hu-\n",
            "man beings face dilemmas, big or small, in their everyday life wh ile \n",
            "performing their duties. Arjuna’s dilemma was a big one. He had to \n",
            "make a choice between fighting the war and killing his most \n",
            "revered guru who was on the other side, very dear friends, close \n",
            "relatives, and many innocent warriors; or run ning away from the                     Bhagavad -Gita                             3 \n",
            " \n",
            " battlefield for the sake of preser ving peace and nonviolence. The \n",
            "entire seven hundred verses of the Bhagavad -Gita are a discourse \n",
            "between Lord Krishna and the confused Arjuna on the battlefield \n",
            "near New Delhi, India, in 3,139 BCE. This discourse was narrated  \n",
            "to the blind king, Dhritar ashtra, by his charioteer, Sanjaya, as an \n",
            "eyewitness war report.  \n",
            " The word ‘Bhagavad’ means the Supreme Being , God  or Bha-\n",
            "gavan in Sanskrit. ‘Gita’ means song. Thus , Bhagavad -Gita means \n",
            "the Song of God or The Celestial  Song, because it was sung by \n",
            "Bhagav an Lord Krishna , an incarnation of God  Himself.  \n",
            " \n",
            "CHAPTER 1  \n",
            "1. Arjuna’s Dilemma  \n",
            "The blind King inquired  from his charioteer : O Sanjaya, tell me \n",
            "in detail, what did my sons  and the P andavas do in the battlefield \n",
            "before the war started? (1.01)  \n",
            "Chapter Summary   \n",
            "Sanjaya said: Arjuna asked his charioteer -friend, Lord Krishna, \n",
            "to drive his chariot between the two armies so that he could see \n",
            "the arm ies on both sides . Arjuna felt great compas sion to see his \n",
            "friends and relatives on the opposite side, whom he must kill to win \n",
            "this war. He became confused, spoke of the evils of war, and re-\n",
            "fused to fight or do his duty  as a warrior .  \n",
            "Arjuna sat down on the back seat of the chariot with his mind \n",
            "overwhelmed with sorrow. ( Verse 1.47)  \n",
            " \n",
            "NOTE : Some non -essential verses from Chapters 1 and 2 only \n",
            "have been omitted for ease of understanding the teachings of the \n",
            "Gita by the first time readers.  \n",
            "CHAPTER 2 \n",
            "2. Spiritual  knowledge  \n",
            "Sanjaya said: Lord Krishna spoke these words to Arjuna whose \n",
            "eyes were tearful and downcast, and who was overwhelmed with \n",
            "compassion and despair. (2.01) O King, Lord Krishna, as if smiling, \n",
            "spoke these words to distressed Arjuna in the midst of the two ar-\n",
            "mies. (2.10)  \n",
            "Teachings of the Gita begins  \n",
            " Important verses are high lighted . First time readers should \n",
            "read and understand thes e verses first.  4                           International Gita Society  \n",
            " \n",
            " The Supreme Lord said: You grieve for those who are not wor-\n",
            "thy of grief; and yet speak words of wisdom. The wise grieve nei-\n",
            "ther for the living nor for the dead. (2.11) There was never a time \n",
            "when these monarchs, you, or I did not exist, nor shall we ever \n",
            "cease to exist in the future. (2.12) Just as a living being  acquires a \n",
            "childhood body, a youth body, and an old -age body during this life; \n",
            "similarly, it acquires another new body after death. The wise are \n",
            "not deluded by this. (\n"
          ]
        }
      ]
    },
    {
      "cell_type": "markdown",
      "source": [
        "### Pre-processing\n",
        "\n",
        "- Remove any excess newline characters from the text\n",
        "- Remove any excess spaces\n",
        "- Remove unnecessary words (Header & Page number)\n",
        "- Keep 100 words per line inside text"
      ],
      "metadata": {
        "id": "9ESwtGMaL5vJ"
      }
    },
    {
      "cell_type": "code",
      "source": [
        "# Remove excess newline characters\n",
        "text_file = re.sub(r'\\n+', '\\n', text_file).strip()"
      ],
      "metadata": {
        "id": "4tYqGszOL-9f"
      },
      "execution_count": 9,
      "outputs": []
    },
    {
      "cell_type": "code",
      "source": [
        "# Remove excess spaces\n",
        "text_file = re.sub(r' +', ' ', text_file).strip()"
      ],
      "metadata": {
        "id": "E4h2SRDCw17D"
      },
      "execution_count": 10,
      "outputs": []
    },
    {
      "cell_type": "code",
      "source": [
        "# Remove unnecessary words (Header & Page number)\n",
        "text_file = re.sub(r' \\d+ International Gita Society', '', text_file)\n",
        "text_file = re.sub(r' Bhagavad -Gita \\d+', '', text_file)"
      ],
      "metadata": {
        "id": "IfcxGAKc0S13"
      },
      "execution_count": 11,
      "outputs": []
    },
    {
      "cell_type": "code",
      "source": [
        "print(text_file[:8000])"
      ],
      "metadata": {
        "colab": {
          "base_uri": "https://localhost:8080/"
        },
        "id": "ZleqLz-jdYU2",
        "outputId": "31346818-d25a-40ff-8d01-9e576efcbc87",
        "collapsed": true
      },
      "execution_count": 12,
      "outputs": [
        {
          "output_type": "stream",
          "name": "stdout",
          "text": [
            "BHAGAVAD -GITA in ENGLISH \n",
            "Author: Sage Veda Vy asa \n",
            "Translat ed in English : Ramananda Prasad , Ph.D. \n",
            "Language Editor s: Needed \n",
            "Contact: rprasad@gita -society.com \n",
            "***** \n",
            "“Let noble thoughts come to us from everywhere” \n",
            "(The Vedas) \n",
            " \n",
            "INTRODUCTION \n",
            "The Bhagavad -Gita is a doctrine of universal truth and a book \n",
            "of moral and spiritual growth . Its message is sublime and non -sec-\n",
            "tarian . It deals with the most sacred metaphysi cal science. It im-\n",
            "parts the knowledge of the Self and answers two universal ques-\n",
            "tions: Who am I, and how can I lead a happy and peaceful life in \n",
            "this wor d full of dualities and dilemmas ? \n",
            "It's a timeless book of wisdom that inspired Thoreau, Emerson, \n",
            "Einstein, Oppenheimer, Gandhi and many others. The Bhagavad -\n",
            "Gita teaches us how to equip ourselves for the battle of life. A re-\n",
            "peated study with faith purifies our psyche and guides us to face \n",
            "the challenges of modern livin g leading to inner peace and happi-\n",
            "ness. \n",
            "Gita teaches the spiritual science of Self -realization (SR) based \n",
            "on the essence of Upanishads and Vedanta. The prime message \n",
            "of the Gita is : The ultimate purpose of life is to realize one’s essen-\n",
            "tial nature and become one with the Supreme Self within all of us . \n",
            "It assures spiritual progress for all humans, and ho w to be one with \n",
            "the Supreme. Its teachings are profound, universal, uplifting, and \n",
            "sublime. \n",
            "The ignorance of metaphysical or Spiritual knowledge —not \n",
            "knowing our real identity —is humanity’s greatest predicament. It is \n",
            "said that there is no human mind that cannot be purified by a re-\n",
            "peated study of the Gita. Gita explains the basic principles of spir-\n",
            "itual science — using Sanskrit poetry — in a very clear and inspiring \n",
            "manner. Sacred relationship between the Creator and the creation \n",
            "is well established in the G ita. If one lives in the spirit of even a few \n",
            "verses of the Gita, one’s life will be transformed into divinity. \n",
            "The philosophy of duty, devotion and Self -knowledge is won-\n",
            "derfully synthesized and harmonized in the Gita —without creating \n",
            "any conflict among t hem—to give the reader eternal bliss, everlast-\n",
            "ing peace and perennial joy in life. It awakens Cosmic Conscious-\n",
            "ness and stimulates life with spirituality. Religion tends to create a \n",
            "wall of division and conflicts along religious lines. Whereas, spirit-\n",
            "uality unites people by breaking those walls. A spiritual person is a \n",
            " \n",
            " friend of all and a foe of none, because he considers all crea-\n",
            "tures —living or non -living —as part and parcel of the Cosmic body \n",
            "of the Absolute , the Source . \n",
            "The message of the Gita came to huma nity due to Arjuna’s \n",
            "unwill ingness to do his duty as a warrior , because fighting in volved \n",
            "destr uction and killing. Nonviolence or Ahi nsa is one of the most \n",
            "fundamen tal tenets of spiritual culture. All lives, human or non -hu-\n",
            "man, are sacred. This immortal discourse between the Supreme \n",
            "Lord, Krishna, and His devotee -friend, Arjuna, occurs not in a tem-\n",
            "ple, a secluded forest, or on a mountain top ; but on a battlefield on \n",
            "the eve of a big war. Anyone can be helped by practice of only a few of \n",
            "its teach ings. No change of one’s faith or life -style is needed ! \n",
            "A total of seven hundred (700) verses of the Gita, in 18 chap-\n",
            "ters, are recorded in world’s longest epic, Mah abharata, having \n",
            "over 100,000 verses in Sanskrit poetry . In Gita Lord Krishna ad-\n",
            "vises Arjuna to get up and fight. This may create a misunderstand-\n",
            "ing of the prin ciples of non-violence if the background of the war of \n",
            "Mahabharata is not kept in mind. Therefore, a brief historical de-\n",
            "scription is in order. \n",
            " In ancient times there was a king who had t wo sons, Dhri-\n",
            "tarashtra and P andu. The former was born blind; therefore, P andu \n",
            "inherited the kingdom. P andu had five sons. They were called the \n",
            "Pandavas. Dhritar ashtra had one hundred sons. They were called \n",
            "the Kauravas. Duryodhana was the eldest of the Kauravas. \n",
            " After the death of king P andu, the eldest son of P andu became \n",
            "the lawful King. Duryodhana was a very jealous person. He also \n",
            "wanted the king dom. The ki ngdom was divided into two halves be-\n",
            "tween the P andavas and the Kauravas. Duryodhana was not sat-\n",
            "isfied with his share of the king dom. He wanted the entire kingdom \n",
            "for himself. He unsuccessfully planned several foul pl ays to kill the \n",
            "Pandavas and take away their kingdom also. He unlawfully took \n",
            "possession of the entire kingdom of the P andavas and refused to \n",
            "give back even an acre of land without a war. All mediation by Lord \n",
            "Krishna and others failed. The big war of Mah abharata was thus \n",
            "inevitable. The P andavas were unwilling par ticipants. They had \n",
            "only two choices: Fight for their right as a matter of duty or run \n",
            "away from war and accept defeat for the sake of peace and nonvi-\n",
            "olence. Arjuna, one of the five P andava brothers, faced th is di-\n",
            "lemma in the battle field: Whether to fight or run away from war for \n",
            "peace. \n",
            " Arjuna’s dilemma is, in reality, the Universal Dilemma. All hu-\n",
            "man beings face dilemmas, big or small, in their everyday life wh ile \n",
            "performing their duties. Arjuna’s dilemma was a big one. He had to \n",
            "make a choice between fighting the war and killing his most \n",
            "revered guru who was on the other side, very dear friends, close \n",
            "relatives, and many innocent warriors; or run ning away from the \n",
            " \n",
            " battlefield for the sake of preser ving peace and nonviolence. The \n",
            "entire seven hundred verses of the Bhagavad -Gita are a discourse \n",
            "between Lord Krishna and the confused Arjuna on the battlefield \n",
            "near New Delhi, India, in 3,139 BCE. This discourse was narrated \n",
            "to the blind king, Dhritar ashtra, by his charioteer, Sanjaya, as an \n",
            "eyewitness war report. \n",
            " The word ‘Bhagavad’ means the Supreme Being , God or Bha-\n",
            "gavan in Sanskrit. ‘Gita’ means song. Thus , Bhagavad -Gita means \n",
            "the Song of God or The Celestial Song, because it was sung by \n",
            "Bhagav an Lord Krishna , an incarnation of God Himself. \n",
            " \n",
            "CHAPTER 1 \n",
            "1. Arjuna’s Dilemma \n",
            "The blind King inquired from his charioteer : O Sanjaya, tell me \n",
            "in detail, what did my sons and the P andavas do in the battlefield \n",
            "before the war started? (1.01) \n",
            "Chapter Summary \n",
            "Sanjaya said: Arjuna asked his charioteer -friend, Lord Krishna, \n",
            "to drive his chariot between the two armies so that he could see \n",
            "the arm ies on both sides . Arjuna felt great compas sion to see his \n",
            "friends and relatives on the opposite side, whom he must kill to win \n",
            "this war. He became confused, spoke of the evils of war, and re-\n",
            "fused to fight or do his duty as a warrior . \n",
            "Arjuna sat down on the back seat of the chariot with his mind \n",
            "overwhelmed with sorrow. ( Verse 1.47) \n",
            " \n",
            "NOTE : Some non -essential verses from Chapters 1 and 2 only \n",
            "have been omitted for ease of understanding the teachings of the \n",
            "Gita by the first time readers. \n",
            "CHAPTER 2 \n",
            "2. Spiritual knowledge \n",
            "Sanjaya said: Lord Krishna spoke these words to Arjuna whose \n",
            "eyes were tearful and downcast, and who was overwhelmed with \n",
            "compassion and despair. (2.01) O King, Lord Krishna, as if smiling, \n",
            "spoke these words to distressed Arjuna in the midst of the two ar-\n",
            "mies. (2.10) \n",
            "Teachings of the Gita begins \n",
            " Important verses are high lighted . First time readers should \n",
            "read and understand thes e verses first. \n",
            " \n",
            " The Supreme Lord said: You grieve for those who are not wor-\n",
            "thy of grief; and yet speak words of wisdom. The wise grieve nei-\n",
            "ther for the living nor for the dead. (2.11) There was never a time \n",
            "when these monarchs, you, or I did not exist, nor shall we ever \n",
            "cease to exist in the future. (2.12) Just as a living being acquires a \n",
            "childhood body, a youth body, and an old -age body during this life; \n",
            "similarly, it acquires another new body after death. The wise are \n",
            "not deluded by this. (2.13) The contacts of the senses with the \n",
            "sense objects give rise to the feelings of heat and cold, pain and \n",
            "pleasure. They are transitory and impermanent. Therefore, learn \n",
            "to endure them, O Arjuna, (2.1 4) because a calm person — who is \n",
            "not \n"
          ]
        }
      ]
    },
    {
      "cell_type": "markdown",
      "source": [
        "- Keep 100 words per line inside text"
      ],
      "metadata": {
        "id": "K2jVl0QMJ6VW"
      }
    },
    {
      "cell_type": "code",
      "source": [
        "word_list = []\n",
        "new_text_file = ''\n",
        "\n",
        "for line in text_file.split('\\n'):\n",
        "    words = line.split()\n",
        "    for word in words:\n",
        "        word_list.append(word)\n",
        "        if len(word_list) == 200:\n",
        "            new_text_file += ' '.join(word_list) + '\\n'\n",
        "            word_list = []\n",
        "\n",
        "if word_list:\n",
        "    new_text_file += ' '.join(word_list) + '\\n'\n"
      ],
      "metadata": {
        "id": "FvWru40_F0Rh"
      },
      "execution_count": 13,
      "outputs": []
    },
    {
      "cell_type": "code",
      "source": [
        "print(new_text_file[:8000])"
      ],
      "metadata": {
        "colab": {
          "base_uri": "https://localhost:8080/"
        },
        "id": "FURAL8FxF0Pg",
        "outputId": "32c550b8-a184-4a08-df10-dac96231a79d"
      },
      "execution_count": 14,
      "outputs": [
        {
          "output_type": "stream",
          "name": "stdout",
          "text": [
            "BHAGAVAD -GITA in ENGLISH Author: Sage Veda Vy asa Translat ed in English : Ramananda Prasad , Ph.D. Language Editor s: Needed Contact: rprasad@gita -society.com ***** “Let noble thoughts come to us from everywhere” (The Vedas) INTRODUCTION The Bhagavad -Gita is a doctrine of universal truth and a book of moral and spiritual growth . Its message is sublime and non -sec- tarian . It deals with the most sacred metaphysi cal science. It im- parts the knowledge of the Self and answers two universal ques- tions: Who am I, and how can I lead a happy and peaceful life in this wor d full of dualities and dilemmas ? It's a timeless book of wisdom that inspired Thoreau, Emerson, Einstein, Oppenheimer, Gandhi and many others. The Bhagavad - Gita teaches us how to equip ourselves for the battle of life. A re- peated study with faith purifies our psyche and guides us to face the challenges of modern livin g leading to inner peace and happi- ness. Gita teaches the spiritual science of Self -realization (SR) based on the essence of Upanishads and Vedanta. The prime message of the Gita is : The ultimate purpose of life is to\n",
            "realize one’s essen- tial nature and become one with the Supreme Self within all of us . It assures spiritual progress for all humans, and ho w to be one with the Supreme. Its teachings are profound, universal, uplifting, and sublime. The ignorance of metaphysical or Spiritual knowledge —not knowing our real identity —is humanity’s greatest predicament. It is said that there is no human mind that cannot be purified by a re- peated study of the Gita. Gita explains the basic principles of spir- itual science — using Sanskrit poetry — in a very clear and inspiring manner. Sacred relationship between the Creator and the creation is well established in the G ita. If one lives in the spirit of even a few verses of the Gita, one’s life will be transformed into divinity. The philosophy of duty, devotion and Self -knowledge is won- derfully synthesized and harmonized in the Gita —without creating any conflict among t hem—to give the reader eternal bliss, everlast- ing peace and perennial joy in life. It awakens Cosmic Conscious- ness and stimulates life with spirituality. Religion tends to create a wall of division and conflicts along religious lines. Whereas, spirit- uality unites people\n",
            "by breaking those walls. A spiritual person is a friend of all and a foe of none, because he considers all crea- tures —living or non -living —as part and parcel of the Cosmic body of the Absolute , the Source . The message of the Gita came to huma nity due to Arjuna’s unwill ingness to do his duty as a warrior , because fighting in volved destr uction and killing. Nonviolence or Ahi nsa is one of the most fundamen tal tenets of spiritual culture. All lives, human or non -hu- man, are sacred. This immortal discourse between the Supreme Lord, Krishna, and His devotee -friend, Arjuna, occurs not in a tem- ple, a secluded forest, or on a mountain top ; but on a battlefield on the eve of a big war. Anyone can be helped by practice of only a few of its teach ings. No change of one’s faith or life -style is needed ! A total of seven hundred (700) verses of the Gita, in 18 chap- ters, are recorded in world’s longest epic, Mah abharata, having over 100,000 verses in Sanskrit poetry . In Gita Lord Krishna ad- vises Arjuna to get up\n",
            "and fight. This may create a misunderstand- ing of the prin ciples of non-violence if the background of the war of Mahabharata is not kept in mind. Therefore, a brief historical de- scription is in order. In ancient times there was a king who had t wo sons, Dhri- tarashtra and P andu. The former was born blind; therefore, P andu inherited the kingdom. P andu had five sons. They were called the Pandavas. Dhritar ashtra had one hundred sons. They were called the Kauravas. Duryodhana was the eldest of the Kauravas. After the death of king P andu, the eldest son of P andu became the lawful King. Duryodhana was a very jealous person. He also wanted the king dom. The ki ngdom was divided into two halves be- tween the P andavas and the Kauravas. Duryodhana was not sat- isfied with his share of the king dom. He wanted the entire kingdom for himself. He unsuccessfully planned several foul pl ays to kill the Pandavas and take away their kingdom also. He unlawfully took possession of the entire kingdom of the P andavas and refused to give back even an acre of land without a war. All mediation\n",
            "by Lord Krishna and others failed. The big war of Mah abharata was thus inevitable. The P andavas were unwilling par ticipants. They had only two choices: Fight for their right as a matter of duty or run away from war and accept defeat for the sake of peace and nonvi- olence. Arjuna, one of the five P andava brothers, faced th is di- lemma in the battle field: Whether to fight or run away from war for peace. Arjuna’s dilemma is, in reality, the Universal Dilemma. All hu- man beings face dilemmas, big or small, in their everyday life wh ile performing their duties. Arjuna’s dilemma was a big one. He had to make a choice between fighting the war and killing his most revered guru who was on the other side, very dear friends, close relatives, and many innocent warriors; or run ning away from the battlefield for the sake of preser ving peace and nonviolence. The entire seven hundred verses of the Bhagavad -Gita are a discourse between Lord Krishna and the confused Arjuna on the battlefield near New Delhi, India, in 3,139 BCE. This discourse was narrated to the blind king, Dhritar ashtra, by his charioteer,\n",
            "Sanjaya, as an eyewitness war report. The word ‘Bhagavad’ means the Supreme Being , God or Bha- gavan in Sanskrit. ‘Gita’ means song. Thus , Bhagavad -Gita means the Song of God or The Celestial Song, because it was sung by Bhagav an Lord Krishna , an incarnation of God Himself. CHAPTER 1 1. Arjuna’s Dilemma The blind King inquired from his charioteer : O Sanjaya, tell me in detail, what did my sons and the P andavas do in the battlefield before the war started? (1.01) Chapter Summary Sanjaya said: Arjuna asked his charioteer -friend, Lord Krishna, to drive his chariot between the two armies so that he could see the arm ies on both sides . Arjuna felt great compas sion to see his friends and relatives on the opposite side, whom he must kill to win this war. He became confused, spoke of the evils of war, and re- fused to fight or do his duty as a warrior . Arjuna sat down on the back seat of the chariot with his mind overwhelmed with sorrow. ( Verse 1.47) NOTE : Some non -essential verses from Chapters 1 and 2 only have been omitted for ease of\n",
            "understanding the teachings of the Gita by the first time readers. CHAPTER 2 2. Spiritual knowledge Sanjaya said: Lord Krishna spoke these words to Arjuna whose eyes were tearful and downcast, and who was overwhelmed with compassion and despair. (2.01) O King, Lord Krishna, as if smiling, spoke these words to distressed Arjuna in the midst of the two ar- mies. (2.10) Teachings of the Gita begins Important verses are high lighted . First time readers should read and understand thes e verses first. The Supreme Lord said: You grieve for those who are not wor- thy of grief; and yet speak words of wisdom. The wise grieve nei- ther for the living nor for the dead. (2.11) There was never a time when these monarchs, you, or I did not exist, nor shall we ever cease to exist in the future. (2.12) Just as a living being acquires a childhood body, a youth body, and an old -age body during this life; similarly, it acquires another new body after death. The wise are not deluded by this. (2.13) The contacts of the senses with the sense objects give rise to the feelings of heat and cold, pain and pleasure.\n",
            "They are transitory and impermanent. Therefore, learn to endure them, O Arjuna, (2.1 4) because a calm person — who is not afflicted by these sense objects, and is steady in pain and pleasure — becomes fit for immortality, O Arjuna. (2.15) The spiri\n"
          ]
        }
      ]
    },
    {
      "cell_type": "code",
      "source": [
        "len(new_text_file.split('\\n')[0].split())"
      ],
      "metadata": {
        "colab": {
          "base_uri": "https://localhost:8080/"
        },
        "id": "Egfuqi6-Hf2u",
        "outputId": "c461ebdd-be7c-46ad-9d60-ba4dcf710937"
      },
      "execution_count": 15,
      "outputs": [
        {
          "output_type": "execute_result",
          "data": {
            "text/plain": [
              "200"
            ]
          },
          "metadata": {},
          "execution_count": 15
        }
      ]
    },
    {
      "cell_type": "markdown",
      "source": [
        "### Split the text into training and validation sets"
      ],
      "metadata": {
        "id": "DUO4loorLsA9"
      }
    },
    {
      "cell_type": "code",
      "source": [
        "# Split the text into training and validation sets\n",
        "\n",
        "train_fraction = 0.8\n",
        "split_index = int(train_fraction * len(new_text_file))\n",
        "\n",
        "train_text = new_text_file[:split_index]\n",
        "val_text = new_text_file[split_index:]"
      ],
      "metadata": {
        "id": "Au9dHz2IcOLa"
      },
      "execution_count": 16,
      "outputs": []
    },
    {
      "cell_type": "code",
      "source": [
        "len(train_text)"
      ],
      "metadata": {
        "colab": {
          "base_uri": "https://localhost:8080/"
        },
        "id": "_7YIqYzIawcO",
        "outputId": "fab3bce9-44f0-4d69-b5ed-cf938e802cb9"
      },
      "execution_count": 17,
      "outputs": [
        {
          "output_type": "execute_result",
          "data": {
            "text/plain": [
              "103812"
            ]
          },
          "metadata": {},
          "execution_count": 17
        }
      ]
    },
    {
      "cell_type": "code",
      "source": [
        "# Save the training and validation data as text files\n",
        "\n",
        "with open(\"train.txt\", \"w\") as f:\n",
        "    f.write(train_text)\n",
        "\n",
        "with open(\"val.txt\", \"w\") as f:\n",
        "    f.write(val_text)"
      ],
      "metadata": {
        "id": "ABHKmK7ZcUlA"
      },
      "execution_count": 18,
      "outputs": []
    },
    {
      "cell_type": "markdown",
      "source": [
        "### Load pre-trained tokenizer - GP2Tokenizer"
      ],
      "metadata": {
        "id": "Y1hlYtjjML1r"
      }
    },
    {
      "cell_type": "markdown",
      "source": [
        "The GPT2Tokenizer is based on ***Byte-Pair-Encoding***.\n",
        "\n",
        "Byte-Pair Encoding (BPE) was initially developed as an algorithm to compress texts, and then used by OpenAI for tokenization when pretraining the GPT model.\n",
        "\n",
        "In BPE, new tokens are added until the desired vocabulary size is reached by learning ***merges***, which are rules to merge two elements of the existing vocabulary together into a new one.\n",
        "\n",
        "Below figure shows how the vocabulary updates as the BPE algorithm progresses.\n",
        "\n",
        "<br>\n",
        "<center>\n",
        "<img src=\"https://cdn.iisc.talentsprint.com/AIandMLOps/Images/Byte-pair-encoding.png\" width=450px>\n",
        "</center>\n",
        "\n",
        "To know more about Byte-Pair Encoding, refer [here](https://huggingface.co/learn/nlp-course/chapter6/5?fw=pt#byte-pair-encoding-tokenization).\n",
        "\n",
        "<br>\n",
        "\n",
        "Some of the parameters required to create a GP2Tokenizer includes:\n",
        "\n",
        "- ***vocab_file (str):*** path to the vocabulary json file; maps token to integer ids\n",
        "\n",
        "- ***merges_file (str):*** path to the ***merges*** file; contains the merge rule; The merge rule file should have one merge rule per line. Every merge rule contains merge entities separated by a space.\n",
        "\n"
      ],
      "metadata": {
        "id": "6LIwiw1qnGIc"
      }
    },
    {
      "cell_type": "markdown",
      "source": [
        "Here, we will instantiate a GPT-2 tokenizer from a predefined tokenizer using `from_pretrained()` method.\n",
        "\n",
        "It includes a parameter:\n",
        "\n",
        "- ***pretrained_model_name_or_path:*** It can be a string of a predefined tokenizer hosted inside a model repo on huggingface.co.\n",
        "\n",
        "    For example: *gpt2, gpt2-medium, gpt2-large, or gpt2-xl*\n",
        "\n",
        "    This will download the corresponding vocab, merges, and config files."
      ],
      "metadata": {
        "id": "HXxBS2ShDIYH"
      }
    },
    {
      "cell_type": "code",
      "source": [
        "# Set up the tokenizer\n",
        "checkpoint = \"gpt2\"\n",
        "tokenizer = GPT2Tokenizer.from_pretrained(checkpoint)    # also try gpt2, gpt2-large and gpt2-medium, also gpt2-xl\n",
        "\n",
        "# set pad_token_id to unk_token_id\n",
        "tokenizer.pad_token = tokenizer.unk_token"
      ],
      "metadata": {
        "id": "-qiMe9TAplyj",
        "colab": {
          "base_uri": "https://localhost:8080/",
          "height": 177,
          "referenced_widgets": [
            "1a69165b11024be897cffd8be34983f3",
            "052cdafe43c94b4f9fb31c1fda770c7e",
            "0e3e5f70af2b4d59b0c1b35c0b354b02",
            "3ab307ec7a4648e891ac025c069e1976",
            "472ad1c550bf472ba6a9fdb1a44cd1ad",
            "3e755efdb6494537b6cc533fb5661d24",
            "9d73025178b244a4938d25f495affff1",
            "10f8a24021ac4da38945a23633d45555",
            "db6744d24dac448eabcfc89623b541ea",
            "eaa88bdbca5742e8b9f526e2fa35bcc6",
            "09a6e42af5fd47d6b6190318fb57a38c",
            "5d5d655d973b48c49bf2eecf749037a1",
            "418a0d292f184638887e8e87ecc91524",
            "1966adc6bc0f4d71b9b382c56726568a",
            "4e62443fd4da4b73800087500e4a6d45",
            "d332fe1e9659410ab944c0ca9ae63778",
            "df27a0bb12d248b28432c9b6997d1355",
            "dcd9fb75e7ab45d8a98ae32f93217c55",
            "7eb04de270c24366ae5fca5a418e2963",
            "7f16b4dafcda4cd9b3a6d7de6ffff655",
            "be0b9e72b5244ebdaa648a047f2e7504",
            "a424fca70e7445adb7ebd14be3274b3c",
            "c8858a85c1694c01997c575dd8fbc899",
            "af9c883440d448c5a1a645ec5dfb630c",
            "0278556ba11c4ed5b7e417659b2a0edd",
            "25c9874083524bd490cedcf6576496a3",
            "83f647baaad640b49503217ba7cbe2e2",
            "3947e4e1bfd44adda53b0dc596582451",
            "484ac0cc12a740548615678915cbebf0",
            "57478a29bdb54d998e0a24ef0d2c0df6",
            "4c06da63b2d544ddab0b0bda2adc77d4",
            "e6a159ae7aab4e799568f8ca8b2a465b",
            "554137d5c1bb4f498beefaa7769932be",
            "d1534802268f436abbc8bc54c15722cc",
            "1ad7e4dde5174a13800eaa33b7ed71ab",
            "6f2af1430ae84ba4bad2417d91a2dcb8",
            "edaa64af466f43c68a30feb02d825019",
            "e9b3af59bb22487699e55a540a7e5cb2",
            "5570cdd86b31417585182252e2776e06",
            "12ff5f856dbb4c9a8052ba3cf6f84c02",
            "8b056e3e1d1b498387402c82453f5705",
            "4c4da30387d94a26a71c522f3ae34f65",
            "a22066f3528049f3826f403d1fd672f5",
            "11bf2612265048b0b5c75add9c200cc8",
            "b5dd0772d6b34041897f0a83ff243881",
            "d0a9795e1b9e42cba3f8e927a646fd6b",
            "cec541f8c3a3413495fcd26f3995e2f5",
            "6b65ff1aba004b2e9758e584335c1703",
            "a066c88e12eb470aa0e9e1da85ed7c44",
            "d976f0e5d6ec45739264af1b0cf6cc89",
            "01f1caf645bb4b3f825e907707f8b695",
            "93d2bfcfbd1c4370b4ac6b9aaf4bb8a9",
            "107540f7f16f45909d9d014b5acb83cf",
            "a271f2f228d74a228f980f11351ffe81",
            "bc082076d4cc4dc2baffdbad17091ac8"
          ]
        },
        "outputId": "e499154f-88ee-4168-d593-be1aa113f954"
      },
      "execution_count": 19,
      "outputs": [
        {
          "output_type": "display_data",
          "data": {
            "text/plain": [
              "tokenizer_config.json:   0%|          | 0.00/26.0 [00:00<?, ?B/s]"
            ],
            "application/vnd.jupyter.widget-view+json": {
              "version_major": 2,
              "version_minor": 0,
              "model_id": "1a69165b11024be897cffd8be34983f3"
            }
          },
          "metadata": {}
        },
        {
          "output_type": "display_data",
          "data": {
            "text/plain": [
              "vocab.json:   0%|          | 0.00/1.04M [00:00<?, ?B/s]"
            ],
            "application/vnd.jupyter.widget-view+json": {
              "version_major": 2,
              "version_minor": 0,
              "model_id": "5d5d655d973b48c49bf2eecf749037a1"
            }
          },
          "metadata": {}
        },
        {
          "output_type": "display_data",
          "data": {
            "text/plain": [
              "merges.txt:   0%|          | 0.00/456k [00:00<?, ?B/s]"
            ],
            "application/vnd.jupyter.widget-view+json": {
              "version_major": 2,
              "version_minor": 0,
              "model_id": "c8858a85c1694c01997c575dd8fbc899"
            }
          },
          "metadata": {}
        },
        {
          "output_type": "display_data",
          "data": {
            "text/plain": [
              "tokenizer.json:   0%|          | 0.00/1.36M [00:00<?, ?B/s]"
            ],
            "application/vnd.jupyter.widget-view+json": {
              "version_major": 2,
              "version_minor": 0,
              "model_id": "d1534802268f436abbc8bc54c15722cc"
            }
          },
          "metadata": {}
        },
        {
          "output_type": "display_data",
          "data": {
            "text/plain": [
              "config.json:   0%|          | 0.00/665 [00:00<?, ?B/s]"
            ],
            "application/vnd.jupyter.widget-view+json": {
              "version_major": 2,
              "version_minor": 0,
              "model_id": "b5dd0772d6b34041897f0a83ff243881"
            }
          },
          "metadata": {}
        }
      ]
    },
    {
      "cell_type": "code",
      "source": [
        "# Tokenize sample text using GP2Tokenizer\n",
        "sample_ids = tokenizer(\"Hello world\")\n",
        "sample_ids"
      ],
      "metadata": {
        "colab": {
          "base_uri": "https://localhost:8080/"
        },
        "id": "_l2MihgfwEPh",
        "outputId": "700a909b-2c52-4be1-b871-780a96803749"
      },
      "execution_count": 20,
      "outputs": [
        {
          "output_type": "execute_result",
          "data": {
            "text/plain": [
              "{'input_ids': [15496, 995], 'attention_mask': [1, 1]}"
            ]
          },
          "metadata": {},
          "execution_count": 20
        }
      ]
    },
    {
      "cell_type": "code",
      "source": [
        "# Generate tokens for sample text\n",
        "sample_tokens = tokenizer.convert_ids_to_tokens(sample_ids['input_ids'])\n",
        "sample_tokens"
      ],
      "metadata": {
        "colab": {
          "base_uri": "https://localhost:8080/"
        },
        "id": "sXYqWSzLwaBA",
        "outputId": "9d38a5f2-6287-4c26-a7d8-34385cabba2b"
      },
      "execution_count": 21,
      "outputs": [
        {
          "output_type": "execute_result",
          "data": {
            "text/plain": [
              "['Hello', 'Ġworld']"
            ]
          },
          "metadata": {},
          "execution_count": 21
        }
      ]
    },
    {
      "cell_type": "code",
      "source": [
        "# Generate original text back\n",
        "tokenizer.convert_tokens_to_string(sample_tokens)"
      ],
      "metadata": {
        "colab": {
          "base_uri": "https://localhost:8080/",
          "height": 35
        },
        "id": "sHuZKceCwNKm",
        "outputId": "6d83383e-5240-4431-d93f-5fa5cd943166"
      },
      "execution_count": 22,
      "outputs": [
        {
          "output_type": "execute_result",
          "data": {
            "text/plain": [
              "'Hello world'"
            ],
            "application/vnd.google.colaboratory.intrinsic+json": {
              "type": "string"
            }
          },
          "metadata": {},
          "execution_count": 22
        }
      ]
    },
    {
      "cell_type": "markdown",
      "source": [
        "### Tokenize text data"
      ],
      "metadata": {
        "id": "InX4FOvgP0mi"
      }
    },
    {
      "cell_type": "code",
      "source": [
        "from datasets import load_dataset"
      ],
      "metadata": {
        "id": "XwIjTYLjjWod"
      },
      "execution_count": 23,
      "outputs": []
    },
    {
      "cell_type": "code",
      "source": [
        "train_file_path = 'train.txt'\n",
        "val_file_path = 'val.txt'\n",
        "\n",
        "dataset = load_dataset(\"text\", data_files={\"train\": train_file_path,\n",
        "                                           \"validation\": val_file_path})"
      ],
      "metadata": {
        "colab": {
          "base_uri": "https://localhost:8080/",
          "height": 81,
          "referenced_widgets": [
            "df0795c6ff3d4e5291199cbe8cf403b3",
            "d467f440b55a4106a5228d322fd6f62d",
            "7dce90aac3f140cb944937c2ac9106a5",
            "402e594c5c284a3085d6fa4ff8a7eee3",
            "f6f57d6e4f3b4da49615ef9f5c210e6f",
            "9c05de83892d46989eab3f77200e8125",
            "9838e2420d1d4d4d83b4c0a7c03e69d5",
            "3192290c87b74559897477c6c43139dc",
            "d047da63b38443588629f61d7db13760",
            "b3b405b848674880a2728889b8da28b6",
            "84677db38b3e440cb86790561b33acfd",
            "35a00ee1bf324689a4e460c3f59790a3",
            "a62b5b8b4f404163b7515e9ca63b6de5",
            "e89bf4dccd564f3a92705a3f6f5ae440",
            "d47b2ba04f8b41dbb423845814b88d1a",
            "c27cd1787baa40a590e32be27af912a5",
            "86df82c64de847f59713893975cc8c36",
            "18d505ccbc994587bc2f37da1e03757c",
            "62d02ad5a8ae41da99627617073ad8ad",
            "3050fda7a26442749a1242c7c2618ec3",
            "baa6bffd3abc4fbf85a3d6a9411ee70a",
            "7fc6126814504abeb0141dc4a93d27e3"
          ]
        },
        "id": "T1tQt0spjWhr",
        "outputId": "0b23cc82-f77a-47f5-c4f5-c360a4226b95"
      },
      "execution_count": 24,
      "outputs": [
        {
          "output_type": "display_data",
          "data": {
            "text/plain": [
              "Generating train split: 0 examples [00:00, ? examples/s]"
            ],
            "application/vnd.jupyter.widget-view+json": {
              "version_major": 2,
              "version_minor": 0,
              "model_id": "df0795c6ff3d4e5291199cbe8cf403b3"
            }
          },
          "metadata": {}
        },
        {
          "output_type": "display_data",
          "data": {
            "text/plain": [
              "Generating validation split: 0 examples [00:00, ? examples/s]"
            ],
            "application/vnd.jupyter.widget-view+json": {
              "version_major": 2,
              "version_minor": 0,
              "model_id": "35a00ee1bf324689a4e460c3f59790a3"
            }
          },
          "metadata": {}
        }
      ]
    },
    {
      "cell_type": "code",
      "source": [
        "dataset"
      ],
      "metadata": {
        "colab": {
          "base_uri": "https://localhost:8080/"
        },
        "id": "pcyNf7_Wjan9",
        "outputId": "ac3e3b6a-4602-4b49-a587-714b9393108e"
      },
      "execution_count": 25,
      "outputs": [
        {
          "output_type": "execute_result",
          "data": {
            "text/plain": [
              "DatasetDict({\n",
              "    train: Dataset({\n",
              "        features: ['text'],\n",
              "        num_rows: 93\n",
              "    })\n",
              "    validation: Dataset({\n",
              "        features: ['text'],\n",
              "        num_rows: 23\n",
              "    })\n",
              "})"
            ]
          },
          "metadata": {},
          "execution_count": 25
        }
      ]
    },
    {
      "cell_type": "code",
      "source": [
        "dataset['train']['text'][0]"
      ],
      "metadata": {
        "colab": {
          "base_uri": "https://localhost:8080/",
          "height": 122
        },
        "id": "t5Eolw86jdW2",
        "outputId": "68aa358d-5943-4027-e06c-61ceb06fa7fc"
      },
      "execution_count": 26,
      "outputs": [
        {
          "output_type": "execute_result",
          "data": {
            "text/plain": [
              "\"BHAGAVAD -GITA in ENGLISH Author: Sage Veda Vy asa Translat ed in English : Ramananda Prasad , Ph.D. Language Editor s: Needed Contact: rprasad@gita -society.com ***** “Let noble thoughts come to us from everywhere” (The Vedas) INTRODUCTION The Bhagavad -Gita is a doctrine of universal truth and a book of moral and spiritual growth . Its message is sublime and non -sec- tarian . It deals with the most sacred metaphysi cal science. It im- parts the knowledge of the Self and answers two universal ques- tions: Who am I, and how can I lead a happy and peaceful life in this wor d full of dualities and dilemmas ? It's a timeless book of wisdom that inspired Thoreau, Emerson, Einstein, Oppenheimer, Gandhi and many others. The Bhagavad - Gita teaches us how to equip ourselves for the battle of life. A re- peated study with faith purifies our psyche and guides us to face the challenges of modern livin g leading to inner peace and happi- ness. Gita teaches the spiritual science of Self -realization (SR) based on the essence of Upanishads and Vedanta. The prime message of the Gita is : The ultimate purpose of life is to\""
            ],
            "application/vnd.google.colaboratory.intrinsic+json": {
              "type": "string"
            }
          },
          "metadata": {},
          "execution_count": 26
        }
      ]
    },
    {
      "cell_type": "code",
      "source": [
        "block_size = 512     # max tokens in an input sample\n",
        "\n",
        "def tokenize_function(examples):\n",
        "    return tokenizer(examples[\"text\"], padding='max_length', truncation=True, max_length=block_size, return_tensors='pt')\n",
        "\n",
        "tokenized_datasets = dataset.map(tokenize_function, batched=True)"
      ],
      "metadata": {
        "colab": {
          "base_uri": "https://localhost:8080/",
          "height": 81,
          "referenced_widgets": [
            "77ddcd6c01af40f1831540e37cb02655",
            "b3ff957730f14ed6aae5578b00caff83",
            "3c99e61c99f141f583ca5080c9d7bbcc",
            "016612d3f75a4bea92c9762a38772c6b",
            "6f50838e4f7c4f6cb32710b4878c078e",
            "271201851f264244b0cde71a6a698eb2",
            "3f78ce707b03445f8ea528fb318fdb4e",
            "41c48ee2b7804105acfc66e52d6a9b51",
            "ef995ce60d9f432d94dd6a05bf10f44a",
            "e397b379c891466685e9d5b5fc1629c5",
            "4e29317b50f0402bb561e8f57b96a308",
            "338fbc8d36cf42a6bb39e26477b1acba",
            "572d26abb79443d1879a8de139db9896",
            "b024a3c32b7c409d93601a4078aee304",
            "9736ff4c59d94068899269b91a5cf97d",
            "5a9f31908cef450288855eb94c1eede4",
            "7076770d94ca4eeeae969e52550c8b4a",
            "1c8b13d6977d482cbcf71843f10d41f7",
            "9140ad1433cc434a99b94215c3a4c782",
            "146c1c286dd3467c8e05fa6abc7af093",
            "5655a4ba9f564f5483907bf8ed5f5361",
            "f12c7d03a5ec42aba7bc2b51e6ee81fb"
          ]
        },
        "id": "fe593JNEj8xB",
        "outputId": "b1491baa-6faf-4deb-d961-b81170ac7369"
      },
      "execution_count": 27,
      "outputs": [
        {
          "output_type": "display_data",
          "data": {
            "text/plain": [
              "Map:   0%|          | 0/93 [00:00<?, ? examples/s]"
            ],
            "application/vnd.jupyter.widget-view+json": {
              "version_major": 2,
              "version_minor": 0,
              "model_id": "77ddcd6c01af40f1831540e37cb02655"
            }
          },
          "metadata": {}
        },
        {
          "output_type": "display_data",
          "data": {
            "text/plain": [
              "Map:   0%|          | 0/23 [00:00<?, ? examples/s]"
            ],
            "application/vnd.jupyter.widget-view+json": {
              "version_major": 2,
              "version_minor": 0,
              "model_id": "338fbc8d36cf42a6bb39e26477b1acba"
            }
          },
          "metadata": {}
        }
      ]
    },
    {
      "cell_type": "code",
      "source": [
        "tokenized_datasets"
      ],
      "metadata": {
        "colab": {
          "base_uri": "https://localhost:8080/"
        },
        "id": "u7hUV8OIkGbZ",
        "outputId": "25b70078-2b70-4155-a8aa-c4fb922dc3f5"
      },
      "execution_count": 28,
      "outputs": [
        {
          "output_type": "execute_result",
          "data": {
            "text/plain": [
              "DatasetDict({\n",
              "    train: Dataset({\n",
              "        features: ['text', 'input_ids', 'attention_mask'],\n",
              "        num_rows: 93\n",
              "    })\n",
              "    validation: Dataset({\n",
              "        features: ['text', 'input_ids', 'attention_mask'],\n",
              "        num_rows: 23\n",
              "    })\n",
              "})"
            ]
          },
          "metadata": {},
          "execution_count": 28
        }
      ]
    },
    {
      "cell_type": "code",
      "source": [
        "len(tokenized_datasets['train']['input_ids'][0])"
      ],
      "metadata": {
        "colab": {
          "base_uri": "https://localhost:8080/"
        },
        "id": "sotAhBQIks_Z",
        "outputId": "4d3c63e7-1043-4851-c0b4-e1ba552ac2bc"
      },
      "execution_count": 29,
      "outputs": [
        {
          "output_type": "execute_result",
          "data": {
            "text/plain": [
              "512"
            ]
          },
          "metadata": {},
          "execution_count": 29
        }
      ]
    },
    {
      "cell_type": "code",
      "source": [
        "tokenizer.decode(tokenized_datasets['train']['input_ids'][0])"
      ],
      "metadata": {
        "colab": {
          "base_uri": "https://localhost:8080/",
          "height": 122
        },
        "id": "hCUdQMcejalM",
        "outputId": "10cda4c5-f0f4-4a93-fae2-0982f731cd17"
      },
      "execution_count": 30,
      "outputs": [
        {
          "output_type": "execute_result",
          "data": {
            "text/plain": [
              "\"BHAGAVAD -GITA in ENGLISH Author: Sage Veda Vy asa Translat ed in English : Ramananda Prasad, Ph.D. Language Editor s: Needed Contact: rprasad@gita -society.com ***** “Let noble thoughts come to us from everywhere” (The Vedas) INTRODUCTION The Bhagavad -Gita is a doctrine of universal truth and a book of moral and spiritual growth. Its message is sublime and non -sec- tarian. It deals with the most sacred metaphysi cal science. It im- parts the knowledge of the Self and answers two universal ques- tions: Who am I, and how can I lead a happy and peaceful life in this wor d full of dualities and dilemmas? It's a timeless book of wisdom that inspired Thoreau, Emerson, Einstein, Oppenheimer, Gandhi and many others. The Bhagavad - Gita teaches us how to equip ourselves for the battle of life. A re- peated study with faith purifies our psyche and guides us to face the challenges of modern livin g leading to inner peace and happi- ness. Gita teaches the spiritual science of Self -realization (SR) based on the essence of Upanishads and Vedanta. The prime message of the Gita is : The ultimate purpose of life is to<|endoftext|><|endoftext|><|endoftext|><|endoftext|><|endoftext|><|endoftext|><|endoftext|><|endoftext|><|endoftext|><|endoftext|><|endoftext|><|endoftext|><|endoftext|><|endoftext|><|endoftext|><|endoftext|><|endoftext|><|endoftext|><|endoftext|><|endoftext|><|endoftext|><|endoftext|><|endoftext|><|endoftext|><|endoftext|><|endoftext|><|endoftext|><|endoftext|><|endoftext|><|endoftext|><|endoftext|><|endoftext|><|endoftext|><|endoftext|><|endoftext|><|endoftext|><|endoftext|><|endoftext|><|endoftext|><|endoftext|><|endoftext|><|endoftext|><|endoftext|><|endoftext|><|endoftext|><|endoftext|><|endoftext|><|endoftext|><|endoftext|><|endoftext|><|endoftext|><|endoftext|><|endoftext|><|endoftext|><|endoftext|><|endoftext|><|endoftext|><|endoftext|><|endoftext|><|endoftext|><|endoftext|><|endoftext|><|endoftext|><|endoftext|><|endoftext|><|endoftext|><|endoftext|><|endoftext|><|endoftext|><|endoftext|><|endoftext|><|endoftext|><|endoftext|><|endoftext|><|endoftext|><|endoftext|><|endoftext|><|endoftext|><|endoftext|><|endoftext|><|endoftext|><|endoftext|><|endoftext|><|endoftext|><|endoftext|><|endoftext|><|endoftext|><|endoftext|><|endoftext|><|endoftext|><|endoftext|><|endoftext|><|endoftext|><|endoftext|><|endoftext|><|endoftext|><|endoftext|><|endoftext|><|endoftext|><|endoftext|><|endoftext|><|endoftext|><|endoftext|><|endoftext|><|endoftext|><|endoftext|><|endoftext|><|endoftext|><|endoftext|><|endoftext|><|endoftext|><|endoftext|><|endoftext|><|endoftext|><|endoftext|><|endoftext|><|endoftext|><|endoftext|><|endoftext|><|endoftext|><|endoftext|><|endoftext|><|endoftext|><|endoftext|><|endoftext|><|endoftext|><|endoftext|><|endoftext|><|endoftext|><|endoftext|><|endoftext|><|endoftext|><|endoftext|><|endoftext|><|endoftext|><|endoftext|><|endoftext|><|endoftext|><|endoftext|><|endoftext|><|endoftext|><|endoftext|><|endoftext|><|endoftext|><|endoftext|><|endoftext|><|endoftext|><|endoftext|><|endoftext|><|endoftext|><|endoftext|><|endoftext|><|endoftext|><|endoftext|><|endoftext|><|endoftext|><|endoftext|><|endoftext|><|endoftext|><|endoftext|><|endoftext|><|endoftext|><|endoftext|><|endoftext|><|endoftext|><|endoftext|><|endoftext|><|endoftext|><|endoftext|><|endoftext|><|endoftext|><|endoftext|><|endoftext|><|endoftext|><|endoftext|><|endoftext|><|endoftext|><|endoftext|><|endoftext|><|endoftext|><|endoftext|><|endoftext|><|endoftext|><|endoftext|><|endoftext|><|endoftext|><|endoftext|><|endoftext|><|endoftext|><|endoftext|><|endoftext|><|endoftext|><|endoftext|><|endoftext|><|endoftext|><|endoftext|><|endoftext|><|endoftext|><|endoftext|><|endoftext|><|endoftext|><|endoftext|><|endoftext|><|endoftext|><|endoftext|><|endoftext|><|endoftext|><|endoftext|><|endoftext|><|endoftext|><|endoftext|><|endoftext|><|endoftext|><|endoftext|>\""
            ],
            "application/vnd.google.colaboratory.intrinsic+json": {
              "type": "string"
            }
          },
          "metadata": {},
          "execution_count": 30
        }
      ]
    },
    {
      "cell_type": "markdown",
      "source": [
        "### Data Collator\n",
        "\n",
        "Data collators are objects that:\n",
        "\n",
        "- will form a batch by using a list of dataset elements as input\n",
        "- may apply some processing (like padding)\n",
        "\n",
        "One of the data collators, `DataCollatorForLanguageModeling`, can also apply some random data augmentation (like random masking) on the formed batch.\n",
        "\n",
        "<br>\n",
        "\n",
        "`DataCollatorForLanguageModeling` is a data collator used for language modeling. Inputs are dynamically padded to the maximum length of a batch if they are not all of the same length.\n",
        "\n",
        "Parameters:\n",
        "\n",
        "- ***tokenizer:*** The tokenizer used for encoding the data.\n",
        "- ***mlm*** (bool, optional, default=True): Whether or not to use masked language modeling.\n",
        "    - If set to False, the labels are the same as the inputs with the padding tokens ignored (by setting them to -100).\n",
        "    - Otherwise, the labels are -100 for non-masked tokens and the value to predict for the masked token.\n",
        "- ***return_tensors*** (str): The type of Tensor to return. Allowable values are “np”, “pt” and “tf” for numpy array, pytorch tensor, and tensorflow tensor respectively.\n",
        "\n",
        "To know more about `DataCollatorForLanguageModeling` parameters, refer [here](https://huggingface.co/docs/transformers/v4.32.0/en/main_classes/data_collator#transformers.DataCollatorForLanguageModeling)."
      ],
      "metadata": {
        "id": "itcSXbZMib_Y"
      }
    },
    {
      "cell_type": "code",
      "source": [
        "# Create a Data collator object\n",
        "from transformers import DataCollatorForLanguageModeling\n",
        "data_collator = DataCollatorForLanguageModeling(tokenizer=tokenizer, mlm=False, return_tensors=\"pt\")"
      ],
      "metadata": {
        "id": "Z_XWmIF3cmhU"
      },
      "execution_count": 31,
      "outputs": []
    },
    {
      "cell_type": "markdown",
      "source": [
        "### Load pre-trained Model"
      ],
      "metadata": {
        "id": "uophCXjYq9MO"
      }
    },
    {
      "cell_type": "markdown",
      "source": [
        "***GPT2LMHeadModel*** is the GPT2 Model transformer with a language modeling head on top (linear layer with weights tied to the input embeddings).\n",
        "\n",
        "This model is a PyTorch `torch.nn.Module` subclass which can be used as a regular PyTorch Module.\n",
        "\n",
        "Parameters:\n",
        "\n",
        "- ***config (GPT2Config):*** Model configuration class with all the parameters of the model. Initializing with a config file does not load the weights associated with the model, only the configuration.\n",
        "\n",
        "Here, we will instantiate a pretrained pytorch model from a pre-trained model configuration, using `from_pretrained()` method, that will load the weights associated with the model."
      ],
      "metadata": {
        "id": "nuE_NdXuqvw0"
      }
    },
    {
      "cell_type": "code",
      "source": [
        "# Set up the model\n",
        "model = GPT2LMHeadModel.from_pretrained(checkpoint)    # also try gpt2, gpt2-large and gpt2-medium, also gpt2-xl"
      ],
      "metadata": {
        "id": "HxQWgssCqy7j",
        "colab": {
          "base_uri": "https://localhost:8080/",
          "height": 81,
          "referenced_widgets": [
            "3607093059b04ef386a11bc76beeb516",
            "33a0339f361d45ec96e4000d7bdd9b0a",
            "218d2de4f5b34c46bf9fbef7f41d5ec6",
            "791daaa7684b4547907b93ce5594ef6c",
            "9d21622a43fc4f9f94455486dba6dfc1",
            "51c220c92a6347638a5bc5f4486036e5",
            "078c0653bc9d4f8eb2cb326dc7d3d98a",
            "25d350d7282541dcab732e4749e550da",
            "27ee5431210b4c5bbe52f896f06a6a5b",
            "62dd2a7734da4106918b5223572b2b5b",
            "bd10d76d33d54ab2bd8358305b037b93",
            "117e848490b243cba128df05c80f67b7",
            "076c7e4ff8b54c7cabdfa0d70533d703",
            "9689e28cc0334fdd8af0650d3bf71dd0",
            "3bdbcc907b894cc78f6de2b1ea72db54",
            "d768a56ce39c4cba825ace6f794f04d9",
            "b63a5b8cc23b41779ef2e788c186c3ad",
            "63c117247e1f4edc8b55afb21c6ba2ff",
            "5ee1143add12460ab0224e0f7c71729e",
            "b7c8ea648b7442719b79a02fa445e086",
            "3958849bf6e74387a684eec3fafcea54",
            "6934816ea18b410c90bad0aaa8cb35d5"
          ]
        },
        "outputId": "0b76c5d1-0b2a-4cf9-c9b8-31361e13cd0f"
      },
      "execution_count": 32,
      "outputs": [
        {
          "output_type": "display_data",
          "data": {
            "text/plain": [
              "model.safetensors:   0%|          | 0.00/548M [00:00<?, ?B/s]"
            ],
            "application/vnd.jupyter.widget-view+json": {
              "version_major": 2,
              "version_minor": 0,
              "model_id": "3607093059b04ef386a11bc76beeb516"
            }
          },
          "metadata": {}
        },
        {
          "output_type": "display_data",
          "data": {
            "text/plain": [
              "generation_config.json:   0%|          | 0.00/124 [00:00<?, ?B/s]"
            ],
            "application/vnd.jupyter.widget-view+json": {
              "version_major": 2,
              "version_minor": 0,
              "model_id": "117e848490b243cba128df05c80f67b7"
            }
          },
          "metadata": {}
        }
      ]
    },
    {
      "cell_type": "markdown",
      "source": [
        "**Note: The training time for different GPT models with GPU for this dataset are as follows:**\n",
        "\n",
        "* **GPT-2 : ~25 minutes for 100 epochs**\n",
        "\n",
        "* **GPT-2 Medium:  ~1 hour for 100 epochs**\n",
        "\n",
        "* **GPT-2 Large : Run out of memory**"
      ],
      "metadata": {
        "id": "pM13pdhzJY8y"
      }
    },
    {
      "cell_type": "markdown",
      "source": [
        "### Fine-tune Model *(Switch to GPU runtime if needed)*"
      ],
      "metadata": {
        "id": "LdcpMx9QOPnU"
      }
    },
    {
      "cell_type": "markdown",
      "source": [
        "Train a GPT-2 model using the provided training arguments. Save the resulting trained model and tokenizer to a specified output directory."
      ],
      "metadata": {
        "id": "D1LqRO_Unfmk"
      }
    },
    {
      "cell_type": "markdown",
      "source": [
        "The `Trainer` class provides an API for feature-complete training in PyTorch for most standard use cases.\n",
        "\n",
        "Before instantiating your Trainer, create a `TrainingArguments` to access all the points of customization during training.\n",
        "\n",
        "`TrainingArguments` parameters:\n",
        "\n",
        "- ***output_dir*** (str): The output directory where the model predictions and checkpoints will be written.\n",
        "- ***overwrite_output_dir*** (bool, optional, default=False): If True, overwrite the content of the output directory. Use this to continue training if output_dir points to a checkpoint directory.\n",
        "- ***per_device_train_batch_size*** (int, optional, default=8): The batch size per GPU/TPU/MPS/NPU core/CPU for training.\n",
        "- ***per_device_eval_batch_size*** (int, optional, default=8): The batch size per GPU/TPU/MPS/NPU core/CPU for evaluation.\n",
        "- ***save_total_limit*** (int, optional): If a value is passed, will limit the total amount of checkpoints. Deletes the older checkpoints in output_dir.\n",
        "\n",
        "To know more about `TrainingArguments` parameters, refer [here](https://huggingface.co/docs/transformers/v4.32.0/en/main_classes/trainer#transformers.TrainingArguments).\n",
        "\n",
        "To know more about `Trainer` parameters, refer [here](https://huggingface.co/docs/transformers/v4.32.0/en/main_classes/trainer#transformers.Trainer)."
      ],
      "metadata": {
        "id": "J7pZfFvsopWT"
      }
    },
    {
      "cell_type": "code",
      "source": [
        "# Set up the training arguments\n",
        "\n",
        "model_output_path = \"/content/gpt2_model\"\n",
        "\n",
        "training_args = TrainingArguments(\n",
        "    output_dir = model_output_path,\n",
        "    overwrite_output_dir = True,\n",
        "    per_device_train_batch_size = 4, # try with 2\n",
        "    per_device_eval_batch_size = 4,  #  try with 2\n",
        "    num_train_epochs = 100,\n",
        "    save_steps = 1_000,\n",
        "    save_total_limit = 2,\n",
        "    logging_dir = './logs',\n",
        "    )"
      ],
      "metadata": {
        "id": "UPZiEvn2cuPR"
      },
      "execution_count": 33,
      "outputs": []
    },
    {
      "cell_type": "code",
      "source": [
        "# Train the model\n",
        "trainer = Trainer(\n",
        "    model = model,\n",
        "    args = training_args,\n",
        "    data_collator = data_collator,\n",
        "    train_dataset = tokenized_datasets[\"train\"],\n",
        "    eval_dataset = tokenized_datasets[\"validation\"],\n",
        ")"
      ],
      "metadata": {
        "id": "UQe5YHVKlfsY"
      },
      "execution_count": 34,
      "outputs": []
    },
    {
      "cell_type": "code",
      "source": [
        "trainer.train()"
      ],
      "metadata": {
        "colab": {
          "base_uri": "https://localhost:8080/",
          "height": 325
        },
        "id": "BUlxoIvFN4ra",
        "outputId": "f2f3d7a7-d144-406b-be82-d6d025dc83ac"
      },
      "execution_count": 35,
      "outputs": [
        {
          "data": {
            "text/html": [
              "\n",
              "    <div>\n",
              "      \n",
              "      <progress value='548' max='2400' style='width:300px; height:20px; vertical-align: middle;'></progress>\n",
              "      [ 548/2400 05:22 < 18:12, 1.70 it/s, Epoch 22.79/100]\n",
              "    </div>\n",
              "    <table border=\"1\" class=\"dataframe\">\n",
              "  <thead>\n",
              " <tr style=\"text-align: left;\">\n",
              "      <th>Step</th>\n",
              "      <th>Training Loss</th>\n",
              "    </tr>\n",
              "  </thead>\n",
              "  <tbody>\n",
              "    <tr>\n",
              "      <td>500</td>\n",
              "      <td>1.866900</td>\n",
              "    </tr>\n",
              "  </tbody>\n",
              "</table><p>"
            ],
            "text/plain": [
              "<IPython.core.display.HTML object>"
            ]
          },
          "metadata": {},
          "output_type": "display_data"
        },
        {
          "output_type": "display_data",
          "data": {
            "text/plain": [
              "<IPython.core.display.HTML object>"
            ],
            "text/html": [
              "\n",
              "    <div>\n",
              "      \n",
              "      <progress value='2400' max='2400' style='width:300px; height:20px; vertical-align: middle;'></progress>\n",
              "      [2400/2400 24:27, Epoch 100/100]\n",
              "    </div>\n",
              "    <table border=\"1\" class=\"dataframe\">\n",
              "  <thead>\n",
              " <tr style=\"text-align: left;\">\n",
              "      <th>Step</th>\n",
              "      <th>Training Loss</th>\n",
              "    </tr>\n",
              "  </thead>\n",
              "  <tbody>\n",
              "    <tr>\n",
              "      <td>500</td>\n",
              "      <td>1.866900</td>\n",
              "    </tr>\n",
              "    <tr>\n",
              "      <td>1000</td>\n",
              "      <td>0.316000</td>\n",
              "    </tr>\n",
              "    <tr>\n",
              "      <td>1500</td>\n",
              "      <td>0.078200</td>\n",
              "    </tr>\n",
              "    <tr>\n",
              "      <td>2000</td>\n",
              "      <td>0.041200</td>\n",
              "    </tr>\n",
              "  </tbody>\n",
              "</table><p>"
            ]
          },
          "metadata": {}
        },
        {
          "output_type": "execute_result",
          "data": {
            "text/plain": [
              "TrainOutput(global_step=2400, training_loss=0.484859410127004, metrics={'train_runtime': 1469.7276, 'train_samples_per_second': 6.328, 'train_steps_per_second': 1.633, 'total_flos': 2430015897600000.0, 'train_loss': 0.484859410127004, 'epoch': 100.0})"
            ]
          },
          "metadata": {},
          "execution_count": 35
        }
      ]
    },
    {
      "cell_type": "code",
      "source": [
        "# Save the model\n",
        "saved_model_path = \"/content/finetuned_gpt2_model\"\n",
        "trainer.save_model(saved_model_path)\n",
        "\n",
        "# Save the tokenizer\n",
        "tokenizer.save_pretrained(saved_model_path)"
      ],
      "metadata": {
        "colab": {
          "base_uri": "https://localhost:8080/"
        },
        "id": "UX-EmL_dc_H7",
        "outputId": "2864e4bf-8309-420d-88a1-641b19839c4e"
      },
      "execution_count": 36,
      "outputs": [
        {
          "output_type": "execute_result",
          "data": {
            "text/plain": [
              "('/content/finetuned_gpt2_model/tokenizer_config.json',\n",
              " '/content/finetuned_gpt2_model/special_tokens_map.json',\n",
              " '/content/finetuned_gpt2_model/vocab.json',\n",
              " '/content/finetuned_gpt2_model/merges.txt',\n",
              " '/content/finetuned_gpt2_model/added_tokens.json')"
            ]
          },
          "metadata": {},
          "execution_count": 36
        }
      ]
    },
    {
      "cell_type": "markdown",
      "source": [
        "### Test Model with user input prompts"
      ],
      "metadata": {
        "id": "4izo_-go8cDP"
      }
    },
    {
      "cell_type": "markdown",
      "source": [
        "##### Now, let us test the model with some prompt\n"
      ],
      "metadata": {
        "id": "m0JzfOFRcUDI"
      }
    },
    {
      "cell_type": "markdown",
      "source": [
        "The `generate_response()` function takes a trained *model*, *tokenizer*, and a *prompt* string as input and generates a response using the GPT-2 model."
      ],
      "metadata": {
        "id": "W8WnPwpHnz57"
      }
    },
    {
      "cell_type": "code",
      "source": [
        "def generate_response(model, tokenizer, prompt, max_length=200):\n",
        "\n",
        "    input_ids = tokenizer.encode(prompt, return_tensors=\"pt\")      # 'pt' for returning pytorch tensor\n",
        "\n",
        "    # Check the device of the model\n",
        "    device = next(model.parameters()).device\n",
        "\n",
        "    # Move input_ids to the same device as the model\n",
        "    input_ids = input_ids.to(device)\n",
        "\n",
        "    # Create the attention mask and pad token id\n",
        "    attention_mask = torch.ones_like(input_ids)\n",
        "    pad_token_id = tokenizer.eos_token_id\n",
        "\n",
        "    output = model.generate(\n",
        "        input_ids,\n",
        "        max_length=max_length,\n",
        "        num_return_sequences=1,\n",
        "        attention_mask=attention_mask,\n",
        "        pad_token_id=pad_token_id\n",
        "    )\n",
        "\n",
        "    return tokenizer.decode(output[0], skip_special_tokens=True)\n"
      ],
      "metadata": {
        "id": "qeTKPArfgDJW"
      },
      "execution_count": 37,
      "outputs": []
    },
    {
      "cell_type": "code",
      "source": [
        "# Load the fine-tuned model and tokenizer\n",
        "\n",
        "my_model = GPT2LMHeadModel.from_pretrained(saved_model_path)\n",
        "my_tokenizer = GPT2Tokenizer.from_pretrained(saved_model_path)"
      ],
      "metadata": {
        "id": "pJJ3bzD9fsJv"
      },
      "execution_count": 38,
      "outputs": []
    },
    {
      "cell_type": "code",
      "source": [
        "# Testing\n",
        "\n",
        "prompt = \"How can one live a righteous life?\"           # Replace with your desired prompt\n",
        "response = generate_response(model, tokenizer, prompt)\n",
        "print(\"Generated response:\")\n",
        "response"
      ],
      "metadata": {
        "colab": {
          "base_uri": "https://localhost:8080/",
          "height": 122
        },
        "id": "hHRnPkIuWeCv",
        "outputId": "3bdbf56e-15eb-488a-a07b-54e4561e90d7"
      },
      "execution_count": 39,
      "outputs": [
        {
          "output_type": "stream",
          "name": "stdout",
          "text": [
            "Generated response:\n"
          ]
        },
        {
          "output_type": "execute_result",
          "data": {
            "text/plain": [
              "'How can one live a righteous life? How can one lead a happy and peaceful society? (6.01) Definition s of a righteous person The Supreme Lord said: There is no unforgivable sin in killing an aggressor. Whosoever helps and supports an aggressor is also an aggressor. (6.02) People are born from Karma or foul work. The responsibility for K armic acts of killing an aggressor lies with the aggressor. If there is no righteous person on earth, there is no righteous person. (6.03) A person is considered a relative if one does not injure another in the fight. A person is considered a friend if one helps and supports the aggressor. A person is considered a relative if one does not harm the aggressor. (6.04) Weapons are a friend if one is not killed in the war, and one is not killed in the war. A person is considered a friend if one is not killed in the'"
            ],
            "application/vnd.google.colaboratory.intrinsic+json": {
              "type": "string"
            }
          },
          "metadata": {},
          "execution_count": 39
        }
      ]
    },
    {
      "cell_type": "code",
      "source": [
        "# Testing\n",
        "\n",
        "prompt = \"What is the purpose of life?\"           # Replace with your desired prompt\n",
        "response = generate_response(model, tokenizer, prompt)\n",
        "print(\"Generated response:\")\n",
        "response"
      ],
      "metadata": {
        "colab": {
          "base_uri": "https://localhost:8080/",
          "height": 122
        },
        "id": "ULUD4riu8i3s",
        "outputId": "cc01a7f3-080a-41ab-c55c-14d6cf43c16b"
      },
      "execution_count": 40,
      "outputs": [
        {
          "output_type": "stream",
          "name": "stdout",
          "text": [
            "Generated response:\n"
          ]
        },
        {
          "output_type": "execute_result",
          "data": {
            "text/plain": [
              "'What is the purpose of life? The Supreme Lord said: It is to teach You the spiritual knowledge of the supreme secret, O Arjuna. (4.01) Know that all beings in this world are born from Karma -yoga. One who knows the Supreme Being and the minia- ture of God is eternal. (4.02) Theory of reincarnation and Karma -yoga are two different entities The Supreme Lord said: The eternal individual soul is called the Eternal Being or God. The nature of that individual soul is called the Super- soul. The nature of that entire being is called the Adhy atma. (4.03) Theory of reincarnation is a big mystery Because of the con- stant thought of reincarnation of the eternal individual soul by God is very difficult. (4.04) There is no doubt about it. The theory of reincarnation of the eternal individual soul by God is very difficult. (4.05) However,'"
            ],
            "application/vnd.google.colaboratory.intrinsic+json": {
              "type": "string"
            }
          },
          "metadata": {},
          "execution_count": 40
        }
      ]
    },
    {
      "cell_type": "code",
      "source": [
        "# Testing\n",
        "prompt = \"What is Karma?\"          # Replace with your desired prompt\n",
        "response = generate_response(model, tokenizer, prompt, max_length=150)\n",
        "print(\"Generated response:\")\n",
        "response"
      ],
      "metadata": {
        "colab": {
          "base_uri": "https://localhost:8080/",
          "height": 105
        },
        "id": "DBlBeSY7gDyO",
        "outputId": "a3d8baad-849b-4c9c-b016-63f386e2eae7"
      },
      "execution_count": 41,
      "outputs": [
        {
          "output_type": "stream",
          "name": "stdout",
          "text": [
            "Generated response:\n"
          ]
        },
        {
          "output_type": "execute_result",
          "data": {
            "text/plain": [
              "'What is Karma? (15.01) The Supreme Lord said: This Self -knowledge is revealed to a Self -realized person by whom the all -pervading mind is fully comprehended and is under control of the senses, and whose mind is ever free from all desires. (15.02) A person is called yogi who has both Self -knowledge and Self -realization, who is calm, who has control over the senses, and to whom a clod, a stone, and gold are the same. (15.03) A person is considered superior who is impartial towards compan- ions, friends, enemies, neutrals, arbiters, saints, and sinners. (15.04) Techniques of meditation A'"
            ],
            "application/vnd.google.colaboratory.intrinsic+json": {
              "type": "string"
            }
          },
          "metadata": {},
          "execution_count": 41
        }
      ]
    },
    {
      "cell_type": "code",
      "source": [
        "# Testing\n",
        "prompt = \"How to overcome dilemma or fear?\"          # Replace with your desired prompt\n",
        "response = generate_response(model, tokenizer, prompt, max_length=150)\n",
        "print(\"Generated response:\")\n",
        "response"
      ],
      "metadata": {
        "colab": {
          "base_uri": "https://localhost:8080/",
          "height": 105
        },
        "id": "8kqiUQz3Xi02",
        "outputId": "ccdf602b-7ea6-4b1b-dfbb-70030e65a406"
      },
      "execution_count": 42,
      "outputs": [
        {
          "output_type": "stream",
          "name": "stdout",
          "text": [
            "Generated response:\n"
          ]
        },
        {
          "output_type": "execute_result",
          "data": {
            "text/plain": [
              "'How to overcome dilemma or fear? (2.01) The wise, who are ever united with God, who are ever united with the Eternal Being, who constantly dwell in the Supreme Self with all desires completely stilled, and who are free from dualities of pleas- ure and pain, who constantly dwell in the Supreme Self with all desires completely stilled, O Arjuna. (2.10) Why one should not strive for perfection? One who is ever united with the Eternal Being, who is illuminated by Self -knowledge, and who is indifferent to dualities of pleas- ure and pain, who is undivided in both types of desires, and is neither born at the time of creation, nor does birth at'"
            ],
            "application/vnd.google.colaboratory.intrinsic+json": {
              "type": "string"
            }
          },
          "metadata": {},
          "execution_count": 42
        }
      ]
    },
    {
      "cell_type": "code",
      "source": [
        "# Testing\n",
        "prompt = \"How to control emotions during tough times?\"          # Replace with your desired prompt\n",
        "response = generate_response(model, tokenizer, prompt, max_length=150)\n",
        "print(\"Generated response:\")\n",
        "response"
      ],
      "metadata": {
        "colab": {
          "base_uri": "https://localhost:8080/",
          "height": 105
        },
        "id": "F_Li_5L9YPG-",
        "outputId": "37905a2e-6e54-45d5-fc29-f8b4ef6e52e1"
      },
      "execution_count": 43,
      "outputs": [
        {
          "output_type": "stream",
          "name": "stdout",
          "text": [
            "Generated response:\n"
          ]
        },
        {
          "output_type": "execute_result",
          "data": {
            "text/plain": [
              "'How to control emotions during tough times? How to develop the self -knowledge and control the mind during pleasure and pain? (14.01) A definition of yoga, the yogi who knows the Supreme Being explains the science of yoga. The path of Self -knowledge and control of the mind are thought to be the world’s two great mountains. The mind is the sustainer of consciousness, and intellect the mind is the self -knowledge. The yoga of meditation is also said to be the means of this world. (14.02 -03) One who meditates on the Supreme Being — as the great Lord of all beings — at the time of death with steadfast mind and devotion; who attains yogic perfection; and who'"
            ],
            "application/vnd.google.colaboratory.intrinsic+json": {
              "type": "string"
            }
          },
          "metadata": {},
          "execution_count": 43
        }
      ]
    },
    {
      "cell_type": "code",
      "source": [
        "# Testing\n",
        "prompt = \"Is there a way to achieve enlightenment?\"          # Replace with your desired prompt\n",
        "response = generate_response(model, tokenizer, prompt, max_length=150)\n",
        "print(\"Generated response:\")\n",
        "response"
      ],
      "metadata": {
        "colab": {
          "base_uri": "https://localhost:8080/",
          "height": 87
        },
        "id": "xMgWq9jdYiQp",
        "outputId": "99090b74-25a8-4c26-f042-23827a00cd65"
      },
      "execution_count": 44,
      "outputs": [
        {
          "output_type": "stream",
          "name": "stdout",
          "text": [
            "Generated response:\n"
          ]
        },
        {
          "output_type": "execute_result",
          "data": {
            "text/plain": [
              "'Is there a way to achieve enlightenment? (1.31) The Supreme Lord said: There is no unforgivable sinner, O Arjuna. There is no eternal punishment, O Arjuna. (1.32) The path of Selfless service (Sev a, Karma -yoga ) a guest of the Supreme Lord said: There is no unforgivable sinner, O Arjuna. (1.33) The path of Self -knowledge (Sev a, Karma -yoga ) a guest of the Supreme Lord said: There is no unforgivable sin or sinless sinner, O Arjuna. (1.34) The path of Self -knowledge (Sev a, Karma'"
            ],
            "application/vnd.google.colaboratory.intrinsic+json": {
              "type": "string"
            }
          },
          "metadata": {},
          "execution_count": 44
        }
      ]
    },
    {
      "cell_type": "markdown",
      "source": [
        "In the case of the GPT-2 tokenizer, the model uses a byte-pair encoding (BPE) algorithm, which tokenizes text into subword units. As a result, one word might be represented by multiple tokens.\n",
        "\n",
        "For example, if you set max_length to 50, the generated response will be limited to 50 tokens, which could be fewer than 50 words, depending on the text."
      ],
      "metadata": {
        "id": "XHcQBzdJeB27"
      }
    },
    {
      "cell_type": "markdown",
      "source": [
        "## Push your fine-tuned model to HuggingFace Model Hub"
      ],
      "metadata": {
        "id": "Pzz2iQ3BcLXx"
      }
    },
    {
      "cell_type": "markdown",
      "source": [
        "**Steps to push your fine-tuned model to HuggingFace Model Hub**\n",
        "\n",
        "1. [Sign up](https://huggingface.co/join) for a Hugging Face account\n",
        "2. Create an access token for your account and save it\n",
        "3. Store your access token in the Hugging Face cache folder within colab\n",
        "4. Push your fine-tuned model and tokenizer to Model Hub\n",
        "5. Load the model back from Hub and test it with user input prompts"
      ],
      "metadata": {
        "id": "4vbWDawDPDby"
      }
    },
    {
      "cell_type": "markdown",
      "source": [
        "* **Create an access token for your account**\n",
        "\n",
        "    Once you have an account, to create an access token:\n",
        "    \n",
        "    - Go to your `Settings`, then click on the `Access Tokens` tab. Click on the `New token` button to create a new User Access Token.\n",
        "    - Select a Token type as `Write` and give a name for your token\n",
        "    - Click on Create token\n",
        "    - Once a token is created save it somewhere\n",
        "    - When required later, use the old saved token or create a new token again\n",
        "\n",
        "    To know more about Access Tokens, refer [here](https://huggingface.co/docs/hub/security-tokens)."
      ],
      "metadata": {
        "id": "6R39dW0-VSsF"
      }
    },
    {
      "cell_type": "markdown",
      "source": [
        "* **Store your access token in the Hugging Face cache folder within colab**\n",
        "\n",
        "    Once you have your User Access Token, run the following command to authenticate your identity to the Hub.\n",
        "    - `!huggingface-cli login`\n",
        "    - Paste your Access token when prompted\n",
        "    - Type **n** when prompted to Add token as git credential? (Y/n)\n",
        "\n",
        "    For more details on login, refer [here](https://huggingface.co/docs/huggingface_hub/quick-start#login)."
      ],
      "metadata": {
        "id": "0qlXt3xcbT3l"
      }
    },
    {
      "cell_type": "code",
      "source": [
        "!huggingface-cli login"
      ],
      "metadata": {
        "colab": {
          "base_uri": "https://localhost:8080/"
        },
        "id": "CjgJ-czwhf0S",
        "outputId": "059e65cb-c9ac-4959-d9df-43f52f837886"
      },
      "execution_count": null,
      "outputs": [
        {
          "output_type": "stream",
          "name": "stdout",
          "text": [
            "\n",
            "    _|    _|  _|    _|    _|_|_|    _|_|_|  _|_|_|  _|      _|    _|_|_|      _|_|_|_|    _|_|      _|_|_|  _|_|_|_|\n",
            "    _|    _|  _|    _|  _|        _|          _|    _|_|    _|  _|            _|        _|    _|  _|        _|\n",
            "    _|_|_|_|  _|    _|  _|  _|_|  _|  _|_|    _|    _|  _|  _|  _|  _|_|      _|_|_|    _|_|_|_|  _|        _|_|_|\n",
            "    _|    _|  _|    _|  _|    _|  _|    _|    _|    _|    _|_|  _|    _|      _|        _|    _|  _|        _|\n",
            "    _|    _|    _|_|      _|_|_|    _|_|_|  _|_|_|  _|      _|    _|_|_|      _|        _|    _|    _|_|_|  _|_|_|_|\n",
            "\n",
            "    To login, `huggingface_hub` requires a token generated from https://huggingface.co/settings/tokens .\n",
            "Enter your token (input will not be visible): "
          ]
        }
      ]
    },
    {
      "cell_type": "markdown",
      "source": [
        "* **Push your fine-tuned model and tokenizer to Model Hub**\n",
        "\n",
        "    - Use `push_to_hub()` method of your model and tokenizer both, to push them on hub\n",
        "    - Specify name for your repository where the model and tokenizer will be pushed using `repo_id` parameter\n",
        "    - Push model and tokenizer to the same repository\n",
        "\n",
        "        - Use `push_to_hub()` method of your model. For parameter details, refer [here](https://huggingface.co/docs/transformers/main_classes/model#transformers.PreTrainedModel.push_to_hub).\n",
        "        - Use `push_to_hub()` method of your tokenizer. For parameter details, refer [here](https://huggingface.co/docs/transformers/main_classes/tokenizer#transformers.PreTrainedTokenizer.push_to_hub).\n",
        "        - Access your pushed model at `https://huggingface.co/[YOUR-USER-NAME]/[YOUR-MODEL-REPO-NAME]/tree/main`"
      ],
      "metadata": {
        "id": "lEYGFyJPeO7W"
      }
    },
    {
      "cell_type": "code",
      "source": [
        "# Push model\n",
        "my_repo = \"gita-text-generation-gpt2\"\n",
        "model.push_to_hub(repo_id= my_repo, commit_message= \"Upload fine-tuned model\")"
      ],
      "metadata": {
        "id": "ROyD_J42ls8T"
      },
      "execution_count": null,
      "outputs": []
    },
    {
      "cell_type": "code",
      "source": [
        "# Push tokenizer\n",
        "tokenizer.push_to_hub(repo_id= my_repo, commit_message= \"Upload tokenizer used\")"
      ],
      "metadata": {
        "id": "qm7WIMgymxPN"
      },
      "execution_count": null,
      "outputs": []
    },
    {
      "cell_type": "markdown",
      "source": [
        "Access your pushed model at `https://huggingface.co/[YOUR-USER-NAME]/[YOUR-MODEL-REPO-NAME]/tree/main`\n",
        "\n",
        "For example: https://huggingface.co/yrajm1997/gita-text-generation-gpt2/tree/main"
      ],
      "metadata": {
        "id": "M9AtJIlaoQOM"
      }
    },
    {
      "cell_type": "markdown",
      "source": [
        "* **Load the model and tokenizer back from Hub and test it with user input prompts**\n",
        "\n",
        "    - In many cases, the architecture you want to use can be guessed from the name or the path of the pretrained model you are supplying to the `from_pretrained()` method. **AutoClasses** can be used to automatically retrieve the relevant model given the name/path to the pretrained weights/config/vocabulary.\n",
        "\n",
        "    - Instantiating one of `AutoConfig`, `AutoModel`, and `AutoTokenizer` will directly create a class of the relevant architecture.\n",
        "\n",
        "    - When the GPT2 Model transformer has a language modeling head on top, you can use an auto class with language modeling head on top as well - `AutoModelWithLMHead`.\n",
        "\n",
        "    - Specify full path of your model repo i.e. ***''YOUR-USER-NAME/YOUR-REPO-NAME''*** while calling `from_pretrained()` method."
      ],
      "metadata": {
        "id": "eP1Ss8v3oynD"
      }
    },
    {
      "cell_type": "code",
      "source": [
        "from transformers import AutoModelWithLMHead, AutoTokenizer"
      ],
      "metadata": {
        "id": "KWCT1lR9nP8c"
      },
      "execution_count": null,
      "outputs": []
    },
    {
      "cell_type": "code",
      "source": [
        "username = \"yrajm1997\"      # change it to your HuggingFace username\n",
        "\n",
        "my_checkpoint = username + '/' + my_repo       # eg. \"yrajm1997/gita-text-generation-gpt2\"\n",
        "my_checkpoint"
      ],
      "metadata": {
        "id": "dH9iW4rkeyKW"
      },
      "execution_count": null,
      "outputs": []
    },
    {
      "cell_type": "code",
      "source": [
        "# Load your model from hub\n",
        "loaded_model = AutoModelWithLMHead.from_pretrained(my_checkpoint)"
      ],
      "metadata": {
        "id": "AtP-5fBzIF-d"
      },
      "execution_count": null,
      "outputs": []
    },
    {
      "cell_type": "code",
      "source": [
        "# Load your tokenizer from hub\n",
        "loaded_tokenizer = AutoTokenizer.from_pretrained(my_checkpoint)"
      ],
      "metadata": {
        "id": "5mtKza_LIOOG"
      },
      "execution_count": null,
      "outputs": []
    },
    {
      "cell_type": "code",
      "source": [
        "# Testing\n",
        "\n",
        "prompt = \"How can one live a righteous life?\"           # Replace with your desired prompt\n",
        "response = generate_response(loaded_model, loaded_tokenizer, prompt)\n",
        "print(\"Generated response:\")\n",
        "response"
      ],
      "metadata": {
        "id": "UwiKrOXEfZDi"
      },
      "execution_count": null,
      "outputs": []
    },
    {
      "cell_type": "markdown",
      "metadata": {
        "id": "ErjQyyi4nR2n"
      },
      "source": [
        "### Please answer the questions below to complete the experiment:\n",
        "\n",
        "\n"
      ]
    },
    {
      "cell_type": "code",
      "metadata": {
        "id": "VgSwVENIPcM6"
      },
      "source": [
        "#@title The architecture of GPT is very similar to: { run: \"auto\", form-width: \"500px\", display-mode: \"form\" }\n",
        "Answer = \"the decoder-only transformer\" #@param [\"\", \"the encoder-only transformer\", \"the decoder-only transformer\", \"the encoder-decoder transformer\", \"none of the above\"]"
      ],
      "execution_count": null,
      "outputs": []
    },
    {
      "cell_type": "code",
      "metadata": {
        "id": "NMzKSbLIgFzQ"
      },
      "source": [
        "#@title How was the experiment? { run: \"auto\", form-width: \"500px\", display-mode: \"form\" }\n",
        "Complexity = \"Good and Challenging for me\" #@param [\"\",\"Too Simple, I am wasting time\", \"Good, But Not Challenging for me\", \"Good and Challenging for me\", \"Was Tough, but I did it\", \"Too Difficult for me\"]"
      ],
      "execution_count": null,
      "outputs": []
    },
    {
      "cell_type": "code",
      "metadata": {
        "id": "DjcH1VWSFI2l"
      },
      "source": [
        "#@title If it was too easy, what more would you have liked to be added? If it was very difficult, what would you have liked to have been removed? { run: \"auto\", display-mode: \"form\" }\n",
        "Additional = \"NA\" #@param {type:\"string\"}"
      ],
      "execution_count": null,
      "outputs": []
    },
    {
      "cell_type": "code",
      "metadata": {
        "id": "4VBk_4VTAxCM"
      },
      "source": [
        "#@title Can you identify the concepts from the lecture which this experiment covered? { run: \"auto\", vertical-output: true, display-mode: \"form\" }\n",
        "Concepts = \"Yes\" #@param [\"\",\"Yes\", \"No\"]"
      ],
      "execution_count": null,
      "outputs": []
    },
    {
      "cell_type": "code",
      "metadata": {
        "id": "XH91cL1JWH7m"
      },
      "source": [
        "#@title  Text and image description/explanation and code comments within the experiment: { run: \"auto\", vertical-output: true, display-mode: \"form\" }\n",
        "Comments = \"Very Useful\" #@param [\"\",\"Very Useful\", \"Somewhat Useful\", \"Not Useful\", \"Didn't use\"]"
      ],
      "execution_count": null,
      "outputs": []
    },
    {
      "cell_type": "code",
      "metadata": {
        "id": "z8xLqj7VWIKW"
      },
      "source": [
        "#@title Mentor Support: { run: \"auto\", vertical-output: true, display-mode: \"form\" }\n",
        "Mentor_support = \"Very Useful\" #@param [\"\",\"Very Useful\", \"Somewhat Useful\", \"Not Useful\", \"Didn't use\"]"
      ],
      "execution_count": null,
      "outputs": []
    },
    {
      "cell_type": "code",
      "metadata": {
        "id": "FzAZHt1zw-Y-",
        "cellView": "form"
      },
      "source": [
        "#@title Run this cell to submit your notebook for grading { vertical-output: true }\n",
        "try:\n",
        "  if submission_id:\n",
        "      return_id = submit_notebook()\n",
        "      if return_id : submission_id = return_id\n",
        "  else:\n",
        "      print(\"Please complete the setup first.\")\n",
        "except NameError:\n",
        "  print (\"Please complete the setup first.\")"
      ],
      "execution_count": null,
      "outputs": []
    }
  ]
}