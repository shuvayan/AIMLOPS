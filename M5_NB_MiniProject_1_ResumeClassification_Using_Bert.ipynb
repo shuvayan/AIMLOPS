{
  "nbformat": 4,
  "nbformat_minor": 0,
  "metadata": {
    "colab": {
      "provenance": [],
      "gpuType": "T4",
      "include_colab_link": true
    },
    "kernelspec": {
      "name": "python3",
      "display_name": "Python 3"
    },
    "language_info": {
      "name": "python"
    },
    "accelerator": "GPU",
    "widgets": {
      "application/vnd.jupyter.widget-state+json": {
        "5e934d4c56d748e9a2ed0512e2418683": {
          "model_module": "@jupyter-widgets/controls",
          "model_name": "HBoxModel",
          "model_module_version": "1.5.0",
          "state": {
            "_dom_classes": [],
            "_model_module": "@jupyter-widgets/controls",
            "_model_module_version": "1.5.0",
            "_model_name": "HBoxModel",
            "_view_count": null,
            "_view_module": "@jupyter-widgets/controls",
            "_view_module_version": "1.5.0",
            "_view_name": "HBoxView",
            "box_style": "",
            "children": [
              "IPY_MODEL_79ff80154884439890a16a7705accb10",
              "IPY_MODEL_acaf402b255948dab9e68dfc477153d9",
              "IPY_MODEL_d7acb7ea95984e78818723edf065a07f"
            ],
            "layout": "IPY_MODEL_00499f1d50d5475c882a5625417b88ef"
          }
        },
        "79ff80154884439890a16a7705accb10": {
          "model_module": "@jupyter-widgets/controls",
          "model_name": "HTMLModel",
          "model_module_version": "1.5.0",
          "state": {
            "_dom_classes": [],
            "_model_module": "@jupyter-widgets/controls",
            "_model_module_version": "1.5.0",
            "_model_name": "HTMLModel",
            "_view_count": null,
            "_view_module": "@jupyter-widgets/controls",
            "_view_module_version": "1.5.0",
            "_view_name": "HTMLView",
            "description": "",
            "description_tooltip": null,
            "layout": "IPY_MODEL_8966f08ede45486e9658429934818e3f",
            "placeholder": "​",
            "style": "IPY_MODEL_14362d96bfba4474882341c8daa32303",
            "value": "Map: 100%"
          }
        },
        "acaf402b255948dab9e68dfc477153d9": {
          "model_module": "@jupyter-widgets/controls",
          "model_name": "FloatProgressModel",
          "model_module_version": "1.5.0",
          "state": {
            "_dom_classes": [],
            "_model_module": "@jupyter-widgets/controls",
            "_model_module_version": "1.5.0",
            "_model_name": "FloatProgressModel",
            "_view_count": null,
            "_view_module": "@jupyter-widgets/controls",
            "_view_module_version": "1.5.0",
            "_view_name": "ProgressView",
            "bar_style": "success",
            "description": "",
            "description_tooltip": null,
            "layout": "IPY_MODEL_48d3c81c2f9e4130855abb523b80ff97",
            "max": 615,
            "min": 0,
            "orientation": "horizontal",
            "style": "IPY_MODEL_5477a03c46184a74a237656d05c6d9e2",
            "value": 615
          }
        },
        "d7acb7ea95984e78818723edf065a07f": {
          "model_module": "@jupyter-widgets/controls",
          "model_name": "HTMLModel",
          "model_module_version": "1.5.0",
          "state": {
            "_dom_classes": [],
            "_model_module": "@jupyter-widgets/controls",
            "_model_module_version": "1.5.0",
            "_model_name": "HTMLModel",
            "_view_count": null,
            "_view_module": "@jupyter-widgets/controls",
            "_view_module_version": "1.5.0",
            "_view_name": "HTMLView",
            "description": "",
            "description_tooltip": null,
            "layout": "IPY_MODEL_7da3b4119bca49679040f967510f7152",
            "placeholder": "​",
            "style": "IPY_MODEL_f35b4971b08e4c028b079fccb558e8ce",
            "value": " 615/615 [00:01&lt;00:00, 510.19 examples/s]"
          }
        },
        "00499f1d50d5475c882a5625417b88ef": {
          "model_module": "@jupyter-widgets/base",
          "model_name": "LayoutModel",
          "model_module_version": "1.2.0",
          "state": {
            "_model_module": "@jupyter-widgets/base",
            "_model_module_version": "1.2.0",
            "_model_name": "LayoutModel",
            "_view_count": null,
            "_view_module": "@jupyter-widgets/base",
            "_view_module_version": "1.2.0",
            "_view_name": "LayoutView",
            "align_content": null,
            "align_items": null,
            "align_self": null,
            "border": null,
            "bottom": null,
            "display": null,
            "flex": null,
            "flex_flow": null,
            "grid_area": null,
            "grid_auto_columns": null,
            "grid_auto_flow": null,
            "grid_auto_rows": null,
            "grid_column": null,
            "grid_gap": null,
            "grid_row": null,
            "grid_template_areas": null,
            "grid_template_columns": null,
            "grid_template_rows": null,
            "height": null,
            "justify_content": null,
            "justify_items": null,
            "left": null,
            "margin": null,
            "max_height": null,
            "max_width": null,
            "min_height": null,
            "min_width": null,
            "object_fit": null,
            "object_position": null,
            "order": null,
            "overflow": null,
            "overflow_x": null,
            "overflow_y": null,
            "padding": null,
            "right": null,
            "top": null,
            "visibility": null,
            "width": null
          }
        },
        "8966f08ede45486e9658429934818e3f": {
          "model_module": "@jupyter-widgets/base",
          "model_name": "LayoutModel",
          "model_module_version": "1.2.0",
          "state": {
            "_model_module": "@jupyter-widgets/base",
            "_model_module_version": "1.2.0",
            "_model_name": "LayoutModel",
            "_view_count": null,
            "_view_module": "@jupyter-widgets/base",
            "_view_module_version": "1.2.0",
            "_view_name": "LayoutView",
            "align_content": null,
            "align_items": null,
            "align_self": null,
            "border": null,
            "bottom": null,
            "display": null,
            "flex": null,
            "flex_flow": null,
            "grid_area": null,
            "grid_auto_columns": null,
            "grid_auto_flow": null,
            "grid_auto_rows": null,
            "grid_column": null,
            "grid_gap": null,
            "grid_row": null,
            "grid_template_areas": null,
            "grid_template_columns": null,
            "grid_template_rows": null,
            "height": null,
            "justify_content": null,
            "justify_items": null,
            "left": null,
            "margin": null,
            "max_height": null,
            "max_width": null,
            "min_height": null,
            "min_width": null,
            "object_fit": null,
            "object_position": null,
            "order": null,
            "overflow": null,
            "overflow_x": null,
            "overflow_y": null,
            "padding": null,
            "right": null,
            "top": null,
            "visibility": null,
            "width": null
          }
        },
        "14362d96bfba4474882341c8daa32303": {
          "model_module": "@jupyter-widgets/controls",
          "model_name": "DescriptionStyleModel",
          "model_module_version": "1.5.0",
          "state": {
            "_model_module": "@jupyter-widgets/controls",
            "_model_module_version": "1.5.0",
            "_model_name": "DescriptionStyleModel",
            "_view_count": null,
            "_view_module": "@jupyter-widgets/base",
            "_view_module_version": "1.2.0",
            "_view_name": "StyleView",
            "description_width": ""
          }
        },
        "48d3c81c2f9e4130855abb523b80ff97": {
          "model_module": "@jupyter-widgets/base",
          "model_name": "LayoutModel",
          "model_module_version": "1.2.0",
          "state": {
            "_model_module": "@jupyter-widgets/base",
            "_model_module_version": "1.2.0",
            "_model_name": "LayoutModel",
            "_view_count": null,
            "_view_module": "@jupyter-widgets/base",
            "_view_module_version": "1.2.0",
            "_view_name": "LayoutView",
            "align_content": null,
            "align_items": null,
            "align_self": null,
            "border": null,
            "bottom": null,
            "display": null,
            "flex": null,
            "flex_flow": null,
            "grid_area": null,
            "grid_auto_columns": null,
            "grid_auto_flow": null,
            "grid_auto_rows": null,
            "grid_column": null,
            "grid_gap": null,
            "grid_row": null,
            "grid_template_areas": null,
            "grid_template_columns": null,
            "grid_template_rows": null,
            "height": null,
            "justify_content": null,
            "justify_items": null,
            "left": null,
            "margin": null,
            "max_height": null,
            "max_width": null,
            "min_height": null,
            "min_width": null,
            "object_fit": null,
            "object_position": null,
            "order": null,
            "overflow": null,
            "overflow_x": null,
            "overflow_y": null,
            "padding": null,
            "right": null,
            "top": null,
            "visibility": null,
            "width": null
          }
        },
        "5477a03c46184a74a237656d05c6d9e2": {
          "model_module": "@jupyter-widgets/controls",
          "model_name": "ProgressStyleModel",
          "model_module_version": "1.5.0",
          "state": {
            "_model_module": "@jupyter-widgets/controls",
            "_model_module_version": "1.5.0",
            "_model_name": "ProgressStyleModel",
            "_view_count": null,
            "_view_module": "@jupyter-widgets/base",
            "_view_module_version": "1.2.0",
            "_view_name": "StyleView",
            "bar_color": null,
            "description_width": ""
          }
        },
        "7da3b4119bca49679040f967510f7152": {
          "model_module": "@jupyter-widgets/base",
          "model_name": "LayoutModel",
          "model_module_version": "1.2.0",
          "state": {
            "_model_module": "@jupyter-widgets/base",
            "_model_module_version": "1.2.0",
            "_model_name": "LayoutModel",
            "_view_count": null,
            "_view_module": "@jupyter-widgets/base",
            "_view_module_version": "1.2.0",
            "_view_name": "LayoutView",
            "align_content": null,
            "align_items": null,
            "align_self": null,
            "border": null,
            "bottom": null,
            "display": null,
            "flex": null,
            "flex_flow": null,
            "grid_area": null,
            "grid_auto_columns": null,
            "grid_auto_flow": null,
            "grid_auto_rows": null,
            "grid_column": null,
            "grid_gap": null,
            "grid_row": null,
            "grid_template_areas": null,
            "grid_template_columns": null,
            "grid_template_rows": null,
            "height": null,
            "justify_content": null,
            "justify_items": null,
            "left": null,
            "margin": null,
            "max_height": null,
            "max_width": null,
            "min_height": null,
            "min_width": null,
            "object_fit": null,
            "object_position": null,
            "order": null,
            "overflow": null,
            "overflow_x": null,
            "overflow_y": null,
            "padding": null,
            "right": null,
            "top": null,
            "visibility": null,
            "width": null
          }
        },
        "f35b4971b08e4c028b079fccb558e8ce": {
          "model_module": "@jupyter-widgets/controls",
          "model_name": "DescriptionStyleModel",
          "model_module_version": "1.5.0",
          "state": {
            "_model_module": "@jupyter-widgets/controls",
            "_model_module_version": "1.5.0",
            "_model_name": "DescriptionStyleModel",
            "_view_count": null,
            "_view_module": "@jupyter-widgets/base",
            "_view_module_version": "1.2.0",
            "_view_name": "StyleView",
            "description_width": ""
          }
        },
        "2e0b38fb2f6d422eb804906522dd5a9a": {
          "model_module": "@jupyter-widgets/controls",
          "model_name": "HBoxModel",
          "model_module_version": "1.5.0",
          "state": {
            "_dom_classes": [],
            "_model_module": "@jupyter-widgets/controls",
            "_model_module_version": "1.5.0",
            "_model_name": "HBoxModel",
            "_view_count": null,
            "_view_module": "@jupyter-widgets/controls",
            "_view_module_version": "1.5.0",
            "_view_name": "HBoxView",
            "box_style": "",
            "children": [
              "IPY_MODEL_56093aecb96946db8dae1b3fddad42da",
              "IPY_MODEL_c3431c5834fe40e88f7e3689eda9e862",
              "IPY_MODEL_40519c3eff504c479b2bfedd5785a2f5"
            ],
            "layout": "IPY_MODEL_eb7719b5209e4cba99449258e20d3acc"
          }
        },
        "56093aecb96946db8dae1b3fddad42da": {
          "model_module": "@jupyter-widgets/controls",
          "model_name": "HTMLModel",
          "model_module_version": "1.5.0",
          "state": {
            "_dom_classes": [],
            "_model_module": "@jupyter-widgets/controls",
            "_model_module_version": "1.5.0",
            "_model_name": "HTMLModel",
            "_view_count": null,
            "_view_module": "@jupyter-widgets/controls",
            "_view_module_version": "1.5.0",
            "_view_name": "HTMLView",
            "description": "",
            "description_tooltip": null,
            "layout": "IPY_MODEL_3874e9bd201749d4a581442ca9845440",
            "placeholder": "​",
            "style": "IPY_MODEL_cb08621650654666ac9e2954d22b0ea6",
            "value": "Map: 100%"
          }
        },
        "c3431c5834fe40e88f7e3689eda9e862": {
          "model_module": "@jupyter-widgets/controls",
          "model_name": "FloatProgressModel",
          "model_module_version": "1.5.0",
          "state": {
            "_dom_classes": [],
            "_model_module": "@jupyter-widgets/controls",
            "_model_module_version": "1.5.0",
            "_model_name": "FloatProgressModel",
            "_view_count": null,
            "_view_module": "@jupyter-widgets/controls",
            "_view_module_version": "1.5.0",
            "_view_name": "ProgressView",
            "bar_style": "success",
            "description": "",
            "description_tooltip": null,
            "layout": "IPY_MODEL_583d48b7041b429ebd5c6573f7d6f12b",
            "max": 193,
            "min": 0,
            "orientation": "horizontal",
            "style": "IPY_MODEL_c17ebfde53704606a8057d667bc59249",
            "value": 193
          }
        },
        "40519c3eff504c479b2bfedd5785a2f5": {
          "model_module": "@jupyter-widgets/controls",
          "model_name": "HTMLModel",
          "model_module_version": "1.5.0",
          "state": {
            "_dom_classes": [],
            "_model_module": "@jupyter-widgets/controls",
            "_model_module_version": "1.5.0",
            "_model_name": "HTMLModel",
            "_view_count": null,
            "_view_module": "@jupyter-widgets/controls",
            "_view_module_version": "1.5.0",
            "_view_name": "HTMLView",
            "description": "",
            "description_tooltip": null,
            "layout": "IPY_MODEL_4e3cf7364754476ba843dc78e203988c",
            "placeholder": "​",
            "style": "IPY_MODEL_6af3d6461ae14f47bbd6d9495ae1f56f",
            "value": " 193/193 [00:00&lt;00:00, 332.85 examples/s]"
          }
        },
        "eb7719b5209e4cba99449258e20d3acc": {
          "model_module": "@jupyter-widgets/base",
          "model_name": "LayoutModel",
          "model_module_version": "1.2.0",
          "state": {
            "_model_module": "@jupyter-widgets/base",
            "_model_module_version": "1.2.0",
            "_model_name": "LayoutModel",
            "_view_count": null,
            "_view_module": "@jupyter-widgets/base",
            "_view_module_version": "1.2.0",
            "_view_name": "LayoutView",
            "align_content": null,
            "align_items": null,
            "align_self": null,
            "border": null,
            "bottom": null,
            "display": null,
            "flex": null,
            "flex_flow": null,
            "grid_area": null,
            "grid_auto_columns": null,
            "grid_auto_flow": null,
            "grid_auto_rows": null,
            "grid_column": null,
            "grid_gap": null,
            "grid_row": null,
            "grid_template_areas": null,
            "grid_template_columns": null,
            "grid_template_rows": null,
            "height": null,
            "justify_content": null,
            "justify_items": null,
            "left": null,
            "margin": null,
            "max_height": null,
            "max_width": null,
            "min_height": null,
            "min_width": null,
            "object_fit": null,
            "object_position": null,
            "order": null,
            "overflow": null,
            "overflow_x": null,
            "overflow_y": null,
            "padding": null,
            "right": null,
            "top": null,
            "visibility": null,
            "width": null
          }
        },
        "3874e9bd201749d4a581442ca9845440": {
          "model_module": "@jupyter-widgets/base",
          "model_name": "LayoutModel",
          "model_module_version": "1.2.0",
          "state": {
            "_model_module": "@jupyter-widgets/base",
            "_model_module_version": "1.2.0",
            "_model_name": "LayoutModel",
            "_view_count": null,
            "_view_module": "@jupyter-widgets/base",
            "_view_module_version": "1.2.0",
            "_view_name": "LayoutView",
            "align_content": null,
            "align_items": null,
            "align_self": null,
            "border": null,
            "bottom": null,
            "display": null,
            "flex": null,
            "flex_flow": null,
            "grid_area": null,
            "grid_auto_columns": null,
            "grid_auto_flow": null,
            "grid_auto_rows": null,
            "grid_column": null,
            "grid_gap": null,
            "grid_row": null,
            "grid_template_areas": null,
            "grid_template_columns": null,
            "grid_template_rows": null,
            "height": null,
            "justify_content": null,
            "justify_items": null,
            "left": null,
            "margin": null,
            "max_height": null,
            "max_width": null,
            "min_height": null,
            "min_width": null,
            "object_fit": null,
            "object_position": null,
            "order": null,
            "overflow": null,
            "overflow_x": null,
            "overflow_y": null,
            "padding": null,
            "right": null,
            "top": null,
            "visibility": null,
            "width": null
          }
        },
        "cb08621650654666ac9e2954d22b0ea6": {
          "model_module": "@jupyter-widgets/controls",
          "model_name": "DescriptionStyleModel",
          "model_module_version": "1.5.0",
          "state": {
            "_model_module": "@jupyter-widgets/controls",
            "_model_module_version": "1.5.0",
            "_model_name": "DescriptionStyleModel",
            "_view_count": null,
            "_view_module": "@jupyter-widgets/base",
            "_view_module_version": "1.2.0",
            "_view_name": "StyleView",
            "description_width": ""
          }
        },
        "583d48b7041b429ebd5c6573f7d6f12b": {
          "model_module": "@jupyter-widgets/base",
          "model_name": "LayoutModel",
          "model_module_version": "1.2.0",
          "state": {
            "_model_module": "@jupyter-widgets/base",
            "_model_module_version": "1.2.0",
            "_model_name": "LayoutModel",
            "_view_count": null,
            "_view_module": "@jupyter-widgets/base",
            "_view_module_version": "1.2.0",
            "_view_name": "LayoutView",
            "align_content": null,
            "align_items": null,
            "align_self": null,
            "border": null,
            "bottom": null,
            "display": null,
            "flex": null,
            "flex_flow": null,
            "grid_area": null,
            "grid_auto_columns": null,
            "grid_auto_flow": null,
            "grid_auto_rows": null,
            "grid_column": null,
            "grid_gap": null,
            "grid_row": null,
            "grid_template_areas": null,
            "grid_template_columns": null,
            "grid_template_rows": null,
            "height": null,
            "justify_content": null,
            "justify_items": null,
            "left": null,
            "margin": null,
            "max_height": null,
            "max_width": null,
            "min_height": null,
            "min_width": null,
            "object_fit": null,
            "object_position": null,
            "order": null,
            "overflow": null,
            "overflow_x": null,
            "overflow_y": null,
            "padding": null,
            "right": null,
            "top": null,
            "visibility": null,
            "width": null
          }
        },
        "c17ebfde53704606a8057d667bc59249": {
          "model_module": "@jupyter-widgets/controls",
          "model_name": "ProgressStyleModel",
          "model_module_version": "1.5.0",
          "state": {
            "_model_module": "@jupyter-widgets/controls",
            "_model_module_version": "1.5.0",
            "_model_name": "ProgressStyleModel",
            "_view_count": null,
            "_view_module": "@jupyter-widgets/base",
            "_view_module_version": "1.2.0",
            "_view_name": "StyleView",
            "bar_color": null,
            "description_width": ""
          }
        },
        "4e3cf7364754476ba843dc78e203988c": {
          "model_module": "@jupyter-widgets/base",
          "model_name": "LayoutModel",
          "model_module_version": "1.2.0",
          "state": {
            "_model_module": "@jupyter-widgets/base",
            "_model_module_version": "1.2.0",
            "_model_name": "LayoutModel",
            "_view_count": null,
            "_view_module": "@jupyter-widgets/base",
            "_view_module_version": "1.2.0",
            "_view_name": "LayoutView",
            "align_content": null,
            "align_items": null,
            "align_self": null,
            "border": null,
            "bottom": null,
            "display": null,
            "flex": null,
            "flex_flow": null,
            "grid_area": null,
            "grid_auto_columns": null,
            "grid_auto_flow": null,
            "grid_auto_rows": null,
            "grid_column": null,
            "grid_gap": null,
            "grid_row": null,
            "grid_template_areas": null,
            "grid_template_columns": null,
            "grid_template_rows": null,
            "height": null,
            "justify_content": null,
            "justify_items": null,
            "left": null,
            "margin": null,
            "max_height": null,
            "max_width": null,
            "min_height": null,
            "min_width": null,
            "object_fit": null,
            "object_position": null,
            "order": null,
            "overflow": null,
            "overflow_x": null,
            "overflow_y": null,
            "padding": null,
            "right": null,
            "top": null,
            "visibility": null,
            "width": null
          }
        },
        "6af3d6461ae14f47bbd6d9495ae1f56f": {
          "model_module": "@jupyter-widgets/controls",
          "model_name": "DescriptionStyleModel",
          "model_module_version": "1.5.0",
          "state": {
            "_model_module": "@jupyter-widgets/controls",
            "_model_module_version": "1.5.0",
            "_model_name": "DescriptionStyleModel",
            "_view_count": null,
            "_view_module": "@jupyter-widgets/base",
            "_view_module_version": "1.2.0",
            "_view_name": "StyleView",
            "description_width": ""
          }
        },
        "d7be8ef1a6aa4634af09674cbba4b9ad": {
          "model_module": "@jupyter-widgets/controls",
          "model_name": "HBoxModel",
          "model_module_version": "1.5.0",
          "state": {
            "_dom_classes": [],
            "_model_module": "@jupyter-widgets/controls",
            "_model_module_version": "1.5.0",
            "_model_name": "HBoxModel",
            "_view_count": null,
            "_view_module": "@jupyter-widgets/controls",
            "_view_module_version": "1.5.0",
            "_view_name": "HBoxView",
            "box_style": "",
            "children": [
              "IPY_MODEL_f9bda54fd33c42199335855fe87ab6bb",
              "IPY_MODEL_c93d5009798946518ba27c0eb0bbb7fa",
              "IPY_MODEL_091d22070bae4aa3959a84968ff026f2"
            ],
            "layout": "IPY_MODEL_6d505cdb62474980978434919f46463c"
          }
        },
        "f9bda54fd33c42199335855fe87ab6bb": {
          "model_module": "@jupyter-widgets/controls",
          "model_name": "HTMLModel",
          "model_module_version": "1.5.0",
          "state": {
            "_dom_classes": [],
            "_model_module": "@jupyter-widgets/controls",
            "_model_module_version": "1.5.0",
            "_model_name": "HTMLModel",
            "_view_count": null,
            "_view_module": "@jupyter-widgets/controls",
            "_view_module_version": "1.5.0",
            "_view_name": "HTMLView",
            "description": "",
            "description_tooltip": null,
            "layout": "IPY_MODEL_06319172f8e84fbea828c298eca5dcc0",
            "placeholder": "​",
            "style": "IPY_MODEL_173d85c139104d77bdc6c2c6b0b699a5",
            "value": "Map: 100%"
          }
        },
        "c93d5009798946518ba27c0eb0bbb7fa": {
          "model_module": "@jupyter-widgets/controls",
          "model_name": "FloatProgressModel",
          "model_module_version": "1.5.0",
          "state": {
            "_dom_classes": [],
            "_model_module": "@jupyter-widgets/controls",
            "_model_module_version": "1.5.0",
            "_model_name": "FloatProgressModel",
            "_view_count": null,
            "_view_module": "@jupyter-widgets/controls",
            "_view_module_version": "1.5.0",
            "_view_name": "ProgressView",
            "bar_style": "success",
            "description": "",
            "description_tooltip": null,
            "layout": "IPY_MODEL_1cb2ed9721db469b93b0f0daab0a8cd7",
            "max": 154,
            "min": 0,
            "orientation": "horizontal",
            "style": "IPY_MODEL_4fbaebee0d4f456a919483901212ffc3",
            "value": 154
          }
        },
        "091d22070bae4aa3959a84968ff026f2": {
          "model_module": "@jupyter-widgets/controls",
          "model_name": "HTMLModel",
          "model_module_version": "1.5.0",
          "state": {
            "_dom_classes": [],
            "_model_module": "@jupyter-widgets/controls",
            "_model_module_version": "1.5.0",
            "_model_name": "HTMLModel",
            "_view_count": null,
            "_view_module": "@jupyter-widgets/controls",
            "_view_module_version": "1.5.0",
            "_view_name": "HTMLView",
            "description": "",
            "description_tooltip": null,
            "layout": "IPY_MODEL_c4e7a95e8bed471c903ad69e98fe479e",
            "placeholder": "​",
            "style": "IPY_MODEL_bf2413a9719a4dc29aca848b70681588",
            "value": " 154/154 [00:00&lt;00:00, 361.26 examples/s]"
          }
        },
        "6d505cdb62474980978434919f46463c": {
          "model_module": "@jupyter-widgets/base",
          "model_name": "LayoutModel",
          "model_module_version": "1.2.0",
          "state": {
            "_model_module": "@jupyter-widgets/base",
            "_model_module_version": "1.2.0",
            "_model_name": "LayoutModel",
            "_view_count": null,
            "_view_module": "@jupyter-widgets/base",
            "_view_module_version": "1.2.0",
            "_view_name": "LayoutView",
            "align_content": null,
            "align_items": null,
            "align_self": null,
            "border": null,
            "bottom": null,
            "display": null,
            "flex": null,
            "flex_flow": null,
            "grid_area": null,
            "grid_auto_columns": null,
            "grid_auto_flow": null,
            "grid_auto_rows": null,
            "grid_column": null,
            "grid_gap": null,
            "grid_row": null,
            "grid_template_areas": null,
            "grid_template_columns": null,
            "grid_template_rows": null,
            "height": null,
            "justify_content": null,
            "justify_items": null,
            "left": null,
            "margin": null,
            "max_height": null,
            "max_width": null,
            "min_height": null,
            "min_width": null,
            "object_fit": null,
            "object_position": null,
            "order": null,
            "overflow": null,
            "overflow_x": null,
            "overflow_y": null,
            "padding": null,
            "right": null,
            "top": null,
            "visibility": null,
            "width": null
          }
        },
        "06319172f8e84fbea828c298eca5dcc0": {
          "model_module": "@jupyter-widgets/base",
          "model_name": "LayoutModel",
          "model_module_version": "1.2.0",
          "state": {
            "_model_module": "@jupyter-widgets/base",
            "_model_module_version": "1.2.0",
            "_model_name": "LayoutModel",
            "_view_count": null,
            "_view_module": "@jupyter-widgets/base",
            "_view_module_version": "1.2.0",
            "_view_name": "LayoutView",
            "align_content": null,
            "align_items": null,
            "align_self": null,
            "border": null,
            "bottom": null,
            "display": null,
            "flex": null,
            "flex_flow": null,
            "grid_area": null,
            "grid_auto_columns": null,
            "grid_auto_flow": null,
            "grid_auto_rows": null,
            "grid_column": null,
            "grid_gap": null,
            "grid_row": null,
            "grid_template_areas": null,
            "grid_template_columns": null,
            "grid_template_rows": null,
            "height": null,
            "justify_content": null,
            "justify_items": null,
            "left": null,
            "margin": null,
            "max_height": null,
            "max_width": null,
            "min_height": null,
            "min_width": null,
            "object_fit": null,
            "object_position": null,
            "order": null,
            "overflow": null,
            "overflow_x": null,
            "overflow_y": null,
            "padding": null,
            "right": null,
            "top": null,
            "visibility": null,
            "width": null
          }
        },
        "173d85c139104d77bdc6c2c6b0b699a5": {
          "model_module": "@jupyter-widgets/controls",
          "model_name": "DescriptionStyleModel",
          "model_module_version": "1.5.0",
          "state": {
            "_model_module": "@jupyter-widgets/controls",
            "_model_module_version": "1.5.0",
            "_model_name": "DescriptionStyleModel",
            "_view_count": null,
            "_view_module": "@jupyter-widgets/base",
            "_view_module_version": "1.2.0",
            "_view_name": "StyleView",
            "description_width": ""
          }
        },
        "1cb2ed9721db469b93b0f0daab0a8cd7": {
          "model_module": "@jupyter-widgets/base",
          "model_name": "LayoutModel",
          "model_module_version": "1.2.0",
          "state": {
            "_model_module": "@jupyter-widgets/base",
            "_model_module_version": "1.2.0",
            "_model_name": "LayoutModel",
            "_view_count": null,
            "_view_module": "@jupyter-widgets/base",
            "_view_module_version": "1.2.0",
            "_view_name": "LayoutView",
            "align_content": null,
            "align_items": null,
            "align_self": null,
            "border": null,
            "bottom": null,
            "display": null,
            "flex": null,
            "flex_flow": null,
            "grid_area": null,
            "grid_auto_columns": null,
            "grid_auto_flow": null,
            "grid_auto_rows": null,
            "grid_column": null,
            "grid_gap": null,
            "grid_row": null,
            "grid_template_areas": null,
            "grid_template_columns": null,
            "grid_template_rows": null,
            "height": null,
            "justify_content": null,
            "justify_items": null,
            "left": null,
            "margin": null,
            "max_height": null,
            "max_width": null,
            "min_height": null,
            "min_width": null,
            "object_fit": null,
            "object_position": null,
            "order": null,
            "overflow": null,
            "overflow_x": null,
            "overflow_y": null,
            "padding": null,
            "right": null,
            "top": null,
            "visibility": null,
            "width": null
          }
        },
        "4fbaebee0d4f456a919483901212ffc3": {
          "model_module": "@jupyter-widgets/controls",
          "model_name": "ProgressStyleModel",
          "model_module_version": "1.5.0",
          "state": {
            "_model_module": "@jupyter-widgets/controls",
            "_model_module_version": "1.5.0",
            "_model_name": "ProgressStyleModel",
            "_view_count": null,
            "_view_module": "@jupyter-widgets/base",
            "_view_module_version": "1.2.0",
            "_view_name": "StyleView",
            "bar_color": null,
            "description_width": ""
          }
        },
        "c4e7a95e8bed471c903ad69e98fe479e": {
          "model_module": "@jupyter-widgets/base",
          "model_name": "LayoutModel",
          "model_module_version": "1.2.0",
          "state": {
            "_model_module": "@jupyter-widgets/base",
            "_model_module_version": "1.2.0",
            "_model_name": "LayoutModel",
            "_view_count": null,
            "_view_module": "@jupyter-widgets/base",
            "_view_module_version": "1.2.0",
            "_view_name": "LayoutView",
            "align_content": null,
            "align_items": null,
            "align_self": null,
            "border": null,
            "bottom": null,
            "display": null,
            "flex": null,
            "flex_flow": null,
            "grid_area": null,
            "grid_auto_columns": null,
            "grid_auto_flow": null,
            "grid_auto_rows": null,
            "grid_column": null,
            "grid_gap": null,
            "grid_row": null,
            "grid_template_areas": null,
            "grid_template_columns": null,
            "grid_template_rows": null,
            "height": null,
            "justify_content": null,
            "justify_items": null,
            "left": null,
            "margin": null,
            "max_height": null,
            "max_width": null,
            "min_height": null,
            "min_width": null,
            "object_fit": null,
            "object_position": null,
            "order": null,
            "overflow": null,
            "overflow_x": null,
            "overflow_y": null,
            "padding": null,
            "right": null,
            "top": null,
            "visibility": null,
            "width": null
          }
        },
        "bf2413a9719a4dc29aca848b70681588": {
          "model_module": "@jupyter-widgets/controls",
          "model_name": "DescriptionStyleModel",
          "model_module_version": "1.5.0",
          "state": {
            "_model_module": "@jupyter-widgets/controls",
            "_model_module_version": "1.5.0",
            "_model_name": "DescriptionStyleModel",
            "_view_count": null,
            "_view_module": "@jupyter-widgets/base",
            "_view_module_version": "1.2.0",
            "_view_name": "StyleView",
            "description_width": ""
          }
        }
      }
    }
  },
  "cells": [
    {
      "cell_type": "markdown",
      "metadata": {
        "id": "view-in-github",
        "colab_type": "text"
      },
      "source": [
        "<a href=\"https://colab.research.google.com/github/shuvayan/AIMLOPS/blob/main/M5_NB_MiniProject_1_ResumeClassification_Using_Bert.ipynb\" target=\"_parent\"><img src=\"https://colab.research.google.com/assets/colab-badge.svg\" alt=\"Open In Colab\"/></a>"
      ]
    },
    {
      "cell_type": "markdown",
      "metadata": {
        "id": "gOQv69UdcrIK"
      },
      "source": [
        "# Advanced Certification Programme in AI and MLOps\n",
        "## A programme by IISc and TalentSprint\n",
        "### Mini-Project 1: Resume Classification"
      ]
    },
    {
      "cell_type": "markdown",
      "metadata": {
        "id": "sNCzT95pcrIN"
      },
      "source": [
        "## Learning Objectives"
      ]
    },
    {
      "cell_type": "markdown",
      "metadata": {
        "id": "IMBrLtAtcrIO"
      },
      "source": [
        "At the end of the mini-project, you will be able to :\n",
        "\n",
        "* perform data preprocessing, EDA on the resume dataset\n",
        "* fine-tune Bert model for resume classification"
      ]
    },
    {
      "cell_type": "markdown",
      "metadata": {
        "id": "v6Xda9CM9el9"
      },
      "source": [
        "## Dataset Description"
      ]
    },
    {
      "cell_type": "markdown",
      "metadata": {
        "id": "VeRfk4Sb9h0r"
      },
      "source": [
        "The data is in CSV format, with two features: Category, and Resume.\n",
        "\n",
        "**Category** -  Industry sector to which the resume belongs to, and\n",
        "\n",
        "**Resume** - The complete CV (text) of the candidate."
      ]
    },
    {
      "cell_type": "markdown",
      "metadata": {
        "id": "R7ZV5ryMP07f"
      },
      "source": [
        "##  Grading = 10 Points"
      ]
    },
    {
      "cell_type": "markdown",
      "metadata": {
        "id": "4Pped-3NPaDV"
      },
      "source": [
        "## Information"
      ]
    },
    {
      "cell_type": "markdown",
      "metadata": {
        "id": "QuxYf07d62Oo"
      },
      "source": [
        "Companies often receive thousands of resumes for each job posting and employ dedicated screening officers to screen qualified candidates. Finding suitable candidates for an open role from a database of 1000s of resumes can be a tough task. Automated resume categorization can speeden the candidate selection process. Such automation can really ease the tedious process of fair screening and shortlisting the right candidates and aid quick decisionmaking.\n",
        "\n",
        "To learn more about this, click [here](https://www.sciencedirect.com/science/article/pii/S187705092030750X)."
      ]
    },
    {
      "cell_type": "markdown",
      "source": [
        "**Problem Statement:** Fine-tune a pre-trained Bert model for resume classification.\n",
        "\n",
        "*For fine-tuning Bert, refer to the demo session on 'HuggingFace platform' held on 17 Aug.*"
      ],
      "metadata": {
        "id": "uvvyWAPhkvm8"
      }
    },
    {
      "cell_type": "markdown",
      "source": [
        "### Install dependencies\n",
        "\n",
        "After installing the below dependencies ***Restart the session/runtime***."
      ],
      "metadata": {
        "id": "lNKEGvMEIK5f"
      }
    },
    {
      "cell_type": "code",
      "source": [
        "!pip -q uninstall pyarrow -y\n",
        "!pip -q install pyarrow==15.0.2\n",
        "!pip -q install datasets\n",
        "!pip -q install accelerate\n",
        "!pip -q install transformers"
      ],
      "metadata": {
        "id": "ejNC4T4_A0GN",
        "colab": {
          "base_uri": "https://localhost:8080/"
        },
        "outputId": "54b7b4a5-d235-442a-c372-dbb15d0551fe"
      },
      "execution_count": null,
      "outputs": [
        {
          "output_type": "stream",
          "name": "stdout",
          "text": [
            "\u001b[2K   \u001b[90m━━━━━━━━━━━━━━━━━━━━━━━━━━━━━━━━━━━━━━━━\u001b[0m \u001b[32m38.3/38.3 MB\u001b[0m \u001b[31m9.4 MB/s\u001b[0m eta \u001b[36m0:00:00\u001b[0m\n",
            "\u001b[?25h\u001b[31mERROR: pip's dependency resolver does not currently take into account all the packages that are installed. This behaviour is the source of the following dependency conflicts.\n",
            "cudf-cu12 24.4.1 requires pyarrow<15.0.0a0,>=14.0.1, but you have pyarrow 15.0.2 which is incompatible.\u001b[0m\u001b[31m\n",
            "\u001b[2K   \u001b[90m━━━━━━━━━━━━━━━━━━━━━━━━━━━━━━━━━━━━━━━━\u001b[0m \u001b[32m527.3/527.3 kB\u001b[0m \u001b[31m14.1 MB/s\u001b[0m eta \u001b[36m0:00:00\u001b[0m\n",
            "\u001b[2K   \u001b[90m━━━━━━━━━━━━━━━━━━━━━━━━━━━━━━━━━━━━━━━━\u001b[0m \u001b[32m116.3/116.3 kB\u001b[0m \u001b[31m7.8 MB/s\u001b[0m eta \u001b[36m0:00:00\u001b[0m\n",
            "\u001b[2K   \u001b[90m━━━━━━━━━━━━━━━━━━━━━━━━━━━━━━━━━━━━━━━━\u001b[0m \u001b[32m134.8/134.8 kB\u001b[0m \u001b[31m11.5 MB/s\u001b[0m eta \u001b[36m0:00:00\u001b[0m\n",
            "\u001b[2K   \u001b[90m━━━━━━━━━━━━━━━━━━━━━━━━━━━━━━━━━━━━━━━━\u001b[0m \u001b[32m194.1/194.1 kB\u001b[0m \u001b[31m14.8 MB/s\u001b[0m eta \u001b[36m0:00:00\u001b[0m\n",
            "\u001b[?25h"
          ]
        }
      ]
    },
    {
      "cell_type": "markdown",
      "source": [
        "### <font color=\"#990000\">Restart Session/Runtime</font>"
      ],
      "metadata": {
        "id": "sTBUGx6zfgsJ"
      }
    },
    {
      "cell_type": "markdown",
      "source": [
        "### Import required packages"
      ],
      "metadata": {
        "id": "HdoX5Go6IhCE"
      }
    },
    {
      "cell_type": "code",
      "metadata": {
        "id": "5t0FQjPs8o4s",
        "colab": {
          "base_uri": "https://localhost:8080/"
        },
        "outputId": "2e7c4b13-c1b4-4adb-fb87-670dded14ddb"
      },
      "source": [
        "from datasets import Dataset, DatasetDict\n",
        "\n",
        "from transformers import AutoTokenizer\n",
        "from transformers import AutoModelForSequenceClassification\n",
        "from transformers import TrainingArguments\n",
        "from transformers import Trainer\n",
        "from transformers import pipeline\n",
        "\n",
        "import numpy as np\n",
        "import pandas as pd\n",
        "import seaborn as sns\n",
        "import matplotlib.pyplot as plt\n",
        "from matplotlib.gridspec import GridSpec\n",
        "\n",
        "from sklearn.model_selection import train_test_split\n",
        "from sklearn.preprocessing import LabelEncoder\n",
        "\n",
        "import nltk\n",
        "nltk.download('stopwords')\n",
        "nltk.download('punkt')\n",
        "from nltk.corpus import stopwords\n",
        "\n",
        "import warnings\n",
        "warnings.filterwarnings('ignore')"
      ],
      "execution_count": null,
      "outputs": [
        {
          "output_type": "stream",
          "name": "stderr",
          "text": [
            "[nltk_data] Downloading package stopwords to /root/nltk_data...\n",
            "[nltk_data]   Package stopwords is already up-to-date!\n",
            "[nltk_data] Downloading package punkt to /root/nltk_data...\n",
            "[nltk_data]   Package punkt is already up-to-date!\n"
          ]
        }
      ]
    },
    {
      "cell_type": "markdown",
      "metadata": {
        "id": "standing-zimbabwe"
      },
      "source": [
        "### Downloading the data"
      ]
    },
    {
      "cell_type": "code",
      "metadata": {
        "id": "universal-jonathan",
        "scrolled": true,
        "colab": {
          "base_uri": "https://localhost:8080/"
        },
        "outputId": "4a727ee7-b9b3-4c00-83b9-815a510055a7"
      },
      "source": [
        "#@title Download the data\n",
        "!wget -qq https://cdn.iisc.talentsprint.com/CDS/Datasets/UpdatedResumeDataSet.csv\n",
        "!ls | grep '.csv'"
      ],
      "execution_count": null,
      "outputs": [
        {
          "output_type": "stream",
          "name": "stdout",
          "text": [
            "UpdatedResumeDataSet.csv\n"
          ]
        }
      ]
    },
    {
      "cell_type": "markdown",
      "metadata": {
        "id": "T3FkLI6wcaat"
      },
      "source": [
        "**Exercise 1: Read the UpdatedResumeDataset.csv dataset [0.5 Mark]**\n",
        "\n",
        "**Hint:** pd.read_csv( , encoding='utf-8')"
      ]
    },
    {
      "cell_type": "code",
      "metadata": {
        "id": "eIu-AOsB9GfD"
      },
      "source": [
        "# Read the dataset\n",
        "# YOUR CODE HERE\n",
        "df = pd.read_csv('UpdatedResumeDataSet.csv', encoding='utf-8')"
      ],
      "execution_count": null,
      "outputs": []
    },
    {
      "cell_type": "markdown",
      "metadata": {
        "id": "QvddL7X69NiB"
      },
      "source": [
        "### Pre-processing and EDA"
      ]
    },
    {
      "cell_type": "markdown",
      "metadata": {
        "id": "EA1d25HrzTGW"
      },
      "source": [
        "**Exercise 2: Display  all the categories of resumes and their counts in the dataset [0.5 Mark]**\n",
        "\n"
      ]
    },
    {
      "cell_type": "code",
      "source": [
        "df.info()"
      ],
      "metadata": {
        "colab": {
          "base_uri": "https://localhost:8080/"
        },
        "id": "vkHlaX6GlbY-",
        "outputId": "cc786823-9464-4a44-b0cc-45f643f42997"
      },
      "execution_count": null,
      "outputs": [
        {
          "output_type": "stream",
          "name": "stdout",
          "text": [
            "<class 'pandas.core.frame.DataFrame'>\n",
            "RangeIndex: 962 entries, 0 to 961\n",
            "Data columns (total 2 columns):\n",
            " #   Column    Non-Null Count  Dtype \n",
            "---  ------    --------------  ----- \n",
            " 0   Category  962 non-null    object\n",
            " 1   Resume    962 non-null    object\n",
            "dtypes: object(2)\n",
            "memory usage: 15.2+ KB\n"
          ]
        }
      ]
    },
    {
      "cell_type": "code",
      "source": [
        "df.head(5)"
      ],
      "metadata": {
        "colab": {
          "base_uri": "https://localhost:8080/",
          "height": 226
        },
        "id": "a5chrqoBli6d",
        "outputId": "098a3f2e-dd95-43aa-ea44-77e7c0b7491e"
      },
      "execution_count": null,
      "outputs": [
        {
          "output_type": "execute_result",
          "data": {
            "text/plain": [
              "       Category                                             Resume\n",
              "0  Data Science  Skills * Programming Languages: Python (pandas...\n",
              "1  Data Science  Education Details \\r\\nMay 2013 to May 2017 B.E...\n",
              "2  Data Science  Areas of Interest Deep Learning, Control Syste...\n",
              "3  Data Science  Skills â¢ R â¢ Python â¢ SAP HANA â¢ Table...\n",
              "4  Data Science  Education Details \\r\\n MCA   YMCAUST,  Faridab..."
            ],
            "text/html": [
              "\n",
              "  <div id=\"df-fcf6a7e0-881c-4aac-bcb0-0fe5b0dacf3c\" class=\"colab-df-container\">\n",
              "    <div>\n",
              "<style scoped>\n",
              "    .dataframe tbody tr th:only-of-type {\n",
              "        vertical-align: middle;\n",
              "    }\n",
              "\n",
              "    .dataframe tbody tr th {\n",
              "        vertical-align: top;\n",
              "    }\n",
              "\n",
              "    .dataframe thead th {\n",
              "        text-align: right;\n",
              "    }\n",
              "</style>\n",
              "<table border=\"1\" class=\"dataframe\">\n",
              "  <thead>\n",
              "    <tr style=\"text-align: right;\">\n",
              "      <th></th>\n",
              "      <th>Category</th>\n",
              "      <th>Resume</th>\n",
              "    </tr>\n",
              "  </thead>\n",
              "  <tbody>\n",
              "    <tr>\n",
              "      <th>0</th>\n",
              "      <td>Data Science</td>\n",
              "      <td>Skills * Programming Languages: Python (pandas...</td>\n",
              "    </tr>\n",
              "    <tr>\n",
              "      <th>1</th>\n",
              "      <td>Data Science</td>\n",
              "      <td>Education Details \\r\\nMay 2013 to May 2017 B.E...</td>\n",
              "    </tr>\n",
              "    <tr>\n",
              "      <th>2</th>\n",
              "      <td>Data Science</td>\n",
              "      <td>Areas of Interest Deep Learning, Control Syste...</td>\n",
              "    </tr>\n",
              "    <tr>\n",
              "      <th>3</th>\n",
              "      <td>Data Science</td>\n",
              "      <td>Skills â¢ R â¢ Python â¢ SAP HANA â¢ Table...</td>\n",
              "    </tr>\n",
              "    <tr>\n",
              "      <th>4</th>\n",
              "      <td>Data Science</td>\n",
              "      <td>Education Details \\r\\n MCA   YMCAUST,  Faridab...</td>\n",
              "    </tr>\n",
              "  </tbody>\n",
              "</table>\n",
              "</div>\n",
              "    <div class=\"colab-df-buttons\">\n",
              "\n",
              "  <div class=\"colab-df-container\">\n",
              "    <button class=\"colab-df-convert\" onclick=\"convertToInteractive('df-fcf6a7e0-881c-4aac-bcb0-0fe5b0dacf3c')\"\n",
              "            title=\"Convert this dataframe to an interactive table.\"\n",
              "            style=\"display:none;\">\n",
              "\n",
              "  <svg xmlns=\"http://www.w3.org/2000/svg\" height=\"24px\" viewBox=\"0 -960 960 960\">\n",
              "    <path d=\"M120-120v-720h720v720H120Zm60-500h600v-160H180v160Zm220 220h160v-160H400v160Zm0 220h160v-160H400v160ZM180-400h160v-160H180v160Zm440 0h160v-160H620v160ZM180-180h160v-160H180v160Zm440 0h160v-160H620v160Z\"/>\n",
              "  </svg>\n",
              "    </button>\n",
              "\n",
              "  <style>\n",
              "    .colab-df-container {\n",
              "      display:flex;\n",
              "      gap: 12px;\n",
              "    }\n",
              "\n",
              "    .colab-df-convert {\n",
              "      background-color: #E8F0FE;\n",
              "      border: none;\n",
              "      border-radius: 50%;\n",
              "      cursor: pointer;\n",
              "      display: none;\n",
              "      fill: #1967D2;\n",
              "      height: 32px;\n",
              "      padding: 0 0 0 0;\n",
              "      width: 32px;\n",
              "    }\n",
              "\n",
              "    .colab-df-convert:hover {\n",
              "      background-color: #E2EBFA;\n",
              "      box-shadow: 0px 1px 2px rgba(60, 64, 67, 0.3), 0px 1px 3px 1px rgba(60, 64, 67, 0.15);\n",
              "      fill: #174EA6;\n",
              "    }\n",
              "\n",
              "    .colab-df-buttons div {\n",
              "      margin-bottom: 4px;\n",
              "    }\n",
              "\n",
              "    [theme=dark] .colab-df-convert {\n",
              "      background-color: #3B4455;\n",
              "      fill: #D2E3FC;\n",
              "    }\n",
              "\n",
              "    [theme=dark] .colab-df-convert:hover {\n",
              "      background-color: #434B5C;\n",
              "      box-shadow: 0px 1px 3px 1px rgba(0, 0, 0, 0.15);\n",
              "      filter: drop-shadow(0px 1px 2px rgba(0, 0, 0, 0.3));\n",
              "      fill: #FFFFFF;\n",
              "    }\n",
              "  </style>\n",
              "\n",
              "    <script>\n",
              "      const buttonEl =\n",
              "        document.querySelector('#df-fcf6a7e0-881c-4aac-bcb0-0fe5b0dacf3c button.colab-df-convert');\n",
              "      buttonEl.style.display =\n",
              "        google.colab.kernel.accessAllowed ? 'block' : 'none';\n",
              "\n",
              "      async function convertToInteractive(key) {\n",
              "        const element = document.querySelector('#df-fcf6a7e0-881c-4aac-bcb0-0fe5b0dacf3c');\n",
              "        const dataTable =\n",
              "          await google.colab.kernel.invokeFunction('convertToInteractive',\n",
              "                                                    [key], {});\n",
              "        if (!dataTable) return;\n",
              "\n",
              "        const docLinkHtml = 'Like what you see? Visit the ' +\n",
              "          '<a target=\"_blank\" href=https://colab.research.google.com/notebooks/data_table.ipynb>data table notebook</a>'\n",
              "          + ' to learn more about interactive tables.';\n",
              "        element.innerHTML = '';\n",
              "        dataTable['output_type'] = 'display_data';\n",
              "        await google.colab.output.renderOutput(dataTable, element);\n",
              "        const docLink = document.createElement('div');\n",
              "        docLink.innerHTML = docLinkHtml;\n",
              "        element.appendChild(docLink);\n",
              "      }\n",
              "    </script>\n",
              "  </div>\n",
              "\n",
              "\n",
              "<div id=\"df-b62d16b3-77b5-49ac-929b-bc8657a90dd9\">\n",
              "  <button class=\"colab-df-quickchart\" onclick=\"quickchart('df-b62d16b3-77b5-49ac-929b-bc8657a90dd9')\"\n",
              "            title=\"Suggest charts\"\n",
              "            style=\"display:none;\">\n",
              "\n",
              "<svg xmlns=\"http://www.w3.org/2000/svg\" height=\"24px\"viewBox=\"0 0 24 24\"\n",
              "     width=\"24px\">\n",
              "    <g>\n",
              "        <path d=\"M19 3H5c-1.1 0-2 .9-2 2v14c0 1.1.9 2 2 2h14c1.1 0 2-.9 2-2V5c0-1.1-.9-2-2-2zM9 17H7v-7h2v7zm4 0h-2V7h2v10zm4 0h-2v-4h2v4z\"/>\n",
              "    </g>\n",
              "</svg>\n",
              "  </button>\n",
              "\n",
              "<style>\n",
              "  .colab-df-quickchart {\n",
              "      --bg-color: #E8F0FE;\n",
              "      --fill-color: #1967D2;\n",
              "      --hover-bg-color: #E2EBFA;\n",
              "      --hover-fill-color: #174EA6;\n",
              "      --disabled-fill-color: #AAA;\n",
              "      --disabled-bg-color: #DDD;\n",
              "  }\n",
              "\n",
              "  [theme=dark] .colab-df-quickchart {\n",
              "      --bg-color: #3B4455;\n",
              "      --fill-color: #D2E3FC;\n",
              "      --hover-bg-color: #434B5C;\n",
              "      --hover-fill-color: #FFFFFF;\n",
              "      --disabled-bg-color: #3B4455;\n",
              "      --disabled-fill-color: #666;\n",
              "  }\n",
              "\n",
              "  .colab-df-quickchart {\n",
              "    background-color: var(--bg-color);\n",
              "    border: none;\n",
              "    border-radius: 50%;\n",
              "    cursor: pointer;\n",
              "    display: none;\n",
              "    fill: var(--fill-color);\n",
              "    height: 32px;\n",
              "    padding: 0;\n",
              "    width: 32px;\n",
              "  }\n",
              "\n",
              "  .colab-df-quickchart:hover {\n",
              "    background-color: var(--hover-bg-color);\n",
              "    box-shadow: 0 1px 2px rgba(60, 64, 67, 0.3), 0 1px 3px 1px rgba(60, 64, 67, 0.15);\n",
              "    fill: var(--button-hover-fill-color);\n",
              "  }\n",
              "\n",
              "  .colab-df-quickchart-complete:disabled,\n",
              "  .colab-df-quickchart-complete:disabled:hover {\n",
              "    background-color: var(--disabled-bg-color);\n",
              "    fill: var(--disabled-fill-color);\n",
              "    box-shadow: none;\n",
              "  }\n",
              "\n",
              "  .colab-df-spinner {\n",
              "    border: 2px solid var(--fill-color);\n",
              "    border-color: transparent;\n",
              "    border-bottom-color: var(--fill-color);\n",
              "    animation:\n",
              "      spin 1s steps(1) infinite;\n",
              "  }\n",
              "\n",
              "  @keyframes spin {\n",
              "    0% {\n",
              "      border-color: transparent;\n",
              "      border-bottom-color: var(--fill-color);\n",
              "      border-left-color: var(--fill-color);\n",
              "    }\n",
              "    20% {\n",
              "      border-color: transparent;\n",
              "      border-left-color: var(--fill-color);\n",
              "      border-top-color: var(--fill-color);\n",
              "    }\n",
              "    30% {\n",
              "      border-color: transparent;\n",
              "      border-left-color: var(--fill-color);\n",
              "      border-top-color: var(--fill-color);\n",
              "      border-right-color: var(--fill-color);\n",
              "    }\n",
              "    40% {\n",
              "      border-color: transparent;\n",
              "      border-right-color: var(--fill-color);\n",
              "      border-top-color: var(--fill-color);\n",
              "    }\n",
              "    60% {\n",
              "      border-color: transparent;\n",
              "      border-right-color: var(--fill-color);\n",
              "    }\n",
              "    80% {\n",
              "      border-color: transparent;\n",
              "      border-right-color: var(--fill-color);\n",
              "      border-bottom-color: var(--fill-color);\n",
              "    }\n",
              "    90% {\n",
              "      border-color: transparent;\n",
              "      border-bottom-color: var(--fill-color);\n",
              "    }\n",
              "  }\n",
              "</style>\n",
              "\n",
              "  <script>\n",
              "    async function quickchart(key) {\n",
              "      const quickchartButtonEl =\n",
              "        document.querySelector('#' + key + ' button');\n",
              "      quickchartButtonEl.disabled = true;  // To prevent multiple clicks.\n",
              "      quickchartButtonEl.classList.add('colab-df-spinner');\n",
              "      try {\n",
              "        const charts = await google.colab.kernel.invokeFunction(\n",
              "            'suggestCharts', [key], {});\n",
              "      } catch (error) {\n",
              "        console.error('Error during call to suggestCharts:', error);\n",
              "      }\n",
              "      quickchartButtonEl.classList.remove('colab-df-spinner');\n",
              "      quickchartButtonEl.classList.add('colab-df-quickchart-complete');\n",
              "    }\n",
              "    (() => {\n",
              "      let quickchartButtonEl =\n",
              "        document.querySelector('#df-b62d16b3-77b5-49ac-929b-bc8657a90dd9 button');\n",
              "      quickchartButtonEl.style.display =\n",
              "        google.colab.kernel.accessAllowed ? 'block' : 'none';\n",
              "    })();\n",
              "  </script>\n",
              "</div>\n",
              "\n",
              "    </div>\n",
              "  </div>\n"
            ],
            "application/vnd.google.colaboratory.intrinsic+json": {
              "type": "dataframe",
              "variable_name": "df",
              "summary": "{\n  \"name\": \"df\",\n  \"rows\": 962,\n  \"fields\": [\n    {\n      \"column\": \"Category\",\n      \"properties\": {\n        \"dtype\": \"category\",\n        \"num_unique_values\": 25,\n        \"samples\": [\n          \"Civil Engineer\",\n          \"DevOps Engineer\",\n          \"Data Science\"\n        ],\n        \"semantic_type\": \"\",\n        \"description\": \"\"\n      }\n    },\n    {\n      \"column\": \"Resume\",\n      \"properties\": {\n        \"dtype\": \"category\",\n        \"num_unique_values\": 166,\n        \"samples\": [\n          \"KEY COMPETENCIES \\u00e2\\u009c\\u00b6Multi - Operations Management\\u00e2\\u009c\\u00b6People Management \\u00e2\\u009c\\u00b6Customer Services - Emails \\u00e2\\u009c\\u00b6 MIS \\u00e2\\u009c\\u00b6Vendor & Client Services Management\\u00e2\\u009c\\u00b6Cross Functional Coordination\\u00e2\\u009c\\u00b6Banking & Financial Services\\u00e2\\u009c\\u00b6 Transaction Monitoring * ATM Operations \\u00e2\\u009c\\u00b6 & Prepaid Card Operations (Pre-Issuance & Post-Issuance) \\u00e2\\u009c\\u00b6 POS Operations * JOB PROFILE & SKILLS: \\u00e2\\u0080\\u00a2 An effective communicator with excellent relationship building & interpersonal skills. Strong analytical, problem solving & organizational abilities. \\u00e2\\u0080\\u00a2 Extensive experience in managing operations with demonstrated leadership qualities & organisational skills during the tenure. \\u00e2\\u0080\\u00a2 Managing customer centric operations & ensuring customer satisfaction by achieving service quality norms. \\u00e2\\u0080\\u00a2 Analyzing of all operational problems, customer complaints and take preventive and corrective actions to resolve the same. \\u00e2\\u0080\\u00a2 Receive and respond to Key customer inquiries in an effective manner and provide relevant and timely information. \\u00e2\\u0080\\u00a2 Deft in steering banking back-end operations, analyzing risks and managing delinquencies with dexterity across applying techniques for maximizing recoveries and minimizing credit losses. \\u00e2\\u0080\\u00a2 Analyzed & identified training needs of the team members and developing, organizing and conducting training programs and manage bottom quartile team to improve their performance. \\u00e2\\u0080\\u00a2 Preparing and maintaining daily MIS reports to evaluate the performance and efficiency of the process relate to various verticals. \\u00e2\\u0080\\u00a2 Measuring the performance of the processes in terms of efficiency and effectiveness matrix and ensuring adherence to SLA. \\u00e2\\u0080\\u00a2 Major Activities Define processes for Field Services were monitored and necessary checks were executed and controlled. Also measured Vendor SLA by analyzing the TAT of vendors & the Client SLA provided to us. \\u00e2\\u0080\\u00a2 As per company procedures, handling & ensuring vendor's payment issues to be sorted out &payments are processed on quarterly basis. \\u00e2\\u0080\\u00a2 Appropriately plan and execute each skill of operations in accordance with the department's policies and procedures. \\u00e2\\u0080\\u00a2 Manage relationships with business team, software development team and other services to achieve project objectives. Different software Worked till now: - a. CTL prime - Axis Bank Credit Cards b. Insight - For POS Machine technical operations for Amex (MID & TID Generation- ATOS (Venture Infotek) c. Ticket Management System - TATA Communications Private Services Ltd (ATM - NOC Operations) d. Branch Portal (Yalamanchili Software Exports Ltd) - Prepaid Cards (SBI Bank & Zaggle Prepaid Oceans Services Ltd) Zaggle Prepaid Ocean Services Pvt Ltd Oct, 2017 to Till Date Designation: Manager - Operations (Payment Industry - Prepaid Cards - INR) Education Details \\r\\n  Commerce Mumbai, Maharashtra Mumbai University\\r\\nOperations Manager \\r\\n\\r\\nService Manager - Operations (Payment Industry - Prepaid Cards - INR & FTC)\\r\\nSkill Details \\r\\nOPERATIONS- Exprience - 73 months\\r\\nSATISFACTION- Exprience - 48 months\\r\\nTRAINING- Exprience - 24 months\\r\\nNOC- Exprience - 23 months\\r\\nPOINT OF SALE- Exprience - 20 monthsCompany Details \\r\\ncompany - Zaggle Prepaid Ocean Services Pvt Ltd\\r\\ndescription - Card Operations\\r\\ncompany - Yalamanchili Software Exports Ltd\\r\\ndescription - 24*7 Operations Pvt Ltd) Dec 2015 to Feb 2017\\r\\n\\r\\nDesignation: Service Manager - Operations (Payment Industry - Prepaid Cards - INR & FTC)\\r\\n\\r\\nKey Contributions: \\u00e2\\u0080\\u00a2 A result-oriented business professional in planning, executing& managing processes, improving efficiency of operations, team building and detailing process information to determine effective result into operations.\\r\\n\\u00e2\\u0080\\u00a2 Ensuring PINs generation (SLA) is maintained and chargeback cases are raised in perfect timeframe.\\r\\n\\u00e2\\u0080\\u00a2 Managing email customer services properly and ensuring the emails are replied properly. Also, ensuring transaction monitoring is properly managed 24/7.\\r\\n\\u00e2\\u0080\\u00a2 Assisting Bankers (SBI & Associated Banks) for their BCP plans by getting executed in the system with the help of DR-PR plans & vice versa or any other business requirements.\\r\\n\\u00e2\\u0080\\u00a2 Expertise in maintaining highest level of quality in operations; ensuring adherence to all the quality parameters and procedures as per the stringent norms.\\r\\n\\u00e2\\u0080\\u00a2 Lead, manage and supervise the execution of external audit engagements and responsible for presenting the findings & developing a quality reports to the senior Management and Clients.\\r\\n\\u00e2\\u0080\\u00a2 Coach/mentor (20) team members to perform at a higher level by giving opportunities, providing timely continuous feedback and working with staff to improve their communication, time management, decision making, organization, and analytical skills.\\r\\n\\u00e2\\u0080\\u00a2 Providing the solutions and services to the client in their own premises with aforesaid count of team members.\\r\\n\\u00e2\\u0080\\u00a2 Also ensuring end to end process of PR & DR as per client requirements (PR- DR & DR -PR) by interacting with internal & external stakeholders.\\r\\n\\u00e2\\u0080\\u00a2 Determining process gaps and designing & conducting training programs to enhance operational efficiency and retain talent by providing optimum opportunities for personal and professional growth.\\r\\ncompany - Credit Cards\\r\\ndescription - Ensured highest standard of customer satisfaction and quality service; developing new policies and procedures to improve based on customer feedback and resolving customer queries via correspondence, inbound calls & email channels with the strength of (12-16) Team members.\\r\\ncompany - AGS Transact Technologies Limited\\r\\ndescription - Key Contributions: Lead - SPOC to Banks\\r\\ncompany - TATA Communications Payment Solutions Ltd\\r\\ndescription - To make ATMs operational within TAT by analyzing the issue is technical or non-technical and also by interacting with internal & external stakeholders.\\r\\ncompany - Vertex Customer Solutions India Private Ltd\\r\\ndescription - Key Contributions: \\u00e2\\u0080\\u00a2 Build positive working relationship with all team members and clients by keeping Management informed   of KYC document collection & con-current audit progress, responding timely to Management inquiries, understanding the business and conducting self professionally.\\r\\ncompany - Financial Inclusion Network & Operations Limited\\r\\ndescription - Key Contributions: POS-Operations \\u00e2\\u0080\\u00a2 Cascading the adherence of process is strictly followed by team members & training them to reduce the downtime.\\r\\n\\u00e2\\u0080\\u00a2 Managing Stock of EDC Terminals \\u00e2\\u0080\\u00a2 Managing Deployments of terminals through Multiple teams \\u00e2\\u0080\\u00a2 Would have worked with multiple terminal make & model \\u00e2\\u0080\\u00a2 Managing Inward, Outward & QC of applications installed in the POS machines.\\r\\ncompany - Venture Infotek Private Ltd\\r\\ndescription - Key Contributions: POS-Operations\\r\\ncompany - Axis Bank Ltd - Customer Services\\r\\ndescription - Aug 2006 to Oct 2009 (Ma-Foi&I- smart)\\r\\n\\r\\nDesignation: Team Leader/Executive - Emails, Phone Banking & Correspondence Unit (Snail Mails)\",\n          \"Skill Set: Hadoop, Map Reduce, HDFS, Hive, Sqoop, java. Duration: 2016 to 2017. Role: Hadoop Developer Rplus offers an quick, simple and powerful cloud based Solution, Demand Sense to accurately predict demand for your product in all your markets which Combines Enterprise and External Data to predict demand more accurately through Uses Social Conversation and Sentiments to derive demand and Identifies significant drivers of sale out of hordes of factors that Selects the best suited model out of multiple forecasting models for each product. Responsibilities: \\u00e2\\u0080\\u00a2 Involved in deploying the product for customers, gathering requirements and algorithm optimization at backend of the product. \\u00e2\\u0080\\u00a2 Load and transform Large Datasets of structured semi structured. \\u00e2\\u0080\\u00a2 Responsible to manage data coming from different sources and application \\u00e2\\u0080\\u00a2 Supported Map Reduce Programs those are running on the cluster \\u00e2\\u0080\\u00a2 Involved in creating Hive tables, loading with data and writing hive queries which will run internally in map reduce way.Education Details \\r\\n\\r\\nHadoop Developer \\r\\n\\r\\nHadoop Developer - Braindatawire\\r\\nSkill Details \\r\\nAPACHE HADOOP HDFS- Exprience - 49 months\\r\\nAPACHE HADOOP SQOOP- Exprience - 49 months\\r\\nHadoop- Exprience - 49 months\\r\\nHADOOP- Exprience - 49 months\\r\\nHADOOP DISTRIBUTED FILE SYSTEM- Exprience - 49 monthsCompany Details \\r\\ncompany - Braindatawire\\r\\ndescription - Technical Skills:\\r\\n\\u00e2\\u0080\\u00a2   Programming: Core Java, Map Reduce, Scala\\r\\n\\u00e2\\u0080\\u00a2   Hadoop Tools: HDFS, Spark, Map Reduce, Sqoop, Hive, Hbase\\r\\n\\u00e2\\u0080\\u00a2   Database: MySQL, Oracle\\r\\n\\u00e2\\u0080\\u00a2   Scripting: Shell Scripting\\r\\n\\u00e2\\u0080\\u00a2   IDE: Eclipse\\r\\n\\u00e2\\u0080\\u00a2   Operating Systems: Linux (CentOS), Windows\\r\\n\\u00e2\\u0080\\u00a2   Source Control: Git (Github)\",\n          \"IT Skills: Area Exposure Modeling Tool: Bizagi, MS Visio Prototyping Tool: Indigo Studio. Documentation: MS Office (MS Word, MS Excel, MS Power Point) Testing Proficiency: Smoke, Sanity, Integration, Functional, Acceptance and UI Methodology implemented: Waterfall, Agile (Scrum) Database: SQL Testing Tool: HPQC Business Exposure Education Details \\r\\n Bachelor Of Computer Engineering Computer Engineering Mumbai, Maharashtra Thadomal Shahani Engineering college\\r\\n Diploma Computer Engineering Ulhasnagar, Maharashtra Institute of Technology\\r\\n Secondary School Certificate  Ulhasnagar, Maharashtra New English High School\\r\\nSenior Business Analyst - RPA \\r\\n\\r\\nSenior Business Analyst - RPA - Hexaware Technologies\\r\\nSkill Details \\r\\nDOCUMENTATION- Exprience - 47 months\\r\\nTESTING- Exprience - 29 months\\r\\nINTEGRATION- Exprience - 25 months\\r\\nINTEGRATOR- Exprience - 25 months\\r\\nPROTOTYPE- Exprience - 13 monthsCompany Details \\r\\ncompany - Hexaware Technologies\\r\\ndescription - Working as a RPA Business Analyst\\r\\ncompany - BBH- Brown Brothers Harriman & Co\\r\\ndescription - is a private bank that provides commercial banking, investment management, brokerage, and trust services to private companies and individuals. It also performs merger advisory, foreign exchange, custody services, commercial banking, and corporate financing services.\\r\\n\\r\\nResponsibilities: \\u00e2\\u0080\\u00a2 Performed Automation Assessment of various Processes and identified processes which can be candidates of RPA.\\r\\n\\u00e2\\u0080\\u00a2 Conducting Assessment that involves an initial Understanding of the Existing System, their technology, processes, Usage of the tools, Feasibility of tool with automation tool along with automation ROI analysis.\\r\\n\\u00e2\\u0080\\u00a2 Preparing the Automation Potential Sheet which describes the steps in the process, the volume and frequency of the transaction, the AHT taken by SME to perform the process and depending on the steps that could be automated, Automation potential and the manual efforts that will be saved are calculated.\\r\\nCalculating the complexity of the Process which is considered for automation and depending on all these factors Number of Bots and Number of Automation tool Licenses are determined.\\r\\n\\u00e2\\u0080\\u00a2 Implementing a Proof of Concept (POC) to Validate Feasibility by executing the selected critical use cases for conducting a POC which will helps to identify financial and operational benefits and provide recommendations regarding the actual need for complete automation.\\r\\n\\u00e2\\u0080\\u00a2 Gathering business requirements by conducting detailed interviews with business users, stakeholders, and Subject Matter Experts (SME's) \\u00e2\\u0080\\u00a2 Preparing Business Requirement Document and then converted Business requirements into Functional Requirements Specification.\\r\\n \\u00e2\\u0080\\u00a2 Constructing prototype early toward a design acceptable to the customer and feasible.\\r\\n\\u00e2\\u0080\\u00a2 Assisting in designing test plans, test scenarios and test cases for integration, regression, and user acceptance testing (UAT) to improve the overall quality of the Automation.\\r\\n\\u00e2\\u0080\\u00a2 Participating regularly in Walkthroughs and Review meetings with Project Manager, QA Engineers, and Development team.\\r\\n\\u00e2\\u0080\\u00a2 Regularly interacting with offshore and onshore development teams.\\r\\ncompany - FADV - First Advantage\\r\\ndescription - is a criminal background check company that delivers global solutions ranging from employment screenings to background checks.\\r\\nThe following are the processes which were covered:\\r\\nEmail Process, Research Process, Review Process.\\r\\n\\r\\nResponsibilities: \\u00e2\\u0080\\u00a2 Requirement Gathering through conducting Interviews & Brainstorming sessions with stakeholders \\u00e2\\u0080\\u00a2 To develop decision models and execute those rules as per the use case specifications.\\r\\n\\u00e2\\u0080\\u00a2 To Test/validate the decision models against document test data.\\r\\n\\u00e2\\u0080\\u00a2 To maintain and enhance the decision models for changes in regulations as per use case specifications.\\r\\n\\u00e2\\u0080\\u00a2 Responsible for performing the business research that will make a business growth.\\r\\n\\u00e2\\u0080\\u00a2 Developing a clear understanding of existing business functions and processes.\\r\\n\\u00e2\\u0080\\u00a2 Effectively communicate with the onsite clients for the queries, suggestions, and update.\\r\\n\\u00e2\\u0080\\u00a2 Giving suggestions to enhance the current processes.\\r\\n\\u00e2\\u0080\\u00a2 Identifying areas for process improvement.\\r\\n\\u00e2\\u0080\\u00a2 Flagging up potential problems at an early stage.\\r\\n\\u00e2\\u0080\\u00a2 Preparing PowerPoint presentations and documents for business meetings.\\r\\n\\u00e2\\u0080\\u00a2 Using any information gathered to write up detailed reports.\\r\\n\\u00e2\\u0080\\u00a2 Highlighting risks and issues that could impact project delivery.\\r\\n\\u00e2\\u0080\\u00a2 Able to work accurately.\\r\\n\\u00e2\\u0080\\u00a2 To develop and maintain documentation for internal team training and client end user operations.\\r\\n\\u00e2\\u0080\\u00a2 To work efficiently with team members and across teams.\\r\\n\\u00e2\\u0080\\u00a2 To mentor and train junior team members.\\r\\ncompany - Clinical Testing, Lab Work and Diagnostic Testing\\r\\ndescription - IQVIA provides services to its customers this includes: Clinical Testing, Lab Work and Diagnostic Testing under clinical trial. These customers need to pay to IQVIA and aging details and invoices are generated for the same.\\r\\nThe following are the processes which were covered:\\r\\n\\r\\nTracking Payments, Automated Real Time Metrics Reporting (Dashboard), Past Due Notifications, AR Statements, Credit/Rebill.\\r\\nResponsibilities: \\u00e2\\u0080\\u00a2 Conducting meetings with clients and key stakeholders to gather requirements, analyze, finalize and have formal sign-offs from approvers Gather and perform analysis of the business requirements \\u00e2\\u0080\\u00a2 Translating the business requirements into the Business Requirement Document [BRD], Functional Requirement Document [FRD].\\r\\n\\u00e2\\u0080\\u00a2 Facilitating meetings with the appropriate subject matter experts in both business and technology teams \\u00e2\\u0080\\u00a2 Coordinating with business user community for the execution of user acceptance test as well as tracking issues \\u00e2\\u0080\\u00a2 Working, collaborating and coordinating with Offshore and Onsite team members to fulfill the BA responsibilities from project initiation to Post-Implementation \\u00e2\\u0080\\u00a2 Reviewing the test scripts with business users as well as technology team. Execute test scripts with expected results for the System Integration Test (SIT) and User Acceptance Test (UAT) \\u00e2\\u0080\\u00a2 Coordinating and conducting the Production Acceptance Testing (PAT) with the business users \\u00e2\\u0080\\u00a2 Creating flow diagrams, structure charts, and other types of system or process representations \\u00e2\\u0080\\u00a2 Managing changes to requirements and baseline through a change control process \\u00e2\\u0080\\u00a2 Utilizing standard methods, design and testing tools throughout project development life cycle \\u00e2\\u0080\\u00a2 Work closely with the operational functional teams, operations management, and personnel, and various technology teams to facilitate a shared understanding of requirements and priorities across all areas\\r\\ncompany - Eduavenir IT Solution\\r\\ndescription - Project: M.B.M.S\\r\\n\\r\\nM.B.M.S. - is an Inventory management application that allows user to manage inventory details of different warehouses, having different products located at various locations and help extract what goods have been procured, sold or returned by customers. It generates automated invoicesalong withcustomized reports. It also managescustomer complaint and resolution system implementation along with automated MIS on monthly basis.Sales and forecastingis also developed on MIS System and the streamlining of process of warehousing and dispatch along with online proof of delivery management system (POD documentation) is generated.\\r\\n\\r\\nResponsibilities: \\u00e2\\u0080\\u00a2 Participate in requirement gathering discussion with client to understand the flow of business processes \\u00e2\\u0080\\u00a2 Analyze the requirements and determine the core processes, develop Process Documentation and ensure to stay up-to-date in conjunction with on-going changes \\u00e2\\u0080\\u00a2 Participate in process flow analysis and preparing BRD, SRS.\\r\\n\\u00e2\\u0080\\u00a2 Coordinating with developers, designers & operations teams for various nuances of the project, communicate the stakeholder requirements from requirement /enhancement to implementation and finally deliver the same within estimated timeframe.\\r\\n\\u00e2\\u0080\\u00a2 Support UAT by reviewing test cases, manage version control of documents, software builds.\\r\\n\\u00e2\\u0080\\u00a2 Coordinate with the stakeholders for UAT sign off and coordinate internally for production movement till Golive stage of the application.\\r\\n\\u00e2\\u0080\\u00a2 Provide demo and training to internal and end user using PowerPoint presentation.\\r\\n\\u00e2\\u0080\\u00a2 Resolving project functional &technical issues during UAT.\\r\\n\\u00e2\\u0080\\u00a2 Prioritizing the Production bugs and resolving the same within the estimated timeframe.\\r\\n\\u00e2\\u0080\\u00a2 Preparing Project Status Report and Production Bugs Status to all the stakeholders.\\r\\n\\u00e2\\u0080\\u00a2 Promoting and Networking for online trading platform.\\r\\n\\u00e2\\u0080\\u00a2 Designing query sheet for obtaining and comparison of quotes from various vendors.\\r\\n\\u00e2\\u0080\\u00a2 Development of product codes / material codes for inventory management (Master Data Management)\\r\\ncompany - CAPGEMINI Head Office\\r\\ndescription - Type: Mobile and Device Testing.       Duration: January 2014 - August 2014\\r\\n\\r\\nFollet - An application which takes an electronic request from the user for the books he requires from a particular follet store. This detailed information about books that will include the name of the book, its price, the date of the transaction and the parties involved which will then be sent to follet stores. User then create request for one or more books for a given date. This request is then processed further and user gets a mail of the date when he will be provided with that book.\\r\\n\\r\\nResponsibilities: \\u00e2\\u0080\\u00a2 Understanding the needs and business requirements.\\r\\n\\u00e2\\u0080\\u00a2 Preparing BRD, SRS by eliciting all the requirements from the client and SMEs \\u00e2\\u0080\\u00a2 Understanding the dependency of the modules in the system \\u00e2\\u0080\\u00a2 Preparation of test plan for Unit level and Integration level.\\r\\n\\u00e2\\u0080\\u00a2 Preparation and execution of test cases.\\r\\n\\u00e2\\u0080\\u00a2 Defect tracking, Issue Resolution, Risk Monitoring, Status Tracking, Reporting and Follow-up.\\r\\n\\u00e2\\u0080\\u00a2 Preparation of Test Completion report.\\r\\ncompany - CAPGEMINI Head Office\\r\\ndescription - \\r\\ncompany - CAPGEMINI Head Office\\r\\ndescription - Humana is a health care insurance project of U.S. which deals with supplying various medicines to citizens as per the doctor's reference and patient's insurance policy. This application keeps track of all the medicines user has consumed in the past and generates a patient history. A citizen is given a drug only after the doctor's reference so the doctor's information is also linked with the patient's history.\\r\\n\\r\\nResponsibilities: \\u00e2\\u0080\\u00a2 Understanding the requirements and getting clarifications from client.\\r\\n\\u00e2\\u0080\\u00a2 Involved in writing test cases based on test scenarios and execute them.\\r\\n\\u00e2\\u0080\\u00a2 Ensuring Test Coverage using Requirement Traceability Matrix (RTM) \\u00e2\\u0080\\u00a2 Preparation of Test Completion report.\\r\\ncompany - CAPGEMINI Head Office\\r\\ndescription - Testing Trends WQR (World Quality Report) is an application which allows the users to take a survey on different methods and technologies used for testing. Users can choose to answer any type of questions under three different categories. Users have a facility to search, view and export the data to excel. Also, users get daily and weekly reports through email about the new trends in testing implemented around the globe. Testing Trends WQR app is available on Android and IOS platforms.\\r\\n\\r\\nResponsibilities: \\u00e2\\u0080\\u00a2 Understanding the requirements and getting clarifications from client.\\r\\n\\u00e2\\u0080\\u00a2 Writing test cases based on test scenarios and executed them.\\r\\n\\u00e2\\u0080\\u00a2 Performing different types of testing such as Functional, Integration, System, and UAT.\\r\\n\\u00e2\\u0080\\u00a2 Defect resolution and maintenance of the application.\"\n        ],\n        \"semantic_type\": \"\",\n        \"description\": \"\"\n      }\n    }\n  ]\n}"
            }
          },
          "metadata": {},
          "execution_count": 5
        }
      ]
    },
    {
      "cell_type": "code",
      "metadata": {
        "id": "C92ji6ZV9MWs",
        "colab": {
          "base_uri": "https://localhost:8080/"
        },
        "outputId": "bb2ed1b5-57e8-481f-e734-522d70da382a"
      },
      "source": [
        "# Display the distinct categories of resume\n",
        "# YOUR CODE HERE\n",
        "df['Category'].unique()"
      ],
      "execution_count": null,
      "outputs": [
        {
          "output_type": "execute_result",
          "data": {
            "text/plain": [
              "array(['Data Science', 'HR', 'Advocate', 'Arts', 'Web Designing',\n",
              "       'Mechanical Engineer', 'Sales', 'Health and fitness',\n",
              "       'Civil Engineer', 'Java Developer', 'Business Analyst',\n",
              "       'SAP Developer', 'Automation Testing', 'Electrical Engineering',\n",
              "       'Operations Manager', 'Python Developer', 'DevOps Engineer',\n",
              "       'Network Security Engineer', 'PMO', 'Database', 'Hadoop',\n",
              "       'ETL Developer', 'DotNet Developer', 'Blockchain', 'Testing'],\n",
              "      dtype=object)"
            ]
          },
          "metadata": {},
          "execution_count": 6
        }
      ]
    },
    {
      "cell_type": "code",
      "source": [
        "# Displaying the number of distinct categories of resume\n",
        "# YOUR CODE HERE\n",
        "len(df['Category'].unique())"
      ],
      "metadata": {
        "id": "hcvr3-nQn1PN",
        "colab": {
          "base_uri": "https://localhost:8080/"
        },
        "outputId": "5127981c-d708-4c7c-ff9c-960f41697880"
      },
      "execution_count": null,
      "outputs": [
        {
          "output_type": "execute_result",
          "data": {
            "text/plain": [
              "25"
            ]
          },
          "metadata": {},
          "execution_count": 7
        }
      ]
    },
    {
      "cell_type": "code",
      "metadata": {
        "id": "YtIjY7ji9va5",
        "colab": {
          "base_uri": "https://localhost:8080/",
          "height": 467
        },
        "outputId": "77103079-6e3e-4ad4-d0ff-5ace1a2b0494"
      },
      "source": [
        "# Display the distinct categories of resume and the number of records belonging to each category\n",
        "# YOUR CODE HERE\n",
        "df['Category'].value_counts().plot(kind='barh')"
      ],
      "execution_count": null,
      "outputs": [
        {
          "output_type": "execute_result",
          "data": {
            "text/plain": [
              "<Axes: ylabel='Category'>"
            ]
          },
          "metadata": {},
          "execution_count": 8
        },
        {
          "output_type": "display_data",
          "data": {
            "text/plain": [
              "<Figure size 640x480 with 1 Axes>"
            ],
            "image/png": "[encoded data removed]"
          },
          "metadata": {}
        }
      ]
    },
    {
      "cell_type": "markdown",
      "metadata": {
        "id": "kpHv50ojzvO5"
      },
      "source": [
        "**Exercise 3: Create the count plot of different categories [0.5 Mark]**\n",
        "\n",
        "**Hint:** Use `sns.countplot()`"
      ]
    },
    {
      "cell_type": "code",
      "metadata": {
        "id": "zYwrK_5f93gP",
        "colab": {
          "base_uri": "https://localhost:8080/",
          "height": 507
        },
        "outputId": "2ed43ead-190e-4875-d1bc-049187a4c288"
      },
      "source": [
        "# YOUR CODE HERE\n",
        "plt.figure()  # No need to specify figsize for tight layout\n",
        "sns.countplot(x='Category', data=df)\n",
        "plt.xticks(rotation=90)  # Rotate x-axis labels if needed\n",
        "plt.tight_layout()  # Adjust layout to fit all elements within the figure bounds\n",
        "plt.show()"
      ],
      "execution_count": null,
      "outputs": [
        {
          "output_type": "display_data",
          "data": {
            "text/plain": [
              "<Figure size 640x480 with 1 Axes>"
            ],
            "image/png": "[encoded data removed]"
          },
          "metadata": {}
        }
      ]
    },
    {
      "cell_type": "markdown",
      "metadata": {
        "id": "VyXtz0Mr0NVB"
      },
      "source": [
        "**Exercise 4: Create a pie plot depicting the percentage of resume distributions category-wise. [0.5 mark]**\n",
        "\n",
        "**Hint:** Use [plt.pie()](https://matplotlib.org/stable/api/_as_gen/matplotlib.pyplot.pie.html) and [plt.get_cmap](https://matplotlib.org/stable/tutorials/colors/colormaps.html) for color mapping the pie chart."
      ]
    },
    {
      "cell_type": "code",
      "metadata": {
        "id": "qrpJDoGx-CuF",
        "colab": {
          "base_uri": "https://localhost:8080/",
          "height": 842
        },
        "outputId": "25767d7c-1cb0-4215-fd9b-a5e220eb5075"
      },
      "source": [
        "targetCounts = df['Category'].value_counts()\n",
        "targetLabels  = targetCounts.index\n",
        "# Make square figures and axes\n",
        "plt.figure(1, figsize=(25,25))\n",
        "the_grid = GridSpec(2, 2)\n",
        "plt.pie(targetCounts, labels=targetCounts.index, autopct='%1.1f%%', startangle=90,\n",
        "        colors=plt.get_cmap('coolwarm')(np.linspace(0, 1, len(targetCounts))))\n",
        "plt.axis('equal')  # Equal aspect ratio ensures a circular pie chart\n",
        "plt.title('Percentage Distribution of Categories')\n",
        "# YOUR CODE HERE to display pie chart with color coding (eg. `coolwarm`)\n",
        "plt.show()"
      ],
      "execution_count": null,
      "outputs": [
        {
          "output_type": "display_data",
          "data": {
            "text/plain": [
              "<Figure size 2500x2500 with 1 Axes>"
            ],
            "image/png": "[encoded data removed]"
          },
          "metadata": {}
        }
      ]
    },
    {
      "cell_type": "markdown",
      "metadata": {
        "id": "KJaznteJ1xr4"
      },
      "source": [
        "**Exercise 5: Convert all the `Resume` text to lower case and remove trailing spaces [0.5 Mark]**\n",
        "\n",
        "\n"
      ]
    },
    {
      "cell_type": "code",
      "metadata": {
        "id": "tf1wNRqb-Om2"
      },
      "source": [
        "# Convert all characters to lowercase and remove trailing spaces\n",
        "# YOUR CODE HERE\n",
        "df['Resume'] = df['Resume'].str.lower().str.strip()"
      ],
      "execution_count": null,
      "outputs": []
    },
    {
      "cell_type": "markdown",
      "metadata": {
        "id": "8cBXmdXpDIQJ"
      },
      "source": [
        "### Cleaning Resume"
      ]
    },
    {
      "cell_type": "markdown",
      "metadata": {
        "id": "yvkRbRnM3ap7"
      },
      "source": [
        "**Exercise 6: Define a function to clean the resume text [2 Mark]**\n",
        "\n",
        "In the text there are special characters, urls, hashtags, mentions, etc. You need to remove for the following:  \n",
        "\n",
        "* URLs: For reference click [here](https://stackoverflow.com/questions/11331982/how-to-remove-any-url-within-a-string-in-python)\n",
        "* RT | cc: For reference click [here](https://www.machinelearningplus.com/python/python-regex-tutorial-examples/)\n",
        "* Hashtags, # and Mentions, @\n",
        "* punctuations\n",
        "* extra whitespace\n",
        "\n",
        "PS: Use the provided reference similarly for removing any other such elements.\n",
        "\n",
        "After cleaning as above, store the Resume Text in a separate column (New Feature say `Cleaned_Resume`).\n"
      ]
    },
    {
      "cell_type": "code",
      "metadata": {
        "id": "k9Z-Oois_LWE"
      },
      "source": [
        "import re\n",
        "def cleanResume(resumeText):\n",
        "    # YOUR CODE HERE\n",
        "    # Remove URLs\n",
        "\n",
        "    resumeText = re.sub(r'http\\S+', '', resumeText)\n",
        "    resumeText = re.sub('RT|cc','', resumeText)\n",
        "    resumeText = re.sub('#\\S+', '', resumeText)\n",
        "    resumeText = re.sub('@\\S+', '', resumeText)\n",
        "    resumeText = re.sub('[%s]' % re.escape(\"\"\"!\"#$%&'()*+,-./:;<=>?@[\\]^_`{|}â¢~\"\"\"), '', resumeText)  # remove punctuations\n",
        "    resumeText = re.sub('\\s+', ' ', resumeText)\n",
        "    # resumeText = re.sub('[^A-Za-z0-9]+', '', resumeText)\n",
        "    return resumeText\n"
      ],
      "execution_count": null,
      "outputs": []
    },
    {
      "cell_type": "code",
      "metadata": {
        "id": "0O2tR_IjDNWr"
      },
      "source": [
        "# Apply the function defined above and save the\n",
        "df['Cleaned_Resume'] =  df['Resume'].apply(lambda x: cleanResume(x))"
      ],
      "execution_count": null,
      "outputs": []
    },
    {
      "cell_type": "code",
      "source": [
        "df ['Cleaned_Resume'].head(5)"
      ],
      "metadata": {
        "colab": {
          "base_uri": "https://localhost:8080/",
          "height": 261
        },
        "id": "JresXg8Kt5k2",
        "outputId": "332898ea-b66d-4de0-a847-053eb607bb31"
      },
      "execution_count": null,
      "outputs": [
        {
          "output_type": "execute_result",
          "data": {
            "text/plain": [
              "0    skills programming languages python pandas num...\n",
              "1    education details may 2013 to may 2017 be uitr...\n",
              "2    areas of interest deep learning control system...\n",
              "3    skills r python sap hana tableau sap hana sql ...\n",
              "4    education details mca ymcaust faridabad haryan...\n",
              "Name: Cleaned_Resume, dtype: object"
            ],
            "text/html": [
              "<div>\n",
              "<style scoped>\n",
              "    .dataframe tbody tr th:only-of-type {\n",
              "        vertical-align: middle;\n",
              "    }\n",
              "\n",
              "    .dataframe tbody tr th {\n",
              "        vertical-align: top;\n",
              "    }\n",
              "\n",
              "    .dataframe thead th {\n",
              "        text-align: right;\n",
              "    }\n",
              "</style>\n",
              "<table border=\"1\" class=\"dataframe\">\n",
              "  <thead>\n",
              "    <tr style=\"text-align: right;\">\n",
              "      <th></th>\n",
              "      <th>Cleaned_Resume</th>\n",
              "    </tr>\n",
              "  </thead>\n",
              "  <tbody>\n",
              "    <tr>\n",
              "      <th>0</th>\n",
              "      <td>skills programming languages python pandas num...</td>\n",
              "    </tr>\n",
              "    <tr>\n",
              "      <th>1</th>\n",
              "      <td>education details may 2013 to may 2017 be uitr...</td>\n",
              "    </tr>\n",
              "    <tr>\n",
              "      <th>2</th>\n",
              "      <td>areas of interest deep learning control system...</td>\n",
              "    </tr>\n",
              "    <tr>\n",
              "      <th>3</th>\n",
              "      <td>skills r python sap hana tableau sap hana sql ...</td>\n",
              "    </tr>\n",
              "    <tr>\n",
              "      <th>4</th>\n",
              "      <td>education details mca ymcaust faridabad haryan...</td>\n",
              "    </tr>\n",
              "  </tbody>\n",
              "</table>\n",
              "</div><br><label><b>dtype:</b> object</label>"
            ]
          },
          "metadata": {},
          "execution_count": 14
        }
      ]
    },
    {
      "cell_type": "markdown",
      "metadata": {
        "id": "2pBLoWMxAf64"
      },
      "source": [
        "**Exercise 7: Convert the categorical variable `Category` to a numerical feature and make a different column <font color=\"#990000\">`label`</font>, which can be treated as the target variable [0.5 Mark]**\n",
        "\n",
        "**Hint:** Use [`sklearn.preprocessing.LabelEncoder()`](https://scikit-learn.org/stable/modules/generated/sklearn.preprocessing.LabelEncoder.html) method"
      ]
    },
    {
      "cell_type": "code",
      "metadata": {
        "id": "kg4QNr7DYSJ5",
        "colab": {
          "base_uri": "https://localhost:8080/",
          "height": 383
        },
        "outputId": "c9aa15f5-722a-4955-c5b3-c6d83828744d"
      },
      "source": [
        "from sklearn.preprocessing import LabelEncoder\n",
        "\n",
        "# YOUR CODE HERE\n",
        "le = LabelEncoder()\n",
        "df['label'] = le.fit_transform(df['Category'])\n",
        "df.tail(10)"
      ],
      "execution_count": null,
      "outputs": [
        {
          "output_type": "execute_result",
          "data": {
            "text/plain": [
              "    Category                                             Resume  \\\n",
              "952  Testing  personal skills â¢ quick learner, â¢ eagerne...   \n",
              "953  Testing  computer skills & software knowledge ms-power ...   \n",
              "954  Testing  skill set os windows xp/7/8/8.1/10 database my...   \n",
              "955  Testing  â¢ good logical and analytical skills â¢ pos...   \n",
              "956  Testing  computer proficiency â¢ basic: ms-office (pow...   \n",
              "957  Testing  computer skills: â¢ proficient in ms office (...   \n",
              "958  Testing  â willingness to accept the challenges. â ...   \n",
              "959  Testing  personal skills â¢ quick learner, â¢ eagerne...   \n",
              "960  Testing  computer skills & software knowledge ms-power ...   \n",
              "961  Testing  skill set os windows xp/7/8/8.1/10 database my...   \n",
              "\n",
              "                                        Cleaned_Resume  label  \n",
              "952  personal skills quick learner eagerness to lea...     23  \n",
              "953  computer skills software knowledge mspower poi...     23  \n",
              "954  skill set os windows xp788110 database mysql s...     23  \n",
              "955   good logical and analytical skills positive a...     23  \n",
              "956  computer proficiency basic msoffice powerpoint...     23  \n",
              "957  computer skills proficient in ms office word b...     23  \n",
              "958   willingness to aept the challenges  posit...     23  \n",
              "959  personal skills quick learner eagerness to lea...     23  \n",
              "960  computer skills software knowledge mspower poi...     23  \n",
              "961  skill set os windows xp788110 database mysql s...     23  "
            ],
            "text/html": [
              "\n",
              "  <div id=\"df-8040a136-3bad-4f9e-80ef-349df80eb49a\" class=\"colab-df-container\">\n",
              "    <div>\n",
              "<style scoped>\n",
              "    .dataframe tbody tr th:only-of-type {\n",
              "        vertical-align: middle;\n",
              "    }\n",
              "\n",
              "    .dataframe tbody tr th {\n",
              "        vertical-align: top;\n",
              "    }\n",
              "\n",
              "    .dataframe thead th {\n",
              "        text-align: right;\n",
              "    }\n",
              "</style>\n",
              "<table border=\"1\" class=\"dataframe\">\n",
              "  <thead>\n",
              "    <tr style=\"text-align: right;\">\n",
              "      <th></th>\n",
              "      <th>Category</th>\n",
              "      <th>Resume</th>\n",
              "      <th>Cleaned_Resume</th>\n",
              "      <th>label</th>\n",
              "    </tr>\n",
              "  </thead>\n",
              "  <tbody>\n",
              "    <tr>\n",
              "      <th>952</th>\n",
              "      <td>Testing</td>\n",
              "      <td>personal skills â¢ quick learner, â¢ eagerne...</td>\n",
              "      <td>personal skills quick learner eagerness to lea...</td>\n",
              "      <td>23</td>\n",
              "    </tr>\n",
              "    <tr>\n",
              "      <th>953</th>\n",
              "      <td>Testing</td>\n",
              "      <td>computer skills &amp; software knowledge ms-power ...</td>\n",
              "      <td>computer skills software knowledge mspower poi...</td>\n",
              "      <td>23</td>\n",
              "    </tr>\n",
              "    <tr>\n",
              "      <th>954</th>\n",
              "      <td>Testing</td>\n",
              "      <td>skill set os windows xp/7/8/8.1/10 database my...</td>\n",
              "      <td>skill set os windows xp788110 database mysql s...</td>\n",
              "      <td>23</td>\n",
              "    </tr>\n",
              "    <tr>\n",
              "      <th>955</th>\n",
              "      <td>Testing</td>\n",
              "      <td>â¢ good logical and analytical skills â¢ pos...</td>\n",
              "      <td>good logical and analytical skills positive a...</td>\n",
              "      <td>23</td>\n",
              "    </tr>\n",
              "    <tr>\n",
              "      <th>956</th>\n",
              "      <td>Testing</td>\n",
              "      <td>computer proficiency â¢ basic: ms-office (pow...</td>\n",
              "      <td>computer proficiency basic msoffice powerpoint...</td>\n",
              "      <td>23</td>\n",
              "    </tr>\n",
              "    <tr>\n",
              "      <th>957</th>\n",
              "      <td>Testing</td>\n",
              "      <td>computer skills: â¢ proficient in ms office (...</td>\n",
              "      <td>computer skills proficient in ms office word b...</td>\n",
              "      <td>23</td>\n",
              "    </tr>\n",
              "    <tr>\n",
              "      <th>958</th>\n",
              "      <td>Testing</td>\n",
              "      <td>â willingness to accept the challenges. â ...</td>\n",
              "      <td> willingness to aept the challenges  posit...</td>\n",
              "      <td>23</td>\n",
              "    </tr>\n",
              "    <tr>\n",
              "      <th>959</th>\n",
              "      <td>Testing</td>\n",
              "      <td>personal skills â¢ quick learner, â¢ eagerne...</td>\n",
              "      <td>personal skills quick learner eagerness to lea...</td>\n",
              "      <td>23</td>\n",
              "    </tr>\n",
              "    <tr>\n",
              "      <th>960</th>\n",
              "      <td>Testing</td>\n",
              "      <td>computer skills &amp; software knowledge ms-power ...</td>\n",
              "      <td>computer skills software knowledge mspower poi...</td>\n",
              "      <td>23</td>\n",
              "    </tr>\n",
              "    <tr>\n",
              "      <th>961</th>\n",
              "      <td>Testing</td>\n",
              "      <td>skill set os windows xp/7/8/8.1/10 database my...</td>\n",
              "      <td>skill set os windows xp788110 database mysql s...</td>\n",
              "      <td>23</td>\n",
              "    </tr>\n",
              "  </tbody>\n",
              "</table>\n",
              "</div>\n",
              "    <div class=\"colab-df-buttons\">\n",
              "\n",
              "  <div class=\"colab-df-container\">\n",
              "    <button class=\"colab-df-convert\" onclick=\"convertToInteractive('df-8040a136-3bad-4f9e-80ef-349df80eb49a')\"\n",
              "            title=\"Convert this dataframe to an interactive table.\"\n",
              "            style=\"display:none;\">\n",
              "\n",
              "  <svg xmlns=\"http://www.w3.org/2000/svg\" height=\"24px\" viewBox=\"0 -960 960 960\">\n",
              "    <path d=\"M120-120v-720h720v720H120Zm60-500h600v-160H180v160Zm220 220h160v-160H400v160Zm0 220h160v-160H400v160ZM180-400h160v-160H180v160Zm440 0h160v-160H620v160ZM180-180h160v-160H180v160Zm440 0h160v-160H620v160Z\"/>\n",
              "  </svg>\n",
              "    </button>\n",
              "\n",
              "  <style>\n",
              "    .colab-df-container {\n",
              "      display:flex;\n",
              "      gap: 12px;\n",
              "    }\n",
              "\n",
              "    .colab-df-convert {\n",
              "      background-color: #E8F0FE;\n",
              "      border: none;\n",
              "      border-radius: 50%;\n",
              "      cursor: pointer;\n",
              "      display: none;\n",
              "      fill: #1967D2;\n",
              "      height: 32px;\n",
              "      padding: 0 0 0 0;\n",
              "      width: 32px;\n",
              "    }\n",
              "\n",
              "    .colab-df-convert:hover {\n",
              "      background-color: #E2EBFA;\n",
              "      box-shadow: 0px 1px 2px rgba(60, 64, 67, 0.3), 0px 1px 3px 1px rgba(60, 64, 67, 0.15);\n",
              "      fill: #174EA6;\n",
              "    }\n",
              "\n",
              "    .colab-df-buttons div {\n",
              "      margin-bottom: 4px;\n",
              "    }\n",
              "\n",
              "    [theme=dark] .colab-df-convert {\n",
              "      background-color: #3B4455;\n",
              "      fill: #D2E3FC;\n",
              "    }\n",
              "\n",
              "    [theme=dark] .colab-df-convert:hover {\n",
              "      background-color: #434B5C;\n",
              "      box-shadow: 0px 1px 3px 1px rgba(0, 0, 0, 0.15);\n",
              "      filter: drop-shadow(0px 1px 2px rgba(0, 0, 0, 0.3));\n",
              "      fill: #FFFFFF;\n",
              "    }\n",
              "  </style>\n",
              "\n",
              "    <script>\n",
              "      const buttonEl =\n",
              "        document.querySelector('#df-8040a136-3bad-4f9e-80ef-349df80eb49a button.colab-df-convert');\n",
              "      buttonEl.style.display =\n",
              "        google.colab.kernel.accessAllowed ? 'block' : 'none';\n",
              "\n",
              "      async function convertToInteractive(key) {\n",
              "        const element = document.querySelector('#df-8040a136-3bad-4f9e-80ef-349df80eb49a');\n",
              "        const dataTable =\n",
              "          await google.colab.kernel.invokeFunction('convertToInteractive',\n",
              "                                                    [key], {});\n",
              "        if (!dataTable) return;\n",
              "\n",
              "        const docLinkHtml = 'Like what you see? Visit the ' +\n",
              "          '<a target=\"_blank\" href=https://colab.research.google.com/notebooks/data_table.ipynb>data table notebook</a>'\n",
              "          + ' to learn more about interactive tables.';\n",
              "        element.innerHTML = '';\n",
              "        dataTable['output_type'] = 'display_data';\n",
              "        await google.colab.output.renderOutput(dataTable, element);\n",
              "        const docLink = document.createElement('div');\n",
              "        docLink.innerHTML = docLinkHtml;\n",
              "        element.appendChild(docLink);\n",
              "      }\n",
              "    </script>\n",
              "  </div>\n",
              "\n",
              "\n",
              "<div id=\"df-9652f3ad-1a5e-4417-82d6-d217e9132d62\">\n",
              "  <button class=\"colab-df-quickchart\" onclick=\"quickchart('df-9652f3ad-1a5e-4417-82d6-d217e9132d62')\"\n",
              "            title=\"Suggest charts\"\n",
              "            style=\"display:none;\">\n",
              "\n",
              "<svg xmlns=\"http://www.w3.org/2000/svg\" height=\"24px\"viewBox=\"0 0 24 24\"\n",
              "     width=\"24px\">\n",
              "    <g>\n",
              "        <path d=\"M19 3H5c-1.1 0-2 .9-2 2v14c0 1.1.9 2 2 2h14c1.1 0 2-.9 2-2V5c0-1.1-.9-2-2-2zM9 17H7v-7h2v7zm4 0h-2V7h2v10zm4 0h-2v-4h2v4z\"/>\n",
              "    </g>\n",
              "</svg>\n",
              "  </button>\n",
              "\n",
              "<style>\n",
              "  .colab-df-quickchart {\n",
              "      --bg-color: #E8F0FE;\n",
              "      --fill-color: #1967D2;\n",
              "      --hover-bg-color: #E2EBFA;\n",
              "      --hover-fill-color: #174EA6;\n",
              "      --disabled-fill-color: #AAA;\n",
              "      --disabled-bg-color: #DDD;\n",
              "  }\n",
              "\n",
              "  [theme=dark] .colab-df-quickchart {\n",
              "      --bg-color: #3B4455;\n",
              "      --fill-color: #D2E3FC;\n",
              "      --hover-bg-color: #434B5C;\n",
              "      --hover-fill-color: #FFFFFF;\n",
              "      --disabled-bg-color: #3B4455;\n",
              "      --disabled-fill-color: #666;\n",
              "  }\n",
              "\n",
              "  .colab-df-quickchart {\n",
              "    background-color: var(--bg-color);\n",
              "    border: none;\n",
              "    border-radius: 50%;\n",
              "    cursor: pointer;\n",
              "    display: none;\n",
              "    fill: var(--fill-color);\n",
              "    height: 32px;\n",
              "    padding: 0;\n",
              "    width: 32px;\n",
              "  }\n",
              "\n",
              "  .colab-df-quickchart:hover {\n",
              "    background-color: var(--hover-bg-color);\n",
              "    box-shadow: 0 1px 2px rgba(60, 64, 67, 0.3), 0 1px 3px 1px rgba(60, 64, 67, 0.15);\n",
              "    fill: var(--button-hover-fill-color);\n",
              "  }\n",
              "\n",
              "  .colab-df-quickchart-complete:disabled,\n",
              "  .colab-df-quickchart-complete:disabled:hover {\n",
              "    background-color: var(--disabled-bg-color);\n",
              "    fill: var(--disabled-fill-color);\n",
              "    box-shadow: none;\n",
              "  }\n",
              "\n",
              "  .colab-df-spinner {\n",
              "    border: 2px solid var(--fill-color);\n",
              "    border-color: transparent;\n",
              "    border-bottom-color: var(--fill-color);\n",
              "    animation:\n",
              "      spin 1s steps(1) infinite;\n",
              "  }\n",
              "\n",
              "  @keyframes spin {\n",
              "    0% {\n",
              "      border-color: transparent;\n",
              "      border-bottom-color: var(--fill-color);\n",
              "      border-left-color: var(--fill-color);\n",
              "    }\n",
              "    20% {\n",
              "      border-color: transparent;\n",
              "      border-left-color: var(--fill-color);\n",
              "      border-top-color: var(--fill-color);\n",
              "    }\n",
              "    30% {\n",
              "      border-color: transparent;\n",
              "      border-left-color: var(--fill-color);\n",
              "      border-top-color: var(--fill-color);\n",
              "      border-right-color: var(--fill-color);\n",
              "    }\n",
              "    40% {\n",
              "      border-color: transparent;\n",
              "      border-right-color: var(--fill-color);\n",
              "      border-top-color: var(--fill-color);\n",
              "    }\n",
              "    60% {\n",
              "      border-color: transparent;\n",
              "      border-right-color: var(--fill-color);\n",
              "    }\n",
              "    80% {\n",
              "      border-color: transparent;\n",
              "      border-right-color: var(--fill-color);\n",
              "      border-bottom-color: var(--fill-color);\n",
              "    }\n",
              "    90% {\n",
              "      border-color: transparent;\n",
              "      border-bottom-color: var(--fill-color);\n",
              "    }\n",
              "  }\n",
              "</style>\n",
              "\n",
              "  <script>\n",
              "    async function quickchart(key) {\n",
              "      const quickchartButtonEl =\n",
              "        document.querySelector('#' + key + ' button');\n",
              "      quickchartButtonEl.disabled = true;  // To prevent multiple clicks.\n",
              "      quickchartButtonEl.classList.add('colab-df-spinner');\n",
              "      try {\n",
              "        const charts = await google.colab.kernel.invokeFunction(\n",
              "            'suggestCharts', [key], {});\n",
              "      } catch (error) {\n",
              "        console.error('Error during call to suggestCharts:', error);\n",
              "      }\n",
              "      quickchartButtonEl.classList.remove('colab-df-spinner');\n",
              "      quickchartButtonEl.classList.add('colab-df-quickchart-complete');\n",
              "    }\n",
              "    (() => {\n",
              "      let quickchartButtonEl =\n",
              "        document.querySelector('#df-9652f3ad-1a5e-4417-82d6-d217e9132d62 button');\n",
              "      quickchartButtonEl.style.display =\n",
              "        google.colab.kernel.accessAllowed ? 'block' : 'none';\n",
              "    })();\n",
              "  </script>\n",
              "</div>\n",
              "\n",
              "    </div>\n",
              "  </div>\n"
            ],
            "application/vnd.google.colaboratory.intrinsic+json": {
              "type": "dataframe",
              "summary": "{\n  \"name\": \"df\",\n  \"rows\": 10,\n  \"fields\": [\n    {\n      \"column\": \"Category\",\n      \"properties\": {\n        \"dtype\": \"category\",\n        \"num_unique_values\": 1,\n        \"samples\": [\n          \"Testing\"\n        ],\n        \"semantic_type\": \"\",\n        \"description\": \"\"\n      }\n    },\n    {\n      \"column\": \"Resume\",\n      \"properties\": {\n        \"dtype\": \"string\",\n        \"num_unique_values\": 7,\n        \"samples\": [\n          \"personal skills \\u00e2\\u0080\\u00a2 quick learner, \\u00e2\\u0080\\u00a2 eagerness to learn new things, \\u00e2\\u0080\\u00a2 competitive attitude, \\u00e2\\u0080\\u00a2 good leadership qualities, \\u00e2\\u0080\\u00a2 ability to deal with people diplomatically. personal dossier fathers name: dhanraj wagheducation details \\r\\njanuary 2012 to january 2016 bachelors of engineering engineering pune, maharashtra pune university\\r\\njanuary 2012 higher secondary certificate  nashik, maharashtra snd college of engineering and research center\\r\\njanuary 2010 secondary school certificate  yeola, maharashtra swami muktanand jr. college\\r\\n hsc   maharashtra state board\\r\\n ssc   maharashtra state bard\\r\\n be  rajapur, uttar pradesh madhyamik vidya mandir rajapur\\r\\ntesting and quality control engineer \\r\\n\\r\\ntesting and quality control engineer - m/s rakesh transformer industries pvt. ltd\\r\\nskill details \\r\\ncompany details \\r\\ncompany - m/s rakesh transformer industries pvt. ltd\\r\\ndescription - responsibilities:\\r\\n\\u00e2\\u0080\\u00a2     to conduct routine test, type test (temperature rise test), special test on transformers as per is & iec up\\r\\n\\r\\nto - 10 mva / 33 kv class & preparing of its test reports.\\r\\n\\r\\n\\u00e2\\u0080\\u00a2     routine tests, type tests and special tests as per is 2026, is 1180, is 11171/iec-60076- test\\r\\n\\r\\nmanual/inspection plans of power transformers, distribution transformers, inverter duty, converter duty,\\r\\n\\r\\nmotor duty transformer, furnace transformer, auto transformers, dry type (vpi & crt) lt transformers,\\r\\n\\r\\nspecial transformers\\r\\n\\u00e2\\u0080\\u00a2     testing remote tap changer cubicle (rtcc) panel with oltc and its operation ( ctr, esun mr.)\\r\\n\\r\\n\\u00e2\\u0080\\u00a2     functional testing of transformer accessories ( br, prv, mog, wti, oti and its setting)\\r\\n\\r\\n\\u00e2\\u0080\\u00a2     in case any failure in testing analyses the root cause and submit the capa\\r\\n\\r\\n\\u00e2\\u0080\\u00a2     assist the customer or their representative at the time of inspection.\\r\\n\\r\\n\\u00e2\\u0080\\u00a2     in process testing of winding, core assembly and core coil assembly.\\r\\n\\r\\n\\u00e2\\u0080\\u00a2     handling 3rd party and government body's inspection.\\r\\n\\r\\n\\u00e2\\u0080\\u00a2     preparation of daily internal testing reports and send to concern.\\r\\n\\r\\n\\u00e2\\u0080\\u00a2     support certification audits (iso & bis)\\r\\n\\r\\n\\u00e2\\u0080\\u00a2     calibration/validation of tools, instruments, measuring equipment's\\r\\n\\r\\n\\u00e2\\u0080\\u00a2     suggest the client about proper maintenance of transformer\\r\\n\\u00e2\\u0080\\u00a2     doing all documentation and maintain records and analyze the test results and maintain testing ledger\\r\\n\\r\\n\\u00e2\\u0080\\u00a2     in process quality inspection of winding, core assembly, core coil assembly as per standard and as per\\r\\n\\r\\norganizational norms.\\r\\n\\r\\n\\u00e2\\u0080\\u00a2     pre dispatch quality inspection of complete product.\\r\\n\\r\\n\\u00e2\\u0080\\u00a2     implementation of, why-why analysis.\\r\\ncompany - m/s silverline electricals pvt. ltd\\r\\ndescription - routine tests, type tests (temperature rise test) and special tests as per is 2026, is 1180/ test\\r\\n\\r\\nmanual/inspection plans of distribution transformer, power transformer\\r\\n\\r\\n\\u00e2\\u0080\\u00a2     successfully handled responsibilities of erda's testing.\\r\\n\\r\\n\\u00e2\\u0080\\u00a2     on site commissioning of transformer.\\r\\n\\r\\n\\u00e2\\u0080\\u00a2     assist the customer or their representative at the time of inspection.\\r\\n\\r\\n\\u00e2\\u0080\\u00a2     in process testing of winding, core assembly and core coil assembly.\\r\\n\\r\\n\\u00e2\\u0080\\u00a2     successfully handling 3rd party and government body's inspection\\r\\n\\r\\n\\u00e2\\u0080\\u00a2     preparation of daily internal testing reports and send to concern.\\r\\n\\r\\n\\u00e2\\u0080\\u00a2     suggest the client about proper maintenance of transformer\"\n        ],\n        \"semantic_type\": \"\",\n        \"description\": \"\"\n      }\n    },\n    {\n      \"column\": \"Cleaned_Resume\",\n      \"properties\": {\n        \"dtype\": \"string\",\n        \"num_unique_values\": 7,\n        \"samples\": [\n          \"personal skills quick learner eagerness to learn new things competitive attitude good leadership qualities ability to deal with people diplomatically personal dossier fathers name dhanraj wagheducation details january 2012 to january 2016 bachelors of engineering engineering pune maharashtra pune university january 2012 higher secondary certificate nashik maharashtra snd college of engineering and research center january 2010 secondary school certificate yeola maharashtra swami muktanand jr college hsc maharashtra state board ssc maharashtra state bard be rajapur uttar pradesh madhyamik vidya mandir rajapur testing and quality control engineer testing and quality control engineer ms rakesh transformer industries pvt ltd skill details company details company ms rakesh transformer industries pvt ltd description responsibilities to conduct routine test type test temperature rise test special test on transformers as per is iec up to 10 mva 33 kv class preparing of its test reports routine tests type tests and special tests as per is 2026 is 1180 is 11171iec60076 test manualinspection plans of power transformers distribution transformers inverter duty converter duty motor duty transformer furnace transformer auto transformers dry type vpi crt lt transformers special transformers testing remote tap changer cubicle rt panel with oltc and its operation ctr esun mr functional testing of transformer aessories br prv mog wti oti and its setting in case any failure in testing analyses the root cause and submit the capa assist the customer or their representative at the time of inspection in process testing of winding core assembly and core coil assembly handling 3rd party and government bodys inspection preparation of daily internal testing reports and send to concern support certification audits iso bis calibrationvalidation of tools instruments measuring equipments suggest the client about proper maintenance of transformer doing all documentation and maintain records and analyze the test results and maintain testing ledger in process quality inspection of winding core assembly core coil assembly as per standard and as per organizational norms pre dispatch quality inspection of complete product implementation of whywhy analysis company ms silverline electricals pvt ltd description routine tests type tests temperature rise test and special tests as per is 2026 is 1180 test manualinspection plans of distribution transformer power transformer suessfully handled responsibilities of erdas testing on site commissioning of transformer assist the customer or their representative at the time of inspection in process testing of winding core assembly and core coil assembly suessfully handling 3rd party and government bodys inspection preparation of daily internal testing reports and send to concern suggest the client about proper maintenance of transformer\"\n        ],\n        \"semantic_type\": \"\",\n        \"description\": \"\"\n      }\n    },\n    {\n      \"column\": \"label\",\n      \"properties\": {\n        \"dtype\": \"number\",\n        \"std\": 0,\n        \"min\": 23,\n        \"max\": 23,\n        \"num_unique_values\": 1,\n        \"samples\": [\n          23\n        ],\n        \"semantic_type\": \"\",\n        \"description\": \"\"\n      }\n    }\n  ]\n}"
            }
          },
          "metadata": {},
          "execution_count": 15
        }
      ]
    },
    {
      "cell_type": "markdown",
      "source": [
        "**Exercise 8: Plot the histogram of words count of `Cleaned_Resume` text [0.5 Mark]**\n",
        "\n",
        "**Hint:** Use sns.distplot()"
      ],
      "metadata": {
        "id": "UWKiazN5mdyQ"
      }
    },
    {
      "cell_type": "code",
      "source": [
        "df['Word_Count'] = df['Cleaned_Resume'].apply(lambda x: len(x.split()))"
      ],
      "metadata": {
        "id": "mieV5cpRlUAq"
      },
      "execution_count": null,
      "outputs": []
    },
    {
      "cell_type": "code",
      "source": [
        "plt.figure(figsize= (8, 8))\n",
        "\n",
        "# YOUR CODE HERE\n",
        "sns.distplot(df['Word_Count'])\n",
        "\n",
        "plt.show()"
      ],
      "metadata": {
        "id": "4tK8VZkyldQx",
        "colab": {
          "base_uri": "https://localhost:8080/",
          "height": 716
        },
        "outputId": "ea06fbe8-1c9a-4e15-e531-d9e4d6959bfc"
      },
      "execution_count": null,
      "outputs": [
        {
          "output_type": "display_data",
          "data": {
            "text/plain": [
              "<Figure size 800x800 with 1 Axes>"
            ],
            "image/png": "[encoded data removed]"
          },
          "metadata": {}
        }
      ]
    },
    {
      "cell_type": "markdown",
      "metadata": {
        "id": "zK2N4kjkSEjF"
      },
      "source": [
        "### Train Test Split"
      ]
    },
    {
      "cell_type": "markdown",
      "source": [
        "**Exercise 9: Split the dataset into training, validation, and testing set [0.5 Mark]**\n",
        "\n",
        "* Do stratified splitting using `label` column"
      ],
      "metadata": {
        "id": "y6MTKhUomkzU"
      }
    },
    {
      "cell_type": "code",
      "source": [
        "train_test_df, val_df = train_test_split(df, test_size=0.2, random_state=42, stratify=df['label'])\n",
        "train_df, test_df =  train_test_split(train_test_df, test_size=0.2, random_state=42, stratify=train_test_df['label'])# YOUR CODE HERE to split data\n",
        "\n",
        "len(train_df), len(val_df), len(test_df)"
      ],
      "metadata": {
        "id": "mP2Ay3GdFU7b",
        "colab": {
          "base_uri": "https://localhost:8080/"
        },
        "outputId": "4a3cf085-1ce9-4512-d047-b1137c254026"
      },
      "execution_count": null,
      "outputs": [
        {
          "output_type": "execute_result",
          "data": {
            "text/plain": [
              "(615, 193, 154)"
            ]
          },
          "metadata": {},
          "execution_count": 18
        }
      ]
    },
    {
      "cell_type": "code",
      "source": [
        "train_df.head(2)"
      ],
      "metadata": {
        "id": "IHuVoyE6F6ef",
        "colab": {
          "base_uri": "https://localhost:8080/",
          "height": 167
        },
        "outputId": "7b744b71-1081-4591-df1e-e6d14f794bae"
      },
      "execution_count": null,
      "outputs": [
        {
          "output_type": "execute_result",
          "data": {
            "text/plain": [
              "             Category                                             Resume  \\\n",
              "591  Python Developer  training attended: 1. successfully completed e...   \n",
              "713          Database  education details \\r\\njanuary 2016 bsc.  mumba...   \n",
              "\n",
              "                                        Cleaned_Resume  label  Word_Count  \n",
              "591  training attended 1 suessfully completed esd p...     20         319  \n",
              "713  education details january 2016 bsc mumbai maha...      7         342  "
            ],
            "text/html": [
              "\n",
              "  <div id=\"df-ddf9a6ee-5ad0-4e15-9213-05ce8d2acd38\" class=\"colab-df-container\">\n",
              "    <div>\n",
              "<style scoped>\n",
              "    .dataframe tbody tr th:only-of-type {\n",
              "        vertical-align: middle;\n",
              "    }\n",
              "\n",
              "    .dataframe tbody tr th {\n",
              "        vertical-align: top;\n",
              "    }\n",
              "\n",
              "    .dataframe thead th {\n",
              "        text-align: right;\n",
              "    }\n",
              "</style>\n",
              "<table border=\"1\" class=\"dataframe\">\n",
              "  <thead>\n",
              "    <tr style=\"text-align: right;\">\n",
              "      <th></th>\n",
              "      <th>Category</th>\n",
              "      <th>Resume</th>\n",
              "      <th>Cleaned_Resume</th>\n",
              "      <th>label</th>\n",
              "      <th>Word_Count</th>\n",
              "    </tr>\n",
              "  </thead>\n",
              "  <tbody>\n",
              "    <tr>\n",
              "      <th>591</th>\n",
              "      <td>Python Developer</td>\n",
              "      <td>training attended: 1. successfully completed e...</td>\n",
              "      <td>training attended 1 suessfully completed esd p...</td>\n",
              "      <td>20</td>\n",
              "      <td>319</td>\n",
              "    </tr>\n",
              "    <tr>\n",
              "      <th>713</th>\n",
              "      <td>Database</td>\n",
              "      <td>education details \\r\\njanuary 2016 bsc.  mumba...</td>\n",
              "      <td>education details january 2016 bsc mumbai maha...</td>\n",
              "      <td>7</td>\n",
              "      <td>342</td>\n",
              "    </tr>\n",
              "  </tbody>\n",
              "</table>\n",
              "</div>\n",
              "    <div class=\"colab-df-buttons\">\n",
              "\n",
              "  <div class=\"colab-df-container\">\n",
              "    <button class=\"colab-df-convert\" onclick=\"convertToInteractive('df-ddf9a6ee-5ad0-4e15-9213-05ce8d2acd38')\"\n",
              "            title=\"Convert this dataframe to an interactive table.\"\n",
              "            style=\"display:none;\">\n",
              "\n",
              "  <svg xmlns=\"http://www.w3.org/2000/svg\" height=\"24px\" viewBox=\"0 -960 960 960\">\n",
              "    <path d=\"M120-120v-720h720v720H120Zm60-500h600v-160H180v160Zm220 220h160v-160H400v160Zm0 220h160v-160H400v160ZM180-400h160v-160H180v160Zm440 0h160v-160H620v160ZM180-180h160v-160H180v160Zm440 0h160v-160H620v160Z\"/>\n",
              "  </svg>\n",
              "    </button>\n",
              "\n",
              "  <style>\n",
              "    .colab-df-container {\n",
              "      display:flex;\n",
              "      gap: 12px;\n",
              "    }\n",
              "\n",
              "    .colab-df-convert {\n",
              "      background-color: #E8F0FE;\n",
              "      border: none;\n",
              "      border-radius: 50%;\n",
              "      cursor: pointer;\n",
              "      display: none;\n",
              "      fill: #1967D2;\n",
              "      height: 32px;\n",
              "      padding: 0 0 0 0;\n",
              "      width: 32px;\n",
              "    }\n",
              "\n",
              "    .colab-df-convert:hover {\n",
              "      background-color: #E2EBFA;\n",
              "      box-shadow: 0px 1px 2px rgba(60, 64, 67, 0.3), 0px 1px 3px 1px rgba(60, 64, 67, 0.15);\n",
              "      fill: #174EA6;\n",
              "    }\n",
              "\n",
              "    .colab-df-buttons div {\n",
              "      margin-bottom: 4px;\n",
              "    }\n",
              "\n",
              "    [theme=dark] .colab-df-convert {\n",
              "      background-color: #3B4455;\n",
              "      fill: #D2E3FC;\n",
              "    }\n",
              "\n",
              "    [theme=dark] .colab-df-convert:hover {\n",
              "      background-color: #434B5C;\n",
              "      box-shadow: 0px 1px 3px 1px rgba(0, 0, 0, 0.15);\n",
              "      filter: drop-shadow(0px 1px 2px rgba(0, 0, 0, 0.3));\n",
              "      fill: #FFFFFF;\n",
              "    }\n",
              "  </style>\n",
              "\n",
              "    <script>\n",
              "      const buttonEl =\n",
              "        document.querySelector('#df-ddf9a6ee-5ad0-4e15-9213-05ce8d2acd38 button.colab-df-convert');\n",
              "      buttonEl.style.display =\n",
              "        google.colab.kernel.accessAllowed ? 'block' : 'none';\n",
              "\n",
              "      async function convertToInteractive(key) {\n",
              "        const element = document.querySelector('#df-ddf9a6ee-5ad0-4e15-9213-05ce8d2acd38');\n",
              "        const dataTable =\n",
              "          await google.colab.kernel.invokeFunction('convertToInteractive',\n",
              "                                                    [key], {});\n",
              "        if (!dataTable) return;\n",
              "\n",
              "        const docLinkHtml = 'Like what you see? Visit the ' +\n",
              "          '<a target=\"_blank\" href=https://colab.research.google.com/notebooks/data_table.ipynb>data table notebook</a>'\n",
              "          + ' to learn more about interactive tables.';\n",
              "        element.innerHTML = '';\n",
              "        dataTable['output_type'] = 'display_data';\n",
              "        await google.colab.output.renderOutput(dataTable, element);\n",
              "        const docLink = document.createElement('div');\n",
              "        docLink.innerHTML = docLinkHtml;\n",
              "        element.appendChild(docLink);\n",
              "      }\n",
              "    </script>\n",
              "  </div>\n",
              "\n",
              "\n",
              "<div id=\"df-b7e1a5ec-1ba5-4e90-9e2c-2b3b78f2b4e6\">\n",
              "  <button class=\"colab-df-quickchart\" onclick=\"quickchart('df-b7e1a5ec-1ba5-4e90-9e2c-2b3b78f2b4e6')\"\n",
              "            title=\"Suggest charts\"\n",
              "            style=\"display:none;\">\n",
              "\n",
              "<svg xmlns=\"http://www.w3.org/2000/svg\" height=\"24px\"viewBox=\"0 0 24 24\"\n",
              "     width=\"24px\">\n",
              "    <g>\n",
              "        <path d=\"M19 3H5c-1.1 0-2 .9-2 2v14c0 1.1.9 2 2 2h14c1.1 0 2-.9 2-2V5c0-1.1-.9-2-2-2zM9 17H7v-7h2v7zm4 0h-2V7h2v10zm4 0h-2v-4h2v4z\"/>\n",
              "    </g>\n",
              "</svg>\n",
              "  </button>\n",
              "\n",
              "<style>\n",
              "  .colab-df-quickchart {\n",
              "      --bg-color: #E8F0FE;\n",
              "      --fill-color: #1967D2;\n",
              "      --hover-bg-color: #E2EBFA;\n",
              "      --hover-fill-color: #174EA6;\n",
              "      --disabled-fill-color: #AAA;\n",
              "      --disabled-bg-color: #DDD;\n",
              "  }\n",
              "\n",
              "  [theme=dark] .colab-df-quickchart {\n",
              "      --bg-color: #3B4455;\n",
              "      --fill-color: #D2E3FC;\n",
              "      --hover-bg-color: #434B5C;\n",
              "      --hover-fill-color: #FFFFFF;\n",
              "      --disabled-bg-color: #3B4455;\n",
              "      --disabled-fill-color: #666;\n",
              "  }\n",
              "\n",
              "  .colab-df-quickchart {\n",
              "    background-color: var(--bg-color);\n",
              "    border: none;\n",
              "    border-radius: 50%;\n",
              "    cursor: pointer;\n",
              "    display: none;\n",
              "    fill: var(--fill-color);\n",
              "    height: 32px;\n",
              "    padding: 0;\n",
              "    width: 32px;\n",
              "  }\n",
              "\n",
              "  .colab-df-quickchart:hover {\n",
              "    background-color: var(--hover-bg-color);\n",
              "    box-shadow: 0 1px 2px rgba(60, 64, 67, 0.3), 0 1px 3px 1px rgba(60, 64, 67, 0.15);\n",
              "    fill: var(--button-hover-fill-color);\n",
              "  }\n",
              "\n",
              "  .colab-df-quickchart-complete:disabled,\n",
              "  .colab-df-quickchart-complete:disabled:hover {\n",
              "    background-color: var(--disabled-bg-color);\n",
              "    fill: var(--disabled-fill-color);\n",
              "    box-shadow: none;\n",
              "  }\n",
              "\n",
              "  .colab-df-spinner {\n",
              "    border: 2px solid var(--fill-color);\n",
              "    border-color: transparent;\n",
              "    border-bottom-color: var(--fill-color);\n",
              "    animation:\n",
              "      spin 1s steps(1) infinite;\n",
              "  }\n",
              "\n",
              "  @keyframes spin {\n",
              "    0% {\n",
              "      border-color: transparent;\n",
              "      border-bottom-color: var(--fill-color);\n",
              "      border-left-color: var(--fill-color);\n",
              "    }\n",
              "    20% {\n",
              "      border-color: transparent;\n",
              "      border-left-color: var(--fill-color);\n",
              "      border-top-color: var(--fill-color);\n",
              "    }\n",
              "    30% {\n",
              "      border-color: transparent;\n",
              "      border-left-color: var(--fill-color);\n",
              "      border-top-color: var(--fill-color);\n",
              "      border-right-color: var(--fill-color);\n",
              "    }\n",
              "    40% {\n",
              "      border-color: transparent;\n",
              "      border-right-color: var(--fill-color);\n",
              "      border-top-color: var(--fill-color);\n",
              "    }\n",
              "    60% {\n",
              "      border-color: transparent;\n",
              "      border-right-color: var(--fill-color);\n",
              "    }\n",
              "    80% {\n",
              "      border-color: transparent;\n",
              "      border-right-color: var(--fill-color);\n",
              "      border-bottom-color: var(--fill-color);\n",
              "    }\n",
              "    90% {\n",
              "      border-color: transparent;\n",
              "      border-bottom-color: var(--fill-color);\n",
              "    }\n",
              "  }\n",
              "</style>\n",
              "\n",
              "  <script>\n",
              "    async function quickchart(key) {\n",
              "      const quickchartButtonEl =\n",
              "        document.querySelector('#' + key + ' button');\n",
              "      quickchartButtonEl.disabled = true;  // To prevent multiple clicks.\n",
              "      quickchartButtonEl.classList.add('colab-df-spinner');\n",
              "      try {\n",
              "        const charts = await google.colab.kernel.invokeFunction(\n",
              "            'suggestCharts', [key], {});\n",
              "      } catch (error) {\n",
              "        console.error('Error during call to suggestCharts:', error);\n",
              "      }\n",
              "      quickchartButtonEl.classList.remove('colab-df-spinner');\n",
              "      quickchartButtonEl.classList.add('colab-df-quickchart-complete');\n",
              "    }\n",
              "    (() => {\n",
              "      let quickchartButtonEl =\n",
              "        document.querySelector('#df-b7e1a5ec-1ba5-4e90-9e2c-2b3b78f2b4e6 button');\n",
              "      quickchartButtonEl.style.display =\n",
              "        google.colab.kernel.accessAllowed ? 'block' : 'none';\n",
              "    })();\n",
              "  </script>\n",
              "</div>\n",
              "\n",
              "    </div>\n",
              "  </div>\n"
            ],
            "application/vnd.google.colaboratory.intrinsic+json": {
              "type": "dataframe",
              "variable_name": "train_df",
              "summary": "{\n  \"name\": \"train_df\",\n  \"rows\": 615,\n  \"fields\": [\n    {\n      \"column\": \"Category\",\n      \"properties\": {\n        \"dtype\": \"category\",\n        \"num_unique_values\": 25,\n        \"samples\": [\n          \"Sales\",\n          \"Mechanical Engineer\",\n          \"Python Developer\"\n        ],\n        \"semantic_type\": \"\",\n        \"description\": \"\"\n      }\n    },\n    {\n      \"column\": \"Resume\",\n      \"properties\": {\n        \"dtype\": \"category\",\n        \"num_unique_values\": 164,\n        \"samples\": [\n          \"technical skills operating systems ms windows server 2012/2008/xp software and tools ms litespeed, idera sql safe, ssms, upgrade advisor, sql server profiler, scom, diagnostic manager, remedy, jira, infopacc, tivoli tdp backup tool, sql pack databasesms sql server 2016/2014/2012/ 2008 r2/ 2008, oracle 10g, netezza microsoft azure education details \\r\\n masters of science computer science pune, maharashtra indira college, pune university\\r\\nlead database administrator \\r\\n\\r\\nmicrosoft certified professional with 11 years of experience in database administration on ms sql server 2016/2014/2012/2008 r2/ 2008\\r\\nskill details \\r\\nms sql server- exprience - 110 months\\r\\nmicrosoft azure- exprience - less than 1 year months\\r\\nalways on availabiity group- exprience - less than 1 year months\\r\\ndatabase mirroring- exprience - less than 1 year months\\r\\nperformance tuning- exprience - less than 1 year months\\r\\nlog shipping- exprience - less than 1 year months\\r\\ninstallation , upgrade, migration and patching- exprience - less than 1 year monthscompany details \\r\\ncompany - ensono\\r\\ndescription - employment transfer as a part of project acquisition to ensono from wipro.\\r\\nsql server database administration\\r\\ncompany - wipro technologies\\r\\ndescription - microsoft certified professional with 11 years of experience in database administration on ms sql server 2016/2014/2012/2008 r2/ 2008.\\r\\nexperience with ms sql server 2016/2014/2012/2008 r2/ 2008 installation, upgrade, and administration\\r\\nmicrosoft azure certified.\\r\\nhave understanding of azure vm, azure storage, azure network, azure ad and azure sql database.\\u00e2\\u00a0\\r\\nincident management, change management and problem management for sql server database team.\\r\\nparticipating in meetings, conference calls with client, service delivery manager and application team for system improvements.\\r\\nparticipated in quarterly dr activity.\\r\\ninvolved in creation of sip - service improvement plans\\r\\ninvolved in handling of high severity issues and provided rca for the same.\\r\\nworked on always on availability groups, database mirroring, replication, clustering and log shipping.\\r\\nhave basic understanding of oracle and netezza.\\r\\nprovided on- call support during out of office hours and weekends.\\r\\nresource & shift management of 5 sql dbas from offshore in multi-client environment for data center services.\\r\\nprovided kt to team members, monitor and guide trainees.\\r\\ncompany - wipro technologies\\r\\ndescription - responsibilities: \\u00e2\\u0080\\u00a2 ms sql server 2016/2014/2012/ 2008 r2/ 2008 installation, configuration, and administration.\\r\\n\\u00e2\\u0080\\u00a2 worked on always on availability groups, log shipping, database mirroring and clustering.\\r\\n\\u00e2\\u0080\\u00a2 participated in  pci scan report to perform installation of security hot fixes, service packs for sql servers to remove vulnerability.\\r\\n\\u00e2\\u0080\\u00a2 participated in holmes bots automation implementation of sql pack tool.\\r\\n\\u00e2\\u0080\\u00a2 worked on service requests, incidents and critical issues.\\r\\n\\u00e2\\u0080\\u00a2 involved in conference calls to provide dba support for critical issues.\\r\\n\\u00e2\\u0080\\u00a2 performance tuning.\\r\\nenvironment: sql server 2016/2014/2012/2008r2/2008, windows server 2012/2008r2/2008\\r\\ncompany - mphasis\\r\\ndescription - \\r\\ncompany - mphasis\\r\\ndescription - responsibilities: \\u00e2\\u0080\\u00a2 ms sql server 2012/ 2008 r2/ 2008  installation, configuration, and administration.\\r\\n\\u00e2\\u0080\\u00a2 worked on always on availability groups, log shipping, database mirroring and clustering.\\r\\n\\u00e2\\u0080\\u00a2 performed sql server patching activity \\u00e2\\u0080\\u00a2 worked on daily reports like cluster failover, backup, ag/ls/mirror report and server disk space report.\\r\\n\\u00e2\\u0080\\u00a2 worked on service requests, incidents and critical issues.\\r\\n\\u00e2\\u0080\\u00a2 participated in quarterly dr activity.\\r\\n\\u00e2\\u0080\\u00a2 involved in conference calls to provide dba support for critical issues.\\r\\n\\u00e2\\u0080\\u00a2 provided support to windows team during patching for ag-mirror-cluster failover/failback and database health check.\\r\\n\\u00e2\\u0080\\u00a2 performed all the health checks for market open servers and provided update in market open call \\u00e2\\u0080\\u00a2 deeply involved in   resolution of the issue and finding the root cause analysis of the issue \\u00e2\\u0080\\u00a2 performance tuning.\\r\\nenvironment: sql server 2012/2008r2/2008, windows server 2008r2/2008\\r\\ncompany - synechron technologies pvt. ltd\\r\\ndescription - responsibilities: \\u00e2\\u0080\\u00a2 sql server, oracle and netezza databases support tasks.\\r\\n\\u00e2\\u0080\\u00a2 ms sql server 2008 r2/ 2008 installation, upgrade, and administration.\\r\\n\\u00e2\\u0080\\u00a2 done capacity planning for database growth for all sql servers.\\r\\n\\u00e2\\u0080\\u00a2 troubleshooting alerts.\\r\\n\\u00e2\\u0080\\u00a2 worked on log shipping and mirroring.\\r\\nenvironment: sql server 2008r2/2008, windows server 2008r2/2008, oracle 10g/rac\\r\\ncompany - synechron technologies pvt. ltd\\r\\ndescription - \\r\\ncompany - synechron technologies pvt. ltd\\r\\ndescription - responsibilities: \\u00e2\\u0080\\u00a2 pursued in-depth training on oracle 11g architecture and sql server.\\r\\nenvironment: sql server 2008r2/2008, windows server 2008r2/2008, oracle 10g\\r\\ncompany - synechron technologies pvt. ltd\\r\\ndescription - responsibilities: \\u00e2\\u0080\\u00a2 carried out version changes for schemas from pe8 version to ee11 version as per the process given\\r\\nenvironment: oracle 11g\\r\\ncompany - mastek ltd\\r\\ndescription - responsibilities: \\u00e2\\u0080\\u00a2 sql server 2008 r2/ 2008 installation, upgrade, and administration \\u00e2\\u0080\\u00a2 database backup/restore.\\r\\n\\u00e2\\u0080\\u00a2 performed ms sql server audits \\u00e2\\u0080\\u00a2 worked with database mirroring, replication, log shipping and clustering.\\r\\n\\u00e2\\u0080\\u00a2 supported uat and prod environments \\u00e2\\u0080\\u00a2 performed deployment document review.\\r\\n\\u00e2\\u0080\\u00a2 carried out deployments for different applications\\r\\nenvironment: sql server 2008r2/2008, windows server 2008r2/2008\\r\\ncompany - mastek ltd\\r\\ndescription - \\r\\ncompany - pp software and systems ltd\\r\\ndescription - \\r\\ncompany - pp software and systems ltd\\r\\ndescription - description: the system provides master data management and procurement modules for dairy industry.\\r\\nresponsibilities: \\u00e2\\u0080\\u00a2 designed, coded, and tested \\u00e2\\u0080\\u00a2 customized erp system as per the requirement\\r\\nenvironment: core java, postgresql\",\n          \"skill set \\u00e2\\u009c\\u0093 talend big data \\u00e2\\u009c\\u0093 informatica power center \\u00e2\\u009c\\u0093 microsoft sql server \\u00e2\\u009c\\u0093 sql platform 6.2.1 management studio workbench \\u00e2\\u009c\\u0093 aws services \\u00e2\\u009c\\u0093 talend administration console \\u00e2\\u009c\\u0093 microsoft visual \\u00e2\\u009c\\u0093 redshift (tac) studio \\u00e2\\u009c\\u0093 athena \\u00e2\\u009c\\u0093 data warehouse concept - star \\u00e2\\u009c\\u0093 sql \\u00e2\\u009c\\u0093 s3 schema, facts, dimensions \\u00e2\\u009c\\u0093 data modeling - \\u00e2\\u009c\\u0093 data integration microsoft access education details \\r\\njanuary 2012 to january 2016 be  mumbai, maharashtra university of mumbai\\r\\njanuary 2012 cbse technology kochi, kerala st. francis\\r\\ntalend etl developer \\r\\n\\r\\ntalend etl developer - tata consultancy services\\r\\nskill details \\r\\ndata warehouse- exprience - 23 months\\r\\ndatabase- exprience - 20 months\\r\\nintegration- exprience - 20 months\\r\\nintegrator- exprience - 20 months\\r\\nms sql server- exprience - 20 monthscompany details \\r\\ncompany - tata consultancy services\\r\\ndescription - prepared etl mapping documents for every mapping and data migration document for smooth transfer of project from development to testing environment and then to production environment. performed unit testing and system testing to\\r\\nvalidate data loads in the target. troubleshoot long running jobs and fixed the issues.\\r\\n\\u00e2\\u0080\\u00a2 expertise in creating mappings in talend using big data supporting components such as tjdbcconfiguration, tjdbcinput,\\r\\nthdfsconfiguration, ts3configuration, tcacheout, tcachein, tsqlrow and standard components like tfileinputdelimited,\\r\\ntfileoutputdelimited, tmap, tjoin, treplicate, tparallelize, tconverttype, taggregate, tsortrow, tflowmeter, tlogcatcher,\\r\\ntrowgenerator, tjava, tjavarow, taggregaterow, tfilter etc.\\r\\n\\u00e2\\u0080\\u00a2 used etl methodologies and best practices to create talend etl jobs. followed and enhanced programming and naming\\r\\nstandards. developed jobs, components and joblets in talend. used trunjob component to run child job from a parent job and to pass parameters from parent to child job.\\r\\n\\u00e2\\u0080\\u00a2 created and deployed physical objects including custom tables, custom views, stored procedures, and indexes to sql server for staging and data-warehouse environment. involved in writing sql queries and used joins to access data from mysql.\\r\\n\\u00e2\\u0080\\u00a2 created and managed source to target mapping documents for all facts and dimension tables. broad design, development and testing experience with talend integration suite and knowledge in performance tuning of mappings.\\r\\n\\u00e2\\u0080\\u00a2 extensively used tmap component which does lookup & joiner functions. experienced in writing expressions within tmap as per the business need. handled insert and update strategy using tsqlrow.\\r\\n\\u00e2\\u0080\\u00a2 created implicit, local and global context variables in the job to run talend jobs against different environments.\\r\\n\\u00e2\\u0080\\u00a2 worked on talend administration console (tac) for scheduling jobs and adding users. experienced in building a talend job outside of a talend studio as well as on tac server.\\r\\n\\u00e2\\u0080\\u00a2 developed mappings to load fact and dimension tables, scd type 1 and scd type 2 dimensions and incremental loading and unit tested the mappings.\\r\\n\\u00e2\\u0080\\u00a2 developed framework integrated job which schedules multiple jobs at a time and updates the last successful run time,\\r\\nsuccess status, sending mail for failed jobs, maintaining the counts in sql database. used tparalleize component and multi\\r\\nthread execution option to run subjobs in parallel which increases the performance of a job.\\r\\n\\u00e2\\u0080\\u00a2 created talend jobs to copy the files from one server to another and utilized talend ftp components. implemented ftp\\r\\noperations using talend studio to transfer files in between network folders as well as to ftp server using components like tfilelist, ts3put, tftput, tfileexist, tftpconnection etc.\\r\\n\\u00e2\\u0080\\u00a2 extracted data from flat files/ databases applied business logic to load them in the staging database as well as flat files.\\r\\n\\u00e2\\u0080\\u00a2 successfully loaded data into different targets from various source systems like sql database, db2, flatfiles, xml files etc into the staging table and then to the target database.\\r\\ncompany - tata consultancy services\\r\\ndescription - experience in development and design of etl (extract, transform and loading data) methodology for supporting data\\r\\ntransformations and processing, in a corporate wide etl solution using talend big data platform.\\r\\n\\u00e2\\u0080\\u00a2   excellent working experience in agile methodologies.\\r\\n\\u00e2\\u0080\\u00a2   proficiency in gathering and understanding the client requirements and translate business needs into technical\\r\\nrequirements.\\r\\n\\u00e2\\u0080\\u00a2   design and develop end-to-end etl process from various source systems to staging area, from staging to data warehouse,\\r\\nsoliciting and documenting business, functional and data requirements, context/variable diagrams, use cases and etl\\r\\nrelated diagrams.\\r\\n\\u00e2\\u0080\\u00a2   excellent oral/written communication with ability to effectively work with onsite and remote teams.\\r\\n\\u00e2\\u0080\\u00a2   a good team player with excellent problem solving ability and time management skills having profound insight to determine\\r\\npriorities, schedule work and meet critical deadlines.\\r\\ncompany - tata consultancy services\\r\\ndescription - prepared etl mapping documents for every mapping and data migration document for smooth transfer of project from development to testing environment and then to production environment. performed unit testing and system testing to\\r\\nvalidate data loads in the target. troubleshoot long running jobs and fixed the issues.\",\n          \"education details \\r\\n llb.   dibrugarh university\\r\\nadvocate \\r\\n\\r\\n\\r\\nskill details \\r\\nlegal.- exprience - less than 1 year monthscompany details \\r\\ncompany - legal.\\r\\ndescription - \\u00e2\\u0080\\u00a2 advocate\"\n        ],\n        \"semantic_type\": \"\",\n        \"description\": \"\"\n      }\n    },\n    {\n      \"column\": \"Cleaned_Resume\",\n      \"properties\": {\n        \"dtype\": \"category\",\n        \"num_unique_values\": 164,\n        \"samples\": [\n          \"technical skills operating systems ms windows server 20122008xp software and tools ms litespeed idera sql safe ssms upgrade advisor sql server profiler scom diagnostic manager remedy jira infopa tivoli tdp backup tool sql pack databasesms sql server 201620142012 2008 r2 2008 oracle 10g netezza microsoft azure education details masters of science computer science pune maharashtra indira college pune university lead database administrator microsoft certified professional with 11 years of experience in database administration on ms sql server 2016201420122008 r2 2008 skill details ms sql server exprience 110 months microsoft azure exprience less than 1 year months always on availabiity group exprience less than 1 year months database mirroring exprience less than 1 year months performance tuning exprience less than 1 year months log shipping exprience less than 1 year months installation upgrade migration and patching exprience less than 1 year monthscompany details company ensono description employment transfer as a part of project acquisition to ensono from wipro sql server database administration company wipro technologies description microsoft certified professional with 11 years of experience in database administration on ms sql server 2016201420122008 r2 2008 experience with ms sql server 2016201420122008 r2 2008 installation upgrade and administration microsoft azure certified have understanding of azure vm azure storage azure network azure ad and azure sql database incident management change management and problem management for sql server database team participating in meetings conference calls with client service delivery manager and application team for system improvements participated in quarterly dr activity involved in creation of sip service improvement plans involved in handling of high severity issues and provided rca for the same worked on always on availability groups database mirroring replication clustering and log shipping have basic understanding of oracle and netezza provided on call support during out of office hours and weekends resource shift management of 5 sql dbas from offshore in multiclient environment for data center services provided kt to team members monitor and guide trainees company wipro technologies description responsibilities ms sql server 201620142012 2008 r2 2008 installation configuration and administration worked on always on availability groups log shipping database mirroring and clustering participated in pci scan report to perform installation of security hot fixes service packs for sql servers to remove vulnerability participated in holmes bots automation implementation of sql pack tool worked on service requests incidents and critical issues involved in conference calls to provide dba support for critical issues performance tuning environment sql server 2016201420122008r22008 windows server 20122008r22008 company mphasis description company mphasis description responsibilities ms sql server 2012 2008 r2 2008 installation configuration and administration worked on always on availability groups log shipping database mirroring and clustering performed sql server patching activity worked on daily reports like cluster failover backup aglsmirror report and server disk space report worked on service requests incidents and critical issues participated in quarterly dr activity involved in conference calls to provide dba support for critical issues provided support to windows team during patching for agmirrorcluster failoverfailback and database health check performed all the health checks for market open servers and provided update in market open call deeply involved in resolution of the issue and finding the root cause analysis of the issue performance tuning environment sql server 20122008r22008 windows server 2008r22008 company synechron technologies pvt ltd description responsibilities sql server oracle and netezza databases support tasks ms sql server 2008 r2 2008 installation upgrade and administration done capacity planning for database growth for all sql servers troubleshooting alerts worked on log shipping and mirroring environment sql server 2008r22008 windows server 2008r22008 oracle 10grac company synechron technologies pvt ltd description company synechron technologies pvt ltd description responsibilities pursued indepth training on oracle 11g architecture and sql server environment sql server 2008r22008 windows server 2008r22008 oracle 10g company synechron technologies pvt ltd description responsibilities carried out version changes for schemas from pe8 version to ee11 version as per the process given environment oracle 11g company mastek ltd description responsibilities sql server 2008 r2 2008 installation upgrade and administration database backuprestore performed ms sql server audits worked with database mirroring replication log shipping and clustering supported uat and prod environments performed deployment document review carried out deployments for different applications environment sql server 2008r22008 windows server 2008r22008 company mastek ltd description company pp software and systems ltd description company pp software and systems ltd description description the system provides master data management and procurement modules for dairy industry responsibilities designed coded and tested customized erp system as per the requirement environment core java postgresql\",\n          \"skill set \\u009c\\u0093 talend big data \\u009c\\u0093 informatica power center \\u009c\\u0093 microsoft sql server \\u009c\\u0093 sql platform 621 management studio workbench \\u009c\\u0093 aws services \\u009c\\u0093 talend administration console \\u009c\\u0093 microsoft visual \\u009c\\u0093 redshift tac studio \\u009c\\u0093 athena \\u009c\\u0093 data warehouse concept star \\u009c\\u0093 sql \\u009c\\u0093 s3 schema facts dimensions \\u009c\\u0093 data modeling \\u009c\\u0093 data integration microsoft aess education details january 2012 to january 2016 be mumbai maharashtra university of mumbai january 2012 cbse technology kochi kerala st francis talend etl developer talend etl developer tata consultancy services skill details data warehouse exprience 23 months database exprience 20 months integration exprience 20 months integrator exprience 20 months ms sql server exprience 20 monthscompany details company tata consultancy services description prepared etl mapping documents for every mapping and data migration document for smooth transfer of project from development to testing environment and then to production environment performed unit testing and system testing to validate data loads in the target troubleshoot long running jobs and fixed the issues expertise in creating mappings in talend using big data supporting components such as tjdbonfiguration tjdbcinput thdfsconfiguration ts3configuration tcacheout tcachein tsqlrow and standard components like tfileinputdelimited tfileoutputdelimited tmap tjoin treplicate tparallelize tconverttype taggregate tsortrow tflowmeter tlogcatcher trowgenerator tjava tjavarow taggregaterow tfilter etc used etl methodologies and best practices to create talend etl jobs followed and enhanced programming and naming standards developed jobs components and joblets in talend used trunjob component to run child job from a parent job and to pass parameters from parent to child job created and deployed physical objects including custom tables custom views stored procedures and indexes to sql server for staging and datawarehouse environment involved in writing sql queries and used joins to aess data from mysql created and managed source to target mapping documents for all facts and dimension tables broad design development and testing experience with talend integration suite and knowledge in performance tuning of mappings extensively used tmap component which does lookup joiner functions experienced in writing expressions within tmap as per the business need handled insert and update strategy using tsqlrow created implicit local and global context variables in the job to run talend jobs against different environments worked on talend administration console tac for scheduling jobs and adding users experienced in building a talend job outside of a talend studio as well as on tac server developed mappings to load fact and dimension tables scd type 1 and scd type 2 dimensions and incremental loading and unit tested the mappings developed framework integrated job which schedules multiple jobs at a time and updates the last suessful run time suess status sending mail for failed jobs maintaining the counts in sql database used tparalleize component and multi thread execution option to run subjobs in parallel which increases the performance of a job created talend jobs to copy the files from one server to another and utilized talend ftp components implemented ftp operations using talend studio to transfer files in between network folders as well as to ftp server using components like tfilelist ts3put tftput tfileexist tftpconnection etc extracted data from flat files databases applied business logic to load them in the staging database as well as flat files suessfully loaded data into different targets from various source systems like sql database db2 flatfiles xml files etc into the staging table and then to the target database company tata consultancy services description experience in development and design of etl extract transform and loading data methodology for supporting data transformations and processing in a corporate wide etl solution using talend big data platform excellent working experience in agile methodologies proficiency in gathering and understanding the client requirements and translate business needs into technical requirements design and develop endtoend etl process from various source systems to staging area from staging to data warehouse soliciting and documenting business functional and data requirements contextvariable diagrams use cases and etl related diagrams excellent oralwritten communication with ability to effectively work with onsite and remote teams a good team player with excellent problem solving ability and time management skills having profound insight to determine priorities schedule work and meet critical deadlines company tata consultancy services description prepared etl mapping documents for every mapping and data migration document for smooth transfer of project from development to testing environment and then to production environment performed unit testing and system testing to validate data loads in the target troubleshoot long running jobs and fixed the issues\",\n          \"education details llb dibrugarh university advocate skill details legal exprience less than 1 year monthscompany details company legal description advocate\"\n        ],\n        \"semantic_type\": \"\",\n        \"description\": \"\"\n      }\n    },\n    {\n      \"column\": \"label\",\n      \"properties\": {\n        \"dtype\": \"number\",\n        \"std\": 7,\n        \"min\": 0,\n        \"max\": 24,\n        \"num_unique_values\": 25,\n        \"samples\": [\n          22,\n          16,\n          20\n        ],\n        \"semantic_type\": \"\",\n        \"description\": \"\"\n      }\n    },\n    {\n      \"column\": \"Word_Count\",\n      \"properties\": {\n        \"dtype\": \"number\",\n        \"std\": 384,\n        \"min\": 16,\n        \"max\": 2022,\n        \"num_unique_values\": 157,\n        \"samples\": [\n          149,\n          926,\n          579\n        ],\n        \"semantic_type\": \"\",\n        \"description\": \"\"\n      }\n    }\n  ]\n}"
            }
          },
          "metadata": {},
          "execution_count": 19
        }
      ]
    },
    {
      "cell_type": "code",
      "source": [
        "val_df.label.nunique()"
      ],
      "metadata": {
        "colab": {
          "base_uri": "https://localhost:8080/"
        },
        "id": "sv0qas5jBLHZ",
        "outputId": "773439ea-0879-4d46-f2d1-793ae4429ef7"
      },
      "execution_count": null,
      "outputs": [
        {
          "output_type": "execute_result",
          "data": {
            "text/plain": [
              "25"
            ]
          },
          "metadata": {},
          "execution_count": 20
        }
      ]
    },
    {
      "cell_type": "markdown",
      "source": [
        "### Convert to HuggingFace Dataset"
      ],
      "metadata": {
        "id": "vQNG09lz2VG6"
      }
    },
    {
      "cell_type": "markdown",
      "source": [
        "**Exercise 10: Convert Pandas dataframe to HuggingFace Dataset [1 Mark]**\n",
        "\n",
        "**Hint:**\n",
        "\n",
        "    import pandas as pd\n",
        "    from datasets import Dataset, DatasetDict\n",
        "\n",
        "    tdf = pd.DataFrame({\"a\": [1, 2, 3], \"b\": ['hello', 'ola', 'thammi']})\n",
        "    vdf = pd.DataFrame({\"a\": [4, 5, 6], \"b\": ['four', 'five', 'six']})\n",
        "    tds = Dataset.from_pandas(tdf)\n",
        "    vds = Dataset.from_pandas(vdf)\n",
        "\n",
        "    ds = DatasetDict()\n",
        "\n",
        "    ds['train'] = tds\n",
        "    ds['validation'] = vds\n",
        "\n",
        "    print(ds)"
      ],
      "metadata": {
        "id": "qEpf_GllUIbt"
      }
    },
    {
      "cell_type": "code",
      "source": [
        "test_df.Category.nunique()"
      ],
      "metadata": {
        "colab": {
          "base_uri": "https://localhost:8080/"
        },
        "id": "PAa2n3Y8AVX_",
        "outputId": "028b188a-9fbe-4308-ab22-9cbffca2f7f9"
      },
      "execution_count": null,
      "outputs": [
        {
          "output_type": "execute_result",
          "data": {
            "text/plain": [
              "25"
            ]
          },
          "metadata": {},
          "execution_count": 21
        }
      ]
    },
    {
      "cell_type": "code",
      "source": [
        "from datasets import Dataset, DatasetDict\n",
        "\n",
        "train_ds = Dataset.from_pandas(train_df) # YOUR CODE HERE\n",
        "val_ds = Dataset.from_pandas(val_df) # YOUR CODE HERE\n",
        "test_ds = Dataset.from_pandas(test_df) # YOUR CODE HERE\n",
        "\n",
        "ds = DatasetDict()\n",
        "\n",
        "ds['train'] = train_ds\n",
        "ds['validation'] = val_ds\n",
        "ds['test'] = test_ds"
      ],
      "metadata": {
        "id": "z_89zi9XF5J0"
      },
      "execution_count": null,
      "outputs": []
    },
    {
      "cell_type": "markdown",
      "source": [
        "### Tokenizer"
      ],
      "metadata": {
        "id": "IXsHhNqcVyUb"
      }
    },
    {
      "cell_type": "markdown",
      "source": [
        "**Exercise 11: Load tokenizer for checkpoint `distilbert-base-uncased` [0.5 Mark]**\n",
        "\n",
        "**Hint:** `AutoTokenizer`"
      ],
      "metadata": {
        "id": "EqmNgMaQVNdp"
      }
    },
    {
      "cell_type": "code",
      "source": [
        "# Load tokenizer\n",
        "from transformers import AutoTokenizer\n",
        "checkpoint = \"distilbert-base-uncased\"\n",
        "tokenizer = AutoTokenizer.from_pretrained(checkpoint)"
      ],
      "metadata": {
        "id": "iKAaBbGhq3cP"
      },
      "execution_count": null,
      "outputs": []
    },
    {
      "cell_type": "code",
      "source": [
        "def tokenize_fn(batch):\n",
        "    # YOUR CODE HERE..\n",
        "    return tokenizer(batch['Cleaned_Resume'], padding=True, truncation=True)"
      ],
      "metadata": {
        "id": "89dlcyQkIL-Q"
      },
      "execution_count": null,
      "outputs": []
    },
    {
      "cell_type": "code",
      "source": [
        "tokenized_datasets = ds.map(tokenize_fn, batched=True)\n",
        "tokenized_datasets"
      ],
      "metadata": {
        "id": "Z_c7_2tYI7Nt",
        "colab": {
          "base_uri": "https://localhost:8080/",
          "height": 428,
          "referenced_widgets": [
            "5e934d4c56d748e9a2ed0512e2418683",
            "79ff80154884439890a16a7705accb10",
            "acaf402b255948dab9e68dfc477153d9",
            "d7acb7ea95984e78818723edf065a07f",
            "00499f1d50d5475c882a5625417b88ef",
            "8966f08ede45486e9658429934818e3f",
            "14362d96bfba4474882341c8daa32303",
            "48d3c81c2f9e4130855abb523b80ff97",
            "5477a03c46184a74a237656d05c6d9e2",
            "7da3b4119bca49679040f967510f7152",
            "f35b4971b08e4c028b079fccb558e8ce",
            "2e0b38fb2f6d422eb804906522dd5a9a",
            "56093aecb96946db8dae1b3fddad42da",
            "c3431c5834fe40e88f7e3689eda9e862",
            "40519c3eff504c479b2bfedd5785a2f5",
            "eb7719b5209e4cba99449258e20d3acc",
            "3874e9bd201749d4a581442ca9845440",
            "cb08621650654666ac9e2954d22b0ea6",
            "583d48b7041b429ebd5c6573f7d6f12b",
            "c17ebfde53704606a8057d667bc59249",
            "4e3cf7364754476ba843dc78e203988c",
            "6af3d6461ae14f47bbd6d9495ae1f56f",
            "d7be8ef1a6aa4634af09674cbba4b9ad",
            "f9bda54fd33c42199335855fe87ab6bb",
            "c93d5009798946518ba27c0eb0bbb7fa",
            "091d22070bae4aa3959a84968ff026f2",
            "6d505cdb62474980978434919f46463c",
            "06319172f8e84fbea828c298eca5dcc0",
            "173d85c139104d77bdc6c2c6b0b699a5",
            "1cb2ed9721db469b93b0f0daab0a8cd7",
            "4fbaebee0d4f456a919483901212ffc3",
            "c4e7a95e8bed471c903ad69e98fe479e",
            "bf2413a9719a4dc29aca848b70681588"
          ]
        },
        "collapsed": true,
        "outputId": "737bf4ae-2513-4632-ffd5-25c8bf1c7b83"
      },
      "execution_count": null,
      "outputs": [
        {
          "output_type": "display_data",
          "data": {
            "text/plain": [
              "Map:   0%|          | 0/615 [00:00<?, ? examples/s]"
            ],
            "application/vnd.jupyter.widget-view+json": {
              "version_major": 2,
              "version_minor": 0,
              "model_id": "5e934d4c56d748e9a2ed0512e2418683"
            }
          },
          "metadata": {}
        },
        {
          "output_type": "display_data",
          "data": {
            "text/plain": [
              "Map:   0%|          | 0/193 [00:00<?, ? examples/s]"
            ],
            "application/vnd.jupyter.widget-view+json": {
              "version_major": 2,
              "version_minor": 0,
              "model_id": "2e0b38fb2f6d422eb804906522dd5a9a"
            }
          },
          "metadata": {}
        },
        {
          "output_type": "display_data",
          "data": {
            "text/plain": [
              "Map:   0%|          | 0/154 [00:00<?, ? examples/s]"
            ],
            "application/vnd.jupyter.widget-view+json": {
              "version_major": 2,
              "version_minor": 0,
              "model_id": "d7be8ef1a6aa4634af09674cbba4b9ad"
            }
          },
          "metadata": {}
        },
        {
          "output_type": "execute_result",
          "data": {
            "text/plain": [
              "DatasetDict({\n",
              "    train: Dataset({\n",
              "        features: ['Category', 'Resume', 'Cleaned_Resume', 'label', 'Word_Count', '__index_level_0__', 'input_ids', 'attention_mask'],\n",
              "        num_rows: 615\n",
              "    })\n",
              "    validation: Dataset({\n",
              "        features: ['Category', 'Resume', 'Cleaned_Resume', 'label', 'Word_Count', '__index_level_0__', 'input_ids', 'attention_mask'],\n",
              "        num_rows: 193\n",
              "    })\n",
              "    test: Dataset({\n",
              "        features: ['Category', 'Resume', 'Cleaned_Resume', 'label', 'Word_Count', '__index_level_0__', 'input_ids', 'attention_mask'],\n",
              "        num_rows: 154\n",
              "    })\n",
              "})"
            ]
          },
          "metadata": {},
          "execution_count": 25
        }
      ]
    },
    {
      "cell_type": "markdown",
      "source": [
        "### Load Pre-Trained Model"
      ],
      "metadata": {
        "id": "TPXfBiYpElKx"
      }
    },
    {
      "cell_type": "markdown",
      "source": [
        "**Exercise 12: Load pre-trained Bert model with checkpoint `distilbert-base-uncased` and show model summary [0.5 Mark]**\n",
        "\n",
        "**Hint:** `AutoModelForSequenceClassification`"
      ],
      "metadata": {
        "id": "Z_14j98LV2Tg"
      }
    },
    {
      "cell_type": "code",
      "source": [
        "from transformers import AutoModelForSequenceClassification\n",
        "model =AutoModelForSequenceClassification.from_pretrained(checkpoint, num_labels=25)"
      ],
      "metadata": {
        "id": "tHeD1YZu-iA9",
        "colab": {
          "base_uri": "https://localhost:8080/"
        },
        "outputId": "e27fab76-3bb1-418b-d26f-58813259d2e6"
      },
      "execution_count": null,
      "outputs": [
        {
          "output_type": "stream",
          "name": "stderr",
          "text": [
            "Some weights of DistilBertForSequenceClassification were not initialized from the model checkpoint at distilbert-base-uncased and are newly initialized: ['classifier.bias', 'classifier.weight', 'pre_classifier.bias', 'pre_classifier.weight']\n",
            "You should probably TRAIN this model on a down-stream task to be able to use it for predictions and inference.\n"
          ]
        }
      ]
    },
    {
      "cell_type": "code",
      "source": [
        "len(df['Category'].unique())"
      ],
      "metadata": {
        "colab": {
          "base_uri": "https://localhost:8080/"
        },
        "id": "wy3em8SF-Mu_",
        "outputId": "21ecc10e-e40e-4c78-b27f-fba9f2072e89"
      },
      "execution_count": null,
      "outputs": [
        {
          "output_type": "execute_result",
          "data": {
            "text/plain": [
              "25"
            ]
          },
          "metadata": {},
          "execution_count": 27
        }
      ]
    },
    {
      "cell_type": "code",
      "source": [
        "!pip install torchinfo"
      ],
      "metadata": {
        "colab": {
          "base_uri": "https://localhost:8080/"
        },
        "id": "QBmEQWMp16rY",
        "outputId": "435352f7-69aa-42cc-cc8c-d53b14d05718"
      },
      "execution_count": null,
      "outputs": [
        {
          "output_type": "stream",
          "name": "stdout",
          "text": [
            "Requirement already satisfied: torchinfo in /usr/local/lib/python3.10/dist-packages (1.8.0)\n"
          ]
        }
      ]
    },
    {
      "cell_type": "code",
      "source": [
        "from torchinfo import summary\n",
        "summary(model)"
      ],
      "metadata": {
        "colab": {
          "base_uri": "https://localhost:8080/"
        },
        "id": "I7Geyhtl19db",
        "outputId": "012901c0-ee6a-4f4c-a38f-9fe0d455eba3"
      },
      "execution_count": null,
      "outputs": [
        {
          "output_type": "execute_result",
          "data": {
            "text/plain": [
              "================================================================================\n",
              "Layer (type:depth-idx)                                  Param #\n",
              "================================================================================\n",
              "DistilBertForSequenceClassification                     --\n",
              "├─DistilBertModel: 1-1                                  --\n",
              "│    └─Embeddings: 2-1                                  --\n",
              "│    │    └─Embedding: 3-1                              23,440,896\n",
              "│    │    └─Embedding: 3-2                              393,216\n",
              "│    │    └─LayerNorm: 3-3                              1,536\n",
              "│    │    └─Dropout: 3-4                                --\n",
              "│    └─Transformer: 2-2                                 --\n",
              "│    │    └─ModuleList: 3-5                             42,527,232\n",
              "├─Linear: 1-2                                           590,592\n",
              "├─Linear: 1-3                                           19,225\n",
              "├─Dropout: 1-4                                          --\n",
              "================================================================================\n",
              "Total params: 66,972,697\n",
              "Trainable params: 66,972,697\n",
              "Non-trainable params: 0\n",
              "================================================================================"
            ]
          },
          "metadata": {},
          "execution_count": 29
        }
      ]
    },
    {
      "cell_type": "markdown",
      "source": [
        "**Exercise 13: Freeze/Un-Freeze different layers  [0.5 Mark]**\n",
        "\n",
        "**Hint:** Freeze layers starting with name *distilbert*\n"
      ],
      "metadata": {
        "id": "OEaFCpYAFLzC"
      }
    },
    {
      "cell_type": "code",
      "source": [
        "# Display layers name\n",
        "for name, param in model.named_parameters():\n",
        "    print(name)\n",
        "    if name.startswith(\"distilbert\"): # choose whatever you like here\n",
        "        param.requires_grad = False\n",
        "# YOUR CODE HERE"
      ],
      "metadata": {
        "id": "XrMTbGJaf0fz",
        "colab": {
          "base_uri": "https://localhost:8080/"
        },
        "collapsed": true,
        "outputId": "a9dbaa04-a066-4bd9-af41-2959d6093350"
      },
      "execution_count": null,
      "outputs": [
        {
          "output_type": "stream",
          "name": "stdout",
          "text": [
            "distilbert.embeddings.word_embeddings.weight\n",
            "distilbert.embeddings.position_embeddings.weight\n",
            "distilbert.embeddings.LayerNorm.weight\n",
            "distilbert.embeddings.LayerNorm.bias\n",
            "distilbert.transformer.layer.0.attention.q_lin.weight\n",
            "distilbert.transformer.layer.0.attention.q_lin.bias\n",
            "distilbert.transformer.layer.0.attention.k_lin.weight\n",
            "distilbert.transformer.layer.0.attention.k_lin.bias\n",
            "distilbert.transformer.layer.0.attention.v_lin.weight\n",
            "distilbert.transformer.layer.0.attention.v_lin.bias\n",
            "distilbert.transformer.layer.0.attention.out_lin.weight\n",
            "distilbert.transformer.layer.0.attention.out_lin.bias\n",
            "distilbert.transformer.layer.0.sa_layer_norm.weight\n",
            "distilbert.transformer.layer.0.sa_layer_norm.bias\n",
            "distilbert.transformer.layer.0.ffn.lin1.weight\n",
            "distilbert.transformer.layer.0.ffn.lin1.bias\n",
            "distilbert.transformer.layer.0.ffn.lin2.weight\n",
            "distilbert.transformer.layer.0.ffn.lin2.bias\n",
            "distilbert.transformer.layer.0.output_layer_norm.weight\n",
            "distilbert.transformer.layer.0.output_layer_norm.bias\n",
            "distilbert.transformer.layer.1.attention.q_lin.weight\n",
            "distilbert.transformer.layer.1.attention.q_lin.bias\n",
            "distilbert.transformer.layer.1.attention.k_lin.weight\n",
            "distilbert.transformer.layer.1.attention.k_lin.bias\n",
            "distilbert.transformer.layer.1.attention.v_lin.weight\n",
            "distilbert.transformer.layer.1.attention.v_lin.bias\n",
            "distilbert.transformer.layer.1.attention.out_lin.weight\n",
            "distilbert.transformer.layer.1.attention.out_lin.bias\n",
            "distilbert.transformer.layer.1.sa_layer_norm.weight\n",
            "distilbert.transformer.layer.1.sa_layer_norm.bias\n",
            "distilbert.transformer.layer.1.ffn.lin1.weight\n",
            "distilbert.transformer.layer.1.ffn.lin1.bias\n",
            "distilbert.transformer.layer.1.ffn.lin2.weight\n",
            "distilbert.transformer.layer.1.ffn.lin2.bias\n",
            "distilbert.transformer.layer.1.output_layer_norm.weight\n",
            "distilbert.transformer.layer.1.output_layer_norm.bias\n",
            "distilbert.transformer.layer.2.attention.q_lin.weight\n",
            "distilbert.transformer.layer.2.attention.q_lin.bias\n",
            "distilbert.transformer.layer.2.attention.k_lin.weight\n",
            "distilbert.transformer.layer.2.attention.k_lin.bias\n",
            "distilbert.transformer.layer.2.attention.v_lin.weight\n",
            "distilbert.transformer.layer.2.attention.v_lin.bias\n",
            "distilbert.transformer.layer.2.attention.out_lin.weight\n",
            "distilbert.transformer.layer.2.attention.out_lin.bias\n",
            "distilbert.transformer.layer.2.sa_layer_norm.weight\n",
            "distilbert.transformer.layer.2.sa_layer_norm.bias\n",
            "distilbert.transformer.layer.2.ffn.lin1.weight\n",
            "distilbert.transformer.layer.2.ffn.lin1.bias\n",
            "distilbert.transformer.layer.2.ffn.lin2.weight\n",
            "distilbert.transformer.layer.2.ffn.lin2.bias\n",
            "distilbert.transformer.layer.2.output_layer_norm.weight\n",
            "distilbert.transformer.layer.2.output_layer_norm.bias\n",
            "distilbert.transformer.layer.3.attention.q_lin.weight\n",
            "distilbert.transformer.layer.3.attention.q_lin.bias\n",
            "distilbert.transformer.layer.3.attention.k_lin.weight\n",
            "distilbert.transformer.layer.3.attention.k_lin.bias\n",
            "distilbert.transformer.layer.3.attention.v_lin.weight\n",
            "distilbert.transformer.layer.3.attention.v_lin.bias\n",
            "distilbert.transformer.layer.3.attention.out_lin.weight\n",
            "distilbert.transformer.layer.3.attention.out_lin.bias\n",
            "distilbert.transformer.layer.3.sa_layer_norm.weight\n",
            "distilbert.transformer.layer.3.sa_layer_norm.bias\n",
            "distilbert.transformer.layer.3.ffn.lin1.weight\n",
            "distilbert.transformer.layer.3.ffn.lin1.bias\n",
            "distilbert.transformer.layer.3.ffn.lin2.weight\n",
            "distilbert.transformer.layer.3.ffn.lin2.bias\n",
            "distilbert.transformer.layer.3.output_layer_norm.weight\n",
            "distilbert.transformer.layer.3.output_layer_norm.bias\n",
            "distilbert.transformer.layer.4.attention.q_lin.weight\n",
            "distilbert.transformer.layer.4.attention.q_lin.bias\n",
            "distilbert.transformer.layer.4.attention.k_lin.weight\n",
            "distilbert.transformer.layer.4.attention.k_lin.bias\n",
            "distilbert.transformer.layer.4.attention.v_lin.weight\n",
            "distilbert.transformer.layer.4.attention.v_lin.bias\n",
            "distilbert.transformer.layer.4.attention.out_lin.weight\n",
            "distilbert.transformer.layer.4.attention.out_lin.bias\n",
            "distilbert.transformer.layer.4.sa_layer_norm.weight\n",
            "distilbert.transformer.layer.4.sa_layer_norm.bias\n",
            "distilbert.transformer.layer.4.ffn.lin1.weight\n",
            "distilbert.transformer.layer.4.ffn.lin1.bias\n",
            "distilbert.transformer.layer.4.ffn.lin2.weight\n",
            "distilbert.transformer.layer.4.ffn.lin2.bias\n",
            "distilbert.transformer.layer.4.output_layer_norm.weight\n",
            "distilbert.transformer.layer.4.output_layer_norm.bias\n",
            "distilbert.transformer.layer.5.attention.q_lin.weight\n",
            "distilbert.transformer.layer.5.attention.q_lin.bias\n",
            "distilbert.transformer.layer.5.attention.k_lin.weight\n",
            "distilbert.transformer.layer.5.attention.k_lin.bias\n",
            "distilbert.transformer.layer.5.attention.v_lin.weight\n",
            "distilbert.transformer.layer.5.attention.v_lin.bias\n",
            "distilbert.transformer.layer.5.attention.out_lin.weight\n",
            "distilbert.transformer.layer.5.attention.out_lin.bias\n",
            "distilbert.transformer.layer.5.sa_layer_norm.weight\n",
            "distilbert.transformer.layer.5.sa_layer_norm.bias\n",
            "distilbert.transformer.layer.5.ffn.lin1.weight\n",
            "distilbert.transformer.layer.5.ffn.lin1.bias\n",
            "distilbert.transformer.layer.5.ffn.lin2.weight\n",
            "distilbert.transformer.layer.5.ffn.lin2.bias\n",
            "distilbert.transformer.layer.5.output_layer_norm.weight\n",
            "distilbert.transformer.layer.5.output_layer_norm.bias\n",
            "pre_classifier.weight\n",
            "pre_classifier.bias\n",
            "classifier.weight\n",
            "classifier.bias\n"
          ]
        }
      ]
    },
    {
      "cell_type": "code",
      "source": [
        "# Display layers gradient\n",
        "for name, param in model.named_parameters():\n",
        "     print(name, param.requires_grad)\n",
        "# YOUR CODE HERE.."
      ],
      "metadata": {
        "id": "-rpzN_c6HRTR",
        "collapsed": true,
        "colab": {
          "base_uri": "https://localhost:8080/"
        },
        "outputId": "ddc57fe3-174d-45f3-967c-9857069d7121"
      },
      "execution_count": null,
      "outputs": [
        {
          "output_type": "stream",
          "name": "stdout",
          "text": [
            "distilbert.embeddings.word_embeddings.weight False\n",
            "distilbert.embeddings.position_embeddings.weight False\n",
            "distilbert.embeddings.LayerNorm.weight False\n",
            "distilbert.embeddings.LayerNorm.bias False\n",
            "distilbert.transformer.layer.0.attention.q_lin.weight False\n",
            "distilbert.transformer.layer.0.attention.q_lin.bias False\n",
            "distilbert.transformer.layer.0.attention.k_lin.weight False\n",
            "distilbert.transformer.layer.0.attention.k_lin.bias False\n",
            "distilbert.transformer.layer.0.attention.v_lin.weight False\n",
            "distilbert.transformer.layer.0.attention.v_lin.bias False\n",
            "distilbert.transformer.layer.0.attention.out_lin.weight False\n",
            "distilbert.transformer.layer.0.attention.out_lin.bias False\n",
            "distilbert.transformer.layer.0.sa_layer_norm.weight False\n",
            "distilbert.transformer.layer.0.sa_layer_norm.bias False\n",
            "distilbert.transformer.layer.0.ffn.lin1.weight False\n",
            "distilbert.transformer.layer.0.ffn.lin1.bias False\n",
            "distilbert.transformer.layer.0.ffn.lin2.weight False\n",
            "distilbert.transformer.layer.0.ffn.lin2.bias False\n",
            "distilbert.transformer.layer.0.output_layer_norm.weight False\n",
            "distilbert.transformer.layer.0.output_layer_norm.bias False\n",
            "distilbert.transformer.layer.1.attention.q_lin.weight False\n",
            "distilbert.transformer.layer.1.attention.q_lin.bias False\n",
            "distilbert.transformer.layer.1.attention.k_lin.weight False\n",
            "distilbert.transformer.layer.1.attention.k_lin.bias False\n",
            "distilbert.transformer.layer.1.attention.v_lin.weight False\n",
            "distilbert.transformer.layer.1.attention.v_lin.bias False\n",
            "distilbert.transformer.layer.1.attention.out_lin.weight False\n",
            "distilbert.transformer.layer.1.attention.out_lin.bias False\n",
            "distilbert.transformer.layer.1.sa_layer_norm.weight False\n",
            "distilbert.transformer.layer.1.sa_layer_norm.bias False\n",
            "distilbert.transformer.layer.1.ffn.lin1.weight False\n",
            "distilbert.transformer.layer.1.ffn.lin1.bias False\n",
            "distilbert.transformer.layer.1.ffn.lin2.weight False\n",
            "distilbert.transformer.layer.1.ffn.lin2.bias False\n",
            "distilbert.transformer.layer.1.output_layer_norm.weight False\n",
            "distilbert.transformer.layer.1.output_layer_norm.bias False\n",
            "distilbert.transformer.layer.2.attention.q_lin.weight False\n",
            "distilbert.transformer.layer.2.attention.q_lin.bias False\n",
            "distilbert.transformer.layer.2.attention.k_lin.weight False\n",
            "distilbert.transformer.layer.2.attention.k_lin.bias False\n",
            "distilbert.transformer.layer.2.attention.v_lin.weight False\n",
            "distilbert.transformer.layer.2.attention.v_lin.bias False\n",
            "distilbert.transformer.layer.2.attention.out_lin.weight False\n",
            "distilbert.transformer.layer.2.attention.out_lin.bias False\n",
            "distilbert.transformer.layer.2.sa_layer_norm.weight False\n",
            "distilbert.transformer.layer.2.sa_layer_norm.bias False\n",
            "distilbert.transformer.layer.2.ffn.lin1.weight False\n",
            "distilbert.transformer.layer.2.ffn.lin1.bias False\n",
            "distilbert.transformer.layer.2.ffn.lin2.weight False\n",
            "distilbert.transformer.layer.2.ffn.lin2.bias False\n",
            "distilbert.transformer.layer.2.output_layer_norm.weight False\n",
            "distilbert.transformer.layer.2.output_layer_norm.bias False\n",
            "distilbert.transformer.layer.3.attention.q_lin.weight False\n",
            "distilbert.transformer.layer.3.attention.q_lin.bias False\n",
            "distilbert.transformer.layer.3.attention.k_lin.weight False\n",
            "distilbert.transformer.layer.3.attention.k_lin.bias False\n",
            "distilbert.transformer.layer.3.attention.v_lin.weight False\n",
            "distilbert.transformer.layer.3.attention.v_lin.bias False\n",
            "distilbert.transformer.layer.3.attention.out_lin.weight False\n",
            "distilbert.transformer.layer.3.attention.out_lin.bias False\n",
            "distilbert.transformer.layer.3.sa_layer_norm.weight False\n",
            "distilbert.transformer.layer.3.sa_layer_norm.bias False\n",
            "distilbert.transformer.layer.3.ffn.lin1.weight False\n",
            "distilbert.transformer.layer.3.ffn.lin1.bias False\n",
            "distilbert.transformer.layer.3.ffn.lin2.weight False\n",
            "distilbert.transformer.layer.3.ffn.lin2.bias False\n",
            "distilbert.transformer.layer.3.output_layer_norm.weight False\n",
            "distilbert.transformer.layer.3.output_layer_norm.bias False\n",
            "distilbert.transformer.layer.4.attention.q_lin.weight False\n",
            "distilbert.transformer.layer.4.attention.q_lin.bias False\n",
            "distilbert.transformer.layer.4.attention.k_lin.weight False\n",
            "distilbert.transformer.layer.4.attention.k_lin.bias False\n",
            "distilbert.transformer.layer.4.attention.v_lin.weight False\n",
            "distilbert.transformer.layer.4.attention.v_lin.bias False\n",
            "distilbert.transformer.layer.4.attention.out_lin.weight False\n",
            "distilbert.transformer.layer.4.attention.out_lin.bias False\n",
            "distilbert.transformer.layer.4.sa_layer_norm.weight False\n",
            "distilbert.transformer.layer.4.sa_layer_norm.bias False\n",
            "distilbert.transformer.layer.4.ffn.lin1.weight False\n",
            "distilbert.transformer.layer.4.ffn.lin1.bias False\n",
            "distilbert.transformer.layer.4.ffn.lin2.weight False\n",
            "distilbert.transformer.layer.4.ffn.lin2.bias False\n",
            "distilbert.transformer.layer.4.output_layer_norm.weight False\n",
            "distilbert.transformer.layer.4.output_layer_norm.bias False\n",
            "distilbert.transformer.layer.5.attention.q_lin.weight False\n",
            "distilbert.transformer.layer.5.attention.q_lin.bias False\n",
            "distilbert.transformer.layer.5.attention.k_lin.weight False\n",
            "distilbert.transformer.layer.5.attention.k_lin.bias False\n",
            "distilbert.transformer.layer.5.attention.v_lin.weight False\n",
            "distilbert.transformer.layer.5.attention.v_lin.bias False\n",
            "distilbert.transformer.layer.5.attention.out_lin.weight False\n",
            "distilbert.transformer.layer.5.attention.out_lin.bias False\n",
            "distilbert.transformer.layer.5.sa_layer_norm.weight False\n",
            "distilbert.transformer.layer.5.sa_layer_norm.bias False\n",
            "distilbert.transformer.layer.5.ffn.lin1.weight False\n",
            "distilbert.transformer.layer.5.ffn.lin1.bias False\n",
            "distilbert.transformer.layer.5.ffn.lin2.weight False\n",
            "distilbert.transformer.layer.5.ffn.lin2.bias False\n",
            "distilbert.transformer.layer.5.output_layer_norm.weight False\n",
            "distilbert.transformer.layer.5.output_layer_norm.bias False\n",
            "pre_classifier.weight True\n",
            "pre_classifier.bias True\n",
            "classifier.weight True\n",
            "classifier.bias True\n"
          ]
        }
      ]
    },
    {
      "cell_type": "markdown",
      "source": [
        "### Metrics"
      ],
      "metadata": {
        "id": "_1fnp2FMLAbA"
      }
    },
    {
      "cell_type": "code",
      "source": [
        "from datasets import load_metric\n",
        "metric = load_metric(\"glue\", \"sst2\")         # Type 'Y' when prompted"
      ],
      "metadata": {
        "id": "zEwgnS9xJrfI"
      },
      "execution_count": null,
      "outputs": []
    },
    {
      "cell_type": "code",
      "source": [
        "metric.compute(predictions=[1,0,1], references=[1,0,1])"
      ],
      "metadata": {
        "id": "7NYqJuPcLKIF",
        "colab": {
          "base_uri": "https://localhost:8080/"
        },
        "outputId": "025a8375-e257-47f8-df03-071fc33dc9a6"
      },
      "execution_count": null,
      "outputs": [
        {
          "output_type": "execute_result",
          "data": {
            "text/plain": [
              "{'accuracy': 1.0}"
            ]
          },
          "metadata": {},
          "execution_count": 33
        }
      ]
    },
    {
      "cell_type": "code",
      "source": [
        "def compute_metrics(logits_and_labels):\n",
        "    logits, labels = logits_and_labels\n",
        "    predictions = np.argmax(logits,axis=-1)\n",
        "    return metric.compute(predictions=predictions,references=labels)\n"
      ],
      "metadata": {
        "id": "Dm-TelhsJrcT"
      },
      "execution_count": null,
      "outputs": []
    },
    {
      "cell_type": "markdown",
      "source": [
        "**Exercise 14: Fine-tune model on train dataset  [0.5 Mark]**\n",
        " * Create `TrainingArguments` class object\n",
        " * Create `Trainer` class  object\n",
        " * Train it for higher number of epochs say 40 or 50\n",
        " * Switch to GPU runtime if needed\n",
        "\n",
        "**Hint:** Check if the training code is running without any error with CPU runtime, later switch to GPU runtime for faster training. Once trained, save the model, create its zip file, and download into your system."
      ],
      "metadata": {
        "id": "lRCoqRSWLSu9"
      }
    },
    {
      "cell_type": "code",
      "source": [
        "from transformers import TrainingArguments\n",
        "from transformers import Trainer"
      ],
      "metadata": {
        "id": "p9mRRxP41j13"
      },
      "execution_count": null,
      "outputs": []
    },
    {
      "cell_type": "code",
      "source": [
        "# Set up the training arguments\n",
        "\n",
        "model_output_path = \"/content/bert_model\"\n",
        "\n",
        "training_args = TrainingArguments(\n",
        "    output_dir=model_output_path,\n",
        "    per_device_train_batch_size=5,\n",
        "    per_device_eval_batch_size=5,\n",
        "    evaluation_strategy='epoch',save_strategy='epoch',\n",
        "    num_train_epochs=40)"
      ],
      "metadata": {
        "id": "DVZwc4qv2kYz"
      },
      "execution_count": null,
      "outputs": []
    },
    {
      "cell_type": "code",
      "source": [
        "# Train the model\n",
        "trainer = Trainer(\n",
        "    model=model, args=training_args,\n",
        "    train_dataset=tokenized_datasets[\"train\"],\n",
        "    eval_dataset=tokenized_datasets[\"validation\"],\n",
        "    compute_metrics=compute_metrics,\n",
        "    tokenizer=tokenizer)\n",
        "trainer.train()"
      ],
      "metadata": {
        "id": "NCkulT251mCW",
        "colab": {
          "base_uri": "https://localhost:8080/",
          "height": 1000
        },
        "outputId": "fd7a955b-d245-4eb6-f0b3-0f24906669e3"
      },
      "execution_count": null,
      "outputs": [
        {
          "output_type": "display_data",
          "data": {
            "text/plain": [
              "<IPython.core.display.HTML object>"
            ],
            "text/html": [
              "\n",
              "    <div>\n",
              "      \n",
              "      <progress value='4920' max='4920' style='width:300px; height:20px; vertical-align: middle;'></progress>\n",
              "      [4920/4920 11:00, Epoch 40/40]\n",
              "    </div>\n",
              "    <table border=\"1\" class=\"dataframe\">\n",
              "  <thead>\n",
              " <tr style=\"text-align: left;\">\n",
              "      <th>Epoch</th>\n",
              "      <th>Training Loss</th>\n",
              "      <th>Validation Loss</th>\n",
              "      <th>Accuracy</th>\n",
              "    </tr>\n",
              "  </thead>\n",
              "  <tbody>\n",
              "    <tr>\n",
              "      <td>1</td>\n",
              "      <td>No log</td>\n",
              "      <td>3.121436</td>\n",
              "      <td>0.088083</td>\n",
              "    </tr>\n",
              "    <tr>\n",
              "      <td>2</td>\n",
              "      <td>No log</td>\n",
              "      <td>3.054062</td>\n",
              "      <td>0.129534</td>\n",
              "    </tr>\n",
              "    <tr>\n",
              "      <td>3</td>\n",
              "      <td>No log</td>\n",
              "      <td>2.994827</td>\n",
              "      <td>0.139896</td>\n",
              "    </tr>\n",
              "    <tr>\n",
              "      <td>4</td>\n",
              "      <td>No log</td>\n",
              "      <td>2.929799</td>\n",
              "      <td>0.145078</td>\n",
              "    </tr>\n",
              "    <tr>\n",
              "      <td>5</td>\n",
              "      <td>3.075100</td>\n",
              "      <td>2.863219</td>\n",
              "      <td>0.155440</td>\n",
              "    </tr>\n",
              "    <tr>\n",
              "      <td>6</td>\n",
              "      <td>3.075100</td>\n",
              "      <td>2.796257</td>\n",
              "      <td>0.238342</td>\n",
              "    </tr>\n",
              "    <tr>\n",
              "      <td>7</td>\n",
              "      <td>3.075100</td>\n",
              "      <td>2.730641</td>\n",
              "      <td>0.238342</td>\n",
              "    </tr>\n",
              "    <tr>\n",
              "      <td>8</td>\n",
              "      <td>3.075100</td>\n",
              "      <td>2.665089</td>\n",
              "      <td>0.290155</td>\n",
              "    </tr>\n",
              "    <tr>\n",
              "      <td>9</td>\n",
              "      <td>2.796900</td>\n",
              "      <td>2.606665</td>\n",
              "      <td>0.295337</td>\n",
              "    </tr>\n",
              "    <tr>\n",
              "      <td>10</td>\n",
              "      <td>2.796900</td>\n",
              "      <td>2.545119</td>\n",
              "      <td>0.352332</td>\n",
              "    </tr>\n",
              "    <tr>\n",
              "      <td>11</td>\n",
              "      <td>2.796900</td>\n",
              "      <td>2.489480</td>\n",
              "      <td>0.440415</td>\n",
              "    </tr>\n",
              "    <tr>\n",
              "      <td>12</td>\n",
              "      <td>2.796900</td>\n",
              "      <td>2.434099</td>\n",
              "      <td>0.373057</td>\n",
              "    </tr>\n",
              "    <tr>\n",
              "      <td>13</td>\n",
              "      <td>2.533300</td>\n",
              "      <td>2.383026</td>\n",
              "      <td>0.378238</td>\n",
              "    </tr>\n",
              "    <tr>\n",
              "      <td>14</td>\n",
              "      <td>2.533300</td>\n",
              "      <td>2.333725</td>\n",
              "      <td>0.455959</td>\n",
              "    </tr>\n",
              "    <tr>\n",
              "      <td>15</td>\n",
              "      <td>2.533300</td>\n",
              "      <td>2.288429</td>\n",
              "      <td>0.450777</td>\n",
              "    </tr>\n",
              "    <tr>\n",
              "      <td>16</td>\n",
              "      <td>2.533300</td>\n",
              "      <td>2.245275</td>\n",
              "      <td>0.440415</td>\n",
              "    </tr>\n",
              "    <tr>\n",
              "      <td>17</td>\n",
              "      <td>2.299100</td>\n",
              "      <td>2.206444</td>\n",
              "      <td>0.445596</td>\n",
              "    </tr>\n",
              "    <tr>\n",
              "      <td>18</td>\n",
              "      <td>2.299100</td>\n",
              "      <td>2.168367</td>\n",
              "      <td>0.481865</td>\n",
              "    </tr>\n",
              "    <tr>\n",
              "      <td>19</td>\n",
              "      <td>2.299100</td>\n",
              "      <td>2.132870</td>\n",
              "      <td>0.512953</td>\n",
              "    </tr>\n",
              "    <tr>\n",
              "      <td>20</td>\n",
              "      <td>2.299100</td>\n",
              "      <td>2.099853</td>\n",
              "      <td>0.497409</td>\n",
              "    </tr>\n",
              "    <tr>\n",
              "      <td>21</td>\n",
              "      <td>2.131500</td>\n",
              "      <td>2.067931</td>\n",
              "      <td>0.502591</td>\n",
              "    </tr>\n",
              "    <tr>\n",
              "      <td>22</td>\n",
              "      <td>2.131500</td>\n",
              "      <td>2.039496</td>\n",
              "      <td>0.512953</td>\n",
              "    </tr>\n",
              "    <tr>\n",
              "      <td>23</td>\n",
              "      <td>2.131500</td>\n",
              "      <td>2.012786</td>\n",
              "      <td>0.518135</td>\n",
              "    </tr>\n",
              "    <tr>\n",
              "      <td>24</td>\n",
              "      <td>2.131500</td>\n",
              "      <td>1.987883</td>\n",
              "      <td>0.518135</td>\n",
              "    </tr>\n",
              "    <tr>\n",
              "      <td>25</td>\n",
              "      <td>1.993300</td>\n",
              "      <td>1.964829</td>\n",
              "      <td>0.538860</td>\n",
              "    </tr>\n",
              "    <tr>\n",
              "      <td>26</td>\n",
              "      <td>1.993300</td>\n",
              "      <td>1.942273</td>\n",
              "      <td>0.564767</td>\n",
              "    </tr>\n",
              "    <tr>\n",
              "      <td>27</td>\n",
              "      <td>1.993300</td>\n",
              "      <td>1.922243</td>\n",
              "      <td>0.564767</td>\n",
              "    </tr>\n",
              "    <tr>\n",
              "      <td>28</td>\n",
              "      <td>1.993300</td>\n",
              "      <td>1.904380</td>\n",
              "      <td>0.575130</td>\n",
              "    </tr>\n",
              "    <tr>\n",
              "      <td>29</td>\n",
              "      <td>1.896800</td>\n",
              "      <td>1.887196</td>\n",
              "      <td>0.569948</td>\n",
              "    </tr>\n",
              "    <tr>\n",
              "      <td>30</td>\n",
              "      <td>1.896800</td>\n",
              "      <td>1.872354</td>\n",
              "      <td>0.559585</td>\n",
              "    </tr>\n",
              "    <tr>\n",
              "      <td>31</td>\n",
              "      <td>1.896800</td>\n",
              "      <td>1.858938</td>\n",
              "      <td>0.580311</td>\n",
              "    </tr>\n",
              "    <tr>\n",
              "      <td>32</td>\n",
              "      <td>1.896800</td>\n",
              "      <td>1.846301</td>\n",
              "      <td>0.595855</td>\n",
              "    </tr>\n",
              "    <tr>\n",
              "      <td>33</td>\n",
              "      <td>1.811500</td>\n",
              "      <td>1.835478</td>\n",
              "      <td>0.590674</td>\n",
              "    </tr>\n",
              "    <tr>\n",
              "      <td>34</td>\n",
              "      <td>1.811500</td>\n",
              "      <td>1.825948</td>\n",
              "      <td>0.580311</td>\n",
              "    </tr>\n",
              "    <tr>\n",
              "      <td>35</td>\n",
              "      <td>1.811500</td>\n",
              "      <td>1.818272</td>\n",
              "      <td>0.580311</td>\n",
              "    </tr>\n",
              "    <tr>\n",
              "      <td>36</td>\n",
              "      <td>1.811500</td>\n",
              "      <td>1.812158</td>\n",
              "      <td>0.580311</td>\n",
              "    </tr>\n",
              "    <tr>\n",
              "      <td>37</td>\n",
              "      <td>1.765000</td>\n",
              "      <td>1.807048</td>\n",
              "      <td>0.595855</td>\n",
              "    </tr>\n",
              "    <tr>\n",
              "      <td>38</td>\n",
              "      <td>1.765000</td>\n",
              "      <td>1.803770</td>\n",
              "      <td>0.595855</td>\n",
              "    </tr>\n",
              "    <tr>\n",
              "      <td>39</td>\n",
              "      <td>1.765000</td>\n",
              "      <td>1.801437</td>\n",
              "      <td>0.595855</td>\n",
              "    </tr>\n",
              "    <tr>\n",
              "      <td>40</td>\n",
              "      <td>1.765000</td>\n",
              "      <td>1.800704</td>\n",
              "      <td>0.595855</td>\n",
              "    </tr>\n",
              "  </tbody>\n",
              "</table><p>"
            ]
          },
          "metadata": {}
        },
        {
          "output_type": "execute_result",
          "data": {
            "text/plain": [
              "TrainOutput(global_step=4920, training_loss=2.2119087033155487, metrics={'train_runtime': 661.3701, 'train_samples_per_second': 37.196, 'train_steps_per_second': 7.439, 'total_flos': 3260034634752000.0, 'train_loss': 2.2119087033155487, 'epoch': 40.0})"
            ]
          },
          "metadata": {},
          "execution_count": 37
        }
      ]
    },
    {
      "cell_type": "code",
      "source": [
        "tokenized_datasets"
      ],
      "metadata": {
        "colab": {
          "base_uri": "https://localhost:8080/"
        },
        "id": "vkffYsq--rcJ",
        "outputId": "9fd73646-ffce-4296-8b06-6d4a885db7b8"
      },
      "execution_count": null,
      "outputs": [
        {
          "output_type": "execute_result",
          "data": {
            "text/plain": [
              "DatasetDict({\n",
              "    train: Dataset({\n",
              "        features: ['Category', 'Resume', 'Cleaned_Resume', 'label', 'Word_Count', '__index_level_0__', 'input_ids', 'attention_mask'],\n",
              "        num_rows: 615\n",
              "    })\n",
              "    validation: Dataset({\n",
              "        features: ['Category', 'Resume', 'Cleaned_Resume', 'label', 'Word_Count', '__index_level_0__', 'input_ids', 'attention_mask'],\n",
              "        num_rows: 193\n",
              "    })\n",
              "    test: Dataset({\n",
              "        features: ['Category', 'Resume', 'Cleaned_Resume', 'label', 'Word_Count', '__index_level_0__', 'input_ids', 'attention_mask'],\n",
              "        num_rows: 154\n",
              "    })\n",
              "})"
            ]
          },
          "metadata": {},
          "execution_count": 38
        }
      ]
    },
    {
      "cell_type": "code",
      "source": [
        "import os\n",
        "os.environ['CUDA_LAUNCH_BLOCKING'] = \"1\"\n"
      ],
      "metadata": {
        "id": "IIJhjjs_7kuJ"
      },
      "execution_count": null,
      "outputs": []
    },
    {
      "cell_type": "code",
      "source": [
        "# Save the model\n",
        "trainer.save_model('saved_bert_model')"
      ],
      "metadata": {
        "id": "r0-EFIfIGAwB"
      },
      "execution_count": null,
      "outputs": []
    },
    {
      "cell_type": "code",
      "source": [
        "!ls"
      ],
      "metadata": {
        "id": "h3SgH3qXGA1S",
        "colab": {
          "base_uri": "https://localhost:8080/"
        },
        "outputId": "8ed7040c-9bf2-47b7-8d20-272b7a2d0782"
      },
      "execution_count": null,
      "outputs": [
        {
          "output_type": "stream",
          "name": "stdout",
          "text": [
            "bert_model  sample_data  saved_bert_model  UpdatedResumeDataSet.csv\n"
          ]
        }
      ]
    },
    {
      "cell_type": "code",
      "source": [
        "# Create a Zip file and download\n",
        "!zip -r saved_bert_model.zip saved_bert_model"
      ],
      "metadata": {
        "id": "e7KOsH5j6fkP",
        "colab": {
          "base_uri": "https://localhost:8080/"
        },
        "outputId": "06d742ee-bef6-4b8c-a887-fc7577844cda"
      },
      "execution_count": null,
      "outputs": [
        {
          "output_type": "stream",
          "name": "stdout",
          "text": [
            "  adding: saved_bert_model/ (stored 0%)\n",
            "  adding: saved_bert_model/tokenizer_config.json (deflated 76%)\n",
            "  adding: saved_bert_model/vocab.txt (deflated 53%)\n",
            "  adding: saved_bert_model/config.json (deflated 64%)\n",
            "  adding: saved_bert_model/tokenizer.json (deflated 71%)\n",
            "  adding: saved_bert_model/training_args.bin (deflated 51%)\n",
            "  adding: saved_bert_model/model.safetensors (deflated 8%)\n",
            "  adding: saved_bert_model/special_tokens_map.json (deflated 42%)\n"
          ]
        }
      ]
    },
    {
      "cell_type": "markdown",
      "source": [
        "### Load Model"
      ],
      "metadata": {
        "id": "6GxwVdGLKgPe"
      }
    },
    {
      "cell_type": "markdown",
      "source": [
        "**Exercise 15: Load the saved model and create a pipeline to perform text classification [1 Mark]**\n",
        "\n",
        " * Create the pipeline object for text classification\n",
        " * Create a `make_prediction` function to use pipeline object and output the prediction label\n",
        "\n",
        "**Hint:** pipeline()"
      ],
      "metadata": {
        "id": "kkX_uGuNaePi"
      }
    },
    {
      "cell_type": "code",
      "source": [
        "from transformers import pipeline"
      ],
      "metadata": {
        "id": "zh3Dvzz-GBEr"
      },
      "execution_count": null,
      "outputs": []
    },
    {
      "cell_type": "code",
      "source": [
        "my_model = pipeline('text-classification',model='saved_bert_model', device=0)"
      ],
      "metadata": {
        "id": "SKjG3Gm0Gb1Z"
      },
      "execution_count": null,
      "outputs": []
    },
    {
      "cell_type": "code",
      "source": [
        "# Function to predict label for a resume text\n",
        "\n",
        "def make_prediction(input_text):\n",
        "    mm = my_model(input_text)\n",
        "    desig = {\"Label\": le.classes_[int(mm[0]['label'].split(\"_\")[1])], \"Score\": mm[0]['score']}\n",
        "    return desig\n",
        "\n",
        "    # YOUR CODE HERE..\n"
      ],
      "metadata": {
        "id": "AvSyk5jylTz7"
      },
      "execution_count": null,
      "outputs": []
    },
    {
      "cell_type": "code",
      "source": [
        "# Test prediction\n",
        "make_prediction('programming, web designing, coding')"
      ],
      "metadata": {
        "id": "BARs_uj-lTxH",
        "colab": {
          "base_uri": "https://localhost:8080/"
        },
        "outputId": "7d34ea5e-aaea-4cf4-ae28-a67d599931e3"
      },
      "execution_count": null,
      "outputs": [
        {
          "output_type": "execute_result",
          "data": {
            "text/plain": [
              "{'Label': 'Java Developer', 'Score': 0.27158626914024353}"
            ]
          },
          "metadata": {},
          "execution_count": 64
        }
      ]
    },
    {
      "cell_type": "code",
      "source": [
        "make_prediction('continuous integration and continuous delivery')"
      ],
      "metadata": {
        "id": "jUPAf9tR8yEC",
        "colab": {
          "base_uri": "https://localhost:8080/"
        },
        "outputId": "7b426b91-2f12-43fb-9de1-8127a9d1f371"
      },
      "execution_count": null,
      "outputs": [
        {
          "output_type": "execute_result",
          "data": {
            "text/plain": [
              "{'Label': 'Hadoop', 'Score': 0.09186598658561707}"
            ]
          },
          "metadata": {},
          "execution_count": 65
        }
      ]
    },
    {
      "cell_type": "code",
      "source": [
        "make_prediction('law student and journalist')"
      ],
      "metadata": {
        "id": "vRgaCbxzExGC",
        "colab": {
          "base_uri": "https://localhost:8080/"
        },
        "outputId": "12fc5e5f-cda5-4780-db04-b4f5bf97b1d6"
      },
      "execution_count": null,
      "outputs": [
        {
          "output_type": "execute_result",
          "data": {
            "text/plain": [
              "{'Label': 'HR', 'Score': 0.2410339117050171}"
            ]
          },
          "metadata": {},
          "execution_count": 70
        }
      ]
    },
    {
      "cell_type": "code",
      "source": [
        "make_prediction('machine learning, data, EDA, big data, neural networks')"
      ],
      "metadata": {
        "id": "SG_mZItOqG2v",
        "colab": {
          "base_uri": "https://localhost:8080/"
        },
        "outputId": "7f93587d-0451-4538-bc69-0c9ccc3526dd"
      },
      "execution_count": null,
      "outputs": [
        {
          "output_type": "execute_result",
          "data": {
            "text/plain": [
              "{'Label': 'Java Developer', 'Score': 0.22640876471996307}"
            ]
          },
          "metadata": {},
          "execution_count": 69
        }
      ]
    },
    {
      "cell_type": "markdown",
      "metadata": {
        "id": "mr0xI6QwFN-Q"
      },
      "source": [
        "## **Optional**: Create a Gradio based web interface to test and display the model predictions"
      ]
    },
    {
      "cell_type": "code",
      "execution_count": null,
      "metadata": {
        "id": "wl0ngdnKjKHH",
        "colab": {
          "base_uri": "https://localhost:8080/"
        },
        "outputId": "c4685108-5e6c-4f1b-b530-19a0a7e154de"
      },
      "outputs": [
        {
          "output_type": "stream",
          "name": "stdout",
          "text": [
            "\u001b[2K     \u001b[90m━━━━━━━━━━━━━━━━━━━━━━━━━━━━━━━━━━━━━━━━\u001b[0m \u001b[32m50.4/50.4 kB\u001b[0m \u001b[31m4.2 MB/s\u001b[0m eta \u001b[36m0:00:00\u001b[0m\n",
            "\u001b[2K   \u001b[90m━━━━━━━━━━━━━━━━━━━━━━━━━━━━━━━━━━━━━━━━\u001b[0m \u001b[32m16.8/16.8 MB\u001b[0m \u001b[31m61.0 MB/s\u001b[0m eta \u001b[36m0:00:00\u001b[0m\n",
            "\u001b[2K   \u001b[90m━━━━━━━━━━━━━━━━━━━━━━━━━━━━━━━━━━━━━━━━\u001b[0m \u001b[32m318.7/318.7 kB\u001b[0m \u001b[31m16.6 MB/s\u001b[0m eta \u001b[36m0:00:00\u001b[0m\n",
            "\u001b[2K   \u001b[90m━━━━━━━━━━━━━━━━━━━━━━━━━━━━━━━━━━━━━━━━\u001b[0m \u001b[32m75.6/75.6 kB\u001b[0m \u001b[31m4.8 MB/s\u001b[0m eta \u001b[36m0:00:00\u001b[0m\n",
            "\u001b[2K   \u001b[90m━━━━━━━━━━━━━━━━━━━━━━━━━━━━━━━━━━━━━━━━\u001b[0m \u001b[32m77.9/77.9 kB\u001b[0m \u001b[31m6.5 MB/s\u001b[0m eta \u001b[36m0:00:00\u001b[0m\n",
            "\u001b[2K   \u001b[90m━━━━━━━━━━━━━━━━━━━━━━━━━━━━━━━━━━━━━━━━\u001b[0m \u001b[32m141.9/141.9 kB\u001b[0m \u001b[31m12.4 MB/s\u001b[0m eta \u001b[36m0:00:00\u001b[0m\n",
            "\u001b[2K   \u001b[90m━━━━━━━━━━━━━━━━━━━━━━━━━━━━━━━━━━━━━━━━\u001b[0m \u001b[32m10.3/10.3 MB\u001b[0m \u001b[31m47.4 MB/s\u001b[0m eta \u001b[36m0:00:00\u001b[0m\n",
            "\u001b[2K   \u001b[90m━━━━━━━━━━━━━━━━━━━━━━━━━━━━━━━━━━━━━━━━\u001b[0m \u001b[32m62.8/62.8 kB\u001b[0m \u001b[31m2.6 MB/s\u001b[0m eta \u001b[36m0:00:00\u001b[0m\n",
            "\u001b[2K   \u001b[90m━━━━━━━━━━━━━━━━━━━━━━━━━━━━━━━━━━━━━━━━\u001b[0m \u001b[32m93.2/93.2 kB\u001b[0m \u001b[31m5.6 MB/s\u001b[0m eta \u001b[36m0:00:00\u001b[0m\n",
            "\u001b[2K   \u001b[90m━━━━━━━━━━━━━━━━━━━━━━━━━━━━━━━━━━━━━━━━\u001b[0m \u001b[32m58.3/58.3 kB\u001b[0m \u001b[31m4.8 MB/s\u001b[0m eta \u001b[36m0:00:00\u001b[0m\n",
            "\u001b[2K   \u001b[90m━━━━━━━━━━━━━━━━━━━━━━━━━━━━━━━━━━━━━━━━\u001b[0m \u001b[32m72.0/72.0 kB\u001b[0m \u001b[31m5.7 MB/s\u001b[0m eta \u001b[36m0:00:00\u001b[0m\n",
            "\u001b[2K   \u001b[90m━━━━━━━━━━━━━━━━━━━━━━━━━━━━━━━━━━━━━━━━\u001b[0m \u001b[32m130.2/130.2 kB\u001b[0m \u001b[31m11.5 MB/s\u001b[0m eta \u001b[36m0:00:00\u001b[0m\n",
            "\u001b[?25h"
          ]
        }
      ],
      "source": [
        "!pip -q install gradio"
      ]
    },
    {
      "cell_type": "code",
      "execution_count": null,
      "metadata": {
        "id": "3XwCJSdDDVVU"
      },
      "outputs": [],
      "source": [
        "import gradio"
      ]
    },
    {
      "cell_type": "code",
      "execution_count": null,
      "metadata": {
        "id": "bpRnUY5w551-",
        "colab": {
          "base_uri": "https://localhost:8080/",
          "height": 611
        },
        "outputId": "45af2f6b-fcfb-4fb4-cb08-eae866f9bf52"
      },
      "outputs": [
        {
          "output_type": "stream",
          "name": "stdout",
          "text": [
            "Colab notebook detected. To show errors in colab notebook, set debug=True in launch()\n",
            "Running on public URL: https://5ae30f7528bfc001d5.gradio.live\n",
            "\n",
            "This share link expires in 72 hours. For free permanent hosting and GPU upgrades, run `gradio deploy` from Terminal to deploy to Spaces (https://huggingface.co/spaces)\n"
          ]
        },
        {
          "output_type": "display_data",
          "data": {
            "text/plain": [
              "<IPython.core.display.HTML object>"
            ],
            "text/html": [
              "<div><iframe src=\"https://5ae30f7528bfc001d5.gradio.live\" width=\"100%\" height=\"500\" allow=\"autoplay; camera; microphone; clipboard-read; clipboard-write;\" frameborder=\"0\" allowfullscreen></iframe></div>"
            ]
          },
          "metadata": {}
        },
        {
          "output_type": "execute_result",
          "data": {
            "text/plain": []
          },
          "metadata": {},
          "execution_count": 68
        }
      ],
      "source": [
        "# Textbox to take Input from user\n",
        "in_text = gradio.Textbox(lines=10, placeholder=None, value=\"Enter resume text here\", label='Resume Text')\n",
        "\n",
        "\n",
        "# Textbox to display Output prediction\n",
        "out_label = gradio.Textbox(type=\"text\", label='Predicted Class Label')\n",
        "\n",
        "\n",
        "# Gradio interface to create UI\n",
        "iface = gradio.Interface(fn = make_prediction,             # fine-tuned model is used inside this function\n",
        "                         inputs = [in_text],\n",
        "                         outputs = [out_label],\n",
        "                         title = \"Resume Classification\",\n",
        "                         description = \"Using fine-tuned Bert model\",\n",
        "                         allow_flagging = 'never')\n",
        "\n",
        "\n",
        "# Launch interface\n",
        "iface.launch(share = True)"
      ]
    },
    {
      "cell_type": "code",
      "source": [
        "le.classes_[1]"
      ],
      "metadata": {
        "colab": {
          "base_uri": "https://localhost:8080/",
          "height": 55
        },
        "id": "R6F_pUPdFwUg",
        "outputId": "a69fa3f2-46cc-476f-bbcf-780065ca0f60"
      },
      "execution_count": null,
      "outputs": [
        {
          "output_type": "execute_result",
          "data": {
            "text/plain": [
              "'Arts'"
            ],
            "application/vnd.google.colaboratory.intrinsic+json": {
              "type": "string"
            }
          },
          "metadata": {},
          "execution_count": 56
        }
      ]
    }
  ]
}